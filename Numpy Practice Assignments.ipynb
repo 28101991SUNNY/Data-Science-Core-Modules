{
 "cells": [
  {
   "cell_type": "code",
   "execution_count": 1,
   "id": "b2e4197a",
   "metadata": {},
   "outputs": [],
   "source": [
    "import numpy as np"
   ]
  },
  {
   "cell_type": "code",
   "execution_count": null,
   "id": "d31ffd52",
   "metadata": {},
   "outputs": [],
   "source": []
  },
  {
   "cell_type": "markdown",
   "id": "3c29b04c",
   "metadata": {},
   "source": [
    "### Gunjan is working on a swap of drones that can perform light shows.\n",
    "### For that, she is maintaining a list of the height of each drone and is updating that for each step.\n",
    "    Height = [h1,h2,h3………hn] # height of each drone\n",
    "    Delta_h = [d1,d2,d3……dn] # change in height of each drone\n",
    "\n",
    "#### For each second she updates the Height array by adding the corresponding change to the height.\n",
    "\n",
    "### For that, she tried out 2 methods as listed below. Help her in arranging them in ascending order of time.\n",
    "\n",
    "\n",
    "    (A) Numpy operator\n",
    "\n",
    "    import numpy as np\n",
    "\n",
    "    def update_height(height,delta):\n",
    "\n",
    "       height = np.array(height)\n",
    "\n",
    "       delta = np.array(delta)\n",
    "\n",
    "       new_height = height+delta \n",
    "\n",
    "       return new_height\n",
    "\n",
    "    (B) Python operation\n",
    "\n",
    "\n",
    "    def update_height(height, delta):\n",
    "\n",
    "        new_height=[]\n",
    "\n",
    "        for i in range(len(height)):\n",
    "\n",
    "            new_height.append(height[i]+delta[i])\n",
    "\n",
    "        return new_height"
   ]
  },
  {
   "cell_type": "code",
   "execution_count": 2,
   "id": "45eebc31",
   "metadata": {},
   "outputs": [],
   "source": [
    "H = list(range(50,50000000))"
   ]
  },
  {
   "cell_type": "code",
   "execution_count": 3,
   "id": "c3593364",
   "metadata": {},
   "outputs": [],
   "source": [
    "dH = [5 for x in range(50,50000000)]"
   ]
  },
  {
   "cell_type": "code",
   "execution_count": null,
   "id": "ed12f5e7",
   "metadata": {},
   "outputs": [],
   "source": []
  },
  {
   "cell_type": "code",
   "execution_count": null,
   "id": "3cc52869",
   "metadata": {},
   "outputs": [],
   "source": []
  },
  {
   "cell_type": "code",
   "execution_count": 4,
   "id": "767f8720",
   "metadata": {},
   "outputs": [],
   "source": [
    "def update_height(height,delta):\n",
    "    height = np.array(height)\n",
    "    delta = np.array(delta)\n",
    "    new_height = height + delta\n",
    "    return new_height"
   ]
  },
  {
   "cell_type": "code",
   "execution_count": 5,
   "id": "3ea71e4c",
   "metadata": {},
   "outputs": [
    {
     "name": "stdout",
     "output_type": "stream",
     "text": [
      "Wall time: 0 ns\n"
     ]
    },
    {
     "data": {
      "text/plain": [
       "array([      55,       56,       57, ..., 50000002, 50000003, 50000004])"
      ]
     },
     "execution_count": 5,
     "metadata": {},
     "output_type": "execute_result"
    }
   ],
   "source": [
    "%time\n",
    "update_height(H,dH)"
   ]
  },
  {
   "cell_type": "code",
   "execution_count": 6,
   "id": "c4b4f055",
   "metadata": {
    "scrolled": true
   },
   "outputs": [],
   "source": [
    "def update_height_py(height, delta):\n",
    "    new_height=[]\n",
    "    for i in range(len(height)):\n",
    "        new_height.append(height[i]+delta[i])\n",
    "        \n",
    "    return new_height\n"
   ]
  },
  {
   "cell_type": "code",
   "execution_count": null,
   "id": "9c2aafe4",
   "metadata": {
    "scrolled": true
   },
   "outputs": [],
   "source": []
  },
  {
   "cell_type": "markdown",
   "id": "44eceff7",
   "metadata": {},
   "source": [
    "### Which option is right about the output of the following code snippet?\n",
    "\n",
    "    x = np.array([-5, 9 , 20 , 25, -3, 5, 16, 10])\n",
    "    x[(x >= -5) & (x <= 15)] *= -1 \n",
    "    Note: Recall the masking with assignment question discussed in class"
   ]
  },
  {
   "cell_type": "code",
   "execution_count": 7,
   "id": "0fb473fe",
   "metadata": {},
   "outputs": [],
   "source": [
    "x = np.array([-5, 9 , 20 , 25, -3, 5, 16, 10])"
   ]
  },
  {
   "cell_type": "code",
   "execution_count": 8,
   "id": "00a5a354",
   "metadata": {},
   "outputs": [],
   "source": [
    "x[(x >= -5) & (x <= 15)] *= -1 "
   ]
  },
  {
   "cell_type": "code",
   "execution_count": 9,
   "id": "c30492d2",
   "metadata": {},
   "outputs": [
    {
     "data": {
      "text/plain": [
       "array([  5,  -9,  20,  25,   3,  -5,  16, -10])"
      ]
     },
     "execution_count": 9,
     "metadata": {},
     "output_type": "execute_result"
    }
   ],
   "source": [
    "x"
   ]
  },
  {
   "cell_type": "code",
   "execution_count": null,
   "id": "0e36b7fa",
   "metadata": {},
   "outputs": [],
   "source": []
  },
  {
   "cell_type": "markdown",
   "id": "96ab33b1",
   "metadata": {},
   "source": [
    "### a. What is the last element of the output?"
   ]
  },
  {
   "cell_type": "code",
   "execution_count": 10,
   "id": "15765de1",
   "metadata": {},
   "outputs": [
    {
     "name": "stdout",
     "output_type": "stream",
     "text": [
      "['Astha' 'Raghavendra' 'Ram']\n"
     ]
    }
   ],
   "source": [
    "print(np.sort(np.array(['Ram','Astha','Raghavendra'])))"
   ]
  },
  {
   "cell_type": "code",
   "execution_count": 11,
   "id": "8816a304",
   "metadata": {},
   "outputs": [
    {
     "data": {
      "text/plain": [
       "array([False, False, False])"
      ]
     },
     "execution_count": 11,
     "metadata": {},
     "output_type": "execute_result"
    }
   ],
   "source": [
    "arr1 = np.array(['Ram','Astha','Brahat'])\n",
    "arr2 = np.array(['Shyam','Kalyan','Naveen'])\n",
    "arr1 > arr2"
   ]
  },
  {
   "cell_type": "code",
   "execution_count": null,
   "id": "d779d3a6",
   "metadata": {},
   "outputs": [],
   "source": []
  },
  {
   "cell_type": "markdown",
   "id": "140f68ea",
   "metadata": {},
   "source": [
    "### You are given NumPy arrays A, B, and C, where:\n",
    "\n",
    "    A.shape = (m,)\n",
    "\n",
    "    B.shape = (n, 1)\n",
    "\n",
    "    C.shape = (n, m)\n",
    "\n",
    "#### Which of the following operations can be performed on A, B, and C?\n",
    "##### Note: np is the alias for NumPy in the options."
   ]
  },
  {
   "cell_type": "code",
   "execution_count": 13,
   "id": "3ef69334",
   "metadata": {},
   "outputs": [
    {
     "data": {
      "text/plain": [
       "(3,)"
      ]
     },
     "execution_count": 13,
     "metadata": {},
     "output_type": "execute_result"
    }
   ],
   "source": [
    "A = np.array([1,2,3])\n",
    "A.shape"
   ]
  },
  {
   "cell_type": "code",
   "execution_count": 17,
   "id": "52ea3aa1",
   "metadata": {},
   "outputs": [
    {
     "data": {
      "text/plain": [
       "(4, 1)"
      ]
     },
     "execution_count": 17,
     "metadata": {},
     "output_type": "execute_result"
    }
   ],
   "source": [
    "B = np.array([[1],[2],[3],[4]])\n",
    "B.shape"
   ]
  },
  {
   "cell_type": "code",
   "execution_count": 19,
   "id": "5a420c96",
   "metadata": {},
   "outputs": [
    {
     "data": {
      "text/plain": [
       "(4, 3)"
      ]
     },
     "execution_count": 19,
     "metadata": {},
     "output_type": "execute_result"
    }
   ],
   "source": [
    "C = np.array([[1,2,4],\n",
    "             [7,8,9],\n",
    "             [9,5,1],\n",
    "              [7,5,3]])\n",
    "C.shape"
   ]
  },
  {
   "cell_type": "code",
   "execution_count": 20,
   "id": "f7a701c3",
   "metadata": {},
   "outputs": [
    {
     "data": {
      "text/plain": [
       "array([[1],\n",
       "       [2],\n",
       "       [3],\n",
       "       [4]])"
      ]
     },
     "execution_count": 20,
     "metadata": {},
     "output_type": "execute_result"
    }
   ],
   "source": [
    "B"
   ]
  },
  {
   "cell_type": "code",
   "execution_count": 21,
   "id": "cfe03049",
   "metadata": {},
   "outputs": [
    {
     "data": {
      "text/plain": [
       "array([1, 2, 3])"
      ]
     },
     "execution_count": 21,
     "metadata": {},
     "output_type": "execute_result"
    }
   ],
   "source": [
    "A"
   ]
  },
  {
   "cell_type": "code",
   "execution_count": 22,
   "id": "b1393e92",
   "metadata": {},
   "outputs": [
    {
     "data": {
      "text/plain": [
       "array([[1, 2, 4],\n",
       "       [7, 8, 9],\n",
       "       [9, 5, 1],\n",
       "       [7, 5, 3]])"
      ]
     },
     "execution_count": 22,
     "metadata": {},
     "output_type": "execute_result"
    }
   ],
   "source": [
    "C"
   ]
  },
  {
   "cell_type": "code",
   "execution_count": 28,
   "id": "26e68fbf",
   "metadata": {},
   "outputs": [
    {
     "data": {
      "text/plain": [
       "array([[1, 7, 9, 7],\n",
       "       [2, 8, 5, 5],\n",
       "       [4, 9, 1, 3]])"
      ]
     },
     "execution_count": 28,
     "metadata": {},
     "output_type": "execute_result"
    }
   ],
   "source": [
    "C.T"
   ]
  },
  {
   "cell_type": "code",
   "execution_count": 29,
   "id": "f2fd9282",
   "metadata": {},
   "outputs": [
    {
     "data": {
      "text/plain": [
       "array([[1],\n",
       "       [2],\n",
       "       [3]])"
      ]
     },
     "execution_count": 29,
     "metadata": {},
     "output_type": "execute_result"
    }
   ],
   "source": [
    "A.reshape(3,1)"
   ]
  },
  {
   "cell_type": "code",
   "execution_count": 31,
   "id": "57201250",
   "metadata": {},
   "outputs": [
    {
     "data": {
      "text/plain": [
       "array([[1, 7, 9, 7, 1],\n",
       "       [2, 8, 5, 5, 2],\n",
       "       [4, 9, 1, 3, 3]])"
      ]
     },
     "execution_count": 31,
     "metadata": {},
     "output_type": "execute_result"
    }
   ],
   "source": [
    "np.concatenate((C.T,A.reshape(3,1)),axis = 1)"
   ]
  },
  {
   "cell_type": "code",
   "execution_count": null,
   "id": "e8410802",
   "metadata": {},
   "outputs": [],
   "source": []
  },
  {
   "cell_type": "markdown",
   "id": "6d6f3d65",
   "metadata": {},
   "source": [
    "#### Given the 2-D array X,\n",
    "\n",
    "\n",
    "    X = np.arange(12).reshape(3,4)\n",
    "    So, X is\n",
    "\n",
    "    [[ 0 1 2 3] \n",
    "     [ 4 5 6 7]\n",
    "     [ 8 9 10 11]]\n",
    "    Which of the following is/are true statements."
   ]
  },
  {
   "cell_type": "code",
   "execution_count": 33,
   "id": "25c7d69f",
   "metadata": {},
   "outputs": [
    {
     "data": {
      "text/plain": [
       "array([[ 0,  1,  2,  3],\n",
       "       [ 4,  5,  6,  7],\n",
       "       [ 8,  9, 10, 11]])"
      ]
     },
     "execution_count": 33,
     "metadata": {},
     "output_type": "execute_result"
    }
   ],
   "source": [
    "\n",
    "X = np.arange(12).reshape(3,4)\n",
    "X"
   ]
  },
  {
   "cell_type": "code",
   "execution_count": 34,
   "id": "c81f0b90",
   "metadata": {},
   "outputs": [
    {
     "data": {
      "text/plain": [
       "array([ 3,  7, 11])"
      ]
     },
     "execution_count": 34,
     "metadata": {},
     "output_type": "execute_result"
    }
   ],
   "source": [
    "X.max(axis=1)"
   ]
  },
  {
   "cell_type": "code",
   "execution_count": 37,
   "id": "bf6fcef4",
   "metadata": {},
   "outputs": [
    {
     "data": {
      "text/plain": [
       "array([ 3,  7, 11])"
      ]
     },
     "execution_count": 37,
     "metadata": {},
     "output_type": "execute_result"
    }
   ],
   "source": [
    "X.T.max(axis=0)"
   ]
  },
  {
   "cell_type": "code",
   "execution_count": 38,
   "id": "e1789871",
   "metadata": {},
   "outputs": [
    {
     "data": {
      "text/plain": [
       "[0, 4, 8]"
      ]
     },
     "execution_count": 38,
     "metadata": {},
     "output_type": "execute_result"
    }
   ],
   "source": [
    "[i.min() for i in X]"
   ]
  },
  {
   "cell_type": "code",
   "execution_count": null,
   "id": "3eef31b1",
   "metadata": {},
   "outputs": [],
   "source": []
  },
  {
   "cell_type": "markdown",
   "id": "909cb09e",
   "metadata": {},
   "source": [
    "### For the arrays a and b:\n",
    "\n",
    "    import numpy as np\n",
    "    a = np.zeros(27).reshape(3, 3, 3)\n",
    "    b = np.arange(9).reshape(3, 3) \n",
    "    Which option will give the same output as a+b?\n",
    "\n",
    "    Note: np.newaxis is used to create a new axis in the mentioned dimension."
   ]
  },
  {
   "cell_type": "code",
   "execution_count": 40,
   "id": "0b06feb7",
   "metadata": {},
   "outputs": [],
   "source": [
    "a = np.zeros(27).reshape(3, 3, 3)\n",
    "b = np.arange(9).reshape(3, 3) "
   ]
  },
  {
   "cell_type": "code",
   "execution_count": 43,
   "id": "e6c1f948",
   "metadata": {},
   "outputs": [
    {
     "data": {
      "text/plain": [
       "array([[[0., 0., 0.],\n",
       "        [0., 0., 0.],\n",
       "        [0., 0., 0.]],\n",
       "\n",
       "       [[0., 0., 0.],\n",
       "        [0., 0., 0.],\n",
       "        [0., 0., 0.]],\n",
       "\n",
       "       [[0., 0., 0.],\n",
       "        [0., 0., 0.],\n",
       "        [0., 0., 0.]]])"
      ]
     },
     "execution_count": 43,
     "metadata": {},
     "output_type": "execute_result"
    }
   ],
   "source": [
    "a"
   ]
  },
  {
   "cell_type": "code",
   "execution_count": 44,
   "id": "dc2a7392",
   "metadata": {},
   "outputs": [
    {
     "data": {
      "text/plain": [
       "array([[0, 1, 2],\n",
       "       [3, 4, 5],\n",
       "       [6, 7, 8]])"
      ]
     },
     "execution_count": 44,
     "metadata": {},
     "output_type": "execute_result"
    }
   ],
   "source": [
    "b"
   ]
  },
  {
   "cell_type": "code",
   "execution_count": 46,
   "id": "53ba1cc4",
   "metadata": {},
   "outputs": [
    {
     "data": {
      "text/plain": [
       "array([[[0., 1., 2.],\n",
       "        [3., 4., 5.],\n",
       "        [6., 7., 8.]],\n",
       "\n",
       "       [[0., 1., 2.],\n",
       "        [3., 4., 5.],\n",
       "        [6., 7., 8.]],\n",
       "\n",
       "       [[0., 1., 2.],\n",
       "        [3., 4., 5.],\n",
       "        [6., 7., 8.]]])"
      ]
     },
     "execution_count": 46,
     "metadata": {},
     "output_type": "execute_result"
    }
   ],
   "source": [
    "b[np.newaxis,:,:]+a"
   ]
  },
  {
   "cell_type": "markdown",
   "id": "d9a71e51",
   "metadata": {},
   "source": [
    "### Given the NumPy array arr, which of the following line of code will return the expected output?\n",
    "\n",
    "    import numpy as np\n",
    "    arr= np.array([[2,3,4,5],[1,7,3,5],[2,8,6,9],[11,23,12,19]])\n",
    "\n",
    "    a.\n",
    "\n",
    "    arr1 = np.array([[2,2,2,2]])\n",
    "    def func(x, y):\n",
    "        return x * y\n",
    "    vec = np.vectorize(func)\n",
    "    vec(arr,arr1)\n",
    "\n",
    "    b.\n",
    "\n",
    "    arr1 = np.array([[2],[2],[2],[2]])\n",
    "    def func(x, y):\n",
    "        return x * y\n",
    "    vec = np.vectorize(func)\n",
    "    vec(arr, arr1)\n",
    "\n",
    "\n",
    "    c.\n",
    "\n",
    "    arr1 = 2\n",
    "    def func(x, y):\n",
    "        return x * y\n",
    "    vec = np.vectorize(func)\n",
    "    vec(arr, arr1)\n",
    "\n",
    "    Expected output:\n",
    "\n",
    "    array ([[4,6,8,10],\n",
    "            [2,14,6,10],\n",
    "            [4,16,12,18],\n",
    "            [22,46,24,38]])"
   ]
  },
  {
   "cell_type": "code",
   "execution_count": 48,
   "id": "be409bbe",
   "metadata": {},
   "outputs": [],
   "source": [
    "arr= np.array([[2,3,4,5],[1,7,3,5],[2,8,6,9],[11,23,12,19]])"
   ]
  },
  {
   "cell_type": "code",
   "execution_count": 49,
   "id": "6fdd9034",
   "metadata": {},
   "outputs": [
    {
     "data": {
      "text/plain": [
       "array([[ 4,  6,  8, 10],\n",
       "       [ 2, 14,  6, 10],\n",
       "       [ 4, 16, 12, 18],\n",
       "       [22, 46, 24, 38]])"
      ]
     },
     "execution_count": 49,
     "metadata": {},
     "output_type": "execute_result"
    }
   ],
   "source": [
    "arr1 = np.array([[2,2,2,2]])\n",
    "def func(x, y):\n",
    "    return x * y\n",
    "vec = np.vectorize(func)\n",
    "vec(arr,arr1)"
   ]
  },
  {
   "cell_type": "code",
   "execution_count": 50,
   "id": "3623d4ab",
   "metadata": {},
   "outputs": [
    {
     "data": {
      "text/plain": [
       "array([[ 4,  6,  8, 10],\n",
       "       [ 2, 14,  6, 10],\n",
       "       [ 4, 16, 12, 18],\n",
       "       [22, 46, 24, 38]])"
      ]
     },
     "execution_count": 50,
     "metadata": {},
     "output_type": "execute_result"
    }
   ],
   "source": [
    "arr1 = np.array([[2],[2],[2],[2]])\n",
    "def func(x, y):\n",
    "    return x * y\n",
    "vec = np.vectorize(func)\n",
    "vec(arr, arr1)"
   ]
  },
  {
   "cell_type": "code",
   "execution_count": 51,
   "id": "a7a6d811",
   "metadata": {},
   "outputs": [
    {
     "data": {
      "text/plain": [
       "array([[ 4,  6,  8, 10],\n",
       "       [ 2, 14,  6, 10],\n",
       "       [ 4, 16, 12, 18],\n",
       "       [22, 46, 24, 38]])"
      ]
     },
     "execution_count": 51,
     "metadata": {},
     "output_type": "execute_result"
    }
   ],
   "source": [
    "arr1 = 2\n",
    "def func(x, y):\n",
    "    return x * y\n",
    "vec = np.vectorize(func)\n",
    "vec(arr, arr1)"
   ]
  },
  {
   "cell_type": "code",
   "execution_count": null,
   "id": "1d5bc9d5",
   "metadata": {},
   "outputs": [],
   "source": []
  },
  {
   "cell_type": "markdown",
   "id": "f2fb0d8f",
   "metadata": {},
   "source": [
    "### Which of the following option(s) can add 1 to each element of array A?\n",
    "\n",
    "    A = np.array([2, 0, 1, 9, 1, 1, 1, 0, 3, 5])"
   ]
  },
  {
   "cell_type": "code",
   "execution_count": 52,
   "id": "1fc6f07a",
   "metadata": {},
   "outputs": [],
   "source": [
    "A = np.array([2, 0, 1, 9, 1, 1, 1, 0, 3, 5])"
   ]
  },
  {
   "cell_type": "code",
   "execution_count": 53,
   "id": "ae1fde71",
   "metadata": {},
   "outputs": [
    {
     "data": {
      "text/plain": [
       "array([ 3,  1,  2, 10,  2,  2,  2,  1,  4,  6])"
      ]
     },
     "execution_count": 53,
     "metadata": {},
     "output_type": "execute_result"
    }
   ],
   "source": [
    "A+1"
   ]
  },
  {
   "cell_type": "code",
   "execution_count": 54,
   "id": "2e1b4aa2",
   "metadata": {},
   "outputs": [
    {
     "data": {
      "text/plain": [
       "[3, 1, 2, 10, 2, 2, 2, 1, 4, 6]"
      ]
     },
     "execution_count": 54,
     "metadata": {},
     "output_type": "execute_result"
    }
   ],
   "source": [
    "[x+1 for x in A]"
   ]
  },
  {
   "cell_type": "code",
   "execution_count": 56,
   "id": "0d273790",
   "metadata": {},
   "outputs": [
    {
     "data": {
      "text/plain": [
       "[3, 1, 2, 10, 2, 2, 2, 1, 4, 6]"
      ]
     },
     "execution_count": 56,
     "metadata": {},
     "output_type": "execute_result"
    }
   ],
   "source": [
    "list(map(lambda x:x+1,A))"
   ]
  },
  {
   "cell_type": "code",
   "execution_count": null,
   "id": "5c242684",
   "metadata": {},
   "outputs": [],
   "source": []
  },
  {
   "cell_type": "markdown",
   "id": "7c16be0e",
   "metadata": {},
   "source": [
    "### What will be the outcome of the following code snippet ?\n",
    "\n",
    "    x = np.ones((5,5))\n",
    "    x[1:-1,1:-1] = 0"
   ]
  },
  {
   "cell_type": "code",
   "execution_count": 58,
   "id": "06b4be70",
   "metadata": {},
   "outputs": [],
   "source": [
    "x = np.ones((5,5))\n"
   ]
  },
  {
   "cell_type": "code",
   "execution_count": 61,
   "id": "928ccafb",
   "metadata": {},
   "outputs": [
    {
     "data": {
      "text/plain": [
       "array([[1., 1., 1., 1., 1.],\n",
       "       [1., 1., 1., 1., 1.],\n",
       "       [1., 1., 1., 1., 1.],\n",
       "       [1., 1., 1., 1., 1.],\n",
       "       [1., 1., 1., 1., 1.]])"
      ]
     },
     "execution_count": 61,
     "metadata": {},
     "output_type": "execute_result"
    }
   ],
   "source": [
    "x"
   ]
  },
  {
   "cell_type": "code",
   "execution_count": 62,
   "id": "faf3c404",
   "metadata": {},
   "outputs": [],
   "source": [
    "x[1:-1,1:-1] = 0"
   ]
  },
  {
   "cell_type": "code",
   "execution_count": 63,
   "id": "553ab836",
   "metadata": {},
   "outputs": [
    {
     "data": {
      "text/plain": [
       "array([[1., 1., 1., 1., 1.],\n",
       "       [1., 0., 0., 0., 1.],\n",
       "       [1., 0., 0., 0., 1.],\n",
       "       [1., 0., 0., 0., 1.],\n",
       "       [1., 1., 1., 1., 1.]])"
      ]
     },
     "execution_count": 63,
     "metadata": {},
     "output_type": "execute_result"
    }
   ],
   "source": [
    "x"
   ]
  },
  {
   "cell_type": "code",
   "execution_count": null,
   "id": "aa12ac4f",
   "metadata": {},
   "outputs": [],
   "source": []
  },
  {
   "cell_type": "markdown",
   "id": "30650a0d",
   "metadata": {},
   "source": [
    "### Given a Numpy array of integers as an input to the function binary(), complete the given function to convert each element in the array into its binary representation.\n",
    "\n",
    "    For example: In binary, 5 => 101, 7 => 111, 10 => 1010.\n",
    "\n",
    "    Note: You are not allowed to use the inbuilt bin() function and both input and output array have elements of datatype 'int'.\n",
    "\n",
    "    Input Format:\n",
    "\n",
    "    A list is taken as input which is then typecasted to a NumPy array.\n",
    "    Output Format:\n",
    "\n",
    "    A NumPy array is printed.\n",
    "    Sample Input:\n",
    "\n",
    "    [[2,3,4], [5,6,7]]\n",
    "    Sample Output:\n",
    "\n",
    "    [[ 10  11 100]\n",
    "     [101 110 111]]  "
   ]
  },
  {
   "cell_type": "code",
   "execution_count": 64,
   "id": "f5c3a972",
   "metadata": {},
   "outputs": [],
   "source": [
    "def binary(arr):\n",
    "    def con_bin(n):\n",
    "        s = \"\"\n",
    "        while n>0:\n",
    "            s = s+str(n%2)\n",
    "            n = n//2\n",
    "        return int(s[::-1])\n",
    "    return np.vectorize(con_bin)(arr)"
   ]
  },
  {
   "cell_type": "code",
   "execution_count": 65,
   "id": "88f3607d",
   "metadata": {},
   "outputs": [
    {
     "data": {
      "text/plain": [
       "array([[ 10,  11, 100],\n",
       "       [101, 110, 111]])"
      ]
     },
     "execution_count": 65,
     "metadata": {},
     "output_type": "execute_result"
    }
   ],
   "source": [
    "binary([[2,3,4],\n",
    "        [5,6,7]])"
   ]
  },
  {
   "cell_type": "code",
   "execution_count": null,
   "id": "169b64d9",
   "metadata": {},
   "outputs": [],
   "source": []
  },
  {
   "cell_type": "markdown",
   "id": "a86cfb75",
   "metadata": {},
   "source": [
    "### You are a Teaching Assistant of the DSML course. You have access to every student’s marks in every quiz. The marks are stored in a matrix where matrix[i][j] represents the marks of the ith student in the jth quiz.\n",
    "\n",
    "    The course instructor wants you to sort the marks of students according to jth quiz in increasing order so that he can evaluate the performance of students in that particular quiz.\n",
    "\n",
    "    Here, you have to create a python program using which the instructor can sort the data on the basis of a given column(quiz). The program will return the matrix with the marks sorted in jth quiz.\n",
    "\n",
    "    The dimension of the input matrix is mxn, the output is expected to be a 2d numpy matrix of dimension mxn, but in the output the jth column must be arranged in the ascending order.\n",
    "\n",
    "    Note: The input will be 2D list not array. First convert it to array.\n",
    "\n",
    "    Input Format:\n",
    "\n",
    "    Number of test cases\n",
    "    For each test case, number of rows for matrix and the column to be sorted in a new line.\n",
    "    For each row in matrix, space separated integers are taken as input in a new line.\n",
    "    Output Format:\n",
    "\n",
    "    The 2D matrix, or each row in matrix space separated integers\n",
    "    Sample Input:\n",
    "\n",
    "    1\n",
    "    3 2 \n",
    "    5 3 9\n",
    "    2 1 4\n",
    "    7 6 8\n",
    "    Sample Output:\n",
    "\n",
    "    [[2 1 4]\n",
    "     [5 3 9]\n",
    "     [7 6 8]]"
   ]
  },
  {
   "cell_type": "code",
   "execution_count": 68,
   "id": "1fd50489",
   "metadata": {},
   "outputs": [],
   "source": [
    "A = np.array([[5, 3, 9],\n",
    "            [2 ,1, 4],\n",
    "            [7 ,6 ,8]])"
   ]
  },
  {
   "cell_type": "code",
   "execution_count": 69,
   "id": "afa8f6dc",
   "metadata": {},
   "outputs": [
    {
     "data": {
      "text/plain": [
       "array([[5, 3, 9],\n",
       "       [2, 1, 4],\n",
       "       [7, 6, 8]])"
      ]
     },
     "execution_count": 69,
     "metadata": {},
     "output_type": "execute_result"
    }
   ],
   "source": [
    "A"
   ]
  },
  {
   "cell_type": "code",
   "execution_count": 73,
   "id": "909bc7d8",
   "metadata": {},
   "outputs": [],
   "source": [
    "j = 2"
   ]
  },
  {
   "cell_type": "code",
   "execution_count": 74,
   "id": "43fbe07b",
   "metadata": {},
   "outputs": [
    {
     "data": {
      "text/plain": [
       "array([3, 1, 6])"
      ]
     },
     "execution_count": 74,
     "metadata": {},
     "output_type": "execute_result"
    }
   ],
   "source": [
    "A[:,1]"
   ]
  },
  {
   "cell_type": "code",
   "execution_count": 75,
   "id": "9b67efef",
   "metadata": {},
   "outputs": [
    {
     "data": {
      "text/plain": [
       "array([3, 1, 6])"
      ]
     },
     "execution_count": 75,
     "metadata": {},
     "output_type": "execute_result"
    }
   ],
   "source": [
    "A[:,j-1]"
   ]
  },
  {
   "cell_type": "code",
   "execution_count": 76,
   "id": "57c66c94",
   "metadata": {},
   "outputs": [
    {
     "data": {
      "text/plain": [
       "array([1, 0, 2], dtype=int64)"
      ]
     },
     "execution_count": 76,
     "metadata": {},
     "output_type": "execute_result"
    }
   ],
   "source": [
    "A[:,j-1].argsort()"
   ]
  },
  {
   "cell_type": "code",
   "execution_count": 77,
   "id": "e950af63",
   "metadata": {},
   "outputs": [
    {
     "data": {
      "text/plain": [
       "array([[2, 1, 4],\n",
       "       [5, 3, 9],\n",
       "       [7, 6, 8]])"
      ]
     },
     "execution_count": 77,
     "metadata": {},
     "output_type": "execute_result"
    }
   ],
   "source": [
    "A[A[:,j-1].argsort()]"
   ]
  },
  {
   "cell_type": "code",
   "execution_count": null,
   "id": "45d2b3f7",
   "metadata": {},
   "outputs": [],
   "source": []
  },
  {
   "cell_type": "code",
   "execution_count": null,
   "id": "77237f75",
   "metadata": {},
   "outputs": [],
   "source": []
  },
  {
   "cell_type": "code",
   "execution_count": null,
   "id": "4f2a4ba8",
   "metadata": {},
   "outputs": [],
   "source": []
  },
  {
   "cell_type": "code",
   "execution_count": null,
   "id": "ecd8a918",
   "metadata": {},
   "outputs": [],
   "source": []
  },
  {
   "cell_type": "markdown",
   "id": "b813c317",
   "metadata": {},
   "source": [
    "### You are a developer for Scalar, and are tasked to write a program that can find the number of times a student has accessed a particular question.\n",
    "\n",
    "    For this, you proposed that every time a student opens a question, the question’s id will be appended to the row representing the student’s id in a matrix. For example, if student i opens question j, j will be appended to ith row of the matrix.\n",
    "    For the prototype, we have limited the number of questions to 10 for consideration. So id of questions <=10. Return the matrix with the same number of rows(m) as that of the input matrix, but this time matrix[i][j] should represent the number of times student i accessed question j. The output matrix is a 2d-numpy matrix of dimension (m*10).\n",
    "\n",
    "    Input Format:\n",
    "\n",
    "    number of test cases\n",
    "    for each test case (number of rows for matrix, number of columns for the matrix)\n",
    "    for each row in matrix space separated integers\n",
    "    Output Format:\n",
    "\n",
    "    Return the 2d numpy array.\n",
    "    Sample input:\n",
    "\n",
    "    1\n",
    "    5\n",
    "    1 1 2 5 7 6 7 7 6 3 \n",
    "    8 5 4 7 5 2 6 10 1 7 \n",
    "    4 3 10 4 4 4 3 1 4 3 \n",
    "    1 4 1 1 8 4 9 8 5 5 \n",
    "    1 1 4 4 2 10 5 6 8 1 \n",
    "\n",
    "    Sample output:\n",
    "\n",
    "    [[2 1 1 0 1 2 3 0 0 0]\n",
    "     [1 1 0 1 2 1 2 1 0 1]\n",
    "     [1 0 3 5 0 0 0 0 0 1]\n",
    "     [3 0 0 2 2 0 0 2 1 0]\n",
    "     [3 1 0 2 1 1 0 1 0 1]]"
   ]
  },
  {
   "cell_type": "code",
   "execution_count": 79,
   "id": "12221412",
   "metadata": {},
   "outputs": [],
   "source": [
    "arr = np.array([[1, 1, 2, 5, 7, 6, 7, 7, 6, 3], \n",
    "[8, 5, 4 ,7 ,5 ,2 ,6 ,10, 1, 7], \n",
    "[4, 3, 10, 4, 4, 4, 3, 1, 4, 3], \n",
    "[1, 4, 1, 1, 8, 4, 9, 8, 5, 5], \n",
    "[1, 1, 4, 4, 2, 10, 5, 6, 8, 1]])"
   ]
  },
  {
   "cell_type": "code",
   "execution_count": 80,
   "id": "65de2da0",
   "metadata": {},
   "outputs": [
    {
     "data": {
      "text/plain": [
       "array([[ 1,  1,  2,  5,  7,  6,  7,  7,  6,  3],\n",
       "       [ 8,  5,  4,  7,  5,  2,  6, 10,  1,  7],\n",
       "       [ 4,  3, 10,  4,  4,  4,  3,  1,  4,  3],\n",
       "       [ 1,  4,  1,  1,  8,  4,  9,  8,  5,  5],\n",
       "       [ 1,  1,  4,  4,  2, 10,  5,  6,  8,  1]])"
      ]
     },
     "execution_count": 80,
     "metadata": {},
     "output_type": "execute_result"
    }
   ],
   "source": [
    "arr"
   ]
  },
  {
   "cell_type": "code",
   "execution_count": 85,
   "id": "ee5b8a98",
   "metadata": {},
   "outputs": [],
   "source": [
    "r = arr[0]"
   ]
  },
  {
   "cell_type": "code",
   "execution_count": 92,
   "id": "476e6b7a",
   "metadata": {},
   "outputs": [
    {
     "data": {
      "text/plain": [
       "(array([1, 2, 3, 5, 6, 7]), array([2, 1, 1, 1, 2, 3], dtype=int64))"
      ]
     },
     "execution_count": 92,
     "metadata": {},
     "output_type": "execute_result"
    }
   ],
   "source": [
    "unique,freq = np.unique(r,return_counts = True)\n",
    "unique,freq"
   ]
  },
  {
   "cell_type": "code",
   "execution_count": 91,
   "id": "8c787903",
   "metadata": {},
   "outputs": [
    {
     "data": {
      "text/plain": [
       "array([0, 0, 0, 0, 0, 0, 0, 0, 0, 0])"
      ]
     },
     "execution_count": 91,
     "metadata": {},
     "output_type": "execute_result"
    }
   ],
   "source": [
    "zeros = np.zeros(len(r),dtype=\"int\")\n",
    "zeros"
   ]
  },
  {
   "cell_type": "code",
   "execution_count": 95,
   "id": "0d9f91bf",
   "metadata": {},
   "outputs": [],
   "source": [
    "zeros[unique-1] = freq"
   ]
  },
  {
   "cell_type": "code",
   "execution_count": 96,
   "id": "75378ffb",
   "metadata": {},
   "outputs": [
    {
     "data": {
      "text/plain": [
       "array([2, 1, 1, 0, 1, 2, 3, 0, 0, 0])"
      ]
     },
     "execution_count": 96,
     "metadata": {},
     "output_type": "execute_result"
    }
   ],
   "source": [
    "zeros"
   ]
  },
  {
   "cell_type": "code",
   "execution_count": 97,
   "id": "9a3db3ff",
   "metadata": {},
   "outputs": [],
   "source": [
    "def countfreq(arr2d):\n",
    "    \n",
    "    def asdasd(row):\n",
    "        row  = np.array(row)\n",
    "        uniq, freq = np.unique(row,return_counts=True)\n",
    "        zeros = np.zeros(len(row),dtype=\"int\")\n",
    "        zeros[uniq-1] = freq\n",
    "        return zeros\n",
    "    \n",
    "    ans = []\n",
    "\n",
    "    for i in arr2d:\n",
    "        ans.append(asdasd(i))\n",
    "    return np.array(ans)"
   ]
  },
  {
   "cell_type": "code",
   "execution_count": 98,
   "id": "80e4c0f6",
   "metadata": {},
   "outputs": [
    {
     "data": {
      "text/plain": [
       "array([[2, 1, 1, 0, 1, 2, 3, 0, 0, 0],\n",
       "       [1, 1, 0, 1, 2, 1, 2, 1, 0, 1],\n",
       "       [1, 0, 3, 5, 0, 0, 0, 0, 0, 1],\n",
       "       [3, 0, 0, 2, 2, 0, 0, 2, 1, 0],\n",
       "       [3, 1, 0, 2, 1, 1, 0, 1, 0, 1]])"
      ]
     },
     "execution_count": 98,
     "metadata": {},
     "output_type": "execute_result"
    }
   ],
   "source": [
    "countfreq(arr)"
   ]
  },
  {
   "cell_type": "code",
   "execution_count": null,
   "id": "5a158369",
   "metadata": {},
   "outputs": [],
   "source": []
  },
  {
   "cell_type": "code",
   "execution_count": null,
   "id": "4febb127",
   "metadata": {},
   "outputs": [],
   "source": []
  },
  {
   "cell_type": "markdown",
   "id": "686eff11",
   "metadata": {},
   "source": [
    "### Mark the options which are true about the outputs for code snippets a and b.\n",
    "\n",
    "    Code Snippet a:\n",
    "\n",
    "    import numpy as np\n",
    "    x = np.array([[200,200,200],[300,300,300],[400,400,400]])\n",
    "    v = np.array([200,300,400])\n",
    "    print((x / v[:,None])[1][1]) \n",
    "    Code Snippet b:\n",
    "\n",
    "    p = np.array([[0], [10], [20]])\n",
    "    q = np.array([10, 11, 12]) \n",
    "    print((p + q)[1][1]) "
   ]
  },
  {
   "cell_type": "code",
   "execution_count": 99,
   "id": "c582fa8e",
   "metadata": {},
   "outputs": [],
   "source": [
    "x = np.array([[200,200,200],[300,300,300],[400,400,400]])\n",
    "v = np.array([200,300,400])\n"
   ]
  },
  {
   "cell_type": "code",
   "execution_count": 101,
   "id": "7017b992",
   "metadata": {},
   "outputs": [
    {
     "data": {
      "text/plain": [
       "(array([[200, 200, 200],\n",
       "        [300, 300, 300],\n",
       "        [400, 400, 400]]),\n",
       " array([200, 300, 400]))"
      ]
     },
     "execution_count": 101,
     "metadata": {},
     "output_type": "execute_result"
    }
   ],
   "source": [
    "x,v"
   ]
  },
  {
   "cell_type": "code",
   "execution_count": 104,
   "id": "cbdc4965",
   "metadata": {},
   "outputs": [
    {
     "data": {
      "text/plain": [
       "array([[200],\n",
       "       [300],\n",
       "       [400]])"
      ]
     },
     "execution_count": 104,
     "metadata": {},
     "output_type": "execute_result"
    }
   ],
   "source": [
    "v[:,None]"
   ]
  },
  {
   "cell_type": "code",
   "execution_count": 106,
   "id": "24b04256",
   "metadata": {},
   "outputs": [
    {
     "data": {
      "text/plain": [
       "array([[1., 1., 1.],\n",
       "       [1., 1., 1.],\n",
       "       [1., 1., 1.]])"
      ]
     },
     "execution_count": 106,
     "metadata": {},
     "output_type": "execute_result"
    }
   ],
   "source": [
    "x/v[:,None]"
   ]
  },
  {
   "cell_type": "code",
   "execution_count": null,
   "id": "b13dccba",
   "metadata": {},
   "outputs": [],
   "source": [
    "print((x / v[:,None])[1][1])"
   ]
  },
  {
   "cell_type": "code",
   "execution_count": null,
   "id": "0fe1caeb",
   "metadata": {},
   "outputs": [],
   "source": []
  },
  {
   "cell_type": "code",
   "execution_count": 107,
   "id": "fa15067c",
   "metadata": {},
   "outputs": [
    {
     "name": "stdout",
     "output_type": "stream",
     "text": [
      "21\n"
     ]
    }
   ],
   "source": [
    "p = np.array([[0], [10], [20]])\n",
    "q = np.array([10, 11, 12]) \n",
    "print((p + q)[1][1]) "
   ]
  },
  {
   "cell_type": "code",
   "execution_count": 108,
   "id": "b258dc10",
   "metadata": {},
   "outputs": [
    {
     "data": {
      "text/plain": [
       "array([[ 0],\n",
       "       [10],\n",
       "       [20]])"
      ]
     },
     "execution_count": 108,
     "metadata": {},
     "output_type": "execute_result"
    }
   ],
   "source": [
    "p"
   ]
  },
  {
   "cell_type": "code",
   "execution_count": 109,
   "id": "1d27b6c1",
   "metadata": {},
   "outputs": [
    {
     "data": {
      "text/plain": [
       "array([10, 11, 12])"
      ]
     },
     "execution_count": 109,
     "metadata": {},
     "output_type": "execute_result"
    }
   ],
   "source": [
    "q"
   ]
  },
  {
   "cell_type": "code",
   "execution_count": 110,
   "id": "aeb43ed6",
   "metadata": {},
   "outputs": [
    {
     "data": {
      "text/plain": [
       "array([[10, 11, 12],\n",
       "       [20, 21, 22],\n",
       "       [30, 31, 32]])"
      ]
     },
     "execution_count": 110,
     "metadata": {},
     "output_type": "execute_result"
    }
   ],
   "source": [
    "p+q"
   ]
  },
  {
   "cell_type": "code",
   "execution_count": null,
   "id": "ba077edb",
   "metadata": {},
   "outputs": [],
   "source": []
  },
  {
   "cell_type": "markdown",
   "id": "45b1629c",
   "metadata": {},
   "source": [
    "### Fancy Indexing\n",
    "    X = np.arange(12).reshape((3, 4))\n",
    "    row = np.array([0, 1, 2])\n",
    "    mask = np.array([1, 0, 1, 0], dtype=bool)\n",
    "    print(X[row[:, np.newaxis], mask])\n",
    "    What is the output of the above coding which is using indexing combined with filtering (masking)?"
   ]
  },
  {
   "cell_type": "code",
   "execution_count": 111,
   "id": "a4eff67e",
   "metadata": {},
   "outputs": [
    {
     "data": {
      "text/plain": [
       "array([[ 0,  1,  2,  3],\n",
       "       [ 4,  5,  6,  7],\n",
       "       [ 8,  9, 10, 11]])"
      ]
     },
     "execution_count": 111,
     "metadata": {},
     "output_type": "execute_result"
    }
   ],
   "source": [
    "X = np.arange(12).reshape((3, 4))\n",
    "X"
   ]
  },
  {
   "cell_type": "code",
   "execution_count": 125,
   "id": "d5ff69b9",
   "metadata": {},
   "outputs": [],
   "source": [
    "row = np.array([0, 1, 2])"
   ]
  },
  {
   "cell_type": "code",
   "execution_count": 126,
   "id": "3e41e3be",
   "metadata": {},
   "outputs": [
    {
     "data": {
      "text/plain": [
       "array([0, 1, 2])"
      ]
     },
     "execution_count": 126,
     "metadata": {},
     "output_type": "execute_result"
    }
   ],
   "source": [
    "row"
   ]
  },
  {
   "cell_type": "code",
   "execution_count": 127,
   "id": "7806d30f",
   "metadata": {},
   "outputs": [
    {
     "data": {
      "text/plain": [
       "array([ True, False,  True, False])"
      ]
     },
     "execution_count": 127,
     "metadata": {},
     "output_type": "execute_result"
    }
   ],
   "source": [
    "mask = np.array([1,0,1,0],dtype=bool)\n",
    "mask"
   ]
  },
  {
   "cell_type": "code",
   "execution_count": 128,
   "id": "1f01fb9c",
   "metadata": {},
   "outputs": [
    {
     "data": {
      "text/plain": [
       "array([[0],\n",
       "       [1],\n",
       "       [2]])"
      ]
     },
     "execution_count": 128,
     "metadata": {},
     "output_type": "execute_result"
    }
   ],
   "source": [
    "row[:, np.newaxis]"
   ]
  },
  {
   "cell_type": "code",
   "execution_count": 129,
   "id": "7011d591",
   "metadata": {},
   "outputs": [
    {
     "name": "stdout",
     "output_type": "stream",
     "text": [
      "[[ 0  2]\n",
      " [ 4  6]\n",
      " [ 8 10]]\n"
     ]
    }
   ],
   "source": [
    "print(X[row[:, np.newaxis], mask])"
   ]
  },
  {
   "cell_type": "code",
   "execution_count": 124,
   "id": "f89ca1dd",
   "metadata": {},
   "outputs": [
    {
     "name": "stdout",
     "output_type": "stream",
     "text": [
      "[[ 4  6]\n",
      " [ 8 10]]\n"
     ]
    }
   ],
   "source": [
    "X = np.arange(12).reshape((3, 4))\n",
    "row = np.array([1, 2])\n",
    "mask = np.array([1, 0, 1, 0], dtype=bool)\n",
    "print(X[row[:, np.newaxis], mask])"
   ]
  },
  {
   "cell_type": "code",
   "execution_count": null,
   "id": "b3eded70",
   "metadata": {},
   "outputs": [],
   "source": []
  },
  {
   "cell_type": "code",
   "execution_count": null,
   "id": "21534d00",
   "metadata": {},
   "outputs": [],
   "source": []
  },
  {
   "cell_type": "markdown",
   "id": "d82c0eb6",
   "metadata": {},
   "source": [
    "### Which of the following options is false regarding splitting the matrix into 2 buckets in this question to find the median of means of individual buckets"
   ]
  },
  {
   "cell_type": "markdown",
   "id": "cf54b2cb",
   "metadata": {},
   "source": [
    "    m = 11\n",
    "    n = 10\n",
    "    X = np.random.uniform(low=0.0, high=1.0, size=(m,n)).astype(np.float64)\n",
    "    b=2  #no. of buckets\n",
    "    buckets = np.vsplit(X, [(m//b)*i for i in range(1,b)])\n",
    "    # Compute the mean within each bucket\n",
    "    b_means = [np.mean(x, axis=0) for x in buckets]\n",
    "    # Compute the median-of-means\n",
    "    median = np.median(np.array(b_means), axis=0)\n",
    "    print(median) #(n,) shaped array"
   ]
  },
  {
   "cell_type": "code",
   "execution_count": 130,
   "id": "53d28104",
   "metadata": {},
   "outputs": [],
   "source": [
    "m = 11\n",
    "n = 10\n",
    "X = np.random.uniform(low=0.0, high=1.0, size=(m,n)).astype(np.float64)"
   ]
  },
  {
   "cell_type": "code",
   "execution_count": 131,
   "id": "2d7f8d14",
   "metadata": {},
   "outputs": [
    {
     "data": {
      "text/plain": [
       "array([[0.29814799, 0.68566831, 0.28158878, 0.48387714, 0.44797536,\n",
       "        0.8147836 , 0.70595668, 0.49041122, 0.228319  , 0.45701251],\n",
       "       [0.11771583, 0.60475756, 0.67379933, 0.5717891 , 0.40363953,\n",
       "        0.71574999, 0.19985795, 0.95777691, 0.16452697, 0.40745897],\n",
       "       [0.85345619, 0.5219556 , 0.90878822, 0.8179838 , 0.89286682,\n",
       "        0.84553023, 0.34758401, 0.82136705, 0.6803742 , 0.11627066],\n",
       "       [0.75919555, 0.58948248, 0.36966944, 0.25261164, 0.16208382,\n",
       "        0.98945697, 0.19398403, 0.62019226, 0.62101583, 0.24807031],\n",
       "       [0.36895206, 0.35021009, 0.76920464, 0.84683894, 0.88484075,\n",
       "        0.68025443, 0.85788384, 0.0957975 , 0.45317142, 0.13728417],\n",
       "       [0.28721881, 0.92792446, 0.30636758, 0.7812861 , 0.15102097,\n",
       "        0.49536864, 0.20510847, 0.35852394, 0.6105915 , 0.42610319],\n",
       "       [0.46836788, 0.3095189 , 0.58604034, 0.10500353, 0.74454858,\n",
       "        0.9665578 , 0.39176048, 0.10292584, 0.0349162 , 0.82501185],\n",
       "       [0.35829315, 0.78444071, 0.27790091, 0.55609495, 0.38370435,\n",
       "        0.59061427, 0.88525522, 0.01236342, 0.8812629 , 0.31463655],\n",
       "       [0.18579343, 0.46540483, 0.86635173, 0.12516076, 0.80074272,\n",
       "        0.41030568, 0.03369344, 0.71694189, 0.92262802, 0.17823837],\n",
       "       [0.55957893, 0.92915508, 0.18864224, 0.10901607, 0.99741151,\n",
       "        0.08973233, 0.39249593, 0.05477406, 0.68312906, 0.18154066],\n",
       "       [0.17083381, 0.91579893, 0.84334953, 0.82507544, 0.88305929,\n",
       "        0.42143965, 0.15995088, 0.01763099, 0.98441652, 0.81141012]])"
      ]
     },
     "execution_count": 131,
     "metadata": {},
     "output_type": "execute_result"
    }
   ],
   "source": [
    "X"
   ]
  },
  {
   "cell_type": "code",
   "execution_count": 132,
   "id": "b6624310",
   "metadata": {},
   "outputs": [
    {
     "data": {
      "text/plain": [
       "[array([[0.29814799, 0.68566831, 0.28158878, 0.48387714, 0.44797536,\n",
       "         0.8147836 , 0.70595668, 0.49041122, 0.228319  , 0.45701251],\n",
       "        [0.11771583, 0.60475756, 0.67379933, 0.5717891 , 0.40363953,\n",
       "         0.71574999, 0.19985795, 0.95777691, 0.16452697, 0.40745897],\n",
       "        [0.85345619, 0.5219556 , 0.90878822, 0.8179838 , 0.89286682,\n",
       "         0.84553023, 0.34758401, 0.82136705, 0.6803742 , 0.11627066],\n",
       "        [0.75919555, 0.58948248, 0.36966944, 0.25261164, 0.16208382,\n",
       "         0.98945697, 0.19398403, 0.62019226, 0.62101583, 0.24807031],\n",
       "        [0.36895206, 0.35021009, 0.76920464, 0.84683894, 0.88484075,\n",
       "         0.68025443, 0.85788384, 0.0957975 , 0.45317142, 0.13728417]]),\n",
       " array([[0.28721881, 0.92792446, 0.30636758, 0.7812861 , 0.15102097,\n",
       "         0.49536864, 0.20510847, 0.35852394, 0.6105915 , 0.42610319],\n",
       "        [0.46836788, 0.3095189 , 0.58604034, 0.10500353, 0.74454858,\n",
       "         0.9665578 , 0.39176048, 0.10292584, 0.0349162 , 0.82501185],\n",
       "        [0.35829315, 0.78444071, 0.27790091, 0.55609495, 0.38370435,\n",
       "         0.59061427, 0.88525522, 0.01236342, 0.8812629 , 0.31463655],\n",
       "        [0.18579343, 0.46540483, 0.86635173, 0.12516076, 0.80074272,\n",
       "         0.41030568, 0.03369344, 0.71694189, 0.92262802, 0.17823837],\n",
       "        [0.55957893, 0.92915508, 0.18864224, 0.10901607, 0.99741151,\n",
       "         0.08973233, 0.39249593, 0.05477406, 0.68312906, 0.18154066],\n",
       "        [0.17083381, 0.91579893, 0.84334953, 0.82507544, 0.88305929,\n",
       "         0.42143965, 0.15995088, 0.01763099, 0.98441652, 0.81141012]])]"
      ]
     },
     "execution_count": 132,
     "metadata": {},
     "output_type": "execute_result"
    }
   ],
   "source": [
    "b=2  #no. of buckets\n",
    "buckets = np.vsplit(X, [(m//b)*i for i in range(1,b)])\n",
    "buckets"
   ]
  },
  {
   "cell_type": "code",
   "execution_count": 134,
   "id": "f4b15d09",
   "metadata": {},
   "outputs": [
    {
     "data": {
      "text/plain": [
       "[array([0.47949352, 0.55041481, 0.60061008, 0.59462012, 0.55828126,\n",
       "        0.80915504, 0.4610533 , 0.59710899, 0.42948148, 0.27321933]),\n",
       " array([0.33834767, 0.72204049, 0.51144205, 0.41693948, 0.66008124,\n",
       "        0.49566973, 0.34471074, 0.21052669, 0.68615737, 0.45615679])]"
      ]
     },
     "execution_count": 134,
     "metadata": {},
     "output_type": "execute_result"
    }
   ],
   "source": [
    "# Compute the mean within each bucket\n",
    "b_means = [np.mean(x, axis=0) for x in buckets]\n",
    "b_means"
   ]
  },
  {
   "cell_type": "code",
   "execution_count": 135,
   "id": "a9335e4b",
   "metadata": {},
   "outputs": [
    {
     "name": "stdout",
     "output_type": "stream",
     "text": [
      "[0.4089206  0.63622765 0.55602607 0.5057798  0.60918125 0.65241239\n",
      " 0.40288202 0.40381784 0.55781942 0.36468806]\n"
     ]
    }
   ],
   "source": [
    "# Compute the median-of-means\n",
    "median = np.median(np.array(b_means), axis=0)\n",
    "print(median) #(n,) shaped array"
   ]
  },
  {
   "cell_type": "markdown",
   "id": "7416f170",
   "metadata": {},
   "source": [
    "    The above code is actually first dividing the m array rows into b buckets using np.vsplit(), then calculating the mean of rows for each of b buckets individually and in the end median of all the buckets (row-wise) is calculated.\n",
    "\n",
    "    Which of the following options is false regarding splitting the matrix into 2 buckets in this question to find the median of means of individual buckets?\n",
    "    \n",
    "    - If np.vsplit(X,2) will be used for the buckets it will throw ValueError.\n",
    "    - ans : If np.array_split(X,2,axis=0) will be used for buckets it will throw ValueError.\n",
    "    - If np.split(X,2,axis=0) will be used for the buckets it will throw ValueError.\n",
    "    - np.hsplit() can not be used for this splitting."
   ]
  },
  {
   "cell_type": "code",
   "execution_count": null,
   "id": "42fb876d",
   "metadata": {},
   "outputs": [],
   "source": []
  },
  {
   "cell_type": "code",
   "execution_count": null,
   "id": "720b27dc",
   "metadata": {},
   "outputs": [],
   "source": []
  },
  {
   "cell_type": "markdown",
   "id": "8083b821",
   "metadata": {},
   "source": [
    "### Coin flip implementation\n",
    "    n_all_heads=0\n",
    "    for _ in range(10000):\n",
    "        heads = np.random.[?](size=4)<0.5\n",
    "        n_heads=np.sum(heads)\n",
    "        if n_heads==4:\n",
    "          n_all_heads+=1\n",
    "    print(n_all_heads/10000)\n",
    "    \n",
    "    For the above implementation of the coin flip experiment, to find the probability of getting 4 heads if four flips of the coin are repeated 10,000 times. The line which has the gap (i.e. [?]) actually wants to create an array heads with four elements (float) which are in the range 0 and 1 and all the float values should have equal probability. Choose the option which is correct to fill the gap in the code snippet which actually represents the function name.\n",
    "\n",
    "    Note: Try to run the above code snippet after filling the gaps, you'll get the probability of getting 4 heads if four flips are repeated 10,000 times."
   ]
  },
  {
   "cell_type": "code",
   "execution_count": 233,
   "id": "dc1e6d3d",
   "metadata": {},
   "outputs": [
    {
     "data": {
      "text/plain": [
       "0.0628"
      ]
     },
     "execution_count": 233,
     "metadata": {},
     "output_type": "execute_result"
    }
   ],
   "source": [
    "n_all_heads = 0\n",
    "for _ in range(10000):\n",
    "    heads = np.random.random(size=4)<0.5\n",
    "    n_heads = np.sum(heads)\n",
    "    if n_heads == 4:\n",
    "        n_all_heads += 1\n",
    "n_all_heads/10000"
   ]
  },
  {
   "cell_type": "code",
   "execution_count": 176,
   "id": "e6abdd9b",
   "metadata": {},
   "outputs": [
    {
     "data": {
      "text/plain": [
       "1"
      ]
     },
     "execution_count": 176,
     "metadata": {},
     "output_type": "execute_result"
    }
   ],
   "source": [
    "np.sum(np.random.random(size=4)<0.5)"
   ]
  },
  {
   "cell_type": "code",
   "execution_count": 189,
   "id": "5fa7f018",
   "metadata": {},
   "outputs": [],
   "source": [
    "from collections import Counter"
   ]
  },
  {
   "cell_type": "code",
   "execution_count": 234,
   "id": "63597b3e",
   "metadata": {},
   "outputs": [
    {
     "data": {
      "text/plain": [
       "0.0644"
      ]
     },
     "execution_count": 234,
     "metadata": {},
     "output_type": "execute_result"
    }
   ],
   "source": [
    "n_all_heads = 0\n",
    "\n",
    "for _ in range(10000):\n",
    "    freq = {}\n",
    "    ans = []\n",
    "    for i in range(4):\n",
    "\n",
    "        toss= np.random.choice([\"H\",\"T\"])\n",
    "        ans.append(toss)\n",
    "    freq = Counter(ans)\n",
    "    if freq[\"H\"] == 4:\n",
    "        n_all_heads+=1\n",
    "n_all_heads/10000\n",
    "\n",
    "    "
   ]
  },
  {
   "cell_type": "code",
   "execution_count": null,
   "id": "028b6005",
   "metadata": {},
   "outputs": [],
   "source": []
  },
  {
   "cell_type": "code",
   "execution_count": null,
   "id": "51ab4342",
   "metadata": {},
   "outputs": [],
   "source": []
  },
  {
   "cell_type": "markdown",
   "id": "4b9f690b",
   "metadata": {},
   "source": [
    "### What about code?\n",
    "\n",
    "    import numpy as np\n",
    "    arr = 2*np.arange(0,2,0.5)\n",
    "    if arr <= 0.6:\n",
    "        print (\"condition satisfies\")\n",
    "    else:\n",
    "        print (\"condition doesn't satisfy\") "
   ]
  },
  {
   "attachments": {
    "image.png": {
     "image/png": "[encoded data removed]"
    }
   },
   "cell_type": "markdown",
   "id": "753931ab",
   "metadata": {},
   "source": [
    "![image.png](attachment:image.png)"
   ]
  },
  {
   "cell_type": "code",
   "execution_count": 243,
   "id": "3f836a1a",
   "metadata": {},
   "outputs": [
    {
     "name": "stdout",
     "output_type": "stream",
     "text": [
      "condition doesn't satisfy\n"
     ]
    }
   ],
   "source": [
    "import numpy as np\n",
    "arr = 2*np.arange(0,2,0.5)\n",
    "if np.any(arr) <= 0.6:\n",
    "    print (\"condition satisfies\")\n",
    "else:\n",
    "    print (\"condition doesn't satisfy\") "
   ]
  },
  {
   "cell_type": "code",
   "execution_count": 242,
   "id": "4225a60c",
   "metadata": {},
   "outputs": [
    {
     "data": {
      "text/plain": [
       "array([0., 1., 2., 3.])"
      ]
     },
     "execution_count": 242,
     "metadata": {},
     "output_type": "execute_result"
    }
   ],
   "source": [
    "arr"
   ]
  },
  {
   "cell_type": "code",
   "execution_count": null,
   "id": "4d464a7e",
   "metadata": {},
   "outputs": [],
   "source": []
  },
  {
   "cell_type": "markdown",
   "id": "ab360dbb",
   "metadata": {},
   "source": [
    "### Given the following array:\n",
    "\n",
    "    import numpy as np\n",
    "    arr = np.array([[1,2,3],\n",
    "                   [4,5,6],\n",
    "                   [7,8,9]])\n",
    "    Which options are correct?\n",
    "\n",
    "    Note: np is the alias for NumPy in the options."
   ]
  },
  {
   "cell_type": "code",
   "execution_count": 256,
   "id": "7190a17a",
   "metadata": {},
   "outputs": [],
   "source": [
    "arr = np.array([[1,2,3],\n",
    "               [4,5,6],\n",
    "               [7,8,9]])"
   ]
  },
  {
   "cell_type": "code",
   "execution_count": 257,
   "id": "e2ab65ea",
   "metadata": {},
   "outputs": [
    {
     "data": {
      "text/plain": [
       "array([1, 4, 7])"
      ]
     },
     "execution_count": 257,
     "metadata": {},
     "output_type": "execute_result"
    }
   ],
   "source": [
    "arr[:,0]"
   ]
  },
  {
   "cell_type": "code",
   "execution_count": 259,
   "id": "2a57418e",
   "metadata": {},
   "outputs": [
    {
     "data": {
      "text/plain": [
       "array([[1, 2, 3, 1],\n",
       "       [4, 5, 6, 4],\n",
       "       [7, 8, 9, 7]])"
      ]
     },
     "execution_count": 259,
     "metadata": {},
     "output_type": "execute_result"
    }
   ],
   "source": [
    "np.hstack((arr,arr[:,[0]]))"
   ]
  },
  {
   "cell_type": "code",
   "execution_count": 260,
   "id": "344fb875",
   "metadata": {},
   "outputs": [],
   "source": [
    "np.hstack((arr, arr[:, [0]])).shape= (3, 4)\n"
   ]
  },
  {
   "cell_type": "markdown",
   "id": "00e2e87a",
   "metadata": {},
   "source": [
    "    np.hstack((arr, arr[:, [0]])).shape= (3, 4)\n"
   ]
  },
  {
   "cell_type": "code",
   "execution_count": null,
   "id": "cc314ff8",
   "metadata": {},
   "outputs": [],
   "source": []
  },
  {
   "cell_type": "markdown",
   "id": "1e2cb7e6",
   "metadata": {},
   "source": [
    "###  Changing Dimension\n",
    "\n",
    "    Given two Numpy array A and B such that, A.shape = (3,3,1) and B.shape =(3,3)\n",
    "\n",
    "    a) A = A.squeeze(axis=2) \n",
    "\n",
    "    b) B = np.expand_dims( B, axis=2)  \n",
    "    After performing the above lines of code, the shape of arrays A and B will be?"
   ]
  },
  {
   "cell_type": "code",
   "execution_count": 261,
   "id": "7e0268be",
   "metadata": {},
   "outputs": [],
   "source": [
    "A = np.arange(1,10).reshape(3,3,1)"
   ]
  },
  {
   "cell_type": "code",
   "execution_count": 262,
   "id": "10eee9c3",
   "metadata": {},
   "outputs": [
    {
     "data": {
      "text/plain": [
       "array([[[1],\n",
       "        [2],\n",
       "        [3]],\n",
       "\n",
       "       [[4],\n",
       "        [5],\n",
       "        [6]],\n",
       "\n",
       "       [[7],\n",
       "        [8],\n",
       "        [9]]])"
      ]
     },
     "execution_count": 262,
     "metadata": {},
     "output_type": "execute_result"
    }
   ],
   "source": [
    "A"
   ]
  },
  {
   "cell_type": "code",
   "execution_count": 263,
   "id": "bcb951d7",
   "metadata": {},
   "outputs": [],
   "source": [
    "B = np.arange(1,10).reshape(3,3)"
   ]
  },
  {
   "cell_type": "code",
   "execution_count": 264,
   "id": "f3c58e89",
   "metadata": {},
   "outputs": [
    {
     "data": {
      "text/plain": [
       "array([[1, 2, 3],\n",
       "       [4, 5, 6],\n",
       "       [7, 8, 9]])"
      ]
     },
     "execution_count": 264,
     "metadata": {},
     "output_type": "execute_result"
    }
   ],
   "source": [
    "B"
   ]
  },
  {
   "cell_type": "code",
   "execution_count": 270,
   "id": "33cf966d",
   "metadata": {},
   "outputs": [
    {
     "data": {
      "text/plain": [
       "array([[1, 2, 3],\n",
       "       [4, 5, 6],\n",
       "       [7, 8, 9]])"
      ]
     },
     "execution_count": 270,
     "metadata": {},
     "output_type": "execute_result"
    }
   ],
   "source": [
    "A.squeeze(axis = 2)"
   ]
  },
  {
   "cell_type": "code",
   "execution_count": 271,
   "id": "986fc331",
   "metadata": {},
   "outputs": [
    {
     "data": {
      "text/plain": [
       "array([[[1],\n",
       "        [2],\n",
       "        [3]],\n",
       "\n",
       "       [[4],\n",
       "        [5],\n",
       "        [6]],\n",
       "\n",
       "       [[7],\n",
       "        [8],\n",
       "        [9]]])"
      ]
     },
     "execution_count": 271,
     "metadata": {},
     "output_type": "execute_result"
    }
   ],
   "source": [
    "np.expand_dims( B, axis=2) "
   ]
  },
  {
   "cell_type": "markdown",
   "id": "20fe1aad",
   "metadata": {},
   "source": [
    "    A.shape= (3,3) , B.shape= (3,3,1)"
   ]
  },
  {
   "cell_type": "code",
   "execution_count": null,
   "id": "540ce11e",
   "metadata": {},
   "outputs": [],
   "source": []
  },
  {
   "cell_type": "code",
   "execution_count": null,
   "id": "0a24ab27",
   "metadata": {},
   "outputs": [],
   "source": []
  },
  {
   "cell_type": "markdown",
   "id": "136492e2",
   "metadata": {},
   "source": [
    "### np.all()\n",
    "\n",
    "\n",
    "    a = np.array([[[ 0, 0, 0],\n",
    "     [ 0, 0, 0],\n",
    "     [ 0, 0, 0],\n",
    "     [ 0, 0, 0]],\n",
    "    [[ 0, 0, 255],\n",
    "     [255, 255, 255],\n",
    "     [ 0, 0, 0],\n",
    "     [255, 0, 0]]])\n",
    "    b = np.array([255, 0, 255])\n",
    "    c = np.all(a == b, axis = 1) \n",
    "    For the above code, what's the output for c?"
   ]
  },
  {
   "cell_type": "code",
   "execution_count": 272,
   "id": "693434eb",
   "metadata": {},
   "outputs": [],
   "source": [
    "a = np.array([[  [ 0, 0, 0],\n",
    "                 [ 0, 0, 0],\n",
    "                 [ 0, 0, 0],\n",
    "                 [ 0, 0, 0]   ],\n",
    "            [    [ 0, 0, 255],\n",
    "                 [255, 255, 255],\n",
    "                 [ 0, 0, 0],\n",
    "                 [255, 0, 0]   ]])\n",
    "b = np.array([255, 0, 255])\n",
    "c = np.all(a == b, axis = 1) "
   ]
  },
  {
   "cell_type": "code",
   "execution_count": 273,
   "id": "72b97e49",
   "metadata": {},
   "outputs": [
    {
     "data": {
      "text/plain": [
       "array([[[  0,   0,   0],\n",
       "        [  0,   0,   0],\n",
       "        [  0,   0,   0],\n",
       "        [  0,   0,   0]],\n",
       "\n",
       "       [[  0,   0, 255],\n",
       "        [255, 255, 255],\n",
       "        [  0,   0,   0],\n",
       "        [255,   0,   0]]])"
      ]
     },
     "execution_count": 273,
     "metadata": {},
     "output_type": "execute_result"
    }
   ],
   "source": [
    "a"
   ]
  },
  {
   "cell_type": "code",
   "execution_count": 274,
   "id": "63b7ce98",
   "metadata": {},
   "outputs": [
    {
     "data": {
      "text/plain": [
       "array([255,   0, 255])"
      ]
     },
     "execution_count": 274,
     "metadata": {},
     "output_type": "execute_result"
    }
   ],
   "source": [
    "b"
   ]
  },
  {
   "cell_type": "code",
   "execution_count": 276,
   "id": "da927d7f",
   "metadata": {},
   "outputs": [
    {
     "data": {
      "text/plain": [
       "array([[[False,  True, False],\n",
       "        [False,  True, False],\n",
       "        [False,  True, False],\n",
       "        [False,  True, False]],\n",
       "\n",
       "       [[False,  True,  True],\n",
       "        [ True, False,  True],\n",
       "        [False,  True, False],\n",
       "        [ True,  True, False]]])"
      ]
     },
     "execution_count": 276,
     "metadata": {},
     "output_type": "execute_result"
    }
   ],
   "source": [
    "a==b"
   ]
  },
  {
   "cell_type": "code",
   "execution_count": 275,
   "id": "b69f5403",
   "metadata": {},
   "outputs": [
    {
     "data": {
      "text/plain": [
       "array([[False,  True, False],\n",
       "       [False, False, False]])"
      ]
     },
     "execution_count": 275,
     "metadata": {},
     "output_type": "execute_result"
    }
   ],
   "source": [
    "c"
   ]
  },
  {
   "cell_type": "code",
   "execution_count": null,
   "id": "7ca7f518",
   "metadata": {},
   "outputs": [],
   "source": []
  },
  {
   "cell_type": "code",
   "execution_count": null,
   "id": "ad0dccde",
   "metadata": {},
   "outputs": [],
   "source": []
  },
  {
   "cell_type": "markdown",
   "id": "446e5d12",
   "metadata": {},
   "source": [
    "Diagonals of 2D array\n",
    "\n",
    "    Given a 2D array arr, Find which of the following codes are true.\n",
    "\n",
    "    import numpy as np\n",
    "\n",
    "    arr= np.array([[2,3,4,5],[1,7,3,5],[2,8,6,9],[11,23,12,19]])\n",
    "\n",
    "    a.  np.triu(arr) = array([[2,3,4,5],[0,7,3,5],[0,0,6,9],[0,0,0,19]])\n",
    "\n",
    "    b.  np.tril(arr) = array([[2,0,0,0],[1,7,0,0],[2,8,6,0],[11,23,12,19]])\n",
    "\n",
    "    c.  np.diag(arr, k=1) = array([3,3,9])\n",
    "\n",
    "    d.  arr*np.eye(arr.shape[1], dtype=int) = array([[2,0,0,0],[0,7,0,0],[0,0,6,0],[0,0,0,19]])"
   ]
  },
  {
   "cell_type": "code",
   "execution_count": 278,
   "id": "8072b023",
   "metadata": {},
   "outputs": [],
   "source": [
    "arr= np.array([[2,3,4,5],[1,7,3,5],[2,8,6,9],[11,23,12,19]])\n"
   ]
  },
  {
   "cell_type": "code",
   "execution_count": 279,
   "id": "b8976059",
   "metadata": {},
   "outputs": [
    {
     "data": {
      "text/plain": [
       "array([[ 2,  3,  4,  5],\n",
       "       [ 1,  7,  3,  5],\n",
       "       [ 2,  8,  6,  9],\n",
       "       [11, 23, 12, 19]])"
      ]
     },
     "execution_count": 279,
     "metadata": {},
     "output_type": "execute_result"
    }
   ],
   "source": [
    "arr"
   ]
  },
  {
   "cell_type": "code",
   "execution_count": 280,
   "id": "efa99524",
   "metadata": {},
   "outputs": [
    {
     "data": {
      "text/plain": [
       "array([[ 2,  3,  4,  5],\n",
       "       [ 0,  7,  3,  5],\n",
       "       [ 0,  0,  6,  9],\n",
       "       [ 0,  0,  0, 19]])"
      ]
     },
     "execution_count": 280,
     "metadata": {},
     "output_type": "execute_result"
    }
   ],
   "source": [
    "np.triu(arr)"
   ]
  },
  {
   "cell_type": "code",
   "execution_count": 281,
   "id": "868e6e20",
   "metadata": {},
   "outputs": [
    {
     "data": {
      "text/plain": [
       "array([[ 2,  0,  0,  0],\n",
       "       [ 1,  7,  0,  0],\n",
       "       [ 2,  8,  6,  0],\n",
       "       [11, 23, 12, 19]])"
      ]
     },
     "execution_count": 281,
     "metadata": {},
     "output_type": "execute_result"
    }
   ],
   "source": [
    "np.tril(arr)"
   ]
  },
  {
   "cell_type": "code",
   "execution_count": 282,
   "id": "7629abf0",
   "metadata": {},
   "outputs": [
    {
     "data": {
      "text/plain": [
       "array([3, 3, 9])"
      ]
     },
     "execution_count": 282,
     "metadata": {},
     "output_type": "execute_result"
    }
   ],
   "source": [
    "np.diag(arr,k=1)"
   ]
  },
  {
   "cell_type": "code",
   "execution_count": 283,
   "id": "5c8aa164",
   "metadata": {},
   "outputs": [
    {
     "data": {
      "text/plain": [
       "array([4, 5])"
      ]
     },
     "execution_count": 283,
     "metadata": {},
     "output_type": "execute_result"
    }
   ],
   "source": [
    "np.diag(arr,k=2)"
   ]
  },
  {
   "cell_type": "code",
   "execution_count": 284,
   "id": "873b2f6a",
   "metadata": {},
   "outputs": [
    {
     "data": {
      "text/plain": [
       "array([ 2,  7,  6, 19])"
      ]
     },
     "execution_count": 284,
     "metadata": {},
     "output_type": "execute_result"
    }
   ],
   "source": [
    "np.diag(arr,k=0)"
   ]
  },
  {
   "cell_type": "code",
   "execution_count": 285,
   "id": "775a506d",
   "metadata": {},
   "outputs": [
    {
     "data": {
      "text/plain": [
       "4"
      ]
     },
     "execution_count": 285,
     "metadata": {},
     "output_type": "execute_result"
    }
   ],
   "source": [
    "arr.shape[1]"
   ]
  },
  {
   "cell_type": "code",
   "execution_count": 287,
   "id": "33c14091",
   "metadata": {},
   "outputs": [
    {
     "data": {
      "text/plain": [
       "array([[1, 0, 0, 0],\n",
       "       [0, 1, 0, 0],\n",
       "       [0, 0, 1, 0],\n",
       "       [0, 0, 0, 1]])"
      ]
     },
     "execution_count": 287,
     "metadata": {},
     "output_type": "execute_result"
    }
   ],
   "source": [
    "np.eye(arr.shape[1],dtype=\"int\")"
   ]
  },
  {
   "cell_type": "code",
   "execution_count": 288,
   "id": "df7b8c1e",
   "metadata": {},
   "outputs": [
    {
     "data": {
      "text/plain": [
       "array([[ 2,  0,  0,  0],\n",
       "       [ 0,  7,  0,  0],\n",
       "       [ 0,  0,  6,  0],\n",
       "       [ 0,  0,  0, 19]])"
      ]
     },
     "execution_count": 288,
     "metadata": {},
     "output_type": "execute_result"
    }
   ],
   "source": [
    "arr * np.eye(arr.shape[1],dtype=\"int\")"
   ]
  },
  {
   "cell_type": "code",
   "execution_count": null,
   "id": "bb820975",
   "metadata": {},
   "outputs": [],
   "source": []
  },
  {
   "cell_type": "code",
   "execution_count": null,
   "id": "2ab8607b",
   "metadata": {},
   "outputs": [],
   "source": []
  },
  {
   "cell_type": "markdown",
   "id": "4da10613",
   "metadata": {},
   "source": [
    "### One Hot Encoding\n",
    "\n",
    "    Given a 1D NumPy array containing integers, convert each integral value into one-hot encoded values.\n",
    "\n",
    "    Note: Input and output arrays are of dtype 'int'.\n",
    "\n",
    "    Input Format :\n",
    "\n",
    "    Number of testcases  \n",
    "    Space separated numbers representing elements of array for each testcases  \n",
    "\n",
    "    Output Format:\n",
    "\n",
    "    Return the one-hot encoded numpy array   \n",
    "\n",
    "    Sample Input :\n",
    "\n",
    "\n",
    "    array [1,3,4,1,2]  \n",
    "    Sample Output :\n",
    "\n",
    "    array [[0,1,0,0,0],  \n",
    "           [0,0,0,1,0],  \n",
    "           [0,0,0,0,1],  \n",
    "           [0,1,0,0,0],  \n",
    "           [0,0,1,0,0]]  \n",
    "    Output an array of dimension (inputarray.size, max(inputarray)+1)\n",
    "\n",
    "    Explaination :\n",
    "\n",
    "    Each row is the one hot encoded representation of the elements in input array.\n",
    "    Example: 3 is represented by [0,0,0,1,0] at index=3 its 1 else all are 0."
   ]
  },
  {
   "cell_type": "code",
   "execution_count": 306,
   "id": "8783bba1",
   "metadata": {},
   "outputs": [],
   "source": [
    "inputA = np.array([1,3,4,1,2])"
   ]
  },
  {
   "cell_type": "code",
   "execution_count": null,
   "id": "75a428ac",
   "metadata": {},
   "outputs": [],
   "source": []
  },
  {
   "cell_type": "code",
   "execution_count": 307,
   "id": "0d862ae0",
   "metadata": {},
   "outputs": [
    {
     "data": {
      "text/plain": [
       "array([[0, 0, 0, 0, 0],\n",
       "       [0, 0, 0, 0, 0],\n",
       "       [0, 0, 0, 0, 0],\n",
       "       [0, 0, 0, 0, 0],\n",
       "       [0, 0, 0, 0, 0]])"
      ]
     },
     "execution_count": 307,
     "metadata": {},
     "output_type": "execute_result"
    }
   ],
   "source": [
    "ans = np.zeros((len(inputA),np.max(inputA)+1),dtype = \"int\")\n",
    "ans"
   ]
  },
  {
   "cell_type": "code",
   "execution_count": 315,
   "id": "b9359232",
   "metadata": {},
   "outputs": [
    {
     "data": {
      "text/plain": [
       "array([[0, 1, 0, 0, 0],\n",
       "       [0, 0, 0, 1, 0],\n",
       "       [0, 0, 0, 0, 1],\n",
       "       [0, 1, 0, 0, 0],\n",
       "       [0, 0, 1, 0, 0]])"
      ]
     },
     "execution_count": 315,
     "metadata": {},
     "output_type": "execute_result"
    }
   ],
   "source": [
    "for i in range(len(inputA)):\n",
    "    ans[i,inputA[i]] = 1\n",
    "ans"
   ]
  },
  {
   "cell_type": "code",
   "execution_count": 322,
   "id": "abbda6cc",
   "metadata": {},
   "outputs": [],
   "source": [
    "# another method"
   ]
  },
  {
   "cell_type": "code",
   "execution_count": 310,
   "id": "3bd28f97",
   "metadata": {},
   "outputs": [
    {
     "data": {
      "text/plain": [
       "array([[0, 0, 0, 0, 0],\n",
       "       [0, 0, 0, 0, 0],\n",
       "       [0, 0, 0, 0, 0],\n",
       "       [0, 0, 0, 0, 0],\n",
       "       [0, 0, 0, 0, 0]])"
      ]
     },
     "execution_count": 310,
     "metadata": {},
     "output_type": "execute_result"
    }
   ],
   "source": [
    "temp = np.zeros((len(inputA),np.max(inputA)+1),dtype = \"int\")\n",
    "temp"
   ]
  },
  {
   "cell_type": "code",
   "execution_count": 318,
   "id": "3fd9b5f7",
   "metadata": {},
   "outputs": [
    {
     "data": {
      "text/plain": [
       "5"
      ]
     },
     "execution_count": 318,
     "metadata": {},
     "output_type": "execute_result"
    }
   ],
   "source": [
    "inputA.size"
   ]
  },
  {
   "cell_type": "code",
   "execution_count": 319,
   "id": "88fce390",
   "metadata": {},
   "outputs": [
    {
     "data": {
      "text/plain": [
       "array([0, 1, 2, 3, 4])"
      ]
     },
     "execution_count": 319,
     "metadata": {},
     "output_type": "execute_result"
    }
   ],
   "source": [
    "np.arange(inputA.size)"
   ]
  },
  {
   "cell_type": "code",
   "execution_count": 320,
   "id": "732ec070",
   "metadata": {},
   "outputs": [],
   "source": [
    "temp[np.arange(inputA.size),inputA] = 1"
   ]
  },
  {
   "cell_type": "code",
   "execution_count": 321,
   "id": "52941653",
   "metadata": {},
   "outputs": [
    {
     "data": {
      "text/plain": [
       "array([[0, 1, 0, 0, 0],\n",
       "       [0, 0, 0, 1, 0],\n",
       "       [0, 0, 0, 0, 1],\n",
       "       [0, 1, 0, 0, 0],\n",
       "       [0, 0, 1, 0, 0]])"
      ]
     },
     "execution_count": 321,
     "metadata": {},
     "output_type": "execute_result"
    }
   ],
   "source": [
    "temp"
   ]
  },
  {
   "cell_type": "code",
   "execution_count": null,
   "id": "1be9622d",
   "metadata": {},
   "outputs": [],
   "source": []
  },
  {
   "cell_type": "code",
   "execution_count": null,
   "id": "525b0f35",
   "metadata": {},
   "outputs": [],
   "source": []
  },
  {
   "cell_type": "markdown",
   "id": "0f2ac157",
   "metadata": {},
   "source": [
    "### Original Matrix Retrieval\n",
    "\n",
    "    John and Edo have been childhood friends. Both love playing with numbers, especially with matrices. One day, John comes up with an interesting problem for Edo. He takes a 4 x 4 matrix, and breaks it down into 4 parts, top left, top right, bottom left, and bottom right, and now wants Edo to retrieve the original matrix from some hints about the 4 parts. In detail,\n",
    "\n",
    "    1. For each part, Edo will be given 2 numbers, and he has to generate 4 spaced equal numbers between these 2 numbers (both numbers included).\n",
    "\n",
    "    2. After generating this 4 length array, convert it into a 2x2 matrix, and merge them as per requirement (according to their positions).\n",
    "\n",
    "    Help Edo with this task. You can refer to the sample input-output explanation to understand the problem properly.\n",
    "\n",
    "    For a particular part's hint (i.e. a and b), it can be assumed that all the 4 numbers present in the even space length [a,b], will be whole numbers and not fractions.\n",
    "\n",
    "    Input Format\n",
    "\n",
    "    Number of testcases.\n",
    "    For each testcase, there will be total of 4 lines of input, each line containing 2 numbers separated by space, denoting each part's range, in order of top left, top right, bottom left, and bottom right.\n",
    "    A list is given as an argument for the function which consists of tuples indicating these range boundaries for each part in the mentioned order.\n",
    "    Output Format\n",
    "\n",
    "    Return the 4x4 matrix consisting float elements upto 1 decimal point, after processing the inputs for each testcase.\n",
    "    Sample Input\n",
    "\n",
    "    1\n",
    "    0 2\n",
    "    5 7\n",
    "    1 3\n",
    "    6 9\n",
    "    Sample Output\n",
    "\n",
    "    Return the 4x4 matrix. It should look like:\n",
    "\n",
    "    [[0.  0.7 5.  5.7] \n",
    "     [1.3 2.  6.3 7. ] \n",
    "     [1.  1.7 6.  7. ] \n",
    "     [2.3 3.  8.  9. ]]\n",
    "    Explanation\n",
    "\n",
    "    For top left, [0, 2], the matrix is 2x2 of [0., 0.7, 1.3, 2.], which is\n",
    "    [[0. 0.7]\n",
    "\n",
    "    [1.3 2.]]\n",
    "\n",
    "    Similarly top right, for [5, 7], it will be\n",
    "    [[5. 5.7]\n",
    "\n",
    "    [6.3 7.]]\n",
    "\n",
    "    The bottom left will be:\n",
    "    [[1. 1.7]\n",
    "\n",
    "    [2.3 3.]]\n",
    "\n",
    "    and Bottom right will be:\n",
    "    [[6. 7.]\n",
    "\n",
    "    [8. 9.]]"
   ]
  },
  {
   "cell_type": "code",
   "execution_count": 336,
   "id": "7f2ae3f8",
   "metadata": {},
   "outputs": [],
   "source": [
    "inputc = np.array([[0,2],\n",
    "                  [5,7],\n",
    "                  [1,3],\n",
    "                  [6,9]])"
   ]
  },
  {
   "cell_type": "code",
   "execution_count": 337,
   "id": "27e7825a",
   "metadata": {},
   "outputs": [],
   "source": [
    "a1,b1 = inputc[0]\n",
    "a2,b2 = inputc[1]\n",
    "a3,b3 = inputc[2]\n",
    "a4,b4 = inputc[3]"
   ]
  },
  {
   "cell_type": "code",
   "execution_count": 338,
   "id": "aff4d7bf",
   "metadata": {},
   "outputs": [
    {
     "data": {
      "text/plain": [
       "(0, 2, 5, 7, 1, 3, 6, 9)"
      ]
     },
     "execution_count": 338,
     "metadata": {},
     "output_type": "execute_result"
    }
   ],
   "source": [
    "a1,b1,a2,b2,a3,b3,a4,b4"
   ]
  },
  {
   "cell_type": "code",
   "execution_count": 343,
   "id": "0312c8dd",
   "metadata": {},
   "outputs": [
    {
     "data": {
      "text/plain": [
       "array([[0. , 0.7],\n",
       "       [1.3, 2. ]])"
      ]
     },
     "execution_count": 343,
     "metadata": {},
     "output_type": "execute_result"
    }
   ],
   "source": [
    "A = np.round(np.linspace(a1,b1,4),1).reshape(2,2)\n",
    "A"
   ]
  },
  {
   "cell_type": "code",
   "execution_count": 342,
   "id": "e10fe4d6",
   "metadata": {},
   "outputs": [],
   "source": [
    "B = np.round(np.linspace(a2,b2,4),1).reshape(2,2)\n",
    "C = np.round(np.linspace(a3,b3,4),1).reshape(2,2)\n",
    "D = np.round(np.linspace(a4,b4,4),1).reshape(2,2)"
   ]
  },
  {
   "cell_type": "code",
   "execution_count": 347,
   "id": "53213b5a",
   "metadata": {},
   "outputs": [
    {
     "data": {
      "text/plain": [
       "array([[0. , 0.7, 5. , 5.7],\n",
       "       [1.3, 2. , 6.3, 7. ]])"
      ]
     },
     "execution_count": 347,
     "metadata": {},
     "output_type": "execute_result"
    }
   ],
   "source": [
    "X = np.hstack((A,B))\n",
    "X"
   ]
  },
  {
   "cell_type": "code",
   "execution_count": 348,
   "id": "36866e9b",
   "metadata": {},
   "outputs": [
    {
     "data": {
      "text/plain": [
       "array([[1. , 1.7, 6. , 7. ],\n",
       "       [2.3, 3. , 8. , 9. ]])"
      ]
     },
     "execution_count": 348,
     "metadata": {},
     "output_type": "execute_result"
    }
   ],
   "source": [
    "Y = np.hstack((C,D))\n",
    "Y"
   ]
  },
  {
   "cell_type": "code",
   "execution_count": 350,
   "id": "1c9aa0ab",
   "metadata": {},
   "outputs": [
    {
     "data": {
      "text/plain": [
       "array([[0. , 0.7, 5. , 5.7],\n",
       "       [1.3, 2. , 6.3, 7. ],\n",
       "       [1. , 1.7, 6. , 7. ],\n",
       "       [2.3, 3. , 8. , 9. ]])"
      ]
     },
     "execution_count": 350,
     "metadata": {},
     "output_type": "execute_result"
    }
   ],
   "source": [
    "np.vstack((X,Y))"
   ]
  },
  {
   "cell_type": "code",
   "execution_count": null,
   "id": "5d26215d",
   "metadata": {},
   "outputs": [],
   "source": []
  },
  {
   "cell_type": "markdown",
   "id": "2af30fda",
   "metadata": {},
   "source": [
    "### Trial softmax\n"
   ]
  },
  {
   "attachments": {
    "image.png": {
     "image/png": "[encoded data removed]"
    }
   },
   "cell_type": "markdown",
   "id": "5b5d761f",
   "metadata": {},
   "source": [
    "   ![image.png](attachment:image.png)\n",
    "    The formula for getting softmax score is:\n",
    "\n",
    "\n",
    "\n",
    "    ,here Zi is the observations[i] and k is the total number of observations.\n",
    "\n",
    "    The softmax function is used in machine learning algorithms for classification applications. What it basically does is that it takes input as an array and converts it into a probability distribution where the sum of each elements' probability will be 1.\n",
    "\n",
    "    Write a function that could take a list as an input and can return a NumPy array that would have the softmax scores of each element as a member.\n",
    "\n",
    "    Input format:\n",
    "\n",
    "    number of testcases\n",
    "    space separating numbers representing elements of list for each testcases\n",
    "    Output format:\n",
    "\n",
    "    Return the numpy array simply consisting the scores for each element of the list\n",
    "    Sample input:\n",
    "\n",
    "    1\n",
    "    6 2 4 3 1\n",
    "    Sample output:\n",
    "\n",
    "    [0.826 0.015 0.112 0.041 0.006]\n",
    "    Explanation:\n",
    "\n",
    "    denominator = (e6 + e2 + e4 + e3 +e1)\n",
    "\n",
    "    softmax(6) = e6/(e6 + e2 + e4 + e3 +e1) = e6/denominator = 0.826\n",
    "\n",
    "    softmax(2) = e2/denominator = 0.015\n",
    "\n",
    "    And similarly, the softmax score of the remaining elements can be calculated.\n",
    "\n",
    "    Take care that the test case outputs are made using np.round function for estimating up to 3 decimal places. The code for taking input is already taken care of and make sure to print the numpy array inside the function only."
   ]
  },
  {
   "cell_type": "code",
   "execution_count": 351,
   "id": "261f6817",
   "metadata": {},
   "outputs": [],
   "source": [
    "data = [6,2,4,3,1]"
   ]
  },
  {
   "cell_type": "code",
   "execution_count": 352,
   "id": "65e2117c",
   "metadata": {},
   "outputs": [
    {
     "data": {
      "text/plain": [
       "array([6, 2, 4, 3, 1])"
      ]
     },
     "execution_count": 352,
     "metadata": {},
     "output_type": "execute_result"
    }
   ],
   "source": [
    "data = np.array(data)\n",
    "data"
   ]
  },
  {
   "cell_type": "code",
   "execution_count": 353,
   "id": "c78e0a76",
   "metadata": {},
   "outputs": [
    {
     "data": {
      "text/plain": [
       "array([403.42879349,   7.3890561 ,  54.59815003,  20.08553692,\n",
       "         2.71828183])"
      ]
     },
     "execution_count": 353,
     "metadata": {},
     "output_type": "execute_result"
    }
   ],
   "source": [
    "np.e**data"
   ]
  },
  {
   "cell_type": "code",
   "execution_count": 354,
   "id": "1acdd28b",
   "metadata": {},
   "outputs": [
    {
     "data": {
      "text/plain": [
       "488.2198183764566"
      ]
     },
     "execution_count": 354,
     "metadata": {},
     "output_type": "execute_result"
    }
   ],
   "source": [
    "np.sum(np.e**data)"
   ]
  },
  {
   "cell_type": "code",
   "execution_count": 356,
   "id": "5d7efd37",
   "metadata": {},
   "outputs": [
    {
     "data": {
      "text/plain": [
       "array([0.826, 0.015, 0.112, 0.041, 0.006])"
      ]
     },
     "execution_count": 356,
     "metadata": {},
     "output_type": "execute_result"
    }
   ],
   "source": [
    "np.round(np.e**data/(np.sum(np.e**data)),3)"
   ]
  },
  {
   "cell_type": "code",
   "execution_count": null,
   "id": "a0672990",
   "metadata": {},
   "outputs": [],
   "source": []
  },
  {
   "cell_type": "code",
   "execution_count": null,
   "id": "05471ab2",
   "metadata": {},
   "outputs": [],
   "source": []
  }
 ],
 "metadata": {
  "kernelspec": {
   "display_name": "Python 3 (ipykernel)",
   "language": "python",
   "name": "python3"
  },
  "language_info": {
   "codemirror_mode": {
    "name": "ipython",
    "version": 3
   },
   "file_extension": ".py",
   "mimetype": "text/x-python",
   "name": "python",
   "nbconvert_exporter": "python",
   "pygments_lexer": "ipython3",
   "version": "3.9.7"
  }
 },
 "nbformat": 4,
 "nbformat_minor": 5
}

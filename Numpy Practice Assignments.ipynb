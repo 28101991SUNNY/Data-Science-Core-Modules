{
 "cells": [
  {
   "cell_type": "code",
   "execution_count": 1,
   "id": "b2e4197a",
   "metadata": {},
   "outputs": [],
   "source": [
    "import numpy as np"
   ]
  },
  {
   "cell_type": "markdown",
   "id": "9ebe4839",
   "metadata": {},
   "source": [
    "ref :\n",
    "    from https://www.interviewbit.com/numpy-interview-questions/\n",
    "    \n",
    "and scaler.com"
   ]
  },
  {
   "cell_type": "markdown",
   "id": "2d3db969",
   "metadata": {},
   "source": [
    "#### 1. What is NumPy? Why should we use it?\n",
    "\n",
    "- NumPy (also called Numerical Python) is a highly flexible, optimized, open-source package meant for array processing. It provides tools for delivering high-end performance while dealing with N-dimensional powerful array objects. It is also beneficial for performing scientific computations, mathematical, and logical operations, sorting operations, I/O functions, basic statistical and linear algebra-based operations along with random simulation and broadcasting functionalities. Due to the vast range of capabilities, NumPy has become very popular and is the most preferred package. The following image represents the uses of NumPy.\n",
    "\n",
    "\n",
    "#### 2. Why is NumPy preferred over Matlab, Octave, Idl or Yorick?\n",
    "\n",
    "- NumPy is an open-source, high-performing library that allows complex mathematical and scientific computational capabilities. It makes use of Python language which is a high-level, easy-to-learn, general-purpose programming language. It supports the following:\n",
    "\n",
    "- Powerful functions for performing complex mathematical operations on multi-dimensional matrices and arrays. The operations on ndarrays of NumPy are approximately up to 50% faster when compared to operations on native lists using loops. This efficiency is very much useful when the arrays have millions of elements.\n",
    "- Provides indexing syntax to access portions of data easily in a large array.\n",
    "- Provides built-in functions which help to easily perform operations related to linear algebra and statistics.\n",
    "- It takes only a few lines of code to achieve complex computations using NumPy.\n",
    "\n",
    "#### 3. How are NumPy arrays better than Python’s lists?\n",
    "\n",
    "- Python lists support storing heterogeneous data types whereas NumPy arrays can store datatypes of one nature itself. NumPy provides extra functional capabilities that make operating on its arrays easier which makes NumPy array advantageous in comparison to Python lists as those functions cannot be operated on heterogeneous data.\n",
    "- NumPy arrays are treated as objects which results in minimal memory usage. Since Python keeps track of objects by creating or deleting them based on the requirements, NumPy objects are also treated the same way. This results in lesser memory wastage.\n",
    "- NumPy arrays support multi-dimensional arrays.\n",
    "- NumPy provides various powerful and efficient functions for complex computations on the arrays.\n",
    "- NumPy also provides various range of functions for BitWise Operations, String Operations, Linear Algebraic operations, Arithmetic operations etc. These are not provided on Python’s default lists.\n",
    "\n",
    "#### 4. What are ndarrays in NumPy?\n",
    "\n",
    "- ndarray object is the core of the NumPy package. It consists of n-dimensional arrays storing elements of the same data types and also has many operations that are done in compiled code for optimised performance. These arrays have fixed sizes defined at the time of creation. Following are some of the properties of ndarrays:\n",
    "\n",
    "- When the size of ndarrays is changed, it results in a new array and the original array is deleted.\n",
    "The ndarrays are bound to store homogeneous data.\n",
    "They provide functions to perform advanced mathematical operations in an efficient manner."
   ]
  },
  {
   "cell_type": "code",
   "execution_count": null,
   "id": "0f69a9cd",
   "metadata": {},
   "outputs": [],
   "source": []
  },
  {
   "cell_type": "markdown",
   "id": "9cd6fb93",
   "metadata": {},
   "source": [
    "#### What are ways of creating 1D, 2D and 3D arrays in NumPy?\n",
    "\n",
    "\n"
   ]
  },
  {
   "cell_type": "code",
   "execution_count": 359,
   "id": "bc24476b",
   "metadata": {},
   "outputs": [
    {
     "data": {
      "text/plain": [
       "array([1, 2, 3, 4])"
      ]
     },
     "execution_count": 359,
     "metadata": {},
     "output_type": "execute_result"
    }
   ],
   "source": [
    "\n",
    "arr = [1,2,3,4]        #python list\n",
    "numpy_arr = np.array(arr)    #numpy array\n",
    "numpy_arr"
   ]
  },
  {
   "cell_type": "code",
   "execution_count": 361,
   "id": "ab627cea",
   "metadata": {},
   "outputs": [
    {
     "data": {
      "text/plain": [
       "array([[1, 2, 3, 4],\n",
       "       [4, 5, 6, 7]])"
      ]
     },
     "execution_count": 361,
     "metadata": {},
     "output_type": "execute_result"
    }
   ],
   "source": [
    "\n",
    "arr = [[1,2,3,4],[4,5,6,7]]\n",
    "numpy_arr = np.array(arr)\n",
    "numpy_arr"
   ]
  },
  {
   "cell_type": "code",
   "execution_count": 362,
   "id": "5d2464b9",
   "metadata": {},
   "outputs": [
    {
     "data": {
      "text/plain": [
       "array([[[ 1,  2,  3,  4],\n",
       "        [ 4,  5,  6,  7],\n",
       "        [ 7,  8,  9, 10]]])"
      ]
     },
     "execution_count": 362,
     "metadata": {},
     "output_type": "execute_result"
    }
   ],
   "source": [
    "arr = [[[1,2,3,4],[4,5,6,7],[7,8,9,10]]]\n",
    "numpy_arr = np.array(arr)\n",
    "numpy_arr"
   ]
  },
  {
   "cell_type": "code",
   "execution_count": null,
   "id": "86da231c",
   "metadata": {},
   "outputs": [],
   "source": []
  },
  {
   "cell_type": "code",
   "execution_count": null,
   "id": "a73f4cb6",
   "metadata": {},
   "outputs": [],
   "source": []
  },
  {
   "cell_type": "code",
   "execution_count": null,
   "id": "94444413",
   "metadata": {},
   "outputs": [],
   "source": []
  },
  {
   "cell_type": "markdown",
   "id": "dfaca892",
   "metadata": {},
   "source": [
    "#### How do you find the data type of the elements stored in the NumPy arrays?\n",
    "\n",
    "> NumPy supports the following datatypes:\n",
    "\n",
    "    i - integer\n",
    "    S - string\n",
    "    b - boolean\n",
    "    f - float\n",
    "    u - unsigned integer\n",
    "    c - complex float\n",
    "    m - timedelta\n",
    "    M - datetime\n",
    "    O - object\n",
    "    U - unicode string\n",
    "    V - fixed memory chunk for types such as void\n",
    "\n",
    "- We can make use of the dtype property that returns the type of the elements stored in the NumPy array. Let us consider the below code snippet. We create some sample arrays and we see what the data types of these arrays are.\n"
   ]
  },
  {
   "cell_type": "code",
   "execution_count": 364,
   "id": "b48aafe7",
   "metadata": {},
   "outputs": [
    {
     "name": "stdout",
     "output_type": "stream",
     "text": [
      "int32\n",
      "<U12\n",
      "|S1\n"
     ]
    }
   ],
   "source": [
    "import numpy as np\n",
    "\n",
    "arr1 = np.array([1, 2, 3, 4])\n",
    "arr2 = np.array(['I', 'love', 'Interviewbit'])    # Stored as Unicode characters with length of characters ranging from 1 to 12\n",
    "arr3 = np.array([1, 2, 3, 4], dtype='S')        # Creating numpy array of defined type string\n",
    "\n",
    "print(arr1.dtype)\n",
    "print(arr2.dtype)\n",
    "print(arr3.dtype)"
   ]
  },
  {
   "cell_type": "markdown",
   "id": "25dfd215",
   "metadata": {},
   "source": [
    "#### how can you reverse a NumPy array?\n"
   ]
  },
  {
   "cell_type": "code",
   "execution_count": 365,
   "id": "aab71132",
   "metadata": {},
   "outputs": [
    {
     "name": "stdout",
     "output_type": "stream",
     "text": [
      "[6 4 2 1]\n"
     ]
    }
   ],
   "source": [
    "arr = np.array([1, 2, 4, 6])\n",
    "\n",
    "# To reverse array\n",
    "reverse_arr = arr[::-1]\n",
    "print(reverse_arr)"
   ]
  },
  {
   "cell_type": "code",
   "execution_count": 366,
   "id": "7698d9ca",
   "metadata": {},
   "outputs": [
    {
     "data": {
      "text/plain": [
       "array([1, 2, 4, 6])"
      ]
     },
     "execution_count": 366,
     "metadata": {},
     "output_type": "execute_result"
    }
   ],
   "source": [
    "arr"
   ]
  },
  {
   "cell_type": "code",
   "execution_count": 367,
   "id": "01ee1701",
   "metadata": {},
   "outputs": [
    {
     "data": {
      "text/plain": [
       "array([6, 4, 2, 1])"
      ]
     },
     "execution_count": 367,
     "metadata": {},
     "output_type": "execute_result"
    }
   ],
   "source": [
    "np.flipud(arr)"
   ]
  },
  {
   "cell_type": "code",
   "execution_count": null,
   "id": "29c1d412",
   "metadata": {},
   "outputs": [],
   "source": []
  },
  {
   "cell_type": "markdown",
   "id": "6a7af657",
   "metadata": {},
   "source": [
    " #### How is np.mean() different from np.average() in NumPy?\n",
    "\n",
    "- np.mean() method calculates the arithmetic mean and provides additional options for input and results. For example, it has the option to specify what data types have to be taken, where the result has to be placed etc.\n",
    "\n",
    "\n",
    "- np.average() computes the weighted average if the weights parameter is specified. In the case of weighted average, instead of considering that each data point is contributing equally to the final average, it considers that some data points have more weightage than the others (unequal contribution)."
   ]
  },
  {
   "cell_type": "markdown",
   "id": "3d21d6ac",
   "metadata": {},
   "source": [
    "Expected value of a fair dice : "
   ]
  },
  {
   "cell_type": "markdown",
   "id": "25504d9a",
   "metadata": {},
   "source": [
    "E(x) = sum of {x*p(x)}"
   ]
  },
  {
   "cell_type": "code",
   "execution_count": 368,
   "id": "a6f88b70",
   "metadata": {
    "scrolled": true
   },
   "outputs": [
    {
     "data": {
      "text/plain": [
       "3.5000000000000004"
      ]
     },
     "execution_count": 368,
     "metadata": {},
     "output_type": "execute_result"
    }
   ],
   "source": [
    "np.average(a = np.array([1,2,3,4,5,6]),weights = [1/6,1/6,1/6,1/6,1/6,1/6])"
   ]
  },
  {
   "cell_type": "code",
   "execution_count": null,
   "id": "b4e83573",
   "metadata": {},
   "outputs": [],
   "source": [
    "Expected Variance of a fair dice L "
   ]
  },
  {
   "cell_type": "markdown",
   "id": "73a36752",
   "metadata": {},
   "source": [
    "E(x^2) - (E(x))^2"
   ]
  },
  {
   "cell_type": "code",
   "execution_count": 373,
   "id": "3a733389",
   "metadata": {},
   "outputs": [
    {
     "data": {
      "text/plain": [
       "2.9166666666666625"
      ]
     },
     "execution_count": 373,
     "metadata": {},
     "output_type": "execute_result"
    }
   ],
   "source": [
    "np.sum((np.array([1,2,3,4,5,6])**2)*(1/6))-((np.average(a = np.array([1,2,3,4,5,6]),weights = [1/6,1/6,1/6,1/6,1/6,1/6]))**2)"
   ]
  },
  {
   "cell_type": "code",
   "execution_count": null,
   "id": "083905f6",
   "metadata": {},
   "outputs": [],
   "source": []
  },
  {
   "cell_type": "markdown",
   "id": "5661e014",
   "metadata": {},
   "source": [
    "#### How do you count the frequency of a given positive value appearing in the NumPy array?\n",
    "\n",
    "- We can make use of the bincount() function to compute the number of times a given value is there in the array. This function accepts only positive integers and boolean expressions as the arguments."
   ]
  },
  {
   "cell_type": "code",
   "execution_count": 374,
   "id": "c7e544bf",
   "metadata": {},
   "outputs": [
    {
     "data": {
      "text/plain": [
       "array([16, 12, 18, 16, 12, 18, 24, 17, 13, 19, 21, 10, 14, 13, 24, 12, 18,\n",
       "       20, 19, 23, 11, 13, 15, 11, 10, 19, 19, 11, 18, 19, 10, 15, 13, 21,\n",
       "       14, 17, 23, 24, 18, 23, 19, 14, 23, 23, 23, 12, 10, 24, 13, 24])"
      ]
     },
     "execution_count": 374,
     "metadata": {},
     "output_type": "execute_result"
    }
   ],
   "source": [
    "X = np.random.randint(10,25,size=50)\n",
    "X"
   ]
  },
  {
   "cell_type": "code",
   "execution_count": 375,
   "id": "d31ffd52",
   "metadata": {},
   "outputs": [
    {
     "data": {
      "text/plain": [
       "array([0, 0, 0, 0, 0, 0, 0, 0, 0, 0, 4, 3, 4, 5, 3, 2, 2, 2, 5, 6, 1, 2,\n",
       "       0, 6, 5], dtype=int64)"
      ]
     },
     "execution_count": 375,
     "metadata": {},
     "output_type": "execute_result"
    }
   ],
   "source": [
    "np.bincount(X)"
   ]
  },
  {
   "cell_type": "code",
   "execution_count": null,
   "id": "3b8c2fce",
   "metadata": {},
   "outputs": [],
   "source": []
  },
  {
   "cell_type": "markdown",
   "id": "5b22ba58",
   "metadata": {},
   "source": [
    "#### How do we check for an empty array (or zero elements array)?\n",
    "\n",
    "- We can check for the emptiness of a NumPy array by making use of the size attribute.\n",
    "- Let us consider the below example. We have NumPy array arr filled with zeros. If the size element returns zero, that means the array is empty or it only consists of zeros."
   ]
  },
  {
   "cell_type": "code",
   "execution_count": 377,
   "id": "efab9bf8",
   "metadata": {},
   "outputs": [
    {
     "data": {
      "text/plain": [
       "array([], shape=(1, 0), dtype=float64)"
      ]
     },
     "execution_count": 377,
     "metadata": {},
     "output_type": "execute_result"
    }
   ],
   "source": [
    "X = np.zeros((1,0))\n",
    "X"
   ]
  },
  {
   "cell_type": "code",
   "execution_count": 379,
   "id": "307ccf7a",
   "metadata": {},
   "outputs": [
    {
     "name": "stdout",
     "output_type": "stream",
     "text": [
      "0\n"
     ]
    }
   ],
   "source": [
    "print(X.size)"
   ]
  },
  {
   "cell_type": "code",
   "execution_count": null,
   "id": "3fb023c5",
   "metadata": {},
   "outputs": [],
   "source": []
  },
  {
   "cell_type": "markdown",
   "id": "39bb48f7",
   "metadata": {},
   "source": [
    "#### How is arr[:,0] different from arr[:,[0]]"
   ]
  },
  {
   "cell_type": "code",
   "execution_count": 385,
   "id": "813208ac",
   "metadata": {},
   "outputs": [
    {
     "data": {
      "text/plain": [
       "array([[1, 2, 3, 4],\n",
       "       [5, 6, 7, 8]])"
      ]
     },
     "execution_count": 385,
     "metadata": {},
     "output_type": "execute_result"
    }
   ],
   "source": [
    "arr = np.array([[1,2,3,4],[5,6,7,8]])\n",
    "arr"
   ]
  },
  {
   "cell_type": "code",
   "execution_count": 386,
   "id": "318b03f1",
   "metadata": {},
   "outputs": [
    {
     "data": {
      "text/plain": [
       "array([1, 5])"
      ]
     },
     "execution_count": 386,
     "metadata": {},
     "output_type": "execute_result"
    }
   ],
   "source": [
    "arr[:,0]"
   ]
  },
  {
   "cell_type": "code",
   "execution_count": 387,
   "id": "a3d811e4",
   "metadata": {},
   "outputs": [
    {
     "data": {
      "text/plain": [
       "array([[1],\n",
       "       [5]])"
      ]
     },
     "execution_count": 387,
     "metadata": {},
     "output_type": "execute_result"
    }
   ],
   "source": [
    "arr[:,[0]]"
   ]
  },
  {
   "cell_type": "code",
   "execution_count": null,
   "id": "d4b9d210",
   "metadata": {},
   "outputs": [],
   "source": []
  },
  {
   "cell_type": "code",
   "execution_count": null,
   "id": "30746fad",
   "metadata": {},
   "outputs": [],
   "source": []
  },
  {
   "cell_type": "markdown",
   "id": "1f06ff8b",
   "metadata": {},
   "source": [
    "####  How do you multiply 2 NumPy array matrices?\n"
   ]
  },
  {
   "cell_type": "code",
   "execution_count": 392,
   "id": "d611e688",
   "metadata": {},
   "outputs": [
    {
     "name": "stdout",
     "output_type": "stream",
     "text": [
      "A: \n",
      " [[15 16 17]\n",
      " [18 19 20]\n",
      " [21 22 23]]\n",
      "B: \n",
      " [[20 21 22]\n",
      " [23 24 25]\n",
      " [26 27 28]]\n",
      "\n",
      "Result:\n",
      " [[1110 1158 1206]\n",
      " [1317 1374 1431]\n",
      " [1524 1590 1656]]\n"
     ]
    }
   ],
   "source": [
    "A = np.arange(15,24).reshape(3,3)\n",
    "B = np.arange(20,29).reshape(3,3)\n",
    "print(\"A: \\n\",A)\n",
    "print(\"B: \\n\",B)\n",
    "print()\n",
    "result = A.dot(B)\n",
    "print(\"Result:\\n\", result)"
   ]
  },
  {
   "cell_type": "code",
   "execution_count": null,
   "id": "142736f0",
   "metadata": {},
   "outputs": [],
   "source": []
  },
  {
   "cell_type": "markdown",
   "id": "9f8d6d6f",
   "metadata": {},
   "source": [
    "#### How do you concatenate 2 NumPy arrays?"
   ]
  },
  {
   "cell_type": "code",
   "execution_count": 393,
   "id": "3796e4f3",
   "metadata": {},
   "outputs": [],
   "source": [
    "a = np.array([[1, 2], [3, 4]])\n",
    "b = np.array([[5, 6]])"
   ]
  },
  {
   "cell_type": "code",
   "execution_count": 394,
   "id": "0316dbfb",
   "metadata": {},
   "outputs": [
    {
     "data": {
      "text/plain": [
       "array([[1, 2],\n",
       "       [3, 4],\n",
       "       [5, 6]])"
      ]
     },
     "execution_count": 394,
     "metadata": {},
     "output_type": "execute_result"
    }
   ],
   "source": [
    "np.concatenate((a,b))"
   ]
  },
  {
   "cell_type": "code",
   "execution_count": 397,
   "id": "6a6e38f2",
   "metadata": {},
   "outputs": [
    {
     "data": {
      "text/plain": [
       "array([[1, 2],\n",
       "       [3, 4],\n",
       "       [5, 6]])"
      ]
     },
     "execution_count": 397,
     "metadata": {},
     "output_type": "execute_result"
    }
   ],
   "source": [
    "np.concatenate((a,b),axis=0)"
   ]
  },
  {
   "cell_type": "code",
   "execution_count": 399,
   "id": "dfa55384",
   "metadata": {},
   "outputs": [
    {
     "data": {
      "text/plain": [
       "array([[1, 2, 1, 2],\n",
       "       [3, 4, 3, 4]])"
      ]
     },
     "execution_count": 399,
     "metadata": {},
     "output_type": "execute_result"
    }
   ],
   "source": [
    "np.concatenate((a,a),axis =1)"
   ]
  },
  {
   "cell_type": "code",
   "execution_count": 402,
   "id": "c3c1255f",
   "metadata": {},
   "outputs": [
    {
     "data": {
      "text/plain": [
       "array([[1, 2],\n",
       "       [3, 4],\n",
       "       [1, 2],\n",
       "       [3, 4],\n",
       "       [5, 6]])"
      ]
     },
     "execution_count": 402,
     "metadata": {},
     "output_type": "execute_result"
    }
   ],
   "source": [
    "np.concatenate((a,a,b),axis = 0)"
   ]
  },
  {
   "cell_type": "code",
   "execution_count": 404,
   "id": "355155d5",
   "metadata": {},
   "outputs": [],
   "source": [
    "import pandas as pd"
   ]
  },
  {
   "cell_type": "code",
   "execution_count": null,
   "id": "b14481d6",
   "metadata": {},
   "outputs": [],
   "source": []
  },
  {
   "cell_type": "markdown",
   "id": "9d46b88b",
   "metadata": {},
   "source": [
    "#### How do you convert Pandas DataFrame to a NumPy array?\n",
    "\n"
   ]
  },
  {
   "cell_type": "code",
   "execution_count": 405,
   "id": "ca22a889",
   "metadata": {},
   "outputs": [],
   "source": [
    "df = pd.DataFrame(data={'A': [3, 2, 1], 'B': [6,5,4], 'C': [9, 8, 7]}, \n",
    "                  index=['i', 'j', 'k'])"
   ]
  },
  {
   "cell_type": "code",
   "execution_count": 406,
   "id": "cdba7683",
   "metadata": {},
   "outputs": [
    {
     "data": {
      "text/html": [
       "<div>\n",
       "<style scoped>\n",
       "    .dataframe tbody tr th:only-of-type {\n",
       "        vertical-align: middle;\n",
       "    }\n",
       "\n",
       "    .dataframe tbody tr th {\n",
       "        vertical-align: top;\n",
       "    }\n",
       "\n",
       "    .dataframe thead th {\n",
       "        text-align: right;\n",
       "    }\n",
       "</style>\n",
       "<table border=\"1\" class=\"dataframe\">\n",
       "  <thead>\n",
       "    <tr style=\"text-align: right;\">\n",
       "      <th></th>\n",
       "      <th>A</th>\n",
       "      <th>B</th>\n",
       "      <th>C</th>\n",
       "    </tr>\n",
       "  </thead>\n",
       "  <tbody>\n",
       "    <tr>\n",
       "      <th>i</th>\n",
       "      <td>3</td>\n",
       "      <td>6</td>\n",
       "      <td>9</td>\n",
       "    </tr>\n",
       "    <tr>\n",
       "      <th>j</th>\n",
       "      <td>2</td>\n",
       "      <td>5</td>\n",
       "      <td>8</td>\n",
       "    </tr>\n",
       "    <tr>\n",
       "      <th>k</th>\n",
       "      <td>1</td>\n",
       "      <td>4</td>\n",
       "      <td>7</td>\n",
       "    </tr>\n",
       "  </tbody>\n",
       "</table>\n",
       "</div>"
      ],
      "text/plain": [
       "   A  B  C\n",
       "i  3  6  9\n",
       "j  2  5  8\n",
       "k  1  4  7"
      ]
     },
     "execution_count": 406,
     "metadata": {},
     "output_type": "execute_result"
    }
   ],
   "source": [
    "df"
   ]
  },
  {
   "cell_type": "code",
   "execution_count": 407,
   "id": "a243dfe0",
   "metadata": {},
   "outputs": [
    {
     "data": {
      "text/plain": [
       "array([[3, 6, 9],\n",
       "       [2, 5, 8],\n",
       "       [1, 4, 7]], dtype=int64)"
      ]
     },
     "execution_count": 407,
     "metadata": {},
     "output_type": "execute_result"
    }
   ],
   "source": [
    "df.to_numpy()"
   ]
  },
  {
   "cell_type": "code",
   "execution_count": null,
   "id": "d124588e",
   "metadata": {},
   "outputs": [],
   "source": []
  },
  {
   "cell_type": "code",
   "execution_count": null,
   "id": "687bd39d",
   "metadata": {},
   "outputs": [],
   "source": []
  },
  {
   "cell_type": "code",
   "execution_count": null,
   "id": "cb9bdce7",
   "metadata": {},
   "outputs": [],
   "source": []
  },
  {
   "cell_type": "code",
   "execution_count": null,
   "id": "1438dd72",
   "metadata": {},
   "outputs": [],
   "source": []
  },
  {
   "cell_type": "markdown",
   "id": "04b8c070",
   "metadata": {},
   "source": [
    "### What do you understand by Vectorization in NumPy?\n",
    "\n",
    "- Function Vectorization technically means that the function is applied to all elements in the array. Typically, certain python functionalities on arrays (such as loops) are slower in nature because python arrays can contain elements of different data types. Since the C program expects a specific datatype, there are chances of compiler optimisation which makes C code run faster. Since NumPy arrays support storing elements of a single datatype, most of the implementations of the functions written in NumPy meant for arithmetic, logical operations etc have optimised C program code under their hood. Additionally, NumPy also helps developers create their own vectorised functions by following the below steps:\n",
    "\n",
    "- Write your required function that takes array elements as parameters.\n",
    "- Vectorize the function by making use of the vectorize() method of the NumPy package.\n",
    "- Give array inputs to the vectorized function."
   ]
  },
  {
   "cell_type": "code",
   "execution_count": 408,
   "id": "af85dcf9",
   "metadata": {},
   "outputs": [],
   "source": [
    "import math"
   ]
  },
  {
   "cell_type": "code",
   "execution_count": 409,
   "id": "cd682945",
   "metadata": {},
   "outputs": [],
   "source": [
    "arr = np.array([1,2,3,4,5])"
   ]
  },
  {
   "attachments": {
    "image.png": {
     "image/png": "[encoded data removed]"
    }
   },
   "cell_type": "markdown",
   "id": "496a6fd2",
   "metadata": {},
   "source": [
    "    math.log(arr)\n",
    "   ![image.png](attachment:image.png)"
   ]
  },
  {
   "cell_type": "code",
   "execution_count": 411,
   "id": "a3391c64",
   "metadata": {},
   "outputs": [
    {
     "data": {
      "text/plain": [
       "array([1, 2, 3, 4, 5])"
      ]
     },
     "execution_count": 411,
     "metadata": {},
     "output_type": "execute_result"
    }
   ],
   "source": [
    "arr"
   ]
  },
  {
   "cell_type": "code",
   "execution_count": 415,
   "id": "60e4776c",
   "metadata": {},
   "outputs": [],
   "source": [
    "vect_log = np.vectorize(math.log)"
   ]
  },
  {
   "cell_type": "code",
   "execution_count": 416,
   "id": "fd752ee9",
   "metadata": {},
   "outputs": [
    {
     "data": {
      "text/plain": [
       "array([0.        , 0.69314718, 1.09861229, 1.38629436, 1.60943791])"
      ]
     },
     "execution_count": 416,
     "metadata": {},
     "output_type": "execute_result"
    }
   ],
   "source": [
    "vect_log(arr)"
   ]
  },
  {
   "cell_type": "code",
   "execution_count": 417,
   "id": "9e1985b9",
   "metadata": {},
   "outputs": [
    {
     "data": {
      "text/plain": [
       "array([0.        , 0.69314718, 1.09861229, 1.38629436, 1.60943791])"
      ]
     },
     "execution_count": 417,
     "metadata": {},
     "output_type": "execute_result"
    }
   ],
   "source": [
    "np.log(arr)"
   ]
  },
  {
   "cell_type": "code",
   "execution_count": null,
   "id": "5facdb34",
   "metadata": {},
   "outputs": [],
   "source": []
  },
  {
   "cell_type": "code",
   "execution_count": null,
   "id": "9d5d17ae",
   "metadata": {},
   "outputs": [],
   "source": []
  },
  {
   "cell_type": "markdown",
   "id": "92cdcf74",
   "metadata": {},
   "source": [
    "### How is vstack() different from hstack() in NumPy?"
   ]
  },
  {
   "cell_type": "code",
   "execution_count": 418,
   "id": "23f4a1c4",
   "metadata": {},
   "outputs": [],
   "source": [
    "a = np.array([1,2,3])\n",
    "b = np.array([4,5,6])"
   ]
  },
  {
   "cell_type": "code",
   "execution_count": 420,
   "id": "22f6fc4b",
   "metadata": {},
   "outputs": [
    {
     "data": {
      "text/plain": [
       "array([[1, 2, 3],\n",
       "       [4, 5, 6]])"
      ]
     },
     "execution_count": 420,
     "metadata": {},
     "output_type": "execute_result"
    }
   ],
   "source": [
    "np.vstack((a,b))"
   ]
  },
  {
   "cell_type": "code",
   "execution_count": 421,
   "id": "8adcd7de",
   "metadata": {},
   "outputs": [
    {
     "data": {
      "text/plain": [
       "array([1, 2, 3, 4, 5, 6])"
      ]
     },
     "execution_count": 421,
     "metadata": {},
     "output_type": "execute_result"
    }
   ],
   "source": [
    "np.hstack((a,b))"
   ]
  },
  {
   "cell_type": "code",
   "execution_count": null,
   "id": "5720c739",
   "metadata": {},
   "outputs": [],
   "source": []
  },
  {
   "cell_type": "markdown",
   "id": "7b7b1fa0",
   "metadata": {},
   "source": [
    "### How is Vectorization related to Broadcasting in NumPy?\n",
    "\n",
    "- Vectorization involves delegating NumPy operations internally to optimized C language functions to result in faster Python code. Whereas Broadcasting refers to the methods that allow NumPy to perform array-related arithmetic operations. The size or shape of the arrays does not matter in this case. Broadcasting solves the problem of mismatched shaped arrays by replicating the smaller array along the larger array to ensure both arrays are having compatible shapes for NumPy operations. Performing Broadcasting before Vectorization helps to vectorize operations which support arrays of different dimensions."
   ]
  },
  {
   "cell_type": "markdown",
   "id": "c02d3ec3",
   "metadata": {},
   "source": [
    "#### broadcasting:"
   ]
  },
  {
   "cell_type": "code",
   "execution_count": 422,
   "id": "ca6702e0",
   "metadata": {},
   "outputs": [
    {
     "data": {
      "text/plain": [
       "array([10, 20, 30])"
      ]
     },
     "execution_count": 422,
     "metadata": {},
     "output_type": "execute_result"
    }
   ],
   "source": [
    "a = np.array([10,20,30])\n",
    "a"
   ]
  },
  {
   "cell_type": "code",
   "execution_count": 423,
   "id": "439cfac2",
   "metadata": {},
   "outputs": [],
   "source": [
    "b = np.array([[1],\n",
    "              [2],\n",
    "              [3]])"
   ]
  },
  {
   "cell_type": "code",
   "execution_count": 424,
   "id": "de8653dd",
   "metadata": {},
   "outputs": [
    {
     "data": {
      "text/plain": [
       "array([[1],\n",
       "       [2],\n",
       "       [3]])"
      ]
     },
     "execution_count": 424,
     "metadata": {},
     "output_type": "execute_result"
    }
   ],
   "source": [
    "b"
   ]
  },
  {
   "cell_type": "code",
   "execution_count": 425,
   "id": "0be704e1",
   "metadata": {},
   "outputs": [
    {
     "data": {
      "text/plain": [
       "array([[11, 21, 31],\n",
       "       [12, 22, 32],\n",
       "       [13, 23, 33]])"
      ]
     },
     "execution_count": 425,
     "metadata": {},
     "output_type": "execute_result"
    }
   ],
   "source": [
    "a+b"
   ]
  },
  {
   "cell_type": "code",
   "execution_count": 426,
   "id": "afdb8912",
   "metadata": {},
   "outputs": [
    {
     "data": {
      "text/plain": [
       "array([[10, 20, 30],\n",
       "       [20, 40, 60],\n",
       "       [30, 60, 90]])"
      ]
     },
     "execution_count": 426,
     "metadata": {},
     "output_type": "execute_result"
    }
   ],
   "source": [
    "a*b"
   ]
  },
  {
   "cell_type": "code",
   "execution_count": null,
   "id": "30b0a595",
   "metadata": {},
   "outputs": [],
   "source": []
  },
  {
   "cell_type": "code",
   "execution_count": null,
   "id": "cbb761a4",
   "metadata": {},
   "outputs": [],
   "source": []
  },
  {
   "cell_type": "markdown",
   "id": "2819d8a3",
   "metadata": {},
   "source": [
    "### What happens when the split() method is used for splitting NumPy arrays?"
   ]
  },
  {
   "cell_type": "markdown",
   "id": "49653bbb",
   "metadata": {},
   "source": [
    "- np.split() : Equally splits arrays into multiple sub-arrays. It raises Value Error when the split cannot be equal."
   ]
  },
  {
   "cell_type": "code",
   "execution_count": 427,
   "id": "aea681b8",
   "metadata": {},
   "outputs": [
    {
     "data": {
      "text/plain": [
       "array([0, 1, 2, 3, 4, 5, 6, 7])"
      ]
     },
     "execution_count": 427,
     "metadata": {},
     "output_type": "execute_result"
    }
   ],
   "source": [
    "arr= np.arange(8)\n",
    "arr"
   ]
  },
  {
   "cell_type": "code",
   "execution_count": 429,
   "id": "fb5e78e9",
   "metadata": {},
   "outputs": [
    {
     "data": {
      "text/plain": [
       "[array([0, 1, 2, 3]), array([4, 5, 6, 7])]"
      ]
     },
     "execution_count": 429,
     "metadata": {},
     "output_type": "execute_result"
    }
   ],
   "source": [
    "np.split(arr,2)"
   ]
  },
  {
   "cell_type": "code",
   "execution_count": 431,
   "id": "7f01aa18",
   "metadata": {},
   "outputs": [],
   "source": [
    "# np.split(arr,3) # error"
   ]
  },
  {
   "cell_type": "code",
   "execution_count": 432,
   "id": "1f0e5288",
   "metadata": {},
   "outputs": [
    {
     "data": {
      "text/plain": [
       "[array([0]), array([1]), array([2, 3, 4]), array([5, 6, 7])]"
      ]
     },
     "execution_count": 432,
     "metadata": {},
     "output_type": "execute_result"
    }
   ],
   "source": [
    "np.split(arr,[1,2,5])"
   ]
  },
  {
   "cell_type": "code",
   "execution_count": 435,
   "id": "548e93e4",
   "metadata": {},
   "outputs": [
    {
     "data": {
      "text/plain": [
       "array([ 1,  2,  3,  4,  5,  6,  7,  8,  9, 10])"
      ]
     },
     "execution_count": 435,
     "metadata": {},
     "output_type": "execute_result"
    }
   ],
   "source": [
    "np.arange(1,11)"
   ]
  },
  {
   "cell_type": "code",
   "execution_count": 434,
   "id": "e61217ae",
   "metadata": {},
   "outputs": [
    {
     "data": {
      "text/plain": [
       "[array([1, 2]), array([3, 4, 5]), array([ 6,  7,  8,  9, 10])]"
      ]
     },
     "execution_count": 434,
     "metadata": {},
     "output_type": "execute_result"
    }
   ],
   "source": [
    "np.split(np.arange(1,11),[2,5])"
   ]
  },
  {
   "cell_type": "code",
   "execution_count": null,
   "id": "5aecab1c",
   "metadata": {},
   "outputs": [],
   "source": []
  },
  {
   "cell_type": "code",
   "execution_count": 436,
   "id": "0f583939",
   "metadata": {},
   "outputs": [
    {
     "data": {
      "text/plain": [
       "[array([0, 1, 2]), array([3, 4, 5]), array([6, 7, 8]), array([ 9, 10, 11])]"
      ]
     },
     "execution_count": 436,
     "metadata": {},
     "output_type": "execute_result"
    }
   ],
   "source": [
    "np.split(np.arange(12),4)"
   ]
  },
  {
   "cell_type": "code",
   "execution_count": null,
   "id": "c125a8d8",
   "metadata": {},
   "outputs": [],
   "source": []
  },
  {
   "cell_type": "markdown",
   "id": "4c19c1fa",
   "metadata": {},
   "source": [
    "### What happens when we use the arrays_split() method for splitting the NumPy array?"
   ]
  },
  {
   "cell_type": "code",
   "execution_count": 443,
   "id": "a4376ae9",
   "metadata": {},
   "outputs": [
    {
     "data": {
      "text/plain": [
       "[array([1, 2]), array([3, 4]), array([5])]"
      ]
     },
     "execution_count": 443,
     "metadata": {},
     "output_type": "execute_result"
    }
   ],
   "source": [
    "arr = np.arange(1,6)\n",
    "split_arrs = np.array_split(arr, 3)\n",
    "split_arrs"
   ]
  },
  {
   "cell_type": "code",
   "execution_count": 442,
   "id": "69e0c651",
   "metadata": {},
   "outputs": [
    {
     "data": {
      "text/plain": [
       "[array([1, 2, 3, 4, 5]),\n",
       " array([ 6,  7,  8,  9, 10]),\n",
       " array([11, 12, 13, 14, 15])]"
      ]
     },
     "execution_count": 442,
     "metadata": {},
     "output_type": "execute_result"
    }
   ],
   "source": [
    "arr = np.arange(1,16)\n",
    "split_arrs = np.array_split(arr, 3)\n",
    "split_arrs"
   ]
  },
  {
   "cell_type": "code",
   "execution_count": 441,
   "id": "ba062e6d",
   "metadata": {},
   "outputs": [
    {
     "data": {
      "text/plain": [
       "[array([1, 2, 3, 4, 5]), array([6, 7, 8, 9]), array([10, 11, 12, 13])]"
      ]
     },
     "execution_count": 441,
     "metadata": {},
     "output_type": "execute_result"
    }
   ],
   "source": [
    "arr = np.arange(1,14)\n",
    "split_arrs = np.array_split(arr, 3)\n",
    "split_arrs"
   ]
  },
  {
   "cell_type": "code",
   "execution_count": null,
   "id": "af0bbb05",
   "metadata": {},
   "outputs": [],
   "source": []
  },
  {
   "cell_type": "markdown",
   "id": "108413ca",
   "metadata": {},
   "source": [
    "#### How will you implement the moving average for the 1D array in NumPy?"
   ]
  },
  {
   "cell_type": "code",
   "execution_count": 444,
   "id": "d8eab866",
   "metadata": {},
   "outputs": [
    {
     "data": {
      "text/plain": [
       "array([4, 5, 8, 9, 3, 2, 4, 2, 0, 2])"
      ]
     },
     "execution_count": 444,
     "metadata": {},
     "output_type": "execute_result"
    }
   ],
   "source": [
    "arr = np.array([4,5,8,9,3,2,4,2,0,2])\n",
    "arr"
   ]
  },
  {
   "cell_type": "code",
   "execution_count": 453,
   "id": "99214492",
   "metadata": {},
   "outputs": [
    {
     "name": "stdout",
     "output_type": "stream",
     "text": [
      "[4] 4.0\n",
      "[4 5] 4.5\n",
      "[4 5 8] 5.67\n",
      "[4 5 8 9] 6.5\n",
      "[4 5 8 9 3] 5.8\n",
      "[4 5 8 9 3 2] 5.17\n",
      "[4 5 8 9 3 2 4] 5.0\n",
      "[4 5 8 9 3 2 4 2] 4.62\n",
      "[4 5 8 9 3 2 4 2 0] 4.11\n",
      "[4 5 8 9 3 2 4 2 0 2] 3.9\n"
     ]
    }
   ],
   "source": [
    "ans = []\n",
    "\n",
    "for i in range(1,len(arr)+1):\n",
    "    templengh = i\n",
    "    array = arr[:i]\n",
    "    print(array,np.round(np.mean(array),2))\n",
    "    ans.append(np.round(np.mean(array),2))"
   ]
  },
  {
   "cell_type": "code",
   "execution_count": null,
   "id": "f5ed8e44",
   "metadata": {},
   "outputs": [],
   "source": []
  },
  {
   "cell_type": "code",
   "execution_count": 452,
   "id": "8692e64b",
   "metadata": {},
   "outputs": [
    {
     "data": {
      "text/plain": [
       "[4.0, 4.5, 5.67, 6.5, 5.8, 5.17, 5.0, 4.62, 4.11, 3.9]"
      ]
     },
     "execution_count": 452,
     "metadata": {},
     "output_type": "execute_result"
    }
   ],
   "source": [
    "ans"
   ]
  },
  {
   "cell_type": "code",
   "execution_count": null,
   "id": "02eb9b26",
   "metadata": {},
   "outputs": [],
   "source": []
  },
  {
   "cell_type": "markdown",
   "id": "14e482ce",
   "metadata": {},
   "source": [
    "### How is fliplr different from flipud methods in NumPy?"
   ]
  },
  {
   "cell_type": "code",
   "execution_count": 461,
   "id": "e18204c8",
   "metadata": {},
   "outputs": [],
   "source": [
    "arr = np.arange(1,13).reshape(4,3)"
   ]
  },
  {
   "cell_type": "code",
   "execution_count": 462,
   "id": "462538e2",
   "metadata": {},
   "outputs": [
    {
     "data": {
      "text/plain": [
       "array([[ 1,  2,  3],\n",
       "       [ 4,  5,  6],\n",
       "       [ 7,  8,  9],\n",
       "       [10, 11, 12]])"
      ]
     },
     "execution_count": 462,
     "metadata": {},
     "output_type": "execute_result"
    }
   ],
   "source": [
    "arr"
   ]
  },
  {
   "cell_type": "code",
   "execution_count": 463,
   "id": "310bd4eb",
   "metadata": {},
   "outputs": [
    {
     "data": {
      "text/plain": [
       "array([[ 3,  2,  1],\n",
       "       [ 6,  5,  4],\n",
       "       [ 9,  8,  7],\n",
       "       [12, 11, 10]])"
      ]
     },
     "execution_count": 463,
     "metadata": {},
     "output_type": "execute_result"
    }
   ],
   "source": [
    "np.fliplr(arr)"
   ]
  },
  {
   "cell_type": "code",
   "execution_count": null,
   "id": "ccc97a2c",
   "metadata": {},
   "outputs": [],
   "source": []
  },
  {
   "cell_type": "code",
   "execution_count": 470,
   "id": "2c387a8e",
   "metadata": {},
   "outputs": [
    {
     "data": {
      "text/plain": [
       "array([[1, 0, 0, 0, 0],\n",
       "       [0, 2, 0, 0, 0],\n",
       "       [0, 0, 3, 0, 0],\n",
       "       [0, 0, 0, 4, 0],\n",
       "       [0, 0, 0, 0, 5]])"
      ]
     },
     "execution_count": 470,
     "metadata": {},
     "output_type": "execute_result"
    }
   ],
   "source": [
    "A = np.diag(np.arange(1,6))\n",
    "A"
   ]
  },
  {
   "cell_type": "code",
   "execution_count": 472,
   "id": "b762448a",
   "metadata": {},
   "outputs": [
    {
     "data": {
      "text/plain": [
       "array([[0, 0, 0, 0, 1],\n",
       "       [0, 0, 0, 2, 0],\n",
       "       [0, 0, 3, 0, 0],\n",
       "       [0, 4, 0, 0, 0],\n",
       "       [5, 0, 0, 0, 0]])"
      ]
     },
     "execution_count": 472,
     "metadata": {},
     "output_type": "execute_result"
    }
   ],
   "source": [
    "np.fliplr(A)"
   ]
  },
  {
   "cell_type": "code",
   "execution_count": null,
   "id": "58f60e90",
   "metadata": {},
   "outputs": [],
   "source": []
  },
  {
   "cell_type": "code",
   "execution_count": null,
   "id": "61c05596",
   "metadata": {},
   "outputs": [],
   "source": []
  },
  {
   "cell_type": "markdown",
   "id": "3c29b04c",
   "metadata": {},
   "source": [
    "### Gunjan is working on a swap of drones that can perform light shows.\n",
    "### For that, she is maintaining a list of the height of each drone and is updating that for each step.\n",
    "    Height = [h1,h2,h3………hn] # height of each drone\n",
    "    Delta_h = [d1,d2,d3……dn] # change in height of each drone\n",
    "\n",
    "#### For each second she updates the Height array by adding the corresponding change to the height.\n",
    "\n",
    "### For that, she tried out 2 methods as listed below. Help her in arranging them in ascending order of time.\n",
    "\n",
    "\n",
    "    (A) Numpy operator\n",
    "\n",
    "    import numpy as np\n",
    "\n",
    "    def update_height(height,delta):\n",
    "\n",
    "       height = np.array(height)\n",
    "\n",
    "       delta = np.array(delta)\n",
    "\n",
    "       new_height = height+delta \n",
    "\n",
    "       return new_height\n",
    "\n",
    "    (B) Python operation\n",
    "\n",
    "\n",
    "    def update_height(height, delta):\n",
    "\n",
    "        new_height=[]\n",
    "\n",
    "        for i in range(len(height)):\n",
    "\n",
    "            new_height.append(height[i]+delta[i])\n",
    "\n",
    "        return new_height"
   ]
  },
  {
   "cell_type": "code",
   "execution_count": 2,
   "id": "45eebc31",
   "metadata": {},
   "outputs": [],
   "source": [
    "H = list(range(50,50000000))"
   ]
  },
  {
   "cell_type": "code",
   "execution_count": 3,
   "id": "c3593364",
   "metadata": {},
   "outputs": [],
   "source": [
    "dH = [5 for x in range(50,50000000)]"
   ]
  },
  {
   "cell_type": "code",
   "execution_count": null,
   "id": "ed12f5e7",
   "metadata": {},
   "outputs": [],
   "source": []
  },
  {
   "cell_type": "code",
   "execution_count": null,
   "id": "3cc52869",
   "metadata": {},
   "outputs": [],
   "source": []
  },
  {
   "cell_type": "code",
   "execution_count": 4,
   "id": "767f8720",
   "metadata": {},
   "outputs": [],
   "source": [
    "def update_height(height,delta):\n",
    "    height = np.array(height)\n",
    "    delta = np.array(delta)\n",
    "    new_height = height + delta\n",
    "    return new_height"
   ]
  },
  {
   "cell_type": "code",
   "execution_count": 5,
   "id": "3ea71e4c",
   "metadata": {},
   "outputs": [
    {
     "name": "stdout",
     "output_type": "stream",
     "text": [
      "Wall time: 0 ns\n"
     ]
    },
    {
     "data": {
      "text/plain": [
       "array([      55,       56,       57, ..., 50000002, 50000003, 50000004])"
      ]
     },
     "execution_count": 5,
     "metadata": {},
     "output_type": "execute_result"
    }
   ],
   "source": [
    "%time\n",
    "update_height(H,dH)"
   ]
  },
  {
   "cell_type": "code",
   "execution_count": 6,
   "id": "c4b4f055",
   "metadata": {
    "scrolled": true
   },
   "outputs": [],
   "source": [
    "def update_height_py(height, delta):\n",
    "    new_height=[]\n",
    "    for i in range(len(height)):\n",
    "        new_height.append(height[i]+delta[i])\n",
    "        \n",
    "    return new_height\n"
   ]
  },
  {
   "cell_type": "code",
   "execution_count": null,
   "id": "9c2aafe4",
   "metadata": {
    "scrolled": true
   },
   "outputs": [],
   "source": []
  },
  {
   "cell_type": "markdown",
   "id": "44eceff7",
   "metadata": {},
   "source": [
    "### Which option is right about the output of the following code snippet?\n",
    "\n",
    "    x = np.array([-5, 9 , 20 , 25, -3, 5, 16, 10])\n",
    "    x[(x >= -5) & (x <= 15)] *= -1 \n",
    "    Note: Recall the masking with assignment question discussed in class"
   ]
  },
  {
   "cell_type": "code",
   "execution_count": 7,
   "id": "0fb473fe",
   "metadata": {},
   "outputs": [],
   "source": [
    "x = np.array([-5, 9 , 20 , 25, -3, 5, 16, 10])"
   ]
  },
  {
   "cell_type": "code",
   "execution_count": 8,
   "id": "00a5a354",
   "metadata": {},
   "outputs": [],
   "source": [
    "x[(x >= -5) & (x <= 15)] *= -1 "
   ]
  },
  {
   "cell_type": "code",
   "execution_count": 9,
   "id": "c30492d2",
   "metadata": {},
   "outputs": [
    {
     "data": {
      "text/plain": [
       "array([  5,  -9,  20,  25,   3,  -5,  16, -10])"
      ]
     },
     "execution_count": 9,
     "metadata": {},
     "output_type": "execute_result"
    }
   ],
   "source": [
    "x"
   ]
  },
  {
   "cell_type": "code",
   "execution_count": null,
   "id": "0e36b7fa",
   "metadata": {},
   "outputs": [],
   "source": []
  },
  {
   "cell_type": "markdown",
   "id": "96ab33b1",
   "metadata": {},
   "source": [
    "### a. What is the last element of the output?"
   ]
  },
  {
   "cell_type": "code",
   "execution_count": 10,
   "id": "15765de1",
   "metadata": {},
   "outputs": [
    {
     "name": "stdout",
     "output_type": "stream",
     "text": [
      "['Astha' 'Raghavendra' 'Ram']\n"
     ]
    }
   ],
   "source": [
    "print(np.sort(np.array(['Ram','Astha','Raghavendra'])))"
   ]
  },
  {
   "cell_type": "code",
   "execution_count": 11,
   "id": "8816a304",
   "metadata": {},
   "outputs": [
    {
     "data": {
      "text/plain": [
       "array([False, False, False])"
      ]
     },
     "execution_count": 11,
     "metadata": {},
     "output_type": "execute_result"
    }
   ],
   "source": [
    "arr1 = np.array(['Ram','Astha','Brahat'])\n",
    "arr2 = np.array(['Shyam','Kalyan','Naveen'])\n",
    "arr1 > arr2"
   ]
  },
  {
   "cell_type": "code",
   "execution_count": null,
   "id": "d779d3a6",
   "metadata": {},
   "outputs": [],
   "source": []
  },
  {
   "cell_type": "markdown",
   "id": "140f68ea",
   "metadata": {},
   "source": [
    "### You are given NumPy arrays A, B, and C, where:\n",
    "\n",
    "    A.shape = (m,)\n",
    "\n",
    "    B.shape = (n, 1)\n",
    "\n",
    "    C.shape = (n, m)\n",
    "\n",
    "#### Which of the following operations can be performed on A, B, and C?\n",
    "##### Note: np is the alias for NumPy in the options."
   ]
  },
  {
   "cell_type": "code",
   "execution_count": 13,
   "id": "3ef69334",
   "metadata": {},
   "outputs": [
    {
     "data": {
      "text/plain": [
       "(3,)"
      ]
     },
     "execution_count": 13,
     "metadata": {},
     "output_type": "execute_result"
    }
   ],
   "source": [
    "A = np.array([1,2,3])\n",
    "A.shape"
   ]
  },
  {
   "cell_type": "code",
   "execution_count": 17,
   "id": "52ea3aa1",
   "metadata": {},
   "outputs": [
    {
     "data": {
      "text/plain": [
       "(4, 1)"
      ]
     },
     "execution_count": 17,
     "metadata": {},
     "output_type": "execute_result"
    }
   ],
   "source": [
    "B = np.array([[1],[2],[3],[4]])\n",
    "B.shape"
   ]
  },
  {
   "cell_type": "code",
   "execution_count": 19,
   "id": "5a420c96",
   "metadata": {},
   "outputs": [
    {
     "data": {
      "text/plain": [
       "(4, 3)"
      ]
     },
     "execution_count": 19,
     "metadata": {},
     "output_type": "execute_result"
    }
   ],
   "source": [
    "C = np.array([[1,2,4],\n",
    "             [7,8,9],\n",
    "             [9,5,1],\n",
    "              [7,5,3]])\n",
    "C.shape"
   ]
  },
  {
   "cell_type": "code",
   "execution_count": 20,
   "id": "f7a701c3",
   "metadata": {},
   "outputs": [
    {
     "data": {
      "text/plain": [
       "array([[1],\n",
       "       [2],\n",
       "       [3],\n",
       "       [4]])"
      ]
     },
     "execution_count": 20,
     "metadata": {},
     "output_type": "execute_result"
    }
   ],
   "source": [
    "B"
   ]
  },
  {
   "cell_type": "code",
   "execution_count": 21,
   "id": "cfe03049",
   "metadata": {},
   "outputs": [
    {
     "data": {
      "text/plain": [
       "array([1, 2, 3])"
      ]
     },
     "execution_count": 21,
     "metadata": {},
     "output_type": "execute_result"
    }
   ],
   "source": [
    "A"
   ]
  },
  {
   "cell_type": "code",
   "execution_count": 22,
   "id": "b1393e92",
   "metadata": {},
   "outputs": [
    {
     "data": {
      "text/plain": [
       "array([[1, 2, 4],\n",
       "       [7, 8, 9],\n",
       "       [9, 5, 1],\n",
       "       [7, 5, 3]])"
      ]
     },
     "execution_count": 22,
     "metadata": {},
     "output_type": "execute_result"
    }
   ],
   "source": [
    "C"
   ]
  },
  {
   "cell_type": "code",
   "execution_count": 28,
   "id": "26e68fbf",
   "metadata": {},
   "outputs": [
    {
     "data": {
      "text/plain": [
       "array([[1, 7, 9, 7],\n",
       "       [2, 8, 5, 5],\n",
       "       [4, 9, 1, 3]])"
      ]
     },
     "execution_count": 28,
     "metadata": {},
     "output_type": "execute_result"
    }
   ],
   "source": [
    "C.T"
   ]
  },
  {
   "cell_type": "code",
   "execution_count": 29,
   "id": "f2fd9282",
   "metadata": {},
   "outputs": [
    {
     "data": {
      "text/plain": [
       "array([[1],\n",
       "       [2],\n",
       "       [3]])"
      ]
     },
     "execution_count": 29,
     "metadata": {},
     "output_type": "execute_result"
    }
   ],
   "source": [
    "A.reshape(3,1)"
   ]
  },
  {
   "cell_type": "code",
   "execution_count": 31,
   "id": "57201250",
   "metadata": {},
   "outputs": [
    {
     "data": {
      "text/plain": [
       "array([[1, 7, 9, 7, 1],\n",
       "       [2, 8, 5, 5, 2],\n",
       "       [4, 9, 1, 3, 3]])"
      ]
     },
     "execution_count": 31,
     "metadata": {},
     "output_type": "execute_result"
    }
   ],
   "source": [
    "np.concatenate((C.T,A.reshape(3,1)),axis = 1)"
   ]
  },
  {
   "cell_type": "code",
   "execution_count": null,
   "id": "e8410802",
   "metadata": {},
   "outputs": [],
   "source": []
  },
  {
   "cell_type": "markdown",
   "id": "6d6f3d65",
   "metadata": {},
   "source": [
    "#### Given the 2-D array X,\n",
    "\n",
    "\n",
    "    X = np.arange(12).reshape(3,4)\n",
    "    So, X is\n",
    "\n",
    "    [[ 0 1 2 3] \n",
    "     [ 4 5 6 7]\n",
    "     [ 8 9 10 11]]\n",
    "    Which of the following is/are true statements."
   ]
  },
  {
   "cell_type": "code",
   "execution_count": 33,
   "id": "25c7d69f",
   "metadata": {},
   "outputs": [
    {
     "data": {
      "text/plain": [
       "array([[ 0,  1,  2,  3],\n",
       "       [ 4,  5,  6,  7],\n",
       "       [ 8,  9, 10, 11]])"
      ]
     },
     "execution_count": 33,
     "metadata": {},
     "output_type": "execute_result"
    }
   ],
   "source": [
    "\n",
    "X = np.arange(12).reshape(3,4)\n",
    "X"
   ]
  },
  {
   "cell_type": "code",
   "execution_count": 34,
   "id": "c81f0b90",
   "metadata": {},
   "outputs": [
    {
     "data": {
      "text/plain": [
       "array([ 3,  7, 11])"
      ]
     },
     "execution_count": 34,
     "metadata": {},
     "output_type": "execute_result"
    }
   ],
   "source": [
    "X.max(axis=1)"
   ]
  },
  {
   "cell_type": "code",
   "execution_count": 37,
   "id": "bf6fcef4",
   "metadata": {},
   "outputs": [
    {
     "data": {
      "text/plain": [
       "array([ 3,  7, 11])"
      ]
     },
     "execution_count": 37,
     "metadata": {},
     "output_type": "execute_result"
    }
   ],
   "source": [
    "X.T.max(axis=0)"
   ]
  },
  {
   "cell_type": "code",
   "execution_count": 38,
   "id": "e1789871",
   "metadata": {},
   "outputs": [
    {
     "data": {
      "text/plain": [
       "[0, 4, 8]"
      ]
     },
     "execution_count": 38,
     "metadata": {},
     "output_type": "execute_result"
    }
   ],
   "source": [
    "[i.min() for i in X]"
   ]
  },
  {
   "cell_type": "code",
   "execution_count": null,
   "id": "3eef31b1",
   "metadata": {},
   "outputs": [],
   "source": []
  },
  {
   "cell_type": "markdown",
   "id": "909cb09e",
   "metadata": {},
   "source": [
    "### For the arrays a and b:\n",
    "\n",
    "    import numpy as np\n",
    "    a = np.zeros(27).reshape(3, 3, 3)\n",
    "    b = np.arange(9).reshape(3, 3) \n",
    "    Which option will give the same output as a+b?\n",
    "\n",
    "    Note: np.newaxis is used to create a new axis in the mentioned dimension."
   ]
  },
  {
   "cell_type": "code",
   "execution_count": 40,
   "id": "0b06feb7",
   "metadata": {},
   "outputs": [],
   "source": [
    "a = np.zeros(27).reshape(3, 3, 3)\n",
    "b = np.arange(9).reshape(3, 3) "
   ]
  },
  {
   "cell_type": "code",
   "execution_count": 43,
   "id": "e6c1f948",
   "metadata": {},
   "outputs": [
    {
     "data": {
      "text/plain": [
       "array([[[0., 0., 0.],\n",
       "        [0., 0., 0.],\n",
       "        [0., 0., 0.]],\n",
       "\n",
       "       [[0., 0., 0.],\n",
       "        [0., 0., 0.],\n",
       "        [0., 0., 0.]],\n",
       "\n",
       "       [[0., 0., 0.],\n",
       "        [0., 0., 0.],\n",
       "        [0., 0., 0.]]])"
      ]
     },
     "execution_count": 43,
     "metadata": {},
     "output_type": "execute_result"
    }
   ],
   "source": [
    "a"
   ]
  },
  {
   "cell_type": "code",
   "execution_count": 44,
   "id": "dc2a7392",
   "metadata": {},
   "outputs": [
    {
     "data": {
      "text/plain": [
       "array([[0, 1, 2],\n",
       "       [3, 4, 5],\n",
       "       [6, 7, 8]])"
      ]
     },
     "execution_count": 44,
     "metadata": {},
     "output_type": "execute_result"
    }
   ],
   "source": [
    "b"
   ]
  },
  {
   "cell_type": "code",
   "execution_count": 46,
   "id": "53ba1cc4",
   "metadata": {},
   "outputs": [
    {
     "data": {
      "text/plain": [
       "array([[[0., 1., 2.],\n",
       "        [3., 4., 5.],\n",
       "        [6., 7., 8.]],\n",
       "\n",
       "       [[0., 1., 2.],\n",
       "        [3., 4., 5.],\n",
       "        [6., 7., 8.]],\n",
       "\n",
       "       [[0., 1., 2.],\n",
       "        [3., 4., 5.],\n",
       "        [6., 7., 8.]]])"
      ]
     },
     "execution_count": 46,
     "metadata": {},
     "output_type": "execute_result"
    }
   ],
   "source": [
    "b[np.newaxis,:,:]+a"
   ]
  },
  {
   "cell_type": "markdown",
   "id": "d9a71e51",
   "metadata": {},
   "source": [
    "### Given the NumPy array arr, which of the following line of code will return the expected output?\n",
    "\n",
    "    import numpy as np\n",
    "    arr= np.array([[2,3,4,5],[1,7,3,5],[2,8,6,9],[11,23,12,19]])\n",
    "\n",
    "    a.\n",
    "\n",
    "    arr1 = np.array([[2,2,2,2]])\n",
    "    def func(x, y):\n",
    "        return x * y\n",
    "    vec = np.vectorize(func)\n",
    "    vec(arr,arr1)\n",
    "\n",
    "    b.\n",
    "\n",
    "    arr1 = np.array([[2],[2],[2],[2]])\n",
    "    def func(x, y):\n",
    "        return x * y\n",
    "    vec = np.vectorize(func)\n",
    "    vec(arr, arr1)\n",
    "\n",
    "\n",
    "    c.\n",
    "\n",
    "    arr1 = 2\n",
    "    def func(x, y):\n",
    "        return x * y\n",
    "    vec = np.vectorize(func)\n",
    "    vec(arr, arr1)\n",
    "\n",
    "    Expected output:\n",
    "\n",
    "    array ([[4,6,8,10],\n",
    "            [2,14,6,10],\n",
    "            [4,16,12,18],\n",
    "            [22,46,24,38]])"
   ]
  },
  {
   "cell_type": "code",
   "execution_count": 48,
   "id": "be409bbe",
   "metadata": {},
   "outputs": [],
   "source": [
    "arr= np.array([[2,3,4,5],[1,7,3,5],[2,8,6,9],[11,23,12,19]])"
   ]
  },
  {
   "cell_type": "code",
   "execution_count": 49,
   "id": "6fdd9034",
   "metadata": {},
   "outputs": [
    {
     "data": {
      "text/plain": [
       "array([[ 4,  6,  8, 10],\n",
       "       [ 2, 14,  6, 10],\n",
       "       [ 4, 16, 12, 18],\n",
       "       [22, 46, 24, 38]])"
      ]
     },
     "execution_count": 49,
     "metadata": {},
     "output_type": "execute_result"
    }
   ],
   "source": [
    "arr1 = np.array([[2,2,2,2]])\n",
    "def func(x, y):\n",
    "    return x * y\n",
    "vec = np.vectorize(func)\n",
    "vec(arr,arr1)"
   ]
  },
  {
   "cell_type": "code",
   "execution_count": 50,
   "id": "3623d4ab",
   "metadata": {},
   "outputs": [
    {
     "data": {
      "text/plain": [
       "array([[ 4,  6,  8, 10],\n",
       "       [ 2, 14,  6, 10],\n",
       "       [ 4, 16, 12, 18],\n",
       "       [22, 46, 24, 38]])"
      ]
     },
     "execution_count": 50,
     "metadata": {},
     "output_type": "execute_result"
    }
   ],
   "source": [
    "arr1 = np.array([[2],[2],[2],[2]])\n",
    "def func(x, y):\n",
    "    return x * y\n",
    "vec = np.vectorize(func)\n",
    "vec(arr, arr1)"
   ]
  },
  {
   "cell_type": "code",
   "execution_count": 51,
   "id": "a7a6d811",
   "metadata": {},
   "outputs": [
    {
     "data": {
      "text/plain": [
       "array([[ 4,  6,  8, 10],\n",
       "       [ 2, 14,  6, 10],\n",
       "       [ 4, 16, 12, 18],\n",
       "       [22, 46, 24, 38]])"
      ]
     },
     "execution_count": 51,
     "metadata": {},
     "output_type": "execute_result"
    }
   ],
   "source": [
    "arr1 = 2\n",
    "def func(x, y):\n",
    "    return x * y\n",
    "vec = np.vectorize(func)\n",
    "vec(arr, arr1)"
   ]
  },
  {
   "cell_type": "code",
   "execution_count": null,
   "id": "1d5bc9d5",
   "metadata": {},
   "outputs": [],
   "source": []
  },
  {
   "cell_type": "markdown",
   "id": "f2fb0d8f",
   "metadata": {},
   "source": [
    "### Which of the following option(s) can add 1 to each element of array A?\n",
    "\n",
    "    A = np.array([2, 0, 1, 9, 1, 1, 1, 0, 3, 5])"
   ]
  },
  {
   "cell_type": "code",
   "execution_count": 52,
   "id": "1fc6f07a",
   "metadata": {},
   "outputs": [],
   "source": [
    "A = np.array([2, 0, 1, 9, 1, 1, 1, 0, 3, 5])"
   ]
  },
  {
   "cell_type": "code",
   "execution_count": 53,
   "id": "ae1fde71",
   "metadata": {},
   "outputs": [
    {
     "data": {
      "text/plain": [
       "array([ 3,  1,  2, 10,  2,  2,  2,  1,  4,  6])"
      ]
     },
     "execution_count": 53,
     "metadata": {},
     "output_type": "execute_result"
    }
   ],
   "source": [
    "A+1"
   ]
  },
  {
   "cell_type": "code",
   "execution_count": 54,
   "id": "2e1b4aa2",
   "metadata": {},
   "outputs": [
    {
     "data": {
      "text/plain": [
       "[3, 1, 2, 10, 2, 2, 2, 1, 4, 6]"
      ]
     },
     "execution_count": 54,
     "metadata": {},
     "output_type": "execute_result"
    }
   ],
   "source": [
    "[x+1 for x in A]"
   ]
  },
  {
   "cell_type": "code",
   "execution_count": 56,
   "id": "0d273790",
   "metadata": {},
   "outputs": [
    {
     "data": {
      "text/plain": [
       "[3, 1, 2, 10, 2, 2, 2, 1, 4, 6]"
      ]
     },
     "execution_count": 56,
     "metadata": {},
     "output_type": "execute_result"
    }
   ],
   "source": [
    "list(map(lambda x:x+1,A))"
   ]
  },
  {
   "cell_type": "code",
   "execution_count": null,
   "id": "5c242684",
   "metadata": {},
   "outputs": [],
   "source": []
  },
  {
   "cell_type": "markdown",
   "id": "7c16be0e",
   "metadata": {},
   "source": [
    "### What will be the outcome of the following code snippet ?\n",
    "\n",
    "    x = np.ones((5,5))\n",
    "    x[1:-1,1:-1] = 0"
   ]
  },
  {
   "cell_type": "code",
   "execution_count": 58,
   "id": "06b4be70",
   "metadata": {},
   "outputs": [],
   "source": [
    "x = np.ones((5,5))\n"
   ]
  },
  {
   "cell_type": "code",
   "execution_count": 61,
   "id": "928ccafb",
   "metadata": {},
   "outputs": [
    {
     "data": {
      "text/plain": [
       "array([[1., 1., 1., 1., 1.],\n",
       "       [1., 1., 1., 1., 1.],\n",
       "       [1., 1., 1., 1., 1.],\n",
       "       [1., 1., 1., 1., 1.],\n",
       "       [1., 1., 1., 1., 1.]])"
      ]
     },
     "execution_count": 61,
     "metadata": {},
     "output_type": "execute_result"
    }
   ],
   "source": [
    "x"
   ]
  },
  {
   "cell_type": "code",
   "execution_count": 62,
   "id": "faf3c404",
   "metadata": {},
   "outputs": [],
   "source": [
    "x[1:-1,1:-1] = 0"
   ]
  },
  {
   "cell_type": "code",
   "execution_count": 63,
   "id": "553ab836",
   "metadata": {},
   "outputs": [
    {
     "data": {
      "text/plain": [
       "array([[1., 1., 1., 1., 1.],\n",
       "       [1., 0., 0., 0., 1.],\n",
       "       [1., 0., 0., 0., 1.],\n",
       "       [1., 0., 0., 0., 1.],\n",
       "       [1., 1., 1., 1., 1.]])"
      ]
     },
     "execution_count": 63,
     "metadata": {},
     "output_type": "execute_result"
    }
   ],
   "source": [
    "x"
   ]
  },
  {
   "cell_type": "code",
   "execution_count": null,
   "id": "aa12ac4f",
   "metadata": {},
   "outputs": [],
   "source": []
  },
  {
   "cell_type": "markdown",
   "id": "30650a0d",
   "metadata": {},
   "source": [
    "### Given a Numpy array of integers as an input to the function binary(), complete the given function to convert each element in the array into its binary representation.\n",
    "\n",
    "    For example: In binary, 5 => 101, 7 => 111, 10 => 1010.\n",
    "\n",
    "    Note: You are not allowed to use the inbuilt bin() function and both input and output array have elements of datatype 'int'.\n",
    "\n",
    "    Input Format:\n",
    "\n",
    "    A list is taken as input which is then typecasted to a NumPy array.\n",
    "    Output Format:\n",
    "\n",
    "    A NumPy array is printed.\n",
    "    Sample Input:\n",
    "\n",
    "    [[2,3,4], [5,6,7]]\n",
    "    Sample Output:\n",
    "\n",
    "    [[ 10  11 100]\n",
    "     [101 110 111]]  "
   ]
  },
  {
   "cell_type": "code",
   "execution_count": 64,
   "id": "f5c3a972",
   "metadata": {},
   "outputs": [],
   "source": [
    "def binary(arr):\n",
    "    def con_bin(n):\n",
    "        s = \"\"\n",
    "        while n>0:\n",
    "            s = s+str(n%2)\n",
    "            n = n//2\n",
    "        return int(s[::-1])\n",
    "    return np.vectorize(con_bin)(arr)"
   ]
  },
  {
   "cell_type": "code",
   "execution_count": 65,
   "id": "88f3607d",
   "metadata": {},
   "outputs": [
    {
     "data": {
      "text/plain": [
       "array([[ 10,  11, 100],\n",
       "       [101, 110, 111]])"
      ]
     },
     "execution_count": 65,
     "metadata": {},
     "output_type": "execute_result"
    }
   ],
   "source": [
    "binary([[2,3,4],\n",
    "        [5,6,7]])"
   ]
  },
  {
   "cell_type": "code",
   "execution_count": null,
   "id": "169b64d9",
   "metadata": {},
   "outputs": [],
   "source": []
  },
  {
   "cell_type": "markdown",
   "id": "a86cfb75",
   "metadata": {},
   "source": [
    "### You are a Teaching Assistant of the DSML course. You have access to every student’s marks in every quiz. The marks are stored in a matrix where matrix[i][j] represents the marks of the ith student in the jth quiz.\n",
    "\n",
    "    The course instructor wants you to sort the marks of students according to jth quiz in increasing order so that he can evaluate the performance of students in that particular quiz.\n",
    "\n",
    "    Here, you have to create a python program using which the instructor can sort the data on the basis of a given column(quiz). The program will return the matrix with the marks sorted in jth quiz.\n",
    "\n",
    "    The dimension of the input matrix is mxn, the output is expected to be a 2d numpy matrix of dimension mxn, but in the output the jth column must be arranged in the ascending order.\n",
    "\n",
    "    Note: The input will be 2D list not array. First convert it to array.\n",
    "\n",
    "    Input Format:\n",
    "\n",
    "    Number of test cases\n",
    "    For each test case, number of rows for matrix and the column to be sorted in a new line.\n",
    "    For each row in matrix, space separated integers are taken as input in a new line.\n",
    "    Output Format:\n",
    "\n",
    "    The 2D matrix, or each row in matrix space separated integers\n",
    "    Sample Input:\n",
    "\n",
    "    1\n",
    "    3 2 \n",
    "    5 3 9\n",
    "    2 1 4\n",
    "    7 6 8\n",
    "    Sample Output:\n",
    "\n",
    "    [[2 1 4]\n",
    "     [5 3 9]\n",
    "     [7 6 8]]"
   ]
  },
  {
   "cell_type": "code",
   "execution_count": 68,
   "id": "1fd50489",
   "metadata": {},
   "outputs": [],
   "source": [
    "A = np.array([[5, 3, 9],\n",
    "            [2 ,1, 4],\n",
    "            [7 ,6 ,8]])"
   ]
  },
  {
   "cell_type": "code",
   "execution_count": 69,
   "id": "afa8f6dc",
   "metadata": {},
   "outputs": [
    {
     "data": {
      "text/plain": [
       "array([[5, 3, 9],\n",
       "       [2, 1, 4],\n",
       "       [7, 6, 8]])"
      ]
     },
     "execution_count": 69,
     "metadata": {},
     "output_type": "execute_result"
    }
   ],
   "source": [
    "A"
   ]
  },
  {
   "cell_type": "code",
   "execution_count": 73,
   "id": "909bc7d8",
   "metadata": {},
   "outputs": [],
   "source": [
    "j = 2"
   ]
  },
  {
   "cell_type": "code",
   "execution_count": 74,
   "id": "43fbe07b",
   "metadata": {},
   "outputs": [
    {
     "data": {
      "text/plain": [
       "array([3, 1, 6])"
      ]
     },
     "execution_count": 74,
     "metadata": {},
     "output_type": "execute_result"
    }
   ],
   "source": [
    "A[:,1]"
   ]
  },
  {
   "cell_type": "code",
   "execution_count": 75,
   "id": "9b67efef",
   "metadata": {},
   "outputs": [
    {
     "data": {
      "text/plain": [
       "array([3, 1, 6])"
      ]
     },
     "execution_count": 75,
     "metadata": {},
     "output_type": "execute_result"
    }
   ],
   "source": [
    "A[:,j-1]"
   ]
  },
  {
   "cell_type": "code",
   "execution_count": 76,
   "id": "57c66c94",
   "metadata": {},
   "outputs": [
    {
     "data": {
      "text/plain": [
       "array([1, 0, 2], dtype=int64)"
      ]
     },
     "execution_count": 76,
     "metadata": {},
     "output_type": "execute_result"
    }
   ],
   "source": [
    "A[:,j-1].argsort()"
   ]
  },
  {
   "cell_type": "code",
   "execution_count": 77,
   "id": "e950af63",
   "metadata": {},
   "outputs": [
    {
     "data": {
      "text/plain": [
       "array([[2, 1, 4],\n",
       "       [5, 3, 9],\n",
       "       [7, 6, 8]])"
      ]
     },
     "execution_count": 77,
     "metadata": {},
     "output_type": "execute_result"
    }
   ],
   "source": [
    "A[A[:,j-1].argsort()]"
   ]
  },
  {
   "cell_type": "code",
   "execution_count": null,
   "id": "45d2b3f7",
   "metadata": {},
   "outputs": [],
   "source": []
  },
  {
   "cell_type": "code",
   "execution_count": null,
   "id": "77237f75",
   "metadata": {},
   "outputs": [],
   "source": []
  },
  {
   "cell_type": "code",
   "execution_count": null,
   "id": "4f2a4ba8",
   "metadata": {},
   "outputs": [],
   "source": []
  },
  {
   "cell_type": "code",
   "execution_count": null,
   "id": "ecd8a918",
   "metadata": {},
   "outputs": [],
   "source": []
  },
  {
   "cell_type": "markdown",
   "id": "b813c317",
   "metadata": {},
   "source": [
    "### You are a developer for Scalar, and are tasked to write a program that can find the number of times a student has accessed a particular question.\n",
    "\n",
    "    For this, you proposed that every time a student opens a question, the question’s id will be appended to the row representing the student’s id in a matrix. For example, if student i opens question j, j will be appended to ith row of the matrix.\n",
    "    For the prototype, we have limited the number of questions to 10 for consideration. So id of questions <=10. Return the matrix with the same number of rows(m) as that of the input matrix, but this time matrix[i][j] should represent the number of times student i accessed question j. The output matrix is a 2d-numpy matrix of dimension (m*10).\n",
    "\n",
    "    Input Format:\n",
    "\n",
    "    number of test cases\n",
    "    for each test case (number of rows for matrix, number of columns for the matrix)\n",
    "    for each row in matrix space separated integers\n",
    "    Output Format:\n",
    "\n",
    "    Return the 2d numpy array.\n",
    "    Sample input:\n",
    "\n",
    "    1\n",
    "    5\n",
    "    1 1 2 5 7 6 7 7 6 3 \n",
    "    8 5 4 7 5 2 6 10 1 7 \n",
    "    4 3 10 4 4 4 3 1 4 3 \n",
    "    1 4 1 1 8 4 9 8 5 5 \n",
    "    1 1 4 4 2 10 5 6 8 1 \n",
    "\n",
    "    Sample output:\n",
    "\n",
    "    [[2 1 1 0 1 2 3 0 0 0]\n",
    "     [1 1 0 1 2 1 2 1 0 1]\n",
    "     [1 0 3 5 0 0 0 0 0 1]\n",
    "     [3 0 0 2 2 0 0 2 1 0]\n",
    "     [3 1 0 2 1 1 0 1 0 1]]"
   ]
  },
  {
   "cell_type": "code",
   "execution_count": 79,
   "id": "12221412",
   "metadata": {},
   "outputs": [],
   "source": [
    "arr = np.array([[1, 1, 2, 5, 7, 6, 7, 7, 6, 3], \n",
    "[8, 5, 4 ,7 ,5 ,2 ,6 ,10, 1, 7], \n",
    "[4, 3, 10, 4, 4, 4, 3, 1, 4, 3], \n",
    "[1, 4, 1, 1, 8, 4, 9, 8, 5, 5], \n",
    "[1, 1, 4, 4, 2, 10, 5, 6, 8, 1]])"
   ]
  },
  {
   "cell_type": "code",
   "execution_count": 80,
   "id": "65de2da0",
   "metadata": {},
   "outputs": [
    {
     "data": {
      "text/plain": [
       "array([[ 1,  1,  2,  5,  7,  6,  7,  7,  6,  3],\n",
       "       [ 8,  5,  4,  7,  5,  2,  6, 10,  1,  7],\n",
       "       [ 4,  3, 10,  4,  4,  4,  3,  1,  4,  3],\n",
       "       [ 1,  4,  1,  1,  8,  4,  9,  8,  5,  5],\n",
       "       [ 1,  1,  4,  4,  2, 10,  5,  6,  8,  1]])"
      ]
     },
     "execution_count": 80,
     "metadata": {},
     "output_type": "execute_result"
    }
   ],
   "source": [
    "arr"
   ]
  },
  {
   "cell_type": "code",
   "execution_count": 85,
   "id": "ee5b8a98",
   "metadata": {},
   "outputs": [],
   "source": [
    "r = arr[0]"
   ]
  },
  {
   "cell_type": "code",
   "execution_count": 92,
   "id": "476e6b7a",
   "metadata": {},
   "outputs": [
    {
     "data": {
      "text/plain": [
       "(array([1, 2, 3, 5, 6, 7]), array([2, 1, 1, 1, 2, 3], dtype=int64))"
      ]
     },
     "execution_count": 92,
     "metadata": {},
     "output_type": "execute_result"
    }
   ],
   "source": [
    "unique,freq = np.unique(r,return_counts = True)\n",
    "unique,freq"
   ]
  },
  {
   "cell_type": "code",
   "execution_count": 91,
   "id": "8c787903",
   "metadata": {},
   "outputs": [
    {
     "data": {
      "text/plain": [
       "array([0, 0, 0, 0, 0, 0, 0, 0, 0, 0])"
      ]
     },
     "execution_count": 91,
     "metadata": {},
     "output_type": "execute_result"
    }
   ],
   "source": [
    "zeros = np.zeros(len(r),dtype=\"int\")\n",
    "zeros"
   ]
  },
  {
   "cell_type": "code",
   "execution_count": 95,
   "id": "0d9f91bf",
   "metadata": {},
   "outputs": [],
   "source": [
    "zeros[unique-1] = freq"
   ]
  },
  {
   "cell_type": "code",
   "execution_count": 96,
   "id": "75378ffb",
   "metadata": {},
   "outputs": [
    {
     "data": {
      "text/plain": [
       "array([2, 1, 1, 0, 1, 2, 3, 0, 0, 0])"
      ]
     },
     "execution_count": 96,
     "metadata": {},
     "output_type": "execute_result"
    }
   ],
   "source": [
    "zeros"
   ]
  },
  {
   "cell_type": "code",
   "execution_count": 97,
   "id": "9a3db3ff",
   "metadata": {},
   "outputs": [],
   "source": [
    "def countfreq(arr2d):\n",
    "    \n",
    "    def asdasd(row):\n",
    "        row  = np.array(row)\n",
    "        uniq, freq = np.unique(row,return_counts=True)\n",
    "        zeros = np.zeros(len(row),dtype=\"int\")\n",
    "        zeros[uniq-1] = freq\n",
    "        return zeros\n",
    "    \n",
    "    ans = []\n",
    "\n",
    "    for i in arr2d:\n",
    "        ans.append(asdasd(i))\n",
    "    return np.array(ans)"
   ]
  },
  {
   "cell_type": "code",
   "execution_count": 98,
   "id": "80e4c0f6",
   "metadata": {},
   "outputs": [
    {
     "data": {
      "text/plain": [
       "array([[2, 1, 1, 0, 1, 2, 3, 0, 0, 0],\n",
       "       [1, 1, 0, 1, 2, 1, 2, 1, 0, 1],\n",
       "       [1, 0, 3, 5, 0, 0, 0, 0, 0, 1],\n",
       "       [3, 0, 0, 2, 2, 0, 0, 2, 1, 0],\n",
       "       [3, 1, 0, 2, 1, 1, 0, 1, 0, 1]])"
      ]
     },
     "execution_count": 98,
     "metadata": {},
     "output_type": "execute_result"
    }
   ],
   "source": [
    "countfreq(arr)"
   ]
  },
  {
   "cell_type": "code",
   "execution_count": null,
   "id": "5a158369",
   "metadata": {},
   "outputs": [],
   "source": []
  },
  {
   "cell_type": "code",
   "execution_count": null,
   "id": "4febb127",
   "metadata": {},
   "outputs": [],
   "source": []
  },
  {
   "cell_type": "markdown",
   "id": "686eff11",
   "metadata": {},
   "source": [
    "### Mark the options which are true about the outputs for code snippets a and b.\n",
    "\n",
    "    Code Snippet a:\n",
    "\n",
    "    import numpy as np\n",
    "    x = np.array([[200,200,200],[300,300,300],[400,400,400]])\n",
    "    v = np.array([200,300,400])\n",
    "    print((x / v[:,None])[1][1]) \n",
    "    Code Snippet b:\n",
    "\n",
    "    p = np.array([[0], [10], [20]])\n",
    "    q = np.array([10, 11, 12]) \n",
    "    print((p + q)[1][1]) "
   ]
  },
  {
   "cell_type": "code",
   "execution_count": 99,
   "id": "c582fa8e",
   "metadata": {},
   "outputs": [],
   "source": [
    "x = np.array([[200,200,200],[300,300,300],[400,400,400]])\n",
    "v = np.array([200,300,400])\n"
   ]
  },
  {
   "cell_type": "code",
   "execution_count": 101,
   "id": "7017b992",
   "metadata": {},
   "outputs": [
    {
     "data": {
      "text/plain": [
       "(array([[200, 200, 200],\n",
       "        [300, 300, 300],\n",
       "        [400, 400, 400]]),\n",
       " array([200, 300, 400]))"
      ]
     },
     "execution_count": 101,
     "metadata": {},
     "output_type": "execute_result"
    }
   ],
   "source": [
    "x,v"
   ]
  },
  {
   "cell_type": "code",
   "execution_count": 104,
   "id": "cbdc4965",
   "metadata": {},
   "outputs": [
    {
     "data": {
      "text/plain": [
       "array([[200],\n",
       "       [300],\n",
       "       [400]])"
      ]
     },
     "execution_count": 104,
     "metadata": {},
     "output_type": "execute_result"
    }
   ],
   "source": [
    "v[:,None]"
   ]
  },
  {
   "cell_type": "code",
   "execution_count": 106,
   "id": "24b04256",
   "metadata": {},
   "outputs": [
    {
     "data": {
      "text/plain": [
       "array([[1., 1., 1.],\n",
       "       [1., 1., 1.],\n",
       "       [1., 1., 1.]])"
      ]
     },
     "execution_count": 106,
     "metadata": {},
     "output_type": "execute_result"
    }
   ],
   "source": [
    "x/v[:,None]"
   ]
  },
  {
   "cell_type": "code",
   "execution_count": null,
   "id": "b13dccba",
   "metadata": {},
   "outputs": [],
   "source": [
    "print((x / v[:,None])[1][1])"
   ]
  },
  {
   "cell_type": "code",
   "execution_count": null,
   "id": "0fe1caeb",
   "metadata": {},
   "outputs": [],
   "source": []
  },
  {
   "cell_type": "code",
   "execution_count": 107,
   "id": "fa15067c",
   "metadata": {},
   "outputs": [
    {
     "name": "stdout",
     "output_type": "stream",
     "text": [
      "21\n"
     ]
    }
   ],
   "source": [
    "p = np.array([[0], [10], [20]])\n",
    "q = np.array([10, 11, 12]) \n",
    "print((p + q)[1][1]) "
   ]
  },
  {
   "cell_type": "code",
   "execution_count": 108,
   "id": "b258dc10",
   "metadata": {},
   "outputs": [
    {
     "data": {
      "text/plain": [
       "array([[ 0],\n",
       "       [10],\n",
       "       [20]])"
      ]
     },
     "execution_count": 108,
     "metadata": {},
     "output_type": "execute_result"
    }
   ],
   "source": [
    "p"
   ]
  },
  {
   "cell_type": "code",
   "execution_count": 109,
   "id": "1d27b6c1",
   "metadata": {},
   "outputs": [
    {
     "data": {
      "text/plain": [
       "array([10, 11, 12])"
      ]
     },
     "execution_count": 109,
     "metadata": {},
     "output_type": "execute_result"
    }
   ],
   "source": [
    "q"
   ]
  },
  {
   "cell_type": "code",
   "execution_count": 110,
   "id": "aeb43ed6",
   "metadata": {},
   "outputs": [
    {
     "data": {
      "text/plain": [
       "array([[10, 11, 12],\n",
       "       [20, 21, 22],\n",
       "       [30, 31, 32]])"
      ]
     },
     "execution_count": 110,
     "metadata": {},
     "output_type": "execute_result"
    }
   ],
   "source": [
    "p+q"
   ]
  },
  {
   "cell_type": "code",
   "execution_count": null,
   "id": "ba077edb",
   "metadata": {},
   "outputs": [],
   "source": []
  },
  {
   "cell_type": "markdown",
   "id": "45b1629c",
   "metadata": {},
   "source": [
    "### Fancy Indexing\n",
    "    X = np.arange(12).reshape((3, 4))\n",
    "    row = np.array([0, 1, 2])\n",
    "    mask = np.array([1, 0, 1, 0], dtype=bool)\n",
    "    print(X[row[:, np.newaxis], mask])\n",
    "    What is the output of the above coding which is using indexing combined with filtering (masking)?"
   ]
  },
  {
   "cell_type": "code",
   "execution_count": 111,
   "id": "a4eff67e",
   "metadata": {},
   "outputs": [
    {
     "data": {
      "text/plain": [
       "array([[ 0,  1,  2,  3],\n",
       "       [ 4,  5,  6,  7],\n",
       "       [ 8,  9, 10, 11]])"
      ]
     },
     "execution_count": 111,
     "metadata": {},
     "output_type": "execute_result"
    }
   ],
   "source": [
    "X = np.arange(12).reshape((3, 4))\n",
    "X"
   ]
  },
  {
   "cell_type": "code",
   "execution_count": 125,
   "id": "d5ff69b9",
   "metadata": {},
   "outputs": [],
   "source": [
    "row = np.array([0, 1, 2])"
   ]
  },
  {
   "cell_type": "code",
   "execution_count": 126,
   "id": "3e41e3be",
   "metadata": {},
   "outputs": [
    {
     "data": {
      "text/plain": [
       "array([0, 1, 2])"
      ]
     },
     "execution_count": 126,
     "metadata": {},
     "output_type": "execute_result"
    }
   ],
   "source": [
    "row"
   ]
  },
  {
   "cell_type": "code",
   "execution_count": 127,
   "id": "7806d30f",
   "metadata": {},
   "outputs": [
    {
     "data": {
      "text/plain": [
       "array([ True, False,  True, False])"
      ]
     },
     "execution_count": 127,
     "metadata": {},
     "output_type": "execute_result"
    }
   ],
   "source": [
    "mask = np.array([1,0,1,0],dtype=bool)\n",
    "mask"
   ]
  },
  {
   "cell_type": "code",
   "execution_count": 128,
   "id": "1f01fb9c",
   "metadata": {},
   "outputs": [
    {
     "data": {
      "text/plain": [
       "array([[0],\n",
       "       [1],\n",
       "       [2]])"
      ]
     },
     "execution_count": 128,
     "metadata": {},
     "output_type": "execute_result"
    }
   ],
   "source": [
    "row[:, np.newaxis]"
   ]
  },
  {
   "cell_type": "code",
   "execution_count": 129,
   "id": "7011d591",
   "metadata": {},
   "outputs": [
    {
     "name": "stdout",
     "output_type": "stream",
     "text": [
      "[[ 0  2]\n",
      " [ 4  6]\n",
      " [ 8 10]]\n"
     ]
    }
   ],
   "source": [
    "print(X[row[:, np.newaxis], mask])"
   ]
  },
  {
   "cell_type": "code",
   "execution_count": 124,
   "id": "f89ca1dd",
   "metadata": {},
   "outputs": [
    {
     "name": "stdout",
     "output_type": "stream",
     "text": [
      "[[ 4  6]\n",
      " [ 8 10]]\n"
     ]
    }
   ],
   "source": [
    "X = np.arange(12).reshape((3, 4))\n",
    "row = np.array([1, 2])\n",
    "mask = np.array([1, 0, 1, 0], dtype=bool)\n",
    "print(X[row[:, np.newaxis], mask])"
   ]
  },
  {
   "cell_type": "code",
   "execution_count": null,
   "id": "b3eded70",
   "metadata": {},
   "outputs": [],
   "source": []
  },
  {
   "cell_type": "code",
   "execution_count": null,
   "id": "21534d00",
   "metadata": {},
   "outputs": [],
   "source": []
  },
  {
   "cell_type": "markdown",
   "id": "d82c0eb6",
   "metadata": {},
   "source": [
    "### Which of the following options is false regarding splitting the matrix into 2 buckets in this question to find the median of means of individual buckets"
   ]
  },
  {
   "cell_type": "markdown",
   "id": "cf54b2cb",
   "metadata": {},
   "source": [
    "    m = 11\n",
    "    n = 10\n",
    "    X = np.random.uniform(low=0.0, high=1.0, size=(m,n)).astype(np.float64)\n",
    "    b=2  #no. of buckets\n",
    "    buckets = np.vsplit(X, [(m//b)*i for i in range(1,b)])\n",
    "    # Compute the mean within each bucket\n",
    "    b_means = [np.mean(x, axis=0) for x in buckets]\n",
    "    # Compute the median-of-means\n",
    "    median = np.median(np.array(b_means), axis=0)\n",
    "    print(median) #(n,) shaped array"
   ]
  },
  {
   "cell_type": "code",
   "execution_count": 130,
   "id": "53d28104",
   "metadata": {},
   "outputs": [],
   "source": [
    "m = 11\n",
    "n = 10\n",
    "X = np.random.uniform(low=0.0, high=1.0, size=(m,n)).astype(np.float64)"
   ]
  },
  {
   "cell_type": "code",
   "execution_count": 131,
   "id": "2d7f8d14",
   "metadata": {},
   "outputs": [
    {
     "data": {
      "text/plain": [
       "array([[0.29814799, 0.68566831, 0.28158878, 0.48387714, 0.44797536,\n",
       "        0.8147836 , 0.70595668, 0.49041122, 0.228319  , 0.45701251],\n",
       "       [0.11771583, 0.60475756, 0.67379933, 0.5717891 , 0.40363953,\n",
       "        0.71574999, 0.19985795, 0.95777691, 0.16452697, 0.40745897],\n",
       "       [0.85345619, 0.5219556 , 0.90878822, 0.8179838 , 0.89286682,\n",
       "        0.84553023, 0.34758401, 0.82136705, 0.6803742 , 0.11627066],\n",
       "       [0.75919555, 0.58948248, 0.36966944, 0.25261164, 0.16208382,\n",
       "        0.98945697, 0.19398403, 0.62019226, 0.62101583, 0.24807031],\n",
       "       [0.36895206, 0.35021009, 0.76920464, 0.84683894, 0.88484075,\n",
       "        0.68025443, 0.85788384, 0.0957975 , 0.45317142, 0.13728417],\n",
       "       [0.28721881, 0.92792446, 0.30636758, 0.7812861 , 0.15102097,\n",
       "        0.49536864, 0.20510847, 0.35852394, 0.6105915 , 0.42610319],\n",
       "       [0.46836788, 0.3095189 , 0.58604034, 0.10500353, 0.74454858,\n",
       "        0.9665578 , 0.39176048, 0.10292584, 0.0349162 , 0.82501185],\n",
       "       [0.35829315, 0.78444071, 0.27790091, 0.55609495, 0.38370435,\n",
       "        0.59061427, 0.88525522, 0.01236342, 0.8812629 , 0.31463655],\n",
       "       [0.18579343, 0.46540483, 0.86635173, 0.12516076, 0.80074272,\n",
       "        0.41030568, 0.03369344, 0.71694189, 0.92262802, 0.17823837],\n",
       "       [0.55957893, 0.92915508, 0.18864224, 0.10901607, 0.99741151,\n",
       "        0.08973233, 0.39249593, 0.05477406, 0.68312906, 0.18154066],\n",
       "       [0.17083381, 0.91579893, 0.84334953, 0.82507544, 0.88305929,\n",
       "        0.42143965, 0.15995088, 0.01763099, 0.98441652, 0.81141012]])"
      ]
     },
     "execution_count": 131,
     "metadata": {},
     "output_type": "execute_result"
    }
   ],
   "source": [
    "X"
   ]
  },
  {
   "cell_type": "code",
   "execution_count": 132,
   "id": "b6624310",
   "metadata": {},
   "outputs": [
    {
     "data": {
      "text/plain": [
       "[array([[0.29814799, 0.68566831, 0.28158878, 0.48387714, 0.44797536,\n",
       "         0.8147836 , 0.70595668, 0.49041122, 0.228319  , 0.45701251],\n",
       "        [0.11771583, 0.60475756, 0.67379933, 0.5717891 , 0.40363953,\n",
       "         0.71574999, 0.19985795, 0.95777691, 0.16452697, 0.40745897],\n",
       "        [0.85345619, 0.5219556 , 0.90878822, 0.8179838 , 0.89286682,\n",
       "         0.84553023, 0.34758401, 0.82136705, 0.6803742 , 0.11627066],\n",
       "        [0.75919555, 0.58948248, 0.36966944, 0.25261164, 0.16208382,\n",
       "         0.98945697, 0.19398403, 0.62019226, 0.62101583, 0.24807031],\n",
       "        [0.36895206, 0.35021009, 0.76920464, 0.84683894, 0.88484075,\n",
       "         0.68025443, 0.85788384, 0.0957975 , 0.45317142, 0.13728417]]),\n",
       " array([[0.28721881, 0.92792446, 0.30636758, 0.7812861 , 0.15102097,\n",
       "         0.49536864, 0.20510847, 0.35852394, 0.6105915 , 0.42610319],\n",
       "        [0.46836788, 0.3095189 , 0.58604034, 0.10500353, 0.74454858,\n",
       "         0.9665578 , 0.39176048, 0.10292584, 0.0349162 , 0.82501185],\n",
       "        [0.35829315, 0.78444071, 0.27790091, 0.55609495, 0.38370435,\n",
       "         0.59061427, 0.88525522, 0.01236342, 0.8812629 , 0.31463655],\n",
       "        [0.18579343, 0.46540483, 0.86635173, 0.12516076, 0.80074272,\n",
       "         0.41030568, 0.03369344, 0.71694189, 0.92262802, 0.17823837],\n",
       "        [0.55957893, 0.92915508, 0.18864224, 0.10901607, 0.99741151,\n",
       "         0.08973233, 0.39249593, 0.05477406, 0.68312906, 0.18154066],\n",
       "        [0.17083381, 0.91579893, 0.84334953, 0.82507544, 0.88305929,\n",
       "         0.42143965, 0.15995088, 0.01763099, 0.98441652, 0.81141012]])]"
      ]
     },
     "execution_count": 132,
     "metadata": {},
     "output_type": "execute_result"
    }
   ],
   "source": [
    "b=2  #no. of buckets\n",
    "buckets = np.vsplit(X, [(m//b)*i for i in range(1,b)])\n",
    "buckets"
   ]
  },
  {
   "cell_type": "code",
   "execution_count": 134,
   "id": "f4b15d09",
   "metadata": {},
   "outputs": [
    {
     "data": {
      "text/plain": [
       "[array([0.47949352, 0.55041481, 0.60061008, 0.59462012, 0.55828126,\n",
       "        0.80915504, 0.4610533 , 0.59710899, 0.42948148, 0.27321933]),\n",
       " array([0.33834767, 0.72204049, 0.51144205, 0.41693948, 0.66008124,\n",
       "        0.49566973, 0.34471074, 0.21052669, 0.68615737, 0.45615679])]"
      ]
     },
     "execution_count": 134,
     "metadata": {},
     "output_type": "execute_result"
    }
   ],
   "source": [
    "# Compute the mean within each bucket\n",
    "b_means = [np.mean(x, axis=0) for x in buckets]\n",
    "b_means"
   ]
  },
  {
   "cell_type": "code",
   "execution_count": 135,
   "id": "a9335e4b",
   "metadata": {},
   "outputs": [
    {
     "name": "stdout",
     "output_type": "stream",
     "text": [
      "[0.4089206  0.63622765 0.55602607 0.5057798  0.60918125 0.65241239\n",
      " 0.40288202 0.40381784 0.55781942 0.36468806]\n"
     ]
    }
   ],
   "source": [
    "# Compute the median-of-means\n",
    "median = np.median(np.array(b_means), axis=0)\n",
    "print(median) #(n,) shaped array"
   ]
  },
  {
   "cell_type": "markdown",
   "id": "7416f170",
   "metadata": {},
   "source": [
    "    The above code is actually first dividing the m array rows into b buckets using np.vsplit(), then calculating the mean of rows for each of b buckets individually and in the end median of all the buckets (row-wise) is calculated.\n",
    "\n",
    "    Which of the following options is false regarding splitting the matrix into 2 buckets in this question to find the median of means of individual buckets?\n",
    "    \n",
    "    - If np.vsplit(X,2) will be used for the buckets it will throw ValueError.\n",
    "    - ans : If np.array_split(X,2,axis=0) will be used for buckets it will throw ValueError.\n",
    "    - If np.split(X,2,axis=0) will be used for the buckets it will throw ValueError.\n",
    "    - np.hsplit() can not be used for this splitting."
   ]
  },
  {
   "cell_type": "code",
   "execution_count": null,
   "id": "42fb876d",
   "metadata": {},
   "outputs": [],
   "source": []
  },
  {
   "cell_type": "code",
   "execution_count": null,
   "id": "720b27dc",
   "metadata": {},
   "outputs": [],
   "source": []
  },
  {
   "cell_type": "markdown",
   "id": "8083b821",
   "metadata": {},
   "source": [
    "### Coin flip implementation\n",
    "    n_all_heads=0\n",
    "    for _ in range(10000):\n",
    "        heads = np.random.[?](size=4)<0.5\n",
    "        n_heads=np.sum(heads)\n",
    "        if n_heads==4:\n",
    "          n_all_heads+=1\n",
    "    print(n_all_heads/10000)\n",
    "    \n",
    "    For the above implementation of the coin flip experiment, to find the probability of getting 4 heads if four flips of the coin are repeated 10,000 times. The line which has the gap (i.e. [?]) actually wants to create an array heads with four elements (float) which are in the range 0 and 1 and all the float values should have equal probability. Choose the option which is correct to fill the gap in the code snippet which actually represents the function name.\n",
    "\n",
    "    Note: Try to run the above code snippet after filling the gaps, you'll get the probability of getting 4 heads if four flips are repeated 10,000 times."
   ]
  },
  {
   "cell_type": "code",
   "execution_count": 233,
   "id": "dc1e6d3d",
   "metadata": {},
   "outputs": [
    {
     "data": {
      "text/plain": [
       "0.0628"
      ]
     },
     "execution_count": 233,
     "metadata": {},
     "output_type": "execute_result"
    }
   ],
   "source": [
    "n_all_heads = 0\n",
    "for _ in range(10000):\n",
    "    heads = np.random.random(size=4)<0.5\n",
    "    n_heads = np.sum(heads)\n",
    "    if n_heads == 4:\n",
    "        n_all_heads += 1\n",
    "n_all_heads/10000"
   ]
  },
  {
   "cell_type": "code",
   "execution_count": 176,
   "id": "e6abdd9b",
   "metadata": {},
   "outputs": [
    {
     "data": {
      "text/plain": [
       "1"
      ]
     },
     "execution_count": 176,
     "metadata": {},
     "output_type": "execute_result"
    }
   ],
   "source": [
    "np.sum(np.random.random(size=4)<0.5)"
   ]
  },
  {
   "cell_type": "code",
   "execution_count": 189,
   "id": "5fa7f018",
   "metadata": {},
   "outputs": [],
   "source": [
    "from collections import Counter"
   ]
  },
  {
   "cell_type": "code",
   "execution_count": 234,
   "id": "63597b3e",
   "metadata": {},
   "outputs": [
    {
     "data": {
      "text/plain": [
       "0.0644"
      ]
     },
     "execution_count": 234,
     "metadata": {},
     "output_type": "execute_result"
    }
   ],
   "source": [
    "n_all_heads = 0\n",
    "\n",
    "for _ in range(10000):\n",
    "    freq = {}\n",
    "    ans = []\n",
    "    for i in range(4):\n",
    "\n",
    "        toss= np.random.choice([\"H\",\"T\"])\n",
    "        ans.append(toss)\n",
    "    freq = Counter(ans)\n",
    "    if freq[\"H\"] == 4:\n",
    "        n_all_heads+=1\n",
    "n_all_heads/10000\n",
    "\n",
    "    "
   ]
  },
  {
   "cell_type": "code",
   "execution_count": null,
   "id": "028b6005",
   "metadata": {},
   "outputs": [],
   "source": []
  },
  {
   "cell_type": "code",
   "execution_count": null,
   "id": "51ab4342",
   "metadata": {},
   "outputs": [],
   "source": []
  },
  {
   "cell_type": "markdown",
   "id": "4b9f690b",
   "metadata": {},
   "source": [
    "### What about code?\n",
    "\n",
    "    import numpy as np\n",
    "    arr = 2*np.arange(0,2,0.5)\n",
    "    if arr <= 0.6:\n",
    "        print (\"condition satisfies\")\n",
    "    else:\n",
    "        print (\"condition doesn't satisfy\") "
   ]
  },
  {
   "attachments": {
    "image.png": {
     "image/png": "[encoded data removed]"
    }
   },
   "cell_type": "markdown",
   "id": "753931ab",
   "metadata": {},
   "source": [
    "![image.png](attachment:image.png)"
   ]
  },
  {
   "cell_type": "code",
   "execution_count": 243,
   "id": "3f836a1a",
   "metadata": {},
   "outputs": [
    {
     "name": "stdout",
     "output_type": "stream",
     "text": [
      "condition doesn't satisfy\n"
     ]
    }
   ],
   "source": [
    "import numpy as np\n",
    "arr = 2*np.arange(0,2,0.5)\n",
    "if np.any(arr) <= 0.6:\n",
    "    print (\"condition satisfies\")\n",
    "else:\n",
    "    print (\"condition doesn't satisfy\") "
   ]
  },
  {
   "cell_type": "code",
   "execution_count": 242,
   "id": "4225a60c",
   "metadata": {},
   "outputs": [
    {
     "data": {
      "text/plain": [
       "array([0., 1., 2., 3.])"
      ]
     },
     "execution_count": 242,
     "metadata": {},
     "output_type": "execute_result"
    }
   ],
   "source": [
    "arr"
   ]
  },
  {
   "cell_type": "code",
   "execution_count": null,
   "id": "4d464a7e",
   "metadata": {},
   "outputs": [],
   "source": []
  },
  {
   "cell_type": "markdown",
   "id": "ab360dbb",
   "metadata": {},
   "source": [
    "### Given the following array:\n",
    "\n",
    "    import numpy as np\n",
    "    arr = np.array([[1,2,3],\n",
    "                   [4,5,6],\n",
    "                   [7,8,9]])\n",
    "    Which options are correct?\n",
    "\n",
    "    Note: np is the alias for NumPy in the options."
   ]
  },
  {
   "cell_type": "code",
   "execution_count": 256,
   "id": "7190a17a",
   "metadata": {},
   "outputs": [],
   "source": [
    "arr = np.array([[1,2,3],\n",
    "               [4,5,6],\n",
    "               [7,8,9]])"
   ]
  },
  {
   "cell_type": "code",
   "execution_count": 257,
   "id": "e2ab65ea",
   "metadata": {},
   "outputs": [
    {
     "data": {
      "text/plain": [
       "array([1, 4, 7])"
      ]
     },
     "execution_count": 257,
     "metadata": {},
     "output_type": "execute_result"
    }
   ],
   "source": [
    "arr[:,0]"
   ]
  },
  {
   "cell_type": "code",
   "execution_count": 259,
   "id": "2a57418e",
   "metadata": {},
   "outputs": [
    {
     "data": {
      "text/plain": [
       "array([[1, 2, 3, 1],\n",
       "       [4, 5, 6, 4],\n",
       "       [7, 8, 9, 7]])"
      ]
     },
     "execution_count": 259,
     "metadata": {},
     "output_type": "execute_result"
    }
   ],
   "source": [
    "np.hstack((arr,arr[:,[0]]))"
   ]
  },
  {
   "cell_type": "code",
   "execution_count": 260,
   "id": "344fb875",
   "metadata": {},
   "outputs": [],
   "source": [
    "np.hstack((arr, arr[:, [0]])).shape= (3, 4)\n"
   ]
  },
  {
   "cell_type": "markdown",
   "id": "00e2e87a",
   "metadata": {},
   "source": [
    "    np.hstack((arr, arr[:, [0]])).shape= (3, 4)\n"
   ]
  },
  {
   "cell_type": "code",
   "execution_count": null,
   "id": "cc314ff8",
   "metadata": {},
   "outputs": [],
   "source": []
  },
  {
   "cell_type": "markdown",
   "id": "1e2cb7e6",
   "metadata": {},
   "source": [
    "###  Changing Dimension\n",
    "\n",
    "    Given two Numpy array A and B such that, A.shape = (3,3,1) and B.shape =(3,3)\n",
    "\n",
    "    a) A = A.squeeze(axis=2) \n",
    "\n",
    "    b) B = np.expand_dims( B, axis=2)  \n",
    "    After performing the above lines of code, the shape of arrays A and B will be?"
   ]
  },
  {
   "cell_type": "code",
   "execution_count": 261,
   "id": "7e0268be",
   "metadata": {},
   "outputs": [],
   "source": [
    "A = np.arange(1,10).reshape(3,3,1)"
   ]
  },
  {
   "cell_type": "code",
   "execution_count": 262,
   "id": "10eee9c3",
   "metadata": {},
   "outputs": [
    {
     "data": {
      "text/plain": [
       "array([[[1],\n",
       "        [2],\n",
       "        [3]],\n",
       "\n",
       "       [[4],\n",
       "        [5],\n",
       "        [6]],\n",
       "\n",
       "       [[7],\n",
       "        [8],\n",
       "        [9]]])"
      ]
     },
     "execution_count": 262,
     "metadata": {},
     "output_type": "execute_result"
    }
   ],
   "source": [
    "A"
   ]
  },
  {
   "cell_type": "code",
   "execution_count": 263,
   "id": "bcb951d7",
   "metadata": {},
   "outputs": [],
   "source": [
    "B = np.arange(1,10).reshape(3,3)"
   ]
  },
  {
   "cell_type": "code",
   "execution_count": 264,
   "id": "f3c58e89",
   "metadata": {},
   "outputs": [
    {
     "data": {
      "text/plain": [
       "array([[1, 2, 3],\n",
       "       [4, 5, 6],\n",
       "       [7, 8, 9]])"
      ]
     },
     "execution_count": 264,
     "metadata": {},
     "output_type": "execute_result"
    }
   ],
   "source": [
    "B"
   ]
  },
  {
   "cell_type": "code",
   "execution_count": 270,
   "id": "33cf966d",
   "metadata": {},
   "outputs": [
    {
     "data": {
      "text/plain": [
       "array([[1, 2, 3],\n",
       "       [4, 5, 6],\n",
       "       [7, 8, 9]])"
      ]
     },
     "execution_count": 270,
     "metadata": {},
     "output_type": "execute_result"
    }
   ],
   "source": [
    "A.squeeze(axis = 2)"
   ]
  },
  {
   "cell_type": "code",
   "execution_count": 271,
   "id": "986fc331",
   "metadata": {},
   "outputs": [
    {
     "data": {
      "text/plain": [
       "array([[[1],\n",
       "        [2],\n",
       "        [3]],\n",
       "\n",
       "       [[4],\n",
       "        [5],\n",
       "        [6]],\n",
       "\n",
       "       [[7],\n",
       "        [8],\n",
       "        [9]]])"
      ]
     },
     "execution_count": 271,
     "metadata": {},
     "output_type": "execute_result"
    }
   ],
   "source": [
    "np.expand_dims( B, axis=2) "
   ]
  },
  {
   "cell_type": "markdown",
   "id": "20fe1aad",
   "metadata": {},
   "source": [
    "    A.shape= (3,3) , B.shape= (3,3,1)"
   ]
  },
  {
   "cell_type": "code",
   "execution_count": null,
   "id": "540ce11e",
   "metadata": {},
   "outputs": [],
   "source": []
  },
  {
   "cell_type": "code",
   "execution_count": null,
   "id": "0a24ab27",
   "metadata": {},
   "outputs": [],
   "source": []
  },
  {
   "cell_type": "markdown",
   "id": "136492e2",
   "metadata": {},
   "source": [
    "### np.all()\n",
    "\n",
    "\n",
    "    a = np.array([[[ 0, 0, 0],\n",
    "     [ 0, 0, 0],\n",
    "     [ 0, 0, 0],\n",
    "     [ 0, 0, 0]],\n",
    "    [[ 0, 0, 255],\n",
    "     [255, 255, 255],\n",
    "     [ 0, 0, 0],\n",
    "     [255, 0, 0]]])\n",
    "    b = np.array([255, 0, 255])\n",
    "    c = np.all(a == b, axis = 1) \n",
    "    For the above code, what's the output for c?"
   ]
  },
  {
   "cell_type": "code",
   "execution_count": 272,
   "id": "693434eb",
   "metadata": {},
   "outputs": [],
   "source": [
    "a = np.array([[  [ 0, 0, 0],\n",
    "                 [ 0, 0, 0],\n",
    "                 [ 0, 0, 0],\n",
    "                 [ 0, 0, 0]   ],\n",
    "            [    [ 0, 0, 255],\n",
    "                 [255, 255, 255],\n",
    "                 [ 0, 0, 0],\n",
    "                 [255, 0, 0]   ]])\n",
    "b = np.array([255, 0, 255])\n",
    "c = np.all(a == b, axis = 1) "
   ]
  },
  {
   "cell_type": "code",
   "execution_count": 273,
   "id": "72b97e49",
   "metadata": {},
   "outputs": [
    {
     "data": {
      "text/plain": [
       "array([[[  0,   0,   0],\n",
       "        [  0,   0,   0],\n",
       "        [  0,   0,   0],\n",
       "        [  0,   0,   0]],\n",
       "\n",
       "       [[  0,   0, 255],\n",
       "        [255, 255, 255],\n",
       "        [  0,   0,   0],\n",
       "        [255,   0,   0]]])"
      ]
     },
     "execution_count": 273,
     "metadata": {},
     "output_type": "execute_result"
    }
   ],
   "source": [
    "a"
   ]
  },
  {
   "cell_type": "code",
   "execution_count": 274,
   "id": "63b7ce98",
   "metadata": {},
   "outputs": [
    {
     "data": {
      "text/plain": [
       "array([255,   0, 255])"
      ]
     },
     "execution_count": 274,
     "metadata": {},
     "output_type": "execute_result"
    }
   ],
   "source": [
    "b"
   ]
  },
  {
   "cell_type": "code",
   "execution_count": 276,
   "id": "da927d7f",
   "metadata": {},
   "outputs": [
    {
     "data": {
      "text/plain": [
       "array([[[False,  True, False],\n",
       "        [False,  True, False],\n",
       "        [False,  True, False],\n",
       "        [False,  True, False]],\n",
       "\n",
       "       [[False,  True,  True],\n",
       "        [ True, False,  True],\n",
       "        [False,  True, False],\n",
       "        [ True,  True, False]]])"
      ]
     },
     "execution_count": 276,
     "metadata": {},
     "output_type": "execute_result"
    }
   ],
   "source": [
    "a==b"
   ]
  },
  {
   "cell_type": "code",
   "execution_count": 275,
   "id": "b69f5403",
   "metadata": {},
   "outputs": [
    {
     "data": {
      "text/plain": [
       "array([[False,  True, False],\n",
       "       [False, False, False]])"
      ]
     },
     "execution_count": 275,
     "metadata": {},
     "output_type": "execute_result"
    }
   ],
   "source": [
    "c"
   ]
  },
  {
   "cell_type": "code",
   "execution_count": null,
   "id": "7ca7f518",
   "metadata": {},
   "outputs": [],
   "source": []
  },
  {
   "cell_type": "code",
   "execution_count": null,
   "id": "ad0dccde",
   "metadata": {},
   "outputs": [],
   "source": []
  },
  {
   "cell_type": "markdown",
   "id": "446e5d12",
   "metadata": {},
   "source": [
    "Diagonals of 2D array\n",
    "\n",
    "    Given a 2D array arr, Find which of the following codes are true.\n",
    "\n",
    "    import numpy as np\n",
    "\n",
    "    arr= np.array([[2,3,4,5],[1,7,3,5],[2,8,6,9],[11,23,12,19]])\n",
    "\n",
    "    a.  np.triu(arr) = array([[2,3,4,5],[0,7,3,5],[0,0,6,9],[0,0,0,19]])\n",
    "\n",
    "    b.  np.tril(arr) = array([[2,0,0,0],[1,7,0,0],[2,8,6,0],[11,23,12,19]])\n",
    "\n",
    "    c.  np.diag(arr, k=1) = array([3,3,9])\n",
    "\n",
    "    d.  arr*np.eye(arr.shape[1], dtype=int) = array([[2,0,0,0],[0,7,0,0],[0,0,6,0],[0,0,0,19]])"
   ]
  },
  {
   "cell_type": "code",
   "execution_count": 278,
   "id": "8072b023",
   "metadata": {},
   "outputs": [],
   "source": [
    "arr= np.array([[2,3,4,5],[1,7,3,5],[2,8,6,9],[11,23,12,19]])\n"
   ]
  },
  {
   "cell_type": "code",
   "execution_count": 279,
   "id": "b8976059",
   "metadata": {},
   "outputs": [
    {
     "data": {
      "text/plain": [
       "array([[ 2,  3,  4,  5],\n",
       "       [ 1,  7,  3,  5],\n",
       "       [ 2,  8,  6,  9],\n",
       "       [11, 23, 12, 19]])"
      ]
     },
     "execution_count": 279,
     "metadata": {},
     "output_type": "execute_result"
    }
   ],
   "source": [
    "arr"
   ]
  },
  {
   "cell_type": "code",
   "execution_count": 280,
   "id": "efa99524",
   "metadata": {},
   "outputs": [
    {
     "data": {
      "text/plain": [
       "array([[ 2,  3,  4,  5],\n",
       "       [ 0,  7,  3,  5],\n",
       "       [ 0,  0,  6,  9],\n",
       "       [ 0,  0,  0, 19]])"
      ]
     },
     "execution_count": 280,
     "metadata": {},
     "output_type": "execute_result"
    }
   ],
   "source": [
    "np.triu(arr)"
   ]
  },
  {
   "cell_type": "code",
   "execution_count": 281,
   "id": "868e6e20",
   "metadata": {},
   "outputs": [
    {
     "data": {
      "text/plain": [
       "array([[ 2,  0,  0,  0],\n",
       "       [ 1,  7,  0,  0],\n",
       "       [ 2,  8,  6,  0],\n",
       "       [11, 23, 12, 19]])"
      ]
     },
     "execution_count": 281,
     "metadata": {},
     "output_type": "execute_result"
    }
   ],
   "source": [
    "np.tril(arr)"
   ]
  },
  {
   "cell_type": "code",
   "execution_count": 282,
   "id": "7629abf0",
   "metadata": {},
   "outputs": [
    {
     "data": {
      "text/plain": [
       "array([3, 3, 9])"
      ]
     },
     "execution_count": 282,
     "metadata": {},
     "output_type": "execute_result"
    }
   ],
   "source": [
    "np.diag(arr,k=1)"
   ]
  },
  {
   "cell_type": "code",
   "execution_count": 283,
   "id": "5c8aa164",
   "metadata": {},
   "outputs": [
    {
     "data": {
      "text/plain": [
       "array([4, 5])"
      ]
     },
     "execution_count": 283,
     "metadata": {},
     "output_type": "execute_result"
    }
   ],
   "source": [
    "np.diag(arr,k=2)"
   ]
  },
  {
   "cell_type": "code",
   "execution_count": 284,
   "id": "873b2f6a",
   "metadata": {},
   "outputs": [
    {
     "data": {
      "text/plain": [
       "array([ 2,  7,  6, 19])"
      ]
     },
     "execution_count": 284,
     "metadata": {},
     "output_type": "execute_result"
    }
   ],
   "source": [
    "np.diag(arr,k=0)"
   ]
  },
  {
   "cell_type": "code",
   "execution_count": 285,
   "id": "775a506d",
   "metadata": {},
   "outputs": [
    {
     "data": {
      "text/plain": [
       "4"
      ]
     },
     "execution_count": 285,
     "metadata": {},
     "output_type": "execute_result"
    }
   ],
   "source": [
    "arr.shape[1]"
   ]
  },
  {
   "cell_type": "code",
   "execution_count": 287,
   "id": "33c14091",
   "metadata": {},
   "outputs": [
    {
     "data": {
      "text/plain": [
       "array([[1, 0, 0, 0],\n",
       "       [0, 1, 0, 0],\n",
       "       [0, 0, 1, 0],\n",
       "       [0, 0, 0, 1]])"
      ]
     },
     "execution_count": 287,
     "metadata": {},
     "output_type": "execute_result"
    }
   ],
   "source": [
    "np.eye(arr.shape[1],dtype=\"int\")"
   ]
  },
  {
   "cell_type": "code",
   "execution_count": 288,
   "id": "df7b8c1e",
   "metadata": {},
   "outputs": [
    {
     "data": {
      "text/plain": [
       "array([[ 2,  0,  0,  0],\n",
       "       [ 0,  7,  0,  0],\n",
       "       [ 0,  0,  6,  0],\n",
       "       [ 0,  0,  0, 19]])"
      ]
     },
     "execution_count": 288,
     "metadata": {},
     "output_type": "execute_result"
    }
   ],
   "source": [
    "arr * np.eye(arr.shape[1],dtype=\"int\")"
   ]
  },
  {
   "cell_type": "code",
   "execution_count": null,
   "id": "bb820975",
   "metadata": {},
   "outputs": [],
   "source": []
  },
  {
   "cell_type": "code",
   "execution_count": null,
   "id": "2ab8607b",
   "metadata": {},
   "outputs": [],
   "source": []
  },
  {
   "cell_type": "markdown",
   "id": "4da10613",
   "metadata": {},
   "source": [
    "### One Hot Encoding\n",
    "\n",
    "    Given a 1D NumPy array containing integers, convert each integral value into one-hot encoded values.\n",
    "\n",
    "    Note: Input and output arrays are of dtype 'int'.\n",
    "\n",
    "    Input Format :\n",
    "\n",
    "    Number of testcases  \n",
    "    Space separated numbers representing elements of array for each testcases  \n",
    "\n",
    "    Output Format:\n",
    "\n",
    "    Return the one-hot encoded numpy array   \n",
    "\n",
    "    Sample Input :\n",
    "\n",
    "\n",
    "    array [1,3,4,1,2]  \n",
    "    Sample Output :\n",
    "\n",
    "    array [[0,1,0,0,0],  \n",
    "           [0,0,0,1,0],  \n",
    "           [0,0,0,0,1],  \n",
    "           [0,1,0,0,0],  \n",
    "           [0,0,1,0,0]]  \n",
    "    Output an array of dimension (inputarray.size, max(inputarray)+1)\n",
    "\n",
    "    Explaination :\n",
    "\n",
    "    Each row is the one hot encoded representation of the elements in input array.\n",
    "    Example: 3 is represented by [0,0,0,1,0] at index=3 its 1 else all are 0."
   ]
  },
  {
   "cell_type": "code",
   "execution_count": 306,
   "id": "8783bba1",
   "metadata": {},
   "outputs": [],
   "source": [
    "inputA = np.array([1,3,4,1,2])"
   ]
  },
  {
   "cell_type": "code",
   "execution_count": null,
   "id": "75a428ac",
   "metadata": {},
   "outputs": [],
   "source": []
  },
  {
   "cell_type": "code",
   "execution_count": 307,
   "id": "0d862ae0",
   "metadata": {},
   "outputs": [
    {
     "data": {
      "text/plain": [
       "array([[0, 0, 0, 0, 0],\n",
       "       [0, 0, 0, 0, 0],\n",
       "       [0, 0, 0, 0, 0],\n",
       "       [0, 0, 0, 0, 0],\n",
       "       [0, 0, 0, 0, 0]])"
      ]
     },
     "execution_count": 307,
     "metadata": {},
     "output_type": "execute_result"
    }
   ],
   "source": [
    "ans = np.zeros((len(inputA),np.max(inputA)+1),dtype = \"int\")\n",
    "ans"
   ]
  },
  {
   "cell_type": "code",
   "execution_count": 315,
   "id": "b9359232",
   "metadata": {},
   "outputs": [
    {
     "data": {
      "text/plain": [
       "array([[0, 1, 0, 0, 0],\n",
       "       [0, 0, 0, 1, 0],\n",
       "       [0, 0, 0, 0, 1],\n",
       "       [0, 1, 0, 0, 0],\n",
       "       [0, 0, 1, 0, 0]])"
      ]
     },
     "execution_count": 315,
     "metadata": {},
     "output_type": "execute_result"
    }
   ],
   "source": [
    "for i in range(len(inputA)):\n",
    "    ans[i,inputA[i]] = 1\n",
    "ans"
   ]
  },
  {
   "cell_type": "code",
   "execution_count": 322,
   "id": "abbda6cc",
   "metadata": {},
   "outputs": [],
   "source": [
    "# another method"
   ]
  },
  {
   "cell_type": "code",
   "execution_count": 310,
   "id": "3bd28f97",
   "metadata": {},
   "outputs": [
    {
     "data": {
      "text/plain": [
       "array([[0, 0, 0, 0, 0],\n",
       "       [0, 0, 0, 0, 0],\n",
       "       [0, 0, 0, 0, 0],\n",
       "       [0, 0, 0, 0, 0],\n",
       "       [0, 0, 0, 0, 0]])"
      ]
     },
     "execution_count": 310,
     "metadata": {},
     "output_type": "execute_result"
    }
   ],
   "source": [
    "temp = np.zeros((len(inputA),np.max(inputA)+1),dtype = \"int\")\n",
    "temp"
   ]
  },
  {
   "cell_type": "code",
   "execution_count": 318,
   "id": "3fd9b5f7",
   "metadata": {},
   "outputs": [
    {
     "data": {
      "text/plain": [
       "5"
      ]
     },
     "execution_count": 318,
     "metadata": {},
     "output_type": "execute_result"
    }
   ],
   "source": [
    "inputA.size"
   ]
  },
  {
   "cell_type": "code",
   "execution_count": 319,
   "id": "88fce390",
   "metadata": {},
   "outputs": [
    {
     "data": {
      "text/plain": [
       "array([0, 1, 2, 3, 4])"
      ]
     },
     "execution_count": 319,
     "metadata": {},
     "output_type": "execute_result"
    }
   ],
   "source": [
    "np.arange(inputA.size)"
   ]
  },
  {
   "cell_type": "code",
   "execution_count": 320,
   "id": "732ec070",
   "metadata": {},
   "outputs": [],
   "source": [
    "temp[np.arange(inputA.size),inputA] = 1"
   ]
  },
  {
   "cell_type": "code",
   "execution_count": 321,
   "id": "52941653",
   "metadata": {},
   "outputs": [
    {
     "data": {
      "text/plain": [
       "array([[0, 1, 0, 0, 0],\n",
       "       [0, 0, 0, 1, 0],\n",
       "       [0, 0, 0, 0, 1],\n",
       "       [0, 1, 0, 0, 0],\n",
       "       [0, 0, 1, 0, 0]])"
      ]
     },
     "execution_count": 321,
     "metadata": {},
     "output_type": "execute_result"
    }
   ],
   "source": [
    "temp"
   ]
  },
  {
   "cell_type": "code",
   "execution_count": null,
   "id": "1be9622d",
   "metadata": {},
   "outputs": [],
   "source": []
  },
  {
   "cell_type": "code",
   "execution_count": null,
   "id": "525b0f35",
   "metadata": {},
   "outputs": [],
   "source": []
  },
  {
   "cell_type": "markdown",
   "id": "0f2ac157",
   "metadata": {},
   "source": [
    "### Original Matrix Retrieval\n",
    "\n",
    "    John and Edo have been childhood friends. Both love playing with numbers, especially with matrices. One day, John comes up with an interesting problem for Edo. He takes a 4 x 4 matrix, and breaks it down into 4 parts, top left, top right, bottom left, and bottom right, and now wants Edo to retrieve the original matrix from some hints about the 4 parts. In detail,\n",
    "\n",
    "    1. For each part, Edo will be given 2 numbers, and he has to generate 4 spaced equal numbers between these 2 numbers (both numbers included).\n",
    "\n",
    "    2. After generating this 4 length array, convert it into a 2x2 matrix, and merge them as per requirement (according to their positions).\n",
    "\n",
    "    Help Edo with this task. You can refer to the sample input-output explanation to understand the problem properly.\n",
    "\n",
    "    For a particular part's hint (i.e. a and b), it can be assumed that all the 4 numbers present in the even space length [a,b], will be whole numbers and not fractions.\n",
    "\n",
    "    Input Format\n",
    "\n",
    "    Number of testcases.\n",
    "    For each testcase, there will be total of 4 lines of input, each line containing 2 numbers separated by space, denoting each part's range, in order of top left, top right, bottom left, and bottom right.\n",
    "    A list is given as an argument for the function which consists of tuples indicating these range boundaries for each part in the mentioned order.\n",
    "    Output Format\n",
    "\n",
    "    Return the 4x4 matrix consisting float elements upto 1 decimal point, after processing the inputs for each testcase.\n",
    "    Sample Input\n",
    "\n",
    "    1\n",
    "    0 2\n",
    "    5 7\n",
    "    1 3\n",
    "    6 9\n",
    "    Sample Output\n",
    "\n",
    "    Return the 4x4 matrix. It should look like:\n",
    "\n",
    "    [[0.  0.7 5.  5.7] \n",
    "     [1.3 2.  6.3 7. ] \n",
    "     [1.  1.7 6.  7. ] \n",
    "     [2.3 3.  8.  9. ]]\n",
    "    Explanation\n",
    "\n",
    "    For top left, [0, 2], the matrix is 2x2 of [0., 0.7, 1.3, 2.], which is\n",
    "    [[0. 0.7]\n",
    "\n",
    "    [1.3 2.]]\n",
    "\n",
    "    Similarly top right, for [5, 7], it will be\n",
    "    [[5. 5.7]\n",
    "\n",
    "    [6.3 7.]]\n",
    "\n",
    "    The bottom left will be:\n",
    "    [[1. 1.7]\n",
    "\n",
    "    [2.3 3.]]\n",
    "\n",
    "    and Bottom right will be:\n",
    "    [[6. 7.]\n",
    "\n",
    "    [8. 9.]]"
   ]
  },
  {
   "cell_type": "code",
   "execution_count": 336,
   "id": "7f2ae3f8",
   "metadata": {},
   "outputs": [],
   "source": [
    "inputc = np.array([[0,2],\n",
    "                  [5,7],\n",
    "                  [1,3],\n",
    "                  [6,9]])"
   ]
  },
  {
   "cell_type": "code",
   "execution_count": 337,
   "id": "27e7825a",
   "metadata": {},
   "outputs": [],
   "source": [
    "a1,b1 = inputc[0]\n",
    "a2,b2 = inputc[1]\n",
    "a3,b3 = inputc[2]\n",
    "a4,b4 = inputc[3]"
   ]
  },
  {
   "cell_type": "code",
   "execution_count": 338,
   "id": "aff4d7bf",
   "metadata": {},
   "outputs": [
    {
     "data": {
      "text/plain": [
       "(0, 2, 5, 7, 1, 3, 6, 9)"
      ]
     },
     "execution_count": 338,
     "metadata": {},
     "output_type": "execute_result"
    }
   ],
   "source": [
    "a1,b1,a2,b2,a3,b3,a4,b4"
   ]
  },
  {
   "cell_type": "code",
   "execution_count": 343,
   "id": "0312c8dd",
   "metadata": {},
   "outputs": [
    {
     "data": {
      "text/plain": [
       "array([[0. , 0.7],\n",
       "       [1.3, 2. ]])"
      ]
     },
     "execution_count": 343,
     "metadata": {},
     "output_type": "execute_result"
    }
   ],
   "source": [
    "A = np.round(np.linspace(a1,b1,4),1).reshape(2,2)\n",
    "A"
   ]
  },
  {
   "cell_type": "code",
   "execution_count": 342,
   "id": "e10fe4d6",
   "metadata": {},
   "outputs": [],
   "source": [
    "B = np.round(np.linspace(a2,b2,4),1).reshape(2,2)\n",
    "C = np.round(np.linspace(a3,b3,4),1).reshape(2,2)\n",
    "D = np.round(np.linspace(a4,b4,4),1).reshape(2,2)"
   ]
  },
  {
   "cell_type": "code",
   "execution_count": 347,
   "id": "53213b5a",
   "metadata": {},
   "outputs": [
    {
     "data": {
      "text/plain": [
       "array([[0. , 0.7, 5. , 5.7],\n",
       "       [1.3, 2. , 6.3, 7. ]])"
      ]
     },
     "execution_count": 347,
     "metadata": {},
     "output_type": "execute_result"
    }
   ],
   "source": [
    "X = np.hstack((A,B))\n",
    "X"
   ]
  },
  {
   "cell_type": "code",
   "execution_count": 348,
   "id": "36866e9b",
   "metadata": {},
   "outputs": [
    {
     "data": {
      "text/plain": [
       "array([[1. , 1.7, 6. , 7. ],\n",
       "       [2.3, 3. , 8. , 9. ]])"
      ]
     },
     "execution_count": 348,
     "metadata": {},
     "output_type": "execute_result"
    }
   ],
   "source": [
    "Y = np.hstack((C,D))\n",
    "Y"
   ]
  },
  {
   "cell_type": "code",
   "execution_count": 350,
   "id": "1c9aa0ab",
   "metadata": {},
   "outputs": [
    {
     "data": {
      "text/plain": [
       "array([[0. , 0.7, 5. , 5.7],\n",
       "       [1.3, 2. , 6.3, 7. ],\n",
       "       [1. , 1.7, 6. , 7. ],\n",
       "       [2.3, 3. , 8. , 9. ]])"
      ]
     },
     "execution_count": 350,
     "metadata": {},
     "output_type": "execute_result"
    }
   ],
   "source": [
    "np.vstack((X,Y))"
   ]
  },
  {
   "cell_type": "code",
   "execution_count": null,
   "id": "5d26215d",
   "metadata": {},
   "outputs": [],
   "source": []
  },
  {
   "cell_type": "markdown",
   "id": "2af30fda",
   "metadata": {},
   "source": [
    "### Trial softmax\n"
   ]
  },
  {
   "attachments": {
    "image.png": {
     "image/png": "[encoded data removed]"
    }
   },
   "cell_type": "markdown",
   "id": "5b5d761f",
   "metadata": {},
   "source": [
    "   ![image.png](attachment:image.png)\n",
    "    The formula for getting softmax score is:\n",
    "\n",
    "\n",
    "\n",
    "    ,here Zi is the observations[i] and k is the total number of observations.\n",
    "\n",
    "    The softmax function is used in machine learning algorithms for classification applications. What it basically does is that it takes input as an array and converts it into a probability distribution where the sum of each elements' probability will be 1.\n",
    "\n",
    "    Write a function that could take a list as an input and can return a NumPy array that would have the softmax scores of each element as a member.\n",
    "\n",
    "    Input format:\n",
    "\n",
    "    number of testcases\n",
    "    space separating numbers representing elements of list for each testcases\n",
    "    Output format:\n",
    "\n",
    "    Return the numpy array simply consisting the scores for each element of the list\n",
    "    Sample input:\n",
    "\n",
    "    1\n",
    "    6 2 4 3 1\n",
    "    Sample output:\n",
    "\n",
    "    [0.826 0.015 0.112 0.041 0.006]\n",
    "    Explanation:\n",
    "\n",
    "    denominator = (e6 + e2 + e4 + e3 +e1)\n",
    "\n",
    "    softmax(6) = e6/(e6 + e2 + e4 + e3 +e1) = e6/denominator = 0.826\n",
    "\n",
    "    softmax(2) = e2/denominator = 0.015\n",
    "\n",
    "    And similarly, the softmax score of the remaining elements can be calculated.\n",
    "\n",
    "    Take care that the test case outputs are made using np.round function for estimating up to 3 decimal places. The code for taking input is already taken care of and make sure to print the numpy array inside the function only."
   ]
  },
  {
   "cell_type": "code",
   "execution_count": 351,
   "id": "261f6817",
   "metadata": {},
   "outputs": [],
   "source": [
    "data = [6,2,4,3,1]"
   ]
  },
  {
   "cell_type": "code",
   "execution_count": 352,
   "id": "65e2117c",
   "metadata": {},
   "outputs": [
    {
     "data": {
      "text/plain": [
       "array([6, 2, 4, 3, 1])"
      ]
     },
     "execution_count": 352,
     "metadata": {},
     "output_type": "execute_result"
    }
   ],
   "source": [
    "data = np.array(data)\n",
    "data"
   ]
  },
  {
   "cell_type": "code",
   "execution_count": 353,
   "id": "c78e0a76",
   "metadata": {},
   "outputs": [
    {
     "data": {
      "text/plain": [
       "array([403.42879349,   7.3890561 ,  54.59815003,  20.08553692,\n",
       "         2.71828183])"
      ]
     },
     "execution_count": 353,
     "metadata": {},
     "output_type": "execute_result"
    }
   ],
   "source": [
    "np.e**data"
   ]
  },
  {
   "cell_type": "code",
   "execution_count": 354,
   "id": "1acdd28b",
   "metadata": {},
   "outputs": [
    {
     "data": {
      "text/plain": [
       "488.2198183764566"
      ]
     },
     "execution_count": 354,
     "metadata": {},
     "output_type": "execute_result"
    }
   ],
   "source": [
    "np.sum(np.e**data)"
   ]
  },
  {
   "cell_type": "code",
   "execution_count": 356,
   "id": "5d7efd37",
   "metadata": {},
   "outputs": [
    {
     "data": {
      "text/plain": [
       "array([0.826, 0.015, 0.112, 0.041, 0.006])"
      ]
     },
     "execution_count": 356,
     "metadata": {},
     "output_type": "execute_result"
    }
   ],
   "source": [
    "np.round(np.e**data/(np.sum(np.e**data)),3)"
   ]
  },
  {
   "cell_type": "code",
   "execution_count": null,
   "id": "a0672990",
   "metadata": {},
   "outputs": [],
   "source": []
  },
  {
   "cell_type": "code",
   "execution_count": null,
   "id": "05471ab2",
   "metadata": {},
   "outputs": [],
   "source": []
  }
 ],
 "metadata": {
  "kernelspec": {
   "display_name": "Python 3 (ipykernel)",
   "language": "python",
   "name": "python3"
  },
  "language_info": {
   "codemirror_mode": {
    "name": "ipython",
    "version": 3
   },
   "file_extension": ".py",
   "mimetype": "text/x-python",
   "name": "python",
   "nbconvert_exporter": "python",
   "pygments_lexer": "ipython3",
   "version": "3.9.7"
  }
 },
 "nbformat": 4,
 "nbformat_minor": 5
}

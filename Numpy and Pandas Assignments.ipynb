{
 "cells": [
  {
   "cell_type": "code",
   "execution_count": 1,
   "id": "28a494a8",
   "metadata": {},
   "outputs": [],
   "source": [
    "import numpy as np"
   ]
  },
  {
   "cell_type": "code",
   "execution_count": null,
   "id": "62e0fb39",
   "metadata": {},
   "outputs": [],
   "source": []
  },
  {
   "cell_type": "markdown",
   "id": "7ceda560",
   "metadata": {},
   "source": [
    "### Gunjan is working on a swap of drones that can perform light shows.\n",
    "### For that, she is maintaining a list of the height of each drone and is updating that for each step.\n",
    "    Height = [h1,h2,h3………hn] # height of each drone\n",
    "    Delta_h = [d1,d2,d3……dn] # change in height of each drone\n",
    "\n",
    "#### For each second she updates the Height array by adding the corresponding change to the height.\n",
    "\n",
    "### For that, she tried out 2 methods as listed below. Help her in arranging them in ascending order of time.\n",
    "\n",
    "\n",
    "    (A) Numpy operator\n",
    "\n",
    "    import numpy as np\n",
    "\n",
    "    def update_height(height,delta):\n",
    "\n",
    "       height = np.array(height)\n",
    "\n",
    "       delta = np.array(delta)\n",
    "\n",
    "       new_height = height+delta \n",
    "\n",
    "       return new_height\n",
    "\n",
    "    (B) Python operation\n",
    "\n",
    "\n",
    "    def update_height(height, delta):\n",
    "\n",
    "        new_height=[]\n",
    "\n",
    "        for i in range(len(height)):\n",
    "\n",
    "            new_height.append(height[i]+delta[i])\n",
    "\n",
    "        return new_height"
   ]
  },
  {
   "cell_type": "code",
   "execution_count": 2,
   "id": "49c14406",
   "metadata": {},
   "outputs": [],
   "source": [
    "H = list(range(50,50000000))"
   ]
  },
  {
   "cell_type": "code",
   "execution_count": 3,
   "id": "9542e8a7",
   "metadata": {},
   "outputs": [],
   "source": [
    "dH = [5 for x in range(50,50000000)]"
   ]
  },
  {
   "cell_type": "code",
   "execution_count": 4,
   "id": "1f6e004c",
   "metadata": {},
   "outputs": [],
   "source": [
    "def update_height(height,delta):\n",
    "    height = np.array(height)\n",
    "    delta = np.array(delta)\n",
    "    new_height = height + delta\n",
    "    return new_height"
   ]
  },
  {
   "cell_type": "code",
   "execution_count": 5,
   "id": "fcfbe3c7",
   "metadata": {},
   "outputs": [
    {
     "name": "stdout",
     "output_type": "stream",
     "text": [
      "Wall time: 0 ns\n"
     ]
    },
    {
     "data": {
      "text/plain": [
       "array([      55,       56,       57, ..., 50000002, 50000003, 50000004])"
      ]
     },
     "execution_count": 5,
     "metadata": {},
     "output_type": "execute_result"
    }
   ],
   "source": [
    "%time\n",
    "update_height(H,dH)"
   ]
  },
  {
   "cell_type": "code",
   "execution_count": 6,
   "id": "0dc11a89",
   "metadata": {
    "scrolled": true
   },
   "outputs": [],
   "source": [
    "def update_height_py(height, delta):\n",
    "    new_height=[]\n",
    "    for i in range(len(height)):\n",
    "        new_height.append(height[i]+delta[i])\n",
    "        \n",
    "    return new_height\n"
   ]
  },
  {
   "cell_type": "code",
   "execution_count": null,
   "id": "91bee690",
   "metadata": {
    "scrolled": true
   },
   "outputs": [],
   "source": []
  },
  {
   "cell_type": "markdown",
   "id": "5dfd3190",
   "metadata": {},
   "source": [
    "### Which option is right about the output of the following code snippet?\n",
    "\n",
    "    x = np.array([-5, 9 , 20 , 25, -3, 5, 16, 10])\n",
    "    x[(x >= -5) & (x <= 15)] *= -1 \n",
    "    Note: Recall the masking with assignment question discussed in class"
   ]
  },
  {
   "cell_type": "code",
   "execution_count": 7,
   "id": "12796ffd",
   "metadata": {},
   "outputs": [],
   "source": [
    "x = np.array([-5, 9 , 20 , 25, -3, 5, 16, 10])"
   ]
  },
  {
   "cell_type": "code",
   "execution_count": 8,
   "id": "415c4eee",
   "metadata": {},
   "outputs": [],
   "source": [
    "x[(x >= -5) & (x <= 15)] *= -1 "
   ]
  },
  {
   "cell_type": "code",
   "execution_count": 9,
   "id": "5c2ab1bf",
   "metadata": {},
   "outputs": [
    {
     "data": {
      "text/plain": [
       "array([  5,  -9,  20,  25,   3,  -5,  16, -10])"
      ]
     },
     "execution_count": 9,
     "metadata": {},
     "output_type": "execute_result"
    }
   ],
   "source": [
    "x"
   ]
  },
  {
   "cell_type": "code",
   "execution_count": null,
   "id": "a5c8e10a",
   "metadata": {},
   "outputs": [],
   "source": []
  },
  {
   "cell_type": "markdown",
   "id": "d8d9b131",
   "metadata": {},
   "source": [
    "### a. What is the last element of the output?"
   ]
  },
  {
   "cell_type": "code",
   "execution_count": 10,
   "id": "7f5b456a",
   "metadata": {},
   "outputs": [
    {
     "name": "stdout",
     "output_type": "stream",
     "text": [
      "['Astha' 'Raghavendra' 'Ram']\n"
     ]
    }
   ],
   "source": [
    "print(np.sort(np.array(['Ram','Astha','Raghavendra'])))"
   ]
  },
  {
   "cell_type": "code",
   "execution_count": 11,
   "id": "4cd00a80",
   "metadata": {},
   "outputs": [
    {
     "data": {
      "text/plain": [
       "array([False, False, False])"
      ]
     },
     "execution_count": 11,
     "metadata": {},
     "output_type": "execute_result"
    }
   ],
   "source": [
    "arr1 = np.array(['Ram','Astha','Brahat'])\n",
    "arr2 = np.array(['Shyam','Kalyan','Naveen'])\n",
    "arr1 > arr2"
   ]
  },
  {
   "cell_type": "code",
   "execution_count": null,
   "id": "86e49db3",
   "metadata": {},
   "outputs": [],
   "source": []
  },
  {
   "cell_type": "markdown",
   "id": "40b0cb8a",
   "metadata": {},
   "source": [
    "### You are given NumPy arrays A, B, and C, where:\n",
    "\n",
    "    A.shape = (m,)\n",
    "\n",
    "    B.shape = (n, 1)\n",
    "\n",
    "    C.shape = (n, m)\n",
    "\n",
    "#### Which of the following operations can be performed on A, B, and C?\n",
    "##### Note: np is the alias for NumPy in the options."
   ]
  },
  {
   "cell_type": "code",
   "execution_count": 13,
   "id": "28f2fa89",
   "metadata": {},
   "outputs": [
    {
     "data": {
      "text/plain": [
       "(3,)"
      ]
     },
     "execution_count": 13,
     "metadata": {},
     "output_type": "execute_result"
    }
   ],
   "source": [
    "A = np.array([1,2,3])\n",
    "A.shape"
   ]
  },
  {
   "cell_type": "code",
   "execution_count": 17,
   "id": "4690f7eb",
   "metadata": {},
   "outputs": [
    {
     "data": {
      "text/plain": [
       "(4, 1)"
      ]
     },
     "execution_count": 17,
     "metadata": {},
     "output_type": "execute_result"
    }
   ],
   "source": [
    "B = np.array([[1],[2],[3],[4]])\n",
    "B.shape"
   ]
  },
  {
   "cell_type": "code",
   "execution_count": 19,
   "id": "3c25b961",
   "metadata": {},
   "outputs": [
    {
     "data": {
      "text/plain": [
       "(4, 3)"
      ]
     },
     "execution_count": 19,
     "metadata": {},
     "output_type": "execute_result"
    }
   ],
   "source": [
    "C = np.array([[1,2,4],\n",
    "             [7,8,9],\n",
    "             [9,5,1],\n",
    "              [7,5,3]])\n",
    "C.shape"
   ]
  },
  {
   "cell_type": "code",
   "execution_count": 20,
   "id": "23351cbc",
   "metadata": {},
   "outputs": [
    {
     "data": {
      "text/plain": [
       "array([[1],\n",
       "       [2],\n",
       "       [3],\n",
       "       [4]])"
      ]
     },
     "execution_count": 20,
     "metadata": {},
     "output_type": "execute_result"
    }
   ],
   "source": [
    "B"
   ]
  },
  {
   "cell_type": "code",
   "execution_count": 21,
   "id": "c318813c",
   "metadata": {},
   "outputs": [
    {
     "data": {
      "text/plain": [
       "array([1, 2, 3])"
      ]
     },
     "execution_count": 21,
     "metadata": {},
     "output_type": "execute_result"
    }
   ],
   "source": [
    "A"
   ]
  },
  {
   "cell_type": "code",
   "execution_count": 22,
   "id": "51b3306f",
   "metadata": {},
   "outputs": [
    {
     "data": {
      "text/plain": [
       "array([[1, 2, 4],\n",
       "       [7, 8, 9],\n",
       "       [9, 5, 1],\n",
       "       [7, 5, 3]])"
      ]
     },
     "execution_count": 22,
     "metadata": {},
     "output_type": "execute_result"
    }
   ],
   "source": [
    "C"
   ]
  },
  {
   "cell_type": "code",
   "execution_count": 28,
   "id": "da324f13",
   "metadata": {},
   "outputs": [
    {
     "data": {
      "text/plain": [
       "array([[1, 7, 9, 7],\n",
       "       [2, 8, 5, 5],\n",
       "       [4, 9, 1, 3]])"
      ]
     },
     "execution_count": 28,
     "metadata": {},
     "output_type": "execute_result"
    }
   ],
   "source": [
    "C.T"
   ]
  },
  {
   "cell_type": "code",
   "execution_count": 29,
   "id": "bbf25355",
   "metadata": {},
   "outputs": [
    {
     "data": {
      "text/plain": [
       "array([[1],\n",
       "       [2],\n",
       "       [3]])"
      ]
     },
     "execution_count": 29,
     "metadata": {},
     "output_type": "execute_result"
    }
   ],
   "source": [
    "A.reshape(3,1)"
   ]
  },
  {
   "cell_type": "code",
   "execution_count": 31,
   "id": "6be1b364",
   "metadata": {},
   "outputs": [
    {
     "data": {
      "text/plain": [
       "array([[1, 7, 9, 7, 1],\n",
       "       [2, 8, 5, 5, 2],\n",
       "       [4, 9, 1, 3, 3]])"
      ]
     },
     "execution_count": 31,
     "metadata": {},
     "output_type": "execute_result"
    }
   ],
   "source": [
    "np.concatenate((C.T,A.reshape(3,1)),axis = 1)"
   ]
  },
  {
   "cell_type": "code",
   "execution_count": null,
   "id": "96dd4f9e",
   "metadata": {},
   "outputs": [],
   "source": []
  },
  {
   "cell_type": "markdown",
   "id": "a0198b5d",
   "metadata": {},
   "source": [
    "#### Given the 2-D array X,\n",
    "\n",
    "\n",
    "    X = np.arange(12).reshape(3,4)\n",
    "    So, X is\n",
    "\n",
    "    [[ 0 1 2 3] \n",
    "     [ 4 5 6 7]\n",
    "     [ 8 9 10 11]]\n",
    "    Which of the following is/are true statements."
   ]
  },
  {
   "cell_type": "code",
   "execution_count": 33,
   "id": "c9914683",
   "metadata": {},
   "outputs": [
    {
     "data": {
      "text/plain": [
       "array([[ 0,  1,  2,  3],\n",
       "       [ 4,  5,  6,  7],\n",
       "       [ 8,  9, 10, 11]])"
      ]
     },
     "execution_count": 33,
     "metadata": {},
     "output_type": "execute_result"
    }
   ],
   "source": [
    "\n",
    "X = np.arange(12).reshape(3,4)\n",
    "X"
   ]
  },
  {
   "cell_type": "code",
   "execution_count": 34,
   "id": "d270f127",
   "metadata": {},
   "outputs": [
    {
     "data": {
      "text/plain": [
       "array([ 3,  7, 11])"
      ]
     },
     "execution_count": 34,
     "metadata": {},
     "output_type": "execute_result"
    }
   ],
   "source": [
    "X.max(axis=1)"
   ]
  },
  {
   "cell_type": "code",
   "execution_count": 37,
   "id": "450dc1ae",
   "metadata": {},
   "outputs": [
    {
     "data": {
      "text/plain": [
       "array([ 3,  7, 11])"
      ]
     },
     "execution_count": 37,
     "metadata": {},
     "output_type": "execute_result"
    }
   ],
   "source": [
    "X.T.max(axis=0)"
   ]
  },
  {
   "cell_type": "code",
   "execution_count": 38,
   "id": "1c97df46",
   "metadata": {},
   "outputs": [
    {
     "data": {
      "text/plain": [
       "[0, 4, 8]"
      ]
     },
     "execution_count": 38,
     "metadata": {},
     "output_type": "execute_result"
    }
   ],
   "source": [
    "[i.min() for i in X]"
   ]
  },
  {
   "cell_type": "code",
   "execution_count": null,
   "id": "520e39b5",
   "metadata": {},
   "outputs": [],
   "source": []
  },
  {
   "cell_type": "markdown",
   "id": "c15674e8",
   "metadata": {},
   "source": [
    "### For the arrays a and b:\n",
    "\n",
    "    import numpy as np\n",
    "    a = np.zeros(27).reshape(3, 3, 3)\n",
    "    b = np.arange(9).reshape(3, 3) \n",
    "    Which option will give the same output as a+b?\n",
    "\n",
    "    Note: np.newaxis is used to create a new axis in the mentioned dimension."
   ]
  },
  {
   "cell_type": "code",
   "execution_count": 40,
   "id": "47a32e65",
   "metadata": {},
   "outputs": [],
   "source": [
    "a = np.zeros(27).reshape(3, 3, 3)\n",
    "b = np.arange(9).reshape(3, 3) "
   ]
  },
  {
   "cell_type": "code",
   "execution_count": 43,
   "id": "a6769efa",
   "metadata": {},
   "outputs": [
    {
     "data": {
      "text/plain": [
       "array([[[0., 0., 0.],\n",
       "        [0., 0., 0.],\n",
       "        [0., 0., 0.]],\n",
       "\n",
       "       [[0., 0., 0.],\n",
       "        [0., 0., 0.],\n",
       "        [0., 0., 0.]],\n",
       "\n",
       "       [[0., 0., 0.],\n",
       "        [0., 0., 0.],\n",
       "        [0., 0., 0.]]])"
      ]
     },
     "execution_count": 43,
     "metadata": {},
     "output_type": "execute_result"
    }
   ],
   "source": [
    "a"
   ]
  },
  {
   "cell_type": "code",
   "execution_count": 44,
   "id": "a6cd2cfc",
   "metadata": {},
   "outputs": [
    {
     "data": {
      "text/plain": [
       "array([[0, 1, 2],\n",
       "       [3, 4, 5],\n",
       "       [6, 7, 8]])"
      ]
     },
     "execution_count": 44,
     "metadata": {},
     "output_type": "execute_result"
    }
   ],
   "source": [
    "b"
   ]
  },
  {
   "cell_type": "code",
   "execution_count": 46,
   "id": "2d3935d8",
   "metadata": {},
   "outputs": [
    {
     "data": {
      "text/plain": [
       "array([[[0., 1., 2.],\n",
       "        [3., 4., 5.],\n",
       "        [6., 7., 8.]],\n",
       "\n",
       "       [[0., 1., 2.],\n",
       "        [3., 4., 5.],\n",
       "        [6., 7., 8.]],\n",
       "\n",
       "       [[0., 1., 2.],\n",
       "        [3., 4., 5.],\n",
       "        [6., 7., 8.]]])"
      ]
     },
     "execution_count": 46,
     "metadata": {},
     "output_type": "execute_result"
    }
   ],
   "source": [
    "b[np.newaxis,:,:]+a"
   ]
  },
  {
   "cell_type": "markdown",
   "id": "37f204e2",
   "metadata": {},
   "source": [
    "### Given the NumPy array arr, which of the following line of code will return the expected output?\n",
    "\n",
    "    import numpy as np\n",
    "    arr= np.array([[2,3,4,5],[1,7,3,5],[2,8,6,9],[11,23,12,19]])\n",
    "\n",
    "    a.\n",
    "\n",
    "    arr1 = np.array([[2,2,2,2]])\n",
    "    def func(x, y):\n",
    "        return x * y\n",
    "    vec = np.vectorize(func)\n",
    "    vec(arr,arr1)\n",
    "\n",
    "    b.\n",
    "\n",
    "    arr1 = np.array([[2],[2],[2],[2]])\n",
    "    def func(x, y):\n",
    "        return x * y\n",
    "    vec = np.vectorize(func)\n",
    "    vec(arr, arr1)\n",
    "\n",
    "\n",
    "    c.\n",
    "\n",
    "    arr1 = 2\n",
    "    def func(x, y):\n",
    "        return x * y\n",
    "    vec = np.vectorize(func)\n",
    "    vec(arr, arr1)\n",
    "\n",
    "    Expected output:\n",
    "\n",
    "    array ([[4,6,8,10],\n",
    "            [2,14,6,10],\n",
    "            [4,16,12,18],\n",
    "            [22,46,24,38]])"
   ]
  },
  {
   "cell_type": "code",
   "execution_count": 48,
   "id": "49b5290d",
   "metadata": {},
   "outputs": [],
   "source": [
    "arr= np.array([[2,3,4,5],[1,7,3,5],[2,8,6,9],[11,23,12,19]])"
   ]
  },
  {
   "cell_type": "code",
   "execution_count": 49,
   "id": "aced4981",
   "metadata": {},
   "outputs": [
    {
     "data": {
      "text/plain": [
       "array([[ 4,  6,  8, 10],\n",
       "       [ 2, 14,  6, 10],\n",
       "       [ 4, 16, 12, 18],\n",
       "       [22, 46, 24, 38]])"
      ]
     },
     "execution_count": 49,
     "metadata": {},
     "output_type": "execute_result"
    }
   ],
   "source": [
    "arr1 = np.array([[2,2,2,2]])\n",
    "def func(x, y):\n",
    "    return x * y\n",
    "vec = np.vectorize(func)\n",
    "vec(arr,arr1)"
   ]
  },
  {
   "cell_type": "code",
   "execution_count": 50,
   "id": "4ec0dfd4",
   "metadata": {},
   "outputs": [
    {
     "data": {
      "text/plain": [
       "array([[ 4,  6,  8, 10],\n",
       "       [ 2, 14,  6, 10],\n",
       "       [ 4, 16, 12, 18],\n",
       "       [22, 46, 24, 38]])"
      ]
     },
     "execution_count": 50,
     "metadata": {},
     "output_type": "execute_result"
    }
   ],
   "source": [
    "arr1 = np.array([[2],[2],[2],[2]])\n",
    "def func(x, y):\n",
    "    return x * y\n",
    "vec = np.vectorize(func)\n",
    "vec(arr, arr1)"
   ]
  },
  {
   "cell_type": "code",
   "execution_count": 51,
   "id": "6a59b954",
   "metadata": {},
   "outputs": [
    {
     "data": {
      "text/plain": [
       "array([[ 4,  6,  8, 10],\n",
       "       [ 2, 14,  6, 10],\n",
       "       [ 4, 16, 12, 18],\n",
       "       [22, 46, 24, 38]])"
      ]
     },
     "execution_count": 51,
     "metadata": {},
     "output_type": "execute_result"
    }
   ],
   "source": [
    "arr1 = 2\n",
    "def func(x, y):\n",
    "    return x * y\n",
    "vec = np.vectorize(func)\n",
    "vec(arr, arr1)"
   ]
  },
  {
   "cell_type": "code",
   "execution_count": null,
   "id": "2f5a7696",
   "metadata": {},
   "outputs": [],
   "source": []
  },
  {
   "cell_type": "markdown",
   "id": "41f03b59",
   "metadata": {},
   "source": [
    "### Which of the following option(s) can add 1 to each element of array A?\n",
    "\n",
    "    A = np.array([2, 0, 1, 9, 1, 1, 1, 0, 3, 5])"
   ]
  },
  {
   "cell_type": "code",
   "execution_count": 52,
   "id": "854d870f",
   "metadata": {},
   "outputs": [],
   "source": [
    "A = np.array([2, 0, 1, 9, 1, 1, 1, 0, 3, 5])"
   ]
  },
  {
   "cell_type": "code",
   "execution_count": 53,
   "id": "f90c7982",
   "metadata": {},
   "outputs": [
    {
     "data": {
      "text/plain": [
       "array([ 3,  1,  2, 10,  2,  2,  2,  1,  4,  6])"
      ]
     },
     "execution_count": 53,
     "metadata": {},
     "output_type": "execute_result"
    }
   ],
   "source": [
    "A+1"
   ]
  },
  {
   "cell_type": "code",
   "execution_count": 54,
   "id": "81298d24",
   "metadata": {},
   "outputs": [
    {
     "data": {
      "text/plain": [
       "[3, 1, 2, 10, 2, 2, 2, 1, 4, 6]"
      ]
     },
     "execution_count": 54,
     "metadata": {},
     "output_type": "execute_result"
    }
   ],
   "source": [
    "[x+1 for x in A]"
   ]
  },
  {
   "cell_type": "code",
   "execution_count": 56,
   "id": "f84978a4",
   "metadata": {},
   "outputs": [
    {
     "data": {
      "text/plain": [
       "[3, 1, 2, 10, 2, 2, 2, 1, 4, 6]"
      ]
     },
     "execution_count": 56,
     "metadata": {},
     "output_type": "execute_result"
    }
   ],
   "source": [
    "list(map(lambda x:x+1,A))"
   ]
  },
  {
   "cell_type": "code",
   "execution_count": null,
   "id": "269e3a62",
   "metadata": {},
   "outputs": [],
   "source": []
  },
  {
   "cell_type": "markdown",
   "id": "0e3c2234",
   "metadata": {},
   "source": [
    "### What will be the outcome of the following code snippet ?\n",
    "\n",
    "    x = np.ones((5,5))\n",
    "    x[1:-1,1:-1] = 0"
   ]
  },
  {
   "cell_type": "code",
   "execution_count": 58,
   "id": "23e2a88f",
   "metadata": {},
   "outputs": [],
   "source": [
    "x = np.ones((5,5))\n"
   ]
  },
  {
   "cell_type": "code",
   "execution_count": 61,
   "id": "4b228577",
   "metadata": {},
   "outputs": [
    {
     "data": {
      "text/plain": [
       "array([[1., 1., 1., 1., 1.],\n",
       "       [1., 1., 1., 1., 1.],\n",
       "       [1., 1., 1., 1., 1.],\n",
       "       [1., 1., 1., 1., 1.],\n",
       "       [1., 1., 1., 1., 1.]])"
      ]
     },
     "execution_count": 61,
     "metadata": {},
     "output_type": "execute_result"
    }
   ],
   "source": [
    "x"
   ]
  },
  {
   "cell_type": "code",
   "execution_count": 62,
   "id": "62c0b5d5",
   "metadata": {},
   "outputs": [],
   "source": [
    "x[1:-1,1:-1] = 0"
   ]
  },
  {
   "cell_type": "code",
   "execution_count": 63,
   "id": "62ad9331",
   "metadata": {},
   "outputs": [
    {
     "data": {
      "text/plain": [
       "array([[1., 1., 1., 1., 1.],\n",
       "       [1., 0., 0., 0., 1.],\n",
       "       [1., 0., 0., 0., 1.],\n",
       "       [1., 0., 0., 0., 1.],\n",
       "       [1., 1., 1., 1., 1.]])"
      ]
     },
     "execution_count": 63,
     "metadata": {},
     "output_type": "execute_result"
    }
   ],
   "source": [
    "x"
   ]
  },
  {
   "cell_type": "code",
   "execution_count": null,
   "id": "710e99c2",
   "metadata": {},
   "outputs": [],
   "source": []
  },
  {
   "cell_type": "markdown",
   "id": "92db87cd",
   "metadata": {},
   "source": [
    "### Given a Numpy array of integers as an input to the function binary(), complete the given function to convert each element in the array into its binary representation.\n",
    "\n",
    "    For example: In binary, 5 => 101, 7 => 111, 10 => 1010.\n",
    "\n",
    "    Note: You are not allowed to use the inbuilt bin() function and both input and output array have elements of datatype 'int'.\n",
    "\n",
    "    Input Format:\n",
    "\n",
    "    A list is taken as input which is then typecasted to a NumPy array.\n",
    "    Output Format:\n",
    "\n",
    "    A NumPy array is printed.\n",
    "    Sample Input:\n",
    "\n",
    "    [[2,3,4], [5,6,7]]\n",
    "    Sample Output:\n",
    "\n",
    "    [[ 10  11 100]\n",
    "     [101 110 111]]  "
   ]
  },
  {
   "cell_type": "code",
   "execution_count": 64,
   "id": "c540f91b",
   "metadata": {},
   "outputs": [],
   "source": [
    "def binary(arr):\n",
    "    def con_bin(n):\n",
    "        s = \"\"\n",
    "        while n>0:\n",
    "            s = s+str(n%2)\n",
    "            n = n//2\n",
    "        return int(s[::-1])\n",
    "    return np.vectorize(con_bin)(arr)"
   ]
  },
  {
   "cell_type": "code",
   "execution_count": 65,
   "id": "54ef399a",
   "metadata": {},
   "outputs": [
    {
     "data": {
      "text/plain": [
       "array([[ 10,  11, 100],\n",
       "       [101, 110, 111]])"
      ]
     },
     "execution_count": 65,
     "metadata": {},
     "output_type": "execute_result"
    }
   ],
   "source": [
    "binary([[2,3,4],\n",
    "        [5,6,7]])"
   ]
  },
  {
   "cell_type": "code",
   "execution_count": null,
   "id": "1f248364",
   "metadata": {},
   "outputs": [],
   "source": []
  },
  {
   "cell_type": "markdown",
   "id": "a606b0f6",
   "metadata": {},
   "source": [
    "### You are a Teaching Assistant of the DSML course. You have access to every student’s marks in every quiz. The marks are stored in a matrix where matrix[i][j] represents the marks of the ith student in the jth quiz.\n",
    "\n",
    "    The course instructor wants you to sort the marks of students according to jth quiz in increasing order so that he can evaluate the performance of students in that particular quiz.\n",
    "\n",
    "    Here, you have to create a python program using which the instructor can sort the data on the basis of a given column(quiz). The program will return the matrix with the marks sorted in jth quiz.\n",
    "\n",
    "    The dimension of the input matrix is mxn, the output is expected to be a 2d numpy matrix of dimension mxn, but in the output the jth column must be arranged in the ascending order.\n",
    "\n",
    "    Note: The input will be 2D list not array. First convert it to array.\n",
    "\n",
    "    Input Format:\n",
    "\n",
    "    Number of test cases\n",
    "    For each test case, number of rows for matrix and the column to be sorted in a new line.\n",
    "    For each row in matrix, space separated integers are taken as input in a new line.\n",
    "    Output Format:\n",
    "\n",
    "    The 2D matrix, or each row in matrix space separated integers\n",
    "    Sample Input:\n",
    "\n",
    "    1\n",
    "    3 2 \n",
    "    5 3 9\n",
    "    2 1 4\n",
    "    7 6 8\n",
    "    Sample Output:\n",
    "\n",
    "    [[2 1 4]\n",
    "     [5 3 9]\n",
    "     [7 6 8]]"
   ]
  },
  {
   "cell_type": "code",
   "execution_count": 68,
   "id": "c6822815",
   "metadata": {},
   "outputs": [],
   "source": [
    "A = np.array([[5, 3, 9],\n",
    "            [2 ,1, 4],\n",
    "            [7 ,6 ,8]])"
   ]
  },
  {
   "cell_type": "code",
   "execution_count": 69,
   "id": "1e421b15",
   "metadata": {},
   "outputs": [
    {
     "data": {
      "text/plain": [
       "array([[5, 3, 9],\n",
       "       [2, 1, 4],\n",
       "       [7, 6, 8]])"
      ]
     },
     "execution_count": 69,
     "metadata": {},
     "output_type": "execute_result"
    }
   ],
   "source": [
    "A"
   ]
  },
  {
   "cell_type": "code",
   "execution_count": 73,
   "id": "fa64f801",
   "metadata": {},
   "outputs": [],
   "source": [
    "j = 2"
   ]
  },
  {
   "cell_type": "code",
   "execution_count": 74,
   "id": "0c0df702",
   "metadata": {},
   "outputs": [
    {
     "data": {
      "text/plain": [
       "array([3, 1, 6])"
      ]
     },
     "execution_count": 74,
     "metadata": {},
     "output_type": "execute_result"
    }
   ],
   "source": [
    "A[:,1]"
   ]
  },
  {
   "cell_type": "code",
   "execution_count": 75,
   "id": "4ff0b422",
   "metadata": {},
   "outputs": [
    {
     "data": {
      "text/plain": [
       "array([3, 1, 6])"
      ]
     },
     "execution_count": 75,
     "metadata": {},
     "output_type": "execute_result"
    }
   ],
   "source": [
    "A[:,j-1]"
   ]
  },
  {
   "cell_type": "code",
   "execution_count": 76,
   "id": "273a7d90",
   "metadata": {},
   "outputs": [
    {
     "data": {
      "text/plain": [
       "array([1, 0, 2], dtype=int64)"
      ]
     },
     "execution_count": 76,
     "metadata": {},
     "output_type": "execute_result"
    }
   ],
   "source": [
    "A[:,j-1].argsort()"
   ]
  },
  {
   "cell_type": "code",
   "execution_count": 77,
   "id": "19c62395",
   "metadata": {},
   "outputs": [
    {
     "data": {
      "text/plain": [
       "array([[2, 1, 4],\n",
       "       [5, 3, 9],\n",
       "       [7, 6, 8]])"
      ]
     },
     "execution_count": 77,
     "metadata": {},
     "output_type": "execute_result"
    }
   ],
   "source": [
    "A[A[:,j-1].argsort()]"
   ]
  },
  {
   "cell_type": "code",
   "execution_count": null,
   "id": "bd37ddb4",
   "metadata": {},
   "outputs": [],
   "source": []
  },
  {
   "cell_type": "code",
   "execution_count": null,
   "id": "f541633e",
   "metadata": {},
   "outputs": [],
   "source": []
  },
  {
   "cell_type": "code",
   "execution_count": null,
   "id": "b36795a3",
   "metadata": {},
   "outputs": [],
   "source": []
  },
  {
   "cell_type": "code",
   "execution_count": null,
   "id": "386f704f",
   "metadata": {},
   "outputs": [],
   "source": []
  },
  {
   "cell_type": "markdown",
   "id": "d7d1b1a5",
   "metadata": {},
   "source": [
    "### You are a developer for Scalar, and are tasked to write a program that can find the number of times a student has accessed a particular question.\n",
    "\n",
    "    For this, you proposed that every time a student opens a question, the question’s id will be appended to the row representing the student’s id in a matrix. For example, if student i opens question j, j will be appended to ith row of the matrix.\n",
    "    For the prototype, we have limited the number of questions to 10 for consideration. So id of questions <=10. Return the matrix with the same number of rows(m) as that of the input matrix, but this time matrix[i][j] should represent the number of times student i accessed question j. The output matrix is a 2d-numpy matrix of dimension (m*10).\n",
    "\n",
    "    Input Format:\n",
    "\n",
    "    number of test cases\n",
    "    for each test case (number of rows for matrix, number of columns for the matrix)\n",
    "    for each row in matrix space separated integers\n",
    "    Output Format:\n",
    "\n",
    "    Return the 2d numpy array.\n",
    "    Sample input:\n",
    "\n",
    "    1\n",
    "    5\n",
    "    1 1 2 5 7 6 7 7 6 3 \n",
    "    8 5 4 7 5 2 6 10 1 7 \n",
    "    4 3 10 4 4 4 3 1 4 3 \n",
    "    1 4 1 1 8 4 9 8 5 5 \n",
    "    1 1 4 4 2 10 5 6 8 1 \n",
    "\n",
    "    Sample output:\n",
    "\n",
    "    [[2 1 1 0 1 2 3 0 0 0]\n",
    "     [1 1 0 1 2 1 2 1 0 1]\n",
    "     [1 0 3 5 0 0 0 0 0 1]\n",
    "     [3 0 0 2 2 0 0 2 1 0]\n",
    "     [3 1 0 2 1 1 0 1 0 1]]"
   ]
  },
  {
   "cell_type": "code",
   "execution_count": 79,
   "id": "43079201",
   "metadata": {},
   "outputs": [],
   "source": [
    "arr = np.array([[1, 1, 2, 5, 7, 6, 7, 7, 6, 3], \n",
    "[8, 5, 4 ,7 ,5 ,2 ,6 ,10, 1, 7], \n",
    "[4, 3, 10, 4, 4, 4, 3, 1, 4, 3], \n",
    "[1, 4, 1, 1, 8, 4, 9, 8, 5, 5], \n",
    "[1, 1, 4, 4, 2, 10, 5, 6, 8, 1]])"
   ]
  },
  {
   "cell_type": "code",
   "execution_count": 80,
   "id": "3c63153c",
   "metadata": {},
   "outputs": [
    {
     "data": {
      "text/plain": [
       "array([[ 1,  1,  2,  5,  7,  6,  7,  7,  6,  3],\n",
       "       [ 8,  5,  4,  7,  5,  2,  6, 10,  1,  7],\n",
       "       [ 4,  3, 10,  4,  4,  4,  3,  1,  4,  3],\n",
       "       [ 1,  4,  1,  1,  8,  4,  9,  8,  5,  5],\n",
       "       [ 1,  1,  4,  4,  2, 10,  5,  6,  8,  1]])"
      ]
     },
     "execution_count": 80,
     "metadata": {},
     "output_type": "execute_result"
    }
   ],
   "source": [
    "arr"
   ]
  },
  {
   "cell_type": "code",
   "execution_count": 85,
   "id": "39111128",
   "metadata": {},
   "outputs": [],
   "source": [
    "r = arr[0]"
   ]
  },
  {
   "cell_type": "code",
   "execution_count": 92,
   "id": "c1c0843f",
   "metadata": {},
   "outputs": [
    {
     "data": {
      "text/plain": [
       "(array([1, 2, 3, 5, 6, 7]), array([2, 1, 1, 1, 2, 3], dtype=int64))"
      ]
     },
     "execution_count": 92,
     "metadata": {},
     "output_type": "execute_result"
    }
   ],
   "source": [
    "unique,freq = np.unique(r,return_counts = True)\n",
    "unique,freq"
   ]
  },
  {
   "cell_type": "code",
   "execution_count": 91,
   "id": "06b9ea9b",
   "metadata": {},
   "outputs": [
    {
     "data": {
      "text/plain": [
       "array([0, 0, 0, 0, 0, 0, 0, 0, 0, 0])"
      ]
     },
     "execution_count": 91,
     "metadata": {},
     "output_type": "execute_result"
    }
   ],
   "source": [
    "zeros = np.zeros(len(r),dtype=\"int\")\n",
    "zeros"
   ]
  },
  {
   "cell_type": "code",
   "execution_count": 95,
   "id": "5b8b12d2",
   "metadata": {},
   "outputs": [],
   "source": [
    "zeros[unique-1] = freq"
   ]
  },
  {
   "cell_type": "code",
   "execution_count": 96,
   "id": "73ff6125",
   "metadata": {},
   "outputs": [
    {
     "data": {
      "text/plain": [
       "array([2, 1, 1, 0, 1, 2, 3, 0, 0, 0])"
      ]
     },
     "execution_count": 96,
     "metadata": {},
     "output_type": "execute_result"
    }
   ],
   "source": [
    "zeros"
   ]
  },
  {
   "cell_type": "code",
   "execution_count": 97,
   "id": "dd152715",
   "metadata": {},
   "outputs": [],
   "source": [
    "def countfreq(arr2d):\n",
    "    \n",
    "    def asdasd(row):\n",
    "        row  = np.array(row)\n",
    "        uniq, freq = np.unique(row,return_counts=True)\n",
    "        zeros = np.zeros(len(row),dtype=\"int\")\n",
    "        zeros[uniq-1] = freq\n",
    "        return zeros\n",
    "    \n",
    "    ans = []\n",
    "\n",
    "    for i in arr2d:\n",
    "        ans.append(asdasd(i))\n",
    "    return np.array(ans)"
   ]
  },
  {
   "cell_type": "code",
   "execution_count": 98,
   "id": "a128f515",
   "metadata": {},
   "outputs": [
    {
     "data": {
      "text/plain": [
       "array([[2, 1, 1, 0, 1, 2, 3, 0, 0, 0],\n",
       "       [1, 1, 0, 1, 2, 1, 2, 1, 0, 1],\n",
       "       [1, 0, 3, 5, 0, 0, 0, 0, 0, 1],\n",
       "       [3, 0, 0, 2, 2, 0, 0, 2, 1, 0],\n",
       "       [3, 1, 0, 2, 1, 1, 0, 1, 0, 1]])"
      ]
     },
     "execution_count": 98,
     "metadata": {},
     "output_type": "execute_result"
    }
   ],
   "source": [
    "countfreq(arr)"
   ]
  },
  {
   "cell_type": "code",
   "execution_count": null,
   "id": "d27989c3",
   "metadata": {},
   "outputs": [],
   "source": []
  },
  {
   "cell_type": "code",
   "execution_count": null,
   "id": "80d7956e",
   "metadata": {},
   "outputs": [],
   "source": []
  },
  {
   "cell_type": "code",
   "execution_count": null,
   "id": "3e2472ab",
   "metadata": {},
   "outputs": [],
   "source": []
  },
  {
   "cell_type": "code",
   "execution_count": null,
   "id": "d9a99bca",
   "metadata": {},
   "outputs": [],
   "source": []
  },
  {
   "cell_type": "code",
   "execution_count": null,
   "id": "b3a1fe28",
   "metadata": {},
   "outputs": [],
   "source": []
  },
  {
   "cell_type": "code",
   "execution_count": null,
   "id": "f5988916",
   "metadata": {},
   "outputs": [],
   "source": []
  },
  {
   "cell_type": "code",
   "execution_count": null,
   "id": "1cfa3a14",
   "metadata": {},
   "outputs": [],
   "source": []
  },
  {
   "cell_type": "code",
   "execution_count": null,
   "id": "941aa418",
   "metadata": {},
   "outputs": [],
   "source": []
  },
  {
   "cell_type": "code",
   "execution_count": null,
   "id": "8e81e201",
   "metadata": {},
   "outputs": [],
   "source": []
  },
  {
   "cell_type": "code",
   "execution_count": null,
   "id": "8a25512f",
   "metadata": {},
   "outputs": [],
   "source": []
  },
  {
   "cell_type": "code",
   "execution_count": null,
   "id": "87a7d02f",
   "metadata": {},
   "outputs": [],
   "source": []
  },
  {
   "cell_type": "code",
   "execution_count": null,
   "id": "f5698d5f",
   "metadata": {},
   "outputs": [],
   "source": []
  },
  {
   "cell_type": "code",
   "execution_count": null,
   "id": "e70eb0b2",
   "metadata": {},
   "outputs": [],
   "source": []
  },
  {
   "cell_type": "code",
   "execution_count": null,
   "id": "d91ad12d",
   "metadata": {},
   "outputs": [],
   "source": []
  },
  {
   "cell_type": "code",
   "execution_count": null,
   "id": "1757da13",
   "metadata": {},
   "outputs": [],
   "source": []
  },
  {
   "cell_type": "code",
   "execution_count": null,
   "id": "f8b4c569",
   "metadata": {},
   "outputs": [],
   "source": []
  },
  {
   "cell_type": "code",
   "execution_count": null,
   "id": "4698846c",
   "metadata": {},
   "outputs": [],
   "source": []
  },
  {
   "cell_type": "code",
   "execution_count": null,
   "id": "f2de9541",
   "metadata": {},
   "outputs": [],
   "source": []
  },
  {
   "cell_type": "code",
   "execution_count": null,
   "id": "0f481378",
   "metadata": {},
   "outputs": [],
   "source": []
  },
  {
   "cell_type": "code",
   "execution_count": null,
   "id": "7fef5101",
   "metadata": {},
   "outputs": [],
   "source": []
  },
  {
   "cell_type": "code",
   "execution_count": null,
   "id": "585d5a2f",
   "metadata": {},
   "outputs": [],
   "source": []
  },
  {
   "cell_type": "code",
   "execution_count": null,
   "id": "d2bc1fac",
   "metadata": {},
   "outputs": [],
   "source": []
  },
  {
   "cell_type": "code",
   "execution_count": null,
   "id": "a7e3ac13",
   "metadata": {},
   "outputs": [],
   "source": []
  },
  {
   "cell_type": "code",
   "execution_count": null,
   "id": "2b7e252f",
   "metadata": {},
   "outputs": [],
   "source": []
  },
  {
   "cell_type": "code",
   "execution_count": null,
   "id": "007bd99b",
   "metadata": {},
   "outputs": [],
   "source": []
  },
  {
   "cell_type": "code",
   "execution_count": null,
   "id": "d49f0f17",
   "metadata": {},
   "outputs": [],
   "source": []
  },
  {
   "cell_type": "code",
   "execution_count": null,
   "id": "83824911",
   "metadata": {},
   "outputs": [],
   "source": []
  },
  {
   "cell_type": "code",
   "execution_count": null,
   "id": "b05a23ff",
   "metadata": {},
   "outputs": [],
   "source": []
  },
  {
   "cell_type": "code",
   "execution_count": null,
   "id": "629cac91",
   "metadata": {},
   "outputs": [],
   "source": []
  },
  {
   "cell_type": "code",
   "execution_count": null,
   "id": "8a87e39e",
   "metadata": {},
   "outputs": [],
   "source": []
  },
  {
   "cell_type": "code",
   "execution_count": null,
   "id": "291b2485",
   "metadata": {},
   "outputs": [],
   "source": []
  },
  {
   "cell_type": "code",
   "execution_count": null,
   "id": "5bb3995f",
   "metadata": {},
   "outputs": [],
   "source": []
  },
  {
   "cell_type": "code",
   "execution_count": null,
   "id": "5caed3e3",
   "metadata": {},
   "outputs": [],
   "source": []
  },
  {
   "cell_type": "code",
   "execution_count": null,
   "id": "a6aa3b2d",
   "metadata": {},
   "outputs": [],
   "source": []
  },
  {
   "cell_type": "code",
   "execution_count": null,
   "id": "a32e10c3",
   "metadata": {},
   "outputs": [],
   "source": []
  },
  {
   "cell_type": "code",
   "execution_count": null,
   "id": "a9cf6a1b",
   "metadata": {},
   "outputs": [],
   "source": []
  },
  {
   "cell_type": "code",
   "execution_count": null,
   "id": "d303b8b7",
   "metadata": {},
   "outputs": [],
   "source": []
  },
  {
   "cell_type": "code",
   "execution_count": null,
   "id": "d1023d95",
   "metadata": {},
   "outputs": [],
   "source": []
  },
  {
   "cell_type": "code",
   "execution_count": null,
   "id": "b88d3cad",
   "metadata": {},
   "outputs": [],
   "source": []
  },
  {
   "cell_type": "code",
   "execution_count": null,
   "id": "537b5a97",
   "metadata": {},
   "outputs": [],
   "source": []
  },
  {
   "cell_type": "code",
   "execution_count": null,
   "id": "f6445b7f",
   "metadata": {},
   "outputs": [],
   "source": []
  },
  {
   "cell_type": "code",
   "execution_count": null,
   "id": "89abac92",
   "metadata": {},
   "outputs": [],
   "source": []
  },
  {
   "cell_type": "code",
   "execution_count": null,
   "id": "d4ca59a3",
   "metadata": {},
   "outputs": [],
   "source": []
  },
  {
   "cell_type": "code",
   "execution_count": null,
   "id": "2bfc1c26",
   "metadata": {},
   "outputs": [],
   "source": []
  },
  {
   "cell_type": "code",
   "execution_count": null,
   "id": "b6e5a265",
   "metadata": {},
   "outputs": [],
   "source": []
  },
  {
   "cell_type": "code",
   "execution_count": null,
   "id": "b99a6cea",
   "metadata": {},
   "outputs": [],
   "source": []
  },
  {
   "cell_type": "code",
   "execution_count": null,
   "id": "13bdf2c9",
   "metadata": {},
   "outputs": [],
   "source": []
  },
  {
   "cell_type": "code",
   "execution_count": null,
   "id": "91d90100",
   "metadata": {},
   "outputs": [],
   "source": []
  },
  {
   "cell_type": "code",
   "execution_count": null,
   "id": "6d149371",
   "metadata": {},
   "outputs": [],
   "source": []
  },
  {
   "cell_type": "code",
   "execution_count": null,
   "id": "02689aac",
   "metadata": {},
   "outputs": [],
   "source": []
  },
  {
   "cell_type": "code",
   "execution_count": null,
   "id": "8b4a5a51",
   "metadata": {},
   "outputs": [],
   "source": []
  },
  {
   "cell_type": "code",
   "execution_count": null,
   "id": "d9be42aa",
   "metadata": {},
   "outputs": [],
   "source": []
  }
 ],
 "metadata": {
  "kernelspec": {
   "display_name": "Python 3 (ipykernel)",
   "language": "python",
   "name": "python3"
  },
  "language_info": {
   "codemirror_mode": {
    "name": "ipython",
    "version": 3
   },
   "file_extension": ".py",
   "mimetype": "text/x-python",
   "name": "python",
   "nbconvert_exporter": "python",
   "pygments_lexer": "ipython3",
   "version": "3.9.7"
  }
 },
 "nbformat": 4,
 "nbformat_minor": 5
}

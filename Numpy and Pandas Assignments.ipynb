{
 "cells": [
  {
   "cell_type": "code",
   "execution_count": 1,
   "id": "2bc03103",
   "metadata": {},
   "outputs": [],
   "source": [
    "import numpy as np"
   ]
  },
  {
   "cell_type": "code",
   "execution_count": null,
   "id": "40cdd45f",
   "metadata": {},
   "outputs": [],
   "source": []
  },
  {
   "cell_type": "markdown",
   "id": "73d85359",
   "metadata": {},
   "source": [
    "### Gunjan is working on a swap of drones that can perform light shows.\n",
    "### For that, she is maintaining a list of the height of each drone and is updating that for each step.\n",
    "    Height = [h1,h2,h3………hn] # height of each drone\n",
    "    Delta_h = [d1,d2,d3……dn] # change in height of each drone\n",
    "\n",
    "#### For each second she updates the Height array by adding the corresponding change to the height.\n",
    "\n",
    "### For that, she tried out 2 methods as listed below. Help her in arranging them in ascending order of time.\n",
    "\n",
    "\n",
    "    (A) Numpy operator\n",
    "\n",
    "    import numpy as np\n",
    "\n",
    "    def update_height(height,delta):\n",
    "\n",
    "       height = np.array(height)\n",
    "\n",
    "       delta = np.array(delta)\n",
    "\n",
    "       new_height = height+delta \n",
    "\n",
    "       return new_height\n",
    "\n",
    "    (B) Python operation\n",
    "\n",
    "\n",
    "    def update_height(height, delta):\n",
    "\n",
    "        new_height=[]\n",
    "\n",
    "        for i in range(len(height)):\n",
    "\n",
    "            new_height.append(height[i]+delta[i])\n",
    "\n",
    "        return new_height"
   ]
  },
  {
   "cell_type": "code",
   "execution_count": 2,
   "id": "05d9c1da",
   "metadata": {},
   "outputs": [],
   "source": [
    "H = list(range(50,50000000))"
   ]
  },
  {
   "cell_type": "code",
   "execution_count": 3,
   "id": "10f190d3",
   "metadata": {},
   "outputs": [],
   "source": [
    "dH = [5 for x in range(50,50000000)]"
   ]
  },
  {
   "cell_type": "code",
   "execution_count": 4,
   "id": "0979ffe0",
   "metadata": {},
   "outputs": [],
   "source": [
    "def update_height(height,delta):\n",
    "    height = np.array(height)\n",
    "    delta = np.array(delta)\n",
    "    new_height = height + delta\n",
    "    return new_height"
   ]
  },
  {
   "cell_type": "code",
   "execution_count": 5,
   "id": "406f2ea3",
   "metadata": {},
   "outputs": [
    {
     "name": "stdout",
     "output_type": "stream",
     "text": [
      "Wall time: 0 ns\n"
     ]
    },
    {
     "data": {
      "text/plain": [
       "array([      55,       56,       57, ..., 50000002, 50000003, 50000004])"
      ]
     },
     "execution_count": 5,
     "metadata": {},
     "output_type": "execute_result"
    }
   ],
   "source": [
    "%time\n",
    "update_height(H,dH)"
   ]
  },
  {
   "cell_type": "code",
   "execution_count": 6,
   "id": "6c0d368c",
   "metadata": {
    "scrolled": true
   },
   "outputs": [],
   "source": [
    "def update_height_py(height, delta):\n",
    "    new_height=[]\n",
    "    for i in range(len(height)):\n",
    "        new_height.append(height[i]+delta[i])\n",
    "        \n",
    "    return new_height\n"
   ]
  },
  {
   "cell_type": "code",
   "execution_count": null,
   "id": "5988daab",
   "metadata": {
    "scrolled": true
   },
   "outputs": [],
   "source": []
  },
  {
   "cell_type": "markdown",
   "id": "a670146e",
   "metadata": {},
   "source": [
    "### Which option is right about the output of the following code snippet?\n",
    "\n",
    "    x = np.array([-5, 9 , 20 , 25, -3, 5, 16, 10])\n",
    "    x[(x >= -5) & (x <= 15)] *= -1 \n",
    "    Note: Recall the masking with assignment question discussed in class"
   ]
  },
  {
   "cell_type": "code",
   "execution_count": 7,
   "id": "f2ba41a4",
   "metadata": {},
   "outputs": [],
   "source": [
    "x = np.array([-5, 9 , 20 , 25, -3, 5, 16, 10])"
   ]
  },
  {
   "cell_type": "code",
   "execution_count": 8,
   "id": "c782e3b6",
   "metadata": {},
   "outputs": [],
   "source": [
    "x[(x >= -5) & (x <= 15)] *= -1 "
   ]
  },
  {
   "cell_type": "code",
   "execution_count": 9,
   "id": "3f64a7b9",
   "metadata": {},
   "outputs": [
    {
     "data": {
      "text/plain": [
       "array([  5,  -9,  20,  25,   3,  -5,  16, -10])"
      ]
     },
     "execution_count": 9,
     "metadata": {},
     "output_type": "execute_result"
    }
   ],
   "source": [
    "x"
   ]
  },
  {
   "cell_type": "code",
   "execution_count": null,
   "id": "6ea78c94",
   "metadata": {},
   "outputs": [],
   "source": []
  },
  {
   "cell_type": "markdown",
   "id": "287250b7",
   "metadata": {},
   "source": [
    "### a. What is the last element of the output?"
   ]
  },
  {
   "cell_type": "code",
   "execution_count": 10,
   "id": "fd68ed62",
   "metadata": {},
   "outputs": [
    {
     "name": "stdout",
     "output_type": "stream",
     "text": [
      "['Astha' 'Raghavendra' 'Ram']\n"
     ]
    }
   ],
   "source": [
    "print(np.sort(np.array(['Ram','Astha','Raghavendra'])))"
   ]
  },
  {
   "cell_type": "code",
   "execution_count": 11,
   "id": "0a0dc9fc",
   "metadata": {},
   "outputs": [
    {
     "data": {
      "text/plain": [
       "array([False, False, False])"
      ]
     },
     "execution_count": 11,
     "metadata": {},
     "output_type": "execute_result"
    }
   ],
   "source": [
    "arr1 = np.array(['Ram','Astha','Brahat'])\n",
    "arr2 = np.array(['Shyam','Kalyan','Naveen'])\n",
    "arr1 > arr2"
   ]
  },
  {
   "cell_type": "code",
   "execution_count": null,
   "id": "e172163b",
   "metadata": {},
   "outputs": [],
   "source": []
  },
  {
   "cell_type": "markdown",
   "id": "be43786a",
   "metadata": {},
   "source": [
    "### You are given NumPy arrays A, B, and C, where:\n",
    "\n",
    "    A.shape = (m,)\n",
    "\n",
    "    B.shape = (n, 1)\n",
    "\n",
    "    C.shape = (n, m)\n",
    "\n",
    "#### Which of the following operations can be performed on A, B, and C?\n",
    "##### Note: np is the alias for NumPy in the options."
   ]
  },
  {
   "cell_type": "code",
   "execution_count": 13,
   "id": "8b49174a",
   "metadata": {},
   "outputs": [
    {
     "data": {
      "text/plain": [
       "(3,)"
      ]
     },
     "execution_count": 13,
     "metadata": {},
     "output_type": "execute_result"
    }
   ],
   "source": [
    "A = np.array([1,2,3])\n",
    "A.shape"
   ]
  },
  {
   "cell_type": "code",
   "execution_count": 17,
   "id": "3bb24d11",
   "metadata": {},
   "outputs": [
    {
     "data": {
      "text/plain": [
       "(4, 1)"
      ]
     },
     "execution_count": 17,
     "metadata": {},
     "output_type": "execute_result"
    }
   ],
   "source": [
    "B = np.array([[1],[2],[3],[4]])\n",
    "B.shape"
   ]
  },
  {
   "cell_type": "code",
   "execution_count": 19,
   "id": "2b1f9dbd",
   "metadata": {},
   "outputs": [
    {
     "data": {
      "text/plain": [
       "(4, 3)"
      ]
     },
     "execution_count": 19,
     "metadata": {},
     "output_type": "execute_result"
    }
   ],
   "source": [
    "C = np.array([[1,2,4],\n",
    "             [7,8,9],\n",
    "             [9,5,1],\n",
    "              [7,5,3]])\n",
    "C.shape"
   ]
  },
  {
   "cell_type": "code",
   "execution_count": 20,
   "id": "9f63997f",
   "metadata": {},
   "outputs": [
    {
     "data": {
      "text/plain": [
       "array([[1],\n",
       "       [2],\n",
       "       [3],\n",
       "       [4]])"
      ]
     },
     "execution_count": 20,
     "metadata": {},
     "output_type": "execute_result"
    }
   ],
   "source": [
    "B"
   ]
  },
  {
   "cell_type": "code",
   "execution_count": 21,
   "id": "21b7ad5c",
   "metadata": {},
   "outputs": [
    {
     "data": {
      "text/plain": [
       "array([1, 2, 3])"
      ]
     },
     "execution_count": 21,
     "metadata": {},
     "output_type": "execute_result"
    }
   ],
   "source": [
    "A"
   ]
  },
  {
   "cell_type": "code",
   "execution_count": 22,
   "id": "c7f91556",
   "metadata": {},
   "outputs": [
    {
     "data": {
      "text/plain": [
       "array([[1, 2, 4],\n",
       "       [7, 8, 9],\n",
       "       [9, 5, 1],\n",
       "       [7, 5, 3]])"
      ]
     },
     "execution_count": 22,
     "metadata": {},
     "output_type": "execute_result"
    }
   ],
   "source": [
    "C"
   ]
  },
  {
   "cell_type": "code",
   "execution_count": 28,
   "id": "35a85a14",
   "metadata": {},
   "outputs": [
    {
     "data": {
      "text/plain": [
       "array([[1, 7, 9, 7],\n",
       "       [2, 8, 5, 5],\n",
       "       [4, 9, 1, 3]])"
      ]
     },
     "execution_count": 28,
     "metadata": {},
     "output_type": "execute_result"
    }
   ],
   "source": [
    "C.T"
   ]
  },
  {
   "cell_type": "code",
   "execution_count": 29,
   "id": "4ec21c9d",
   "metadata": {},
   "outputs": [
    {
     "data": {
      "text/plain": [
       "array([[1],\n",
       "       [2],\n",
       "       [3]])"
      ]
     },
     "execution_count": 29,
     "metadata": {},
     "output_type": "execute_result"
    }
   ],
   "source": [
    "A.reshape(3,1)"
   ]
  },
  {
   "cell_type": "code",
   "execution_count": 31,
   "id": "c489fdc9",
   "metadata": {},
   "outputs": [
    {
     "data": {
      "text/plain": [
       "array([[1, 7, 9, 7, 1],\n",
       "       [2, 8, 5, 5, 2],\n",
       "       [4, 9, 1, 3, 3]])"
      ]
     },
     "execution_count": 31,
     "metadata": {},
     "output_type": "execute_result"
    }
   ],
   "source": [
    "np.concatenate((C.T,A.reshape(3,1)),axis = 1)"
   ]
  },
  {
   "cell_type": "code",
   "execution_count": null,
   "id": "cd586964",
   "metadata": {},
   "outputs": [],
   "source": []
  },
  {
   "cell_type": "markdown",
   "id": "6cb9e4e2",
   "metadata": {},
   "source": [
    "#### Given the 2-D array X,\n",
    "\n",
    "\n",
    "    X = np.arange(12).reshape(3,4)\n",
    "    So, X is\n",
    "\n",
    "    [[ 0 1 2 3] \n",
    "     [ 4 5 6 7]\n",
    "     [ 8 9 10 11]]\n",
    "    Which of the following is/are true statements."
   ]
  },
  {
   "cell_type": "code",
   "execution_count": 33,
   "id": "fdf10f8e",
   "metadata": {},
   "outputs": [
    {
     "data": {
      "text/plain": [
       "array([[ 0,  1,  2,  3],\n",
       "       [ 4,  5,  6,  7],\n",
       "       [ 8,  9, 10, 11]])"
      ]
     },
     "execution_count": 33,
     "metadata": {},
     "output_type": "execute_result"
    }
   ],
   "source": [
    "\n",
    "X = np.arange(12).reshape(3,4)\n",
    "X"
   ]
  },
  {
   "cell_type": "code",
   "execution_count": 34,
   "id": "1cffbeb1",
   "metadata": {},
   "outputs": [
    {
     "data": {
      "text/plain": [
       "array([ 3,  7, 11])"
      ]
     },
     "execution_count": 34,
     "metadata": {},
     "output_type": "execute_result"
    }
   ],
   "source": [
    "X.max(axis=1)"
   ]
  },
  {
   "cell_type": "code",
   "execution_count": 37,
   "id": "db135e04",
   "metadata": {},
   "outputs": [
    {
     "data": {
      "text/plain": [
       "array([ 3,  7, 11])"
      ]
     },
     "execution_count": 37,
     "metadata": {},
     "output_type": "execute_result"
    }
   ],
   "source": [
    "X.T.max(axis=0)"
   ]
  },
  {
   "cell_type": "code",
   "execution_count": 38,
   "id": "2c203f75",
   "metadata": {},
   "outputs": [
    {
     "data": {
      "text/plain": [
       "[0, 4, 8]"
      ]
     },
     "execution_count": 38,
     "metadata": {},
     "output_type": "execute_result"
    }
   ],
   "source": [
    "[i.min() for i in X]"
   ]
  },
  {
   "cell_type": "code",
   "execution_count": null,
   "id": "40b92ae1",
   "metadata": {},
   "outputs": [],
   "source": []
  },
  {
   "cell_type": "markdown",
   "id": "f6e6ea6a",
   "metadata": {},
   "source": [
    "### For the arrays a and b:\n",
    "\n",
    "    import numpy as np\n",
    "    a = np.zeros(27).reshape(3, 3, 3)\n",
    "    b = np.arange(9).reshape(3, 3) \n",
    "    Which option will give the same output as a+b?\n",
    "\n",
    "    Note: np.newaxis is used to create a new axis in the mentioned dimension."
   ]
  },
  {
   "cell_type": "code",
   "execution_count": 40,
   "id": "5e736cde",
   "metadata": {},
   "outputs": [],
   "source": [
    "a = np.zeros(27).reshape(3, 3, 3)\n",
    "b = np.arange(9).reshape(3, 3) "
   ]
  },
  {
   "cell_type": "code",
   "execution_count": 43,
   "id": "5c0f6843",
   "metadata": {},
   "outputs": [
    {
     "data": {
      "text/plain": [
       "array([[[0., 0., 0.],\n",
       "        [0., 0., 0.],\n",
       "        [0., 0., 0.]],\n",
       "\n",
       "       [[0., 0., 0.],\n",
       "        [0., 0., 0.],\n",
       "        [0., 0., 0.]],\n",
       "\n",
       "       [[0., 0., 0.],\n",
       "        [0., 0., 0.],\n",
       "        [0., 0., 0.]]])"
      ]
     },
     "execution_count": 43,
     "metadata": {},
     "output_type": "execute_result"
    }
   ],
   "source": [
    "a"
   ]
  },
  {
   "cell_type": "code",
   "execution_count": 44,
   "id": "b5347ffc",
   "metadata": {},
   "outputs": [
    {
     "data": {
      "text/plain": [
       "array([[0, 1, 2],\n",
       "       [3, 4, 5],\n",
       "       [6, 7, 8]])"
      ]
     },
     "execution_count": 44,
     "metadata": {},
     "output_type": "execute_result"
    }
   ],
   "source": [
    "b"
   ]
  },
  {
   "cell_type": "code",
   "execution_count": 46,
   "id": "dd9c941f",
   "metadata": {},
   "outputs": [
    {
     "data": {
      "text/plain": [
       "array([[[0., 1., 2.],\n",
       "        [3., 4., 5.],\n",
       "        [6., 7., 8.]],\n",
       "\n",
       "       [[0., 1., 2.],\n",
       "        [3., 4., 5.],\n",
       "        [6., 7., 8.]],\n",
       "\n",
       "       [[0., 1., 2.],\n",
       "        [3., 4., 5.],\n",
       "        [6., 7., 8.]]])"
      ]
     },
     "execution_count": 46,
     "metadata": {},
     "output_type": "execute_result"
    }
   ],
   "source": [
    "b[np.newaxis,:,:]+a"
   ]
  },
  {
   "cell_type": "markdown",
   "id": "88a1775a",
   "metadata": {},
   "source": [
    "### Given the NumPy array arr, which of the following line of code will return the expected output?\n",
    "\n",
    "    import numpy as np\n",
    "    arr= np.array([[2,3,4,5],[1,7,3,5],[2,8,6,9],[11,23,12,19]])\n",
    "\n",
    "    a.\n",
    "\n",
    "    arr1 = np.array([[2,2,2,2]])\n",
    "    def func(x, y):\n",
    "        return x * y\n",
    "    vec = np.vectorize(func)\n",
    "    vec(arr,arr1)\n",
    "\n",
    "    b.\n",
    "\n",
    "    arr1 = np.array([[2],[2],[2],[2]])\n",
    "    def func(x, y):\n",
    "        return x * y\n",
    "    vec = np.vectorize(func)\n",
    "    vec(arr, arr1)\n",
    "\n",
    "\n",
    "    c.\n",
    "\n",
    "    arr1 = 2\n",
    "    def func(x, y):\n",
    "        return x * y\n",
    "    vec = np.vectorize(func)\n",
    "    vec(arr, arr1)\n",
    "\n",
    "    Expected output:\n",
    "\n",
    "    array ([[4,6,8,10],\n",
    "            [2,14,6,10],\n",
    "            [4,16,12,18],\n",
    "            [22,46,24,38]])"
   ]
  },
  {
   "cell_type": "code",
   "execution_count": 48,
   "id": "fbd08463",
   "metadata": {},
   "outputs": [],
   "source": [
    "arr= np.array([[2,3,4,5],[1,7,3,5],[2,8,6,9],[11,23,12,19]])"
   ]
  },
  {
   "cell_type": "code",
   "execution_count": 49,
   "id": "74498564",
   "metadata": {},
   "outputs": [
    {
     "data": {
      "text/plain": [
       "array([[ 4,  6,  8, 10],\n",
       "       [ 2, 14,  6, 10],\n",
       "       [ 4, 16, 12, 18],\n",
       "       [22, 46, 24, 38]])"
      ]
     },
     "execution_count": 49,
     "metadata": {},
     "output_type": "execute_result"
    }
   ],
   "source": [
    "arr1 = np.array([[2,2,2,2]])\n",
    "def func(x, y):\n",
    "    return x * y\n",
    "vec = np.vectorize(func)\n",
    "vec(arr,arr1)"
   ]
  },
  {
   "cell_type": "code",
   "execution_count": 50,
   "id": "fe8ef2ee",
   "metadata": {},
   "outputs": [
    {
     "data": {
      "text/plain": [
       "array([[ 4,  6,  8, 10],\n",
       "       [ 2, 14,  6, 10],\n",
       "       [ 4, 16, 12, 18],\n",
       "       [22, 46, 24, 38]])"
      ]
     },
     "execution_count": 50,
     "metadata": {},
     "output_type": "execute_result"
    }
   ],
   "source": [
    "arr1 = np.array([[2],[2],[2],[2]])\n",
    "def func(x, y):\n",
    "    return x * y\n",
    "vec = np.vectorize(func)\n",
    "vec(arr, arr1)"
   ]
  },
  {
   "cell_type": "code",
   "execution_count": 51,
   "id": "bb6ae08f",
   "metadata": {},
   "outputs": [
    {
     "data": {
      "text/plain": [
       "array([[ 4,  6,  8, 10],\n",
       "       [ 2, 14,  6, 10],\n",
       "       [ 4, 16, 12, 18],\n",
       "       [22, 46, 24, 38]])"
      ]
     },
     "execution_count": 51,
     "metadata": {},
     "output_type": "execute_result"
    }
   ],
   "source": [
    "arr1 = 2\n",
    "def func(x, y):\n",
    "    return x * y\n",
    "vec = np.vectorize(func)\n",
    "vec(arr, arr1)"
   ]
  },
  {
   "cell_type": "code",
   "execution_count": null,
   "id": "7b36ebb1",
   "metadata": {},
   "outputs": [],
   "source": []
  },
  {
   "cell_type": "markdown",
   "id": "e6197252",
   "metadata": {},
   "source": [
    "### Which of the following option(s) can add 1 to each element of array A?\n",
    "\n",
    "    A = np.array([2, 0, 1, 9, 1, 1, 1, 0, 3, 5])"
   ]
  },
  {
   "cell_type": "code",
   "execution_count": 52,
   "id": "ac8b5590",
   "metadata": {},
   "outputs": [],
   "source": [
    "A = np.array([2, 0, 1, 9, 1, 1, 1, 0, 3, 5])"
   ]
  },
  {
   "cell_type": "code",
   "execution_count": 53,
   "id": "28ee7cd1",
   "metadata": {},
   "outputs": [
    {
     "data": {
      "text/plain": [
       "array([ 3,  1,  2, 10,  2,  2,  2,  1,  4,  6])"
      ]
     },
     "execution_count": 53,
     "metadata": {},
     "output_type": "execute_result"
    }
   ],
   "source": [
    "A+1"
   ]
  },
  {
   "cell_type": "code",
   "execution_count": 54,
   "id": "9b224dd8",
   "metadata": {},
   "outputs": [
    {
     "data": {
      "text/plain": [
       "[3, 1, 2, 10, 2, 2, 2, 1, 4, 6]"
      ]
     },
     "execution_count": 54,
     "metadata": {},
     "output_type": "execute_result"
    }
   ],
   "source": [
    "[x+1 for x in A]"
   ]
  },
  {
   "cell_type": "code",
   "execution_count": 56,
   "id": "40bc28ee",
   "metadata": {},
   "outputs": [
    {
     "data": {
      "text/plain": [
       "[3, 1, 2, 10, 2, 2, 2, 1, 4, 6]"
      ]
     },
     "execution_count": 56,
     "metadata": {},
     "output_type": "execute_result"
    }
   ],
   "source": [
    "list(map(lambda x:x+1,A))"
   ]
  },
  {
   "cell_type": "code",
   "execution_count": null,
   "id": "02232093",
   "metadata": {},
   "outputs": [],
   "source": []
  },
  {
   "cell_type": "markdown",
   "id": "5957a2d2",
   "metadata": {},
   "source": [
    "### What will be the outcome of the following code snippet ?\n",
    "\n",
    "    x = np.ones((5,5))\n",
    "    x[1:-1,1:-1] = 0"
   ]
  },
  {
   "cell_type": "code",
   "execution_count": 58,
   "id": "d998903e",
   "metadata": {},
   "outputs": [],
   "source": [
    "x = np.ones((5,5))\n"
   ]
  },
  {
   "cell_type": "code",
   "execution_count": 61,
   "id": "94169811",
   "metadata": {},
   "outputs": [
    {
     "data": {
      "text/plain": [
       "array([[1., 1., 1., 1., 1.],\n",
       "       [1., 1., 1., 1., 1.],\n",
       "       [1., 1., 1., 1., 1.],\n",
       "       [1., 1., 1., 1., 1.],\n",
       "       [1., 1., 1., 1., 1.]])"
      ]
     },
     "execution_count": 61,
     "metadata": {},
     "output_type": "execute_result"
    }
   ],
   "source": [
    "x"
   ]
  },
  {
   "cell_type": "code",
   "execution_count": 62,
   "id": "2c02d8f2",
   "metadata": {},
   "outputs": [],
   "source": [
    "x[1:-1,1:-1] = 0"
   ]
  },
  {
   "cell_type": "code",
   "execution_count": 63,
   "id": "693a8661",
   "metadata": {},
   "outputs": [
    {
     "data": {
      "text/plain": [
       "array([[1., 1., 1., 1., 1.],\n",
       "       [1., 0., 0., 0., 1.],\n",
       "       [1., 0., 0., 0., 1.],\n",
       "       [1., 0., 0., 0., 1.],\n",
       "       [1., 1., 1., 1., 1.]])"
      ]
     },
     "execution_count": 63,
     "metadata": {},
     "output_type": "execute_result"
    }
   ],
   "source": [
    "x"
   ]
  },
  {
   "cell_type": "code",
   "execution_count": null,
   "id": "f9c8c2a5",
   "metadata": {},
   "outputs": [],
   "source": []
  },
  {
   "cell_type": "markdown",
   "id": "8e1d3645",
   "metadata": {},
   "source": [
    "### Given a Numpy array of integers as an input to the function binary(), complete the given function to convert each element in the array into its binary representation.\n",
    "\n",
    "    For example: In binary, 5 => 101, 7 => 111, 10 => 1010.\n",
    "\n",
    "    Note: You are not allowed to use the inbuilt bin() function and both input and output array have elements of datatype 'int'.\n",
    "\n",
    "    Input Format:\n",
    "\n",
    "    A list is taken as input which is then typecasted to a NumPy array.\n",
    "    Output Format:\n",
    "\n",
    "    A NumPy array is printed.\n",
    "    Sample Input:\n",
    "\n",
    "    [[2,3,4], [5,6,7]]\n",
    "    Sample Output:\n",
    "\n",
    "    [[ 10  11 100]\n",
    "     [101 110 111]]  "
   ]
  },
  {
   "cell_type": "code",
   "execution_count": 64,
   "id": "4d7275a0",
   "metadata": {},
   "outputs": [],
   "source": [
    "def binary(arr):\n",
    "    def con_bin(n):\n",
    "        s = \"\"\n",
    "        while n>0:\n",
    "            s = s+str(n%2)\n",
    "            n = n//2\n",
    "        return int(s[::-1])\n",
    "    return np.vectorize(con_bin)(arr)"
   ]
  },
  {
   "cell_type": "code",
   "execution_count": 65,
   "id": "26568d01",
   "metadata": {},
   "outputs": [
    {
     "data": {
      "text/plain": [
       "array([[ 10,  11, 100],\n",
       "       [101, 110, 111]])"
      ]
     },
     "execution_count": 65,
     "metadata": {},
     "output_type": "execute_result"
    }
   ],
   "source": [
    "binary([[2,3,4],\n",
    "        [5,6,7]])"
   ]
  },
  {
   "cell_type": "code",
   "execution_count": null,
   "id": "1d565a36",
   "metadata": {},
   "outputs": [],
   "source": []
  },
  {
   "cell_type": "markdown",
   "id": "eff7c012",
   "metadata": {},
   "source": [
    "### You are a Teaching Assistant of the DSML course. You have access to every student’s marks in every quiz. The marks are stored in a matrix where matrix[i][j] represents the marks of the ith student in the jth quiz.\n",
    "\n",
    "    The course instructor wants you to sort the marks of students according to jth quiz in increasing order so that he can evaluate the performance of students in that particular quiz.\n",
    "\n",
    "    Here, you have to create a python program using which the instructor can sort the data on the basis of a given column(quiz). The program will return the matrix with the marks sorted in jth quiz.\n",
    "\n",
    "    The dimension of the input matrix is mxn, the output is expected to be a 2d numpy matrix of dimension mxn, but in the output the jth column must be arranged in the ascending order.\n",
    "\n",
    "    Note: The input will be 2D list not array. First convert it to array.\n",
    "\n",
    "    Input Format:\n",
    "\n",
    "    Number of test cases\n",
    "    For each test case, number of rows for matrix and the column to be sorted in a new line.\n",
    "    For each row in matrix, space separated integers are taken as input in a new line.\n",
    "    Output Format:\n",
    "\n",
    "    The 2D matrix, or each row in matrix space separated integers\n",
    "    Sample Input:\n",
    "\n",
    "    1\n",
    "    3 2 \n",
    "    5 3 9\n",
    "    2 1 4\n",
    "    7 6 8\n",
    "    Sample Output:\n",
    "\n",
    "    [[2 1 4]\n",
    "     [5 3 9]\n",
    "     [7 6 8]]"
   ]
  },
  {
   "cell_type": "code",
   "execution_count": 68,
   "id": "8c7d3ab2",
   "metadata": {},
   "outputs": [],
   "source": [
    "A = np.array([[5, 3, 9],\n",
    "            [2 ,1, 4],\n",
    "            [7 ,6 ,8]])"
   ]
  },
  {
   "cell_type": "code",
   "execution_count": 69,
   "id": "f74585e2",
   "metadata": {},
   "outputs": [
    {
     "data": {
      "text/plain": [
       "array([[5, 3, 9],\n",
       "       [2, 1, 4],\n",
       "       [7, 6, 8]])"
      ]
     },
     "execution_count": 69,
     "metadata": {},
     "output_type": "execute_result"
    }
   ],
   "source": [
    "A"
   ]
  },
  {
   "cell_type": "code",
   "execution_count": 73,
   "id": "3efa7ac3",
   "metadata": {},
   "outputs": [],
   "source": [
    "j = 2"
   ]
  },
  {
   "cell_type": "code",
   "execution_count": 74,
   "id": "29d7f14e",
   "metadata": {},
   "outputs": [
    {
     "data": {
      "text/plain": [
       "array([3, 1, 6])"
      ]
     },
     "execution_count": 74,
     "metadata": {},
     "output_type": "execute_result"
    }
   ],
   "source": [
    "A[:,1]"
   ]
  },
  {
   "cell_type": "code",
   "execution_count": 75,
   "id": "eb6820f4",
   "metadata": {},
   "outputs": [
    {
     "data": {
      "text/plain": [
       "array([3, 1, 6])"
      ]
     },
     "execution_count": 75,
     "metadata": {},
     "output_type": "execute_result"
    }
   ],
   "source": [
    "A[:,j-1]"
   ]
  },
  {
   "cell_type": "code",
   "execution_count": 76,
   "id": "1211292d",
   "metadata": {},
   "outputs": [
    {
     "data": {
      "text/plain": [
       "array([1, 0, 2], dtype=int64)"
      ]
     },
     "execution_count": 76,
     "metadata": {},
     "output_type": "execute_result"
    }
   ],
   "source": [
    "A[:,j-1].argsort()"
   ]
  },
  {
   "cell_type": "code",
   "execution_count": 77,
   "id": "8c3d8c19",
   "metadata": {},
   "outputs": [
    {
     "data": {
      "text/plain": [
       "array([[2, 1, 4],\n",
       "       [5, 3, 9],\n",
       "       [7, 6, 8]])"
      ]
     },
     "execution_count": 77,
     "metadata": {},
     "output_type": "execute_result"
    }
   ],
   "source": [
    "A[A[:,j-1].argsort()]"
   ]
  },
  {
   "cell_type": "code",
   "execution_count": null,
   "id": "11d0376a",
   "metadata": {},
   "outputs": [],
   "source": []
  },
  {
   "cell_type": "code",
   "execution_count": null,
   "id": "47d1da95",
   "metadata": {},
   "outputs": [],
   "source": []
  },
  {
   "cell_type": "code",
   "execution_count": null,
   "id": "d3138663",
   "metadata": {},
   "outputs": [],
   "source": []
  },
  {
   "cell_type": "code",
   "execution_count": null,
   "id": "332b3177",
   "metadata": {},
   "outputs": [],
   "source": []
  },
  {
   "cell_type": "markdown",
   "id": "a3339565",
   "metadata": {},
   "source": [
    "### You are a developer for Scalar, and are tasked to write a program that can find the number of times a student has accessed a particular question.\n",
    "\n",
    "    For this, you proposed that every time a student opens a question, the question’s id will be appended to the row representing the student’s id in a matrix. For example, if student i opens question j, j will be appended to ith row of the matrix.\n",
    "    For the prototype, we have limited the number of questions to 10 for consideration. So id of questions <=10. Return the matrix with the same number of rows(m) as that of the input matrix, but this time matrix[i][j] should represent the number of times student i accessed question j. The output matrix is a 2d-numpy matrix of dimension (m*10).\n",
    "\n",
    "    Input Format:\n",
    "\n",
    "    number of test cases\n",
    "    for each test case (number of rows for matrix, number of columns for the matrix)\n",
    "    for each row in matrix space separated integers\n",
    "    Output Format:\n",
    "\n",
    "    Return the 2d numpy array.\n",
    "    Sample input:\n",
    "\n",
    "    1\n",
    "    5\n",
    "    1 1 2 5 7 6 7 7 6 3 \n",
    "    8 5 4 7 5 2 6 10 1 7 \n",
    "    4 3 10 4 4 4 3 1 4 3 \n",
    "    1 4 1 1 8 4 9 8 5 5 \n",
    "    1 1 4 4 2 10 5 6 8 1 \n",
    "\n",
    "    Sample output:\n",
    "\n",
    "    [[2 1 1 0 1 2 3 0 0 0]\n",
    "     [1 1 0 1 2 1 2 1 0 1]\n",
    "     [1 0 3 5 0 0 0 0 0 1]\n",
    "     [3 0 0 2 2 0 0 2 1 0]\n",
    "     [3 1 0 2 1 1 0 1 0 1]]"
   ]
  },
  {
   "cell_type": "code",
   "execution_count": 79,
   "id": "50199eda",
   "metadata": {},
   "outputs": [],
   "source": [
    "arr = np.array([[1, 1, 2, 5, 7, 6, 7, 7, 6, 3], \n",
    "[8, 5, 4 ,7 ,5 ,2 ,6 ,10, 1, 7], \n",
    "[4, 3, 10, 4, 4, 4, 3, 1, 4, 3], \n",
    "[1, 4, 1, 1, 8, 4, 9, 8, 5, 5], \n",
    "[1, 1, 4, 4, 2, 10, 5, 6, 8, 1]])"
   ]
  },
  {
   "cell_type": "code",
   "execution_count": 80,
   "id": "bc314bf5",
   "metadata": {},
   "outputs": [
    {
     "data": {
      "text/plain": [
       "array([[ 1,  1,  2,  5,  7,  6,  7,  7,  6,  3],\n",
       "       [ 8,  5,  4,  7,  5,  2,  6, 10,  1,  7],\n",
       "       [ 4,  3, 10,  4,  4,  4,  3,  1,  4,  3],\n",
       "       [ 1,  4,  1,  1,  8,  4,  9,  8,  5,  5],\n",
       "       [ 1,  1,  4,  4,  2, 10,  5,  6,  8,  1]])"
      ]
     },
     "execution_count": 80,
     "metadata": {},
     "output_type": "execute_result"
    }
   ],
   "source": [
    "arr"
   ]
  },
  {
   "cell_type": "code",
   "execution_count": 85,
   "id": "bb594a68",
   "metadata": {},
   "outputs": [],
   "source": [
    "r = arr[0]"
   ]
  },
  {
   "cell_type": "code",
   "execution_count": 92,
   "id": "d6e8d7d5",
   "metadata": {},
   "outputs": [
    {
     "data": {
      "text/plain": [
       "(array([1, 2, 3, 5, 6, 7]), array([2, 1, 1, 1, 2, 3], dtype=int64))"
      ]
     },
     "execution_count": 92,
     "metadata": {},
     "output_type": "execute_result"
    }
   ],
   "source": [
    "unique,freq = np.unique(r,return_counts = True)\n",
    "unique,freq"
   ]
  },
  {
   "cell_type": "code",
   "execution_count": 91,
   "id": "78e71a5e",
   "metadata": {},
   "outputs": [
    {
     "data": {
      "text/plain": [
       "array([0, 0, 0, 0, 0, 0, 0, 0, 0, 0])"
      ]
     },
     "execution_count": 91,
     "metadata": {},
     "output_type": "execute_result"
    }
   ],
   "source": [
    "zeros = np.zeros(len(r),dtype=\"int\")\n",
    "zeros"
   ]
  },
  {
   "cell_type": "code",
   "execution_count": 95,
   "id": "3a7b0e92",
   "metadata": {},
   "outputs": [],
   "source": [
    "zeros[unique-1] = freq"
   ]
  },
  {
   "cell_type": "code",
   "execution_count": 96,
   "id": "1ef71f70",
   "metadata": {},
   "outputs": [
    {
     "data": {
      "text/plain": [
       "array([2, 1, 1, 0, 1, 2, 3, 0, 0, 0])"
      ]
     },
     "execution_count": 96,
     "metadata": {},
     "output_type": "execute_result"
    }
   ],
   "source": [
    "zeros"
   ]
  },
  {
   "cell_type": "code",
   "execution_count": 97,
   "id": "13fe1496",
   "metadata": {},
   "outputs": [],
   "source": [
    "def countfreq(arr2d):\n",
    "    \n",
    "    def asdasd(row):\n",
    "        row  = np.array(row)\n",
    "        uniq, freq = np.unique(row,return_counts=True)\n",
    "        zeros = np.zeros(len(row),dtype=\"int\")\n",
    "        zeros[uniq-1] = freq\n",
    "        return zeros\n",
    "    \n",
    "    ans = []\n",
    "\n",
    "    for i in arr2d:\n",
    "        ans.append(asdasd(i))\n",
    "    return np.array(ans)"
   ]
  },
  {
   "cell_type": "code",
   "execution_count": 98,
   "id": "91d14722",
   "metadata": {},
   "outputs": [
    {
     "data": {
      "text/plain": [
       "array([[2, 1, 1, 0, 1, 2, 3, 0, 0, 0],\n",
       "       [1, 1, 0, 1, 2, 1, 2, 1, 0, 1],\n",
       "       [1, 0, 3, 5, 0, 0, 0, 0, 0, 1],\n",
       "       [3, 0, 0, 2, 2, 0, 0, 2, 1, 0],\n",
       "       [3, 1, 0, 2, 1, 1, 0, 1, 0, 1]])"
      ]
     },
     "execution_count": 98,
     "metadata": {},
     "output_type": "execute_result"
    }
   ],
   "source": [
    "countfreq(arr)"
   ]
  },
  {
   "cell_type": "code",
   "execution_count": null,
   "id": "a430956a",
   "metadata": {},
   "outputs": [],
   "source": []
  },
  {
   "cell_type": "code",
   "execution_count": null,
   "id": "8bc2564d",
   "metadata": {},
   "outputs": [],
   "source": []
  },
  {
   "cell_type": "code",
   "execution_count": null,
   "id": "22cd4152",
   "metadata": {},
   "outputs": [],
   "source": []
  },
  {
   "cell_type": "code",
   "execution_count": null,
   "id": "b0f16a94",
   "metadata": {},
   "outputs": [],
   "source": []
  },
  {
   "cell_type": "code",
   "execution_count": null,
   "id": "f0be07ed",
   "metadata": {},
   "outputs": [],
   "source": []
  },
  {
   "cell_type": "code",
   "execution_count": null,
   "id": "de0a49ad",
   "metadata": {},
   "outputs": [],
   "source": []
  },
  {
   "cell_type": "code",
   "execution_count": null,
   "id": "9e4405e8",
   "metadata": {},
   "outputs": [],
   "source": []
  },
  {
   "cell_type": "code",
   "execution_count": null,
   "id": "0612423e",
   "metadata": {},
   "outputs": [],
   "source": []
  },
  {
   "cell_type": "code",
   "execution_count": null,
   "id": "e5330ebb",
   "metadata": {},
   "outputs": [],
   "source": []
  },
  {
   "cell_type": "code",
   "execution_count": null,
   "id": "04e4ce1e",
   "metadata": {},
   "outputs": [],
   "source": []
  },
  {
   "cell_type": "code",
   "execution_count": null,
   "id": "0e26c145",
   "metadata": {},
   "outputs": [],
   "source": []
  },
  {
   "cell_type": "code",
   "execution_count": null,
   "id": "8c202e7b",
   "metadata": {},
   "outputs": [],
   "source": []
  },
  {
   "cell_type": "code",
   "execution_count": null,
   "id": "04c68af1",
   "metadata": {},
   "outputs": [],
   "source": []
  },
  {
   "cell_type": "code",
   "execution_count": null,
   "id": "16a6ae4f",
   "metadata": {},
   "outputs": [],
   "source": []
  },
  {
   "cell_type": "code",
   "execution_count": null,
   "id": "8669855b",
   "metadata": {},
   "outputs": [],
   "source": []
  },
  {
   "cell_type": "code",
   "execution_count": null,
   "id": "18e16c8b",
   "metadata": {},
   "outputs": [],
   "source": []
  },
  {
   "cell_type": "code",
   "execution_count": null,
   "id": "6b97bcd1",
   "metadata": {},
   "outputs": [],
   "source": []
  },
  {
   "cell_type": "code",
   "execution_count": null,
   "id": "a4d70b5d",
   "metadata": {},
   "outputs": [],
   "source": []
  },
  {
   "cell_type": "code",
   "execution_count": null,
   "id": "64d31202",
   "metadata": {},
   "outputs": [],
   "source": []
  },
  {
   "cell_type": "code",
   "execution_count": null,
   "id": "4b9bc998",
   "metadata": {},
   "outputs": [],
   "source": []
  },
  {
   "cell_type": "code",
   "execution_count": null,
   "id": "ea2dce72",
   "metadata": {},
   "outputs": [],
   "source": []
  },
  {
   "cell_type": "code",
   "execution_count": null,
   "id": "77e1e9db",
   "metadata": {},
   "outputs": [],
   "source": []
  },
  {
   "cell_type": "code",
   "execution_count": null,
   "id": "67d612fa",
   "metadata": {},
   "outputs": [],
   "source": []
  },
  {
   "cell_type": "code",
   "execution_count": null,
   "id": "574010a0",
   "metadata": {},
   "outputs": [],
   "source": []
  },
  {
   "cell_type": "code",
   "execution_count": null,
   "id": "415d6c09",
   "metadata": {},
   "outputs": [],
   "source": []
  },
  {
   "cell_type": "code",
   "execution_count": null,
   "id": "e976ecc4",
   "metadata": {},
   "outputs": [],
   "source": []
  },
  {
   "cell_type": "code",
   "execution_count": null,
   "id": "3be6d99a",
   "metadata": {},
   "outputs": [],
   "source": []
  },
  {
   "cell_type": "code",
   "execution_count": null,
   "id": "c53c6887",
   "metadata": {},
   "outputs": [],
   "source": []
  },
  {
   "cell_type": "code",
   "execution_count": null,
   "id": "bb0b7d8f",
   "metadata": {},
   "outputs": [],
   "source": []
  },
  {
   "cell_type": "code",
   "execution_count": null,
   "id": "14cf16d4",
   "metadata": {},
   "outputs": [],
   "source": []
  },
  {
   "cell_type": "code",
   "execution_count": null,
   "id": "f636844d",
   "metadata": {},
   "outputs": [],
   "source": []
  },
  {
   "cell_type": "code",
   "execution_count": null,
   "id": "fabd668c",
   "metadata": {},
   "outputs": [],
   "source": []
  },
  {
   "cell_type": "code",
   "execution_count": null,
   "id": "73280bff",
   "metadata": {},
   "outputs": [],
   "source": []
  },
  {
   "cell_type": "code",
   "execution_count": null,
   "id": "87363604",
   "metadata": {},
   "outputs": [],
   "source": []
  },
  {
   "cell_type": "code",
   "execution_count": null,
   "id": "cc60c9cd",
   "metadata": {},
   "outputs": [],
   "source": []
  },
  {
   "cell_type": "code",
   "execution_count": null,
   "id": "e264f7fd",
   "metadata": {},
   "outputs": [],
   "source": []
  },
  {
   "cell_type": "code",
   "execution_count": null,
   "id": "8d732db3",
   "metadata": {},
   "outputs": [],
   "source": []
  },
  {
   "cell_type": "code",
   "execution_count": null,
   "id": "046bfae5",
   "metadata": {},
   "outputs": [],
   "source": []
  },
  {
   "cell_type": "code",
   "execution_count": null,
   "id": "a6f047ee",
   "metadata": {},
   "outputs": [],
   "source": []
  },
  {
   "cell_type": "code",
   "execution_count": null,
   "id": "8d2be6c3",
   "metadata": {},
   "outputs": [],
   "source": []
  },
  {
   "cell_type": "code",
   "execution_count": null,
   "id": "25b88da2",
   "metadata": {},
   "outputs": [],
   "source": []
  },
  {
   "cell_type": "code",
   "execution_count": null,
   "id": "fc9855f5",
   "metadata": {},
   "outputs": [],
   "source": []
  },
  {
   "cell_type": "code",
   "execution_count": null,
   "id": "6968ded2",
   "metadata": {},
   "outputs": [],
   "source": []
  },
  {
   "cell_type": "code",
   "execution_count": null,
   "id": "1e73bae3",
   "metadata": {},
   "outputs": [],
   "source": []
  },
  {
   "cell_type": "code",
   "execution_count": null,
   "id": "26c66ae1",
   "metadata": {},
   "outputs": [],
   "source": []
  },
  {
   "cell_type": "code",
   "execution_count": null,
   "id": "79c5bbb8",
   "metadata": {},
   "outputs": [],
   "source": []
  },
  {
   "cell_type": "code",
   "execution_count": null,
   "id": "fff2a427",
   "metadata": {},
   "outputs": [],
   "source": []
  },
  {
   "cell_type": "code",
   "execution_count": null,
   "id": "2ef7990d",
   "metadata": {},
   "outputs": [],
   "source": []
  },
  {
   "cell_type": "code",
   "execution_count": null,
   "id": "211ff588",
   "metadata": {},
   "outputs": [],
   "source": []
  },
  {
   "cell_type": "code",
   "execution_count": null,
   "id": "ce220e8e",
   "metadata": {},
   "outputs": [],
   "source": []
  },
  {
   "cell_type": "code",
   "execution_count": null,
   "id": "f9cee7d3",
   "metadata": {},
   "outputs": [],
   "source": []
  },
  {
   "cell_type": "code",
   "execution_count": null,
   "id": "ed9b71fe",
   "metadata": {},
   "outputs": [],
   "source": []
  }
 ],
 "metadata": {
  "kernelspec": {
   "display_name": "Python 3 (ipykernel)",
   "language": "python",
   "name": "python3"
  },
  "language_info": {
   "codemirror_mode": {
    "name": "ipython",
    "version": 3
   },
   "file_extension": ".py",
   "mimetype": "text/x-python",
   "name": "python",
   "nbconvert_exporter": "python",
   "pygments_lexer": "ipython3",
   "version": "3.9.7"
  }
 },
 "nbformat": 4,
 "nbformat_minor": 5
}

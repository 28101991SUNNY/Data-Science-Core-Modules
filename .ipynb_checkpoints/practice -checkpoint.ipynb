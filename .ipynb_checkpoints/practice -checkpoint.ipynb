{
 "cells": [
  {
   "cell_type": "code",
   "execution_count": 1,
   "id": "0069afa0",
   "metadata": {},
   "outputs": [],
   "source": [
    "import numpy as np"
   ]
  },
  {
   "cell_type": "code",
   "execution_count": 2,
   "id": "74beebe7",
   "metadata": {},
   "outputs": [],
   "source": [
    "A = [1,2,3,4,5,6]"
   ]
  },
  {
   "cell_type": "code",
   "execution_count": 3,
   "id": "466d3437",
   "metadata": {},
   "outputs": [
    {
     "data": {
      "text/plain": [
       "[1, 4, 9, 16, 25, 36]"
      ]
     },
     "execution_count": 3,
     "metadata": {},
     "output_type": "execute_result"
    }
   ],
   "source": [
    "[i**2 for i in A]"
   ]
  },
  {
   "cell_type": "code",
   "execution_count": 5,
   "id": "b68dee03",
   "metadata": {},
   "outputs": [],
   "source": [
    "A = np.array(A)"
   ]
  },
  {
   "cell_type": "code",
   "execution_count": 6,
   "id": "829b72f3",
   "metadata": {},
   "outputs": [
    {
     "data": {
      "text/plain": [
       "array([1, 2, 3, 4, 5, 6])"
      ]
     },
     "execution_count": 6,
     "metadata": {},
     "output_type": "execute_result"
    }
   ],
   "source": [
    "A\n"
   ]
  },
  {
   "cell_type": "code",
   "execution_count": 7,
   "id": "ef6a14ad",
   "metadata": {},
   "outputs": [
    {
     "data": {
      "text/plain": [
       "array([ 1,  4,  9, 16, 25, 36], dtype=int32)"
      ]
     },
     "execution_count": 7,
     "metadata": {},
     "output_type": "execute_result"
    }
   ],
   "source": [
    "A**2"
   ]
  },
  {
   "cell_type": "code",
   "execution_count": 17,
   "id": "10b5808b",
   "metadata": {},
   "outputs": [],
   "source": [
    "A = np.array(range(1,101,1))"
   ]
  },
  {
   "cell_type": "code",
   "execution_count": 18,
   "id": "2f2edb6d",
   "metadata": {},
   "outputs": [
    {
     "data": {
      "text/plain": [
       "array([  1,   2,   3,   4,   5,   6,   7,   8,   9,  10,  11,  12,  13,\n",
       "        14,  15,  16,  17,  18,  19,  20,  21,  22,  23,  24,  25,  26,\n",
       "        27,  28,  29,  30,  31,  32,  33,  34,  35,  36,  37,  38,  39,\n",
       "        40,  41,  42,  43,  44,  45,  46,  47,  48,  49,  50,  51,  52,\n",
       "        53,  54,  55,  56,  57,  58,  59,  60,  61,  62,  63,  64,  65,\n",
       "        66,  67,  68,  69,  70,  71,  72,  73,  74,  75,  76,  77,  78,\n",
       "        79,  80,  81,  82,  83,  84,  85,  86,  87,  88,  89,  90,  91,\n",
       "        92,  93,  94,  95,  96,  97,  98,  99, 100])"
      ]
     },
     "execution_count": 18,
     "metadata": {},
     "output_type": "execute_result"
    }
   ],
   "source": [
    "A"
   ]
  },
  {
   "cell_type": "code",
   "execution_count": 19,
   "id": "a8376bf2",
   "metadata": {},
   "outputs": [
    {
     "data": {
      "text/plain": [
       "1"
      ]
     },
     "execution_count": 19,
     "metadata": {},
     "output_type": "execute_result"
    }
   ],
   "source": [
    "A.ndim"
   ]
  },
  {
   "cell_type": "code",
   "execution_count": null,
   "id": "3925b93a",
   "metadata": {},
   "outputs": [],
   "source": []
  },
  {
   "cell_type": "code",
   "execution_count": 20,
   "id": "9915dfaa",
   "metadata": {},
   "outputs": [
    {
     "data": {
      "text/plain": [
       "(100,)"
      ]
     },
     "execution_count": 20,
     "metadata": {},
     "output_type": "execute_result"
    }
   ],
   "source": [
    "A.shape"
   ]
  },
  {
   "cell_type": "code",
   "execution_count": 23,
   "id": "ede0571c",
   "metadata": {},
   "outputs": [
    {
     "data": {
      "text/plain": [
       "array([[  1,   2,   3,   4],\n",
       "       [  5,   6,   7,   8],\n",
       "       [  9,  10,  11,  12],\n",
       "       [ 13,  14,  15,  16],\n",
       "       [ 17,  18,  19,  20],\n",
       "       [ 21,  22,  23,  24],\n",
       "       [ 25,  26,  27,  28],\n",
       "       [ 29,  30,  31,  32],\n",
       "       [ 33,  34,  35,  36],\n",
       "       [ 37,  38,  39,  40],\n",
       "       [ 41,  42,  43,  44],\n",
       "       [ 45,  46,  47,  48],\n",
       "       [ 49,  50,  51,  52],\n",
       "       [ 53,  54,  55,  56],\n",
       "       [ 57,  58,  59,  60],\n",
       "       [ 61,  62,  63,  64],\n",
       "       [ 65,  66,  67,  68],\n",
       "       [ 69,  70,  71,  72],\n",
       "       [ 73,  74,  75,  76],\n",
       "       [ 77,  78,  79,  80],\n",
       "       [ 81,  82,  83,  84],\n",
       "       [ 85,  86,  87,  88],\n",
       "       [ 89,  90,  91,  92],\n",
       "       [ 93,  94,  95,  96],\n",
       "       [ 97,  98,  99, 100]])"
      ]
     },
     "execution_count": 23,
     "metadata": {},
     "output_type": "execute_result"
    }
   ],
   "source": [
    "A.reshape((25,4))"
   ]
  },
  {
   "cell_type": "code",
   "execution_count": null,
   "id": "2db31553",
   "metadata": {},
   "outputs": [],
   "source": []
  },
  {
   "cell_type": "code",
   "execution_count": 24,
   "id": "9d1d02a0",
   "metadata": {},
   "outputs": [],
   "source": [
    "A = np.array([1,2,3,4,5,6,7,8,])"
   ]
  },
  {
   "cell_type": "code",
   "execution_count": 25,
   "id": "8700fe8f",
   "metadata": {},
   "outputs": [
    {
     "data": {
      "text/plain": [
       "array([1, 2, 3, 4, 5, 6, 7, 8])"
      ]
     },
     "execution_count": 25,
     "metadata": {},
     "output_type": "execute_result"
    }
   ],
   "source": [
    "A"
   ]
  },
  {
   "cell_type": "code",
   "execution_count": 26,
   "id": "5e6ecbd5",
   "metadata": {},
   "outputs": [
    {
     "data": {
      "text/plain": [
       "(1, (8,))"
      ]
     },
     "execution_count": 26,
     "metadata": {},
     "output_type": "execute_result"
    }
   ],
   "source": [
    "A.ndim,A.shape"
   ]
  },
  {
   "cell_type": "code",
   "execution_count": 30,
   "id": "c93c718f",
   "metadata": {},
   "outputs": [
    {
     "data": {
      "text/plain": [
       "array([ 1. ,  1.5,  2. ,  2.5,  3. ,  3.5,  4. ,  4.5,  5. ,  5.5,  6. ,\n",
       "        6.5,  7. ,  7.5,  8. ,  8.5,  9. ,  9.5, 10. ])"
      ]
     },
     "execution_count": 30,
     "metadata": {},
     "output_type": "execute_result"
    }
   ],
   "source": [
    "np.arange(1,10.5,0.5)"
   ]
  },
  {
   "cell_type": "code",
   "execution_count": 31,
   "id": "fff1f0ee",
   "metadata": {},
   "outputs": [
    {
     "data": {
      "text/plain": [
       "array([  0.,  10.,  20.,  30.,  40.,  50.,  60.,  70.,  80.,  90., 100.])"
      ]
     },
     "execution_count": 31,
     "metadata": {},
     "output_type": "execute_result"
    }
   ],
   "source": [
    "np.linspace(0,100,11)"
   ]
  },
  {
   "cell_type": "code",
   "execution_count": 38,
   "id": "b97b3ed3",
   "metadata": {},
   "outputs": [
    {
     "data": {
      "text/plain": [
       "array([ 1.,  2.,  3.,  4.,  5.,  6.,  7.,  8.,  9., 10.])"
      ]
     },
     "execution_count": 38,
     "metadata": {},
     "output_type": "execute_result"
    }
   ],
   "source": [
    "np.linspace(1,10,10)"
   ]
  },
  {
   "cell_type": "code",
   "execution_count": 49,
   "id": "6e17f29a",
   "metadata": {},
   "outputs": [
    {
     "data": {
      "text/plain": [
       "dtype('<U11')"
      ]
     },
     "execution_count": 49,
     "metadata": {},
     "output_type": "execute_result"
    }
   ],
   "source": [
    "A = np.array([1,2,\"A\"])\n",
    "A.dtype"
   ]
  },
  {
   "cell_type": "code",
   "execution_count": 41,
   "id": "483f3d59",
   "metadata": {},
   "outputs": [
    {
     "data": {
      "text/plain": [
       "array(['1', '2', 'A'], dtype='<U11')"
      ]
     },
     "execution_count": 41,
     "metadata": {},
     "output_type": "execute_result"
    }
   ],
   "source": [
    "A"
   ]
  },
  {
   "cell_type": "code",
   "execution_count": 42,
   "id": "da402b38",
   "metadata": {},
   "outputs": [],
   "source": [
    "A[1] = 5"
   ]
  },
  {
   "cell_type": "code",
   "execution_count": 44,
   "id": "1e32ac2b",
   "metadata": {},
   "outputs": [],
   "source": [
    "A[-1] = \"SUNNY\""
   ]
  },
  {
   "cell_type": "code",
   "execution_count": 45,
   "id": "85cf7870",
   "metadata": {},
   "outputs": [
    {
     "data": {
      "text/plain": [
       "array(['1', '5', 'SUNNY'], dtype='<U11')"
      ]
     },
     "execution_count": 45,
     "metadata": {},
     "output_type": "execute_result"
    }
   ],
   "source": [
    "A"
   ]
  },
  {
   "cell_type": "code",
   "execution_count": 47,
   "id": "14f17bbf",
   "metadata": {},
   "outputs": [
    {
     "data": {
      "text/plain": [
       "array([1., 2., 3.])"
      ]
     },
     "execution_count": 47,
     "metadata": {},
     "output_type": "execute_result"
    }
   ],
   "source": [
    "A = np.array([1,2,3.0])\n",
    "A"
   ]
  },
  {
   "cell_type": "code",
   "execution_count": 48,
   "id": "2cf839d2",
   "metadata": {},
   "outputs": [
    {
     "data": {
      "text/plain": [
       "dtype('float64')"
      ]
     },
     "execution_count": 48,
     "metadata": {},
     "output_type": "execute_result"
    }
   ],
   "source": [
    "A.dtype"
   ]
  },
  {
   "cell_type": "code",
   "execution_count": 57,
   "id": "a54d65ce",
   "metadata": {},
   "outputs": [
    {
     "data": {
      "text/plain": [
       "dtype('int32')"
      ]
     },
     "execution_count": 57,
     "metadata": {},
     "output_type": "execute_result"
    }
   ],
   "source": [
    "A = np.array([1,2,3])\n",
    "A.dtype"
   ]
  },
  {
   "cell_type": "code",
   "execution_count": 61,
   "id": "d3c1b60b",
   "metadata": {},
   "outputs": [
    {
     "data": {
      "text/plain": [
       "array([         1,          0, 2132598113], dtype=int32)"
      ]
     },
     "execution_count": 61,
     "metadata": {},
     "output_type": "execute_result"
    }
   ],
   "source": [
    "A**3000"
   ]
  },
  {
   "cell_type": "code",
   "execution_count": null,
   "id": "81c40618",
   "metadata": {},
   "outputs": [],
   "source": []
  },
  {
   "cell_type": "code",
   "execution_count": 67,
   "id": "b17e68a9",
   "metadata": {},
   "outputs": [],
   "source": [
    "A = np.arange(1,25).reshape(6,4)\n"
   ]
  },
  {
   "cell_type": "code",
   "execution_count": 68,
   "id": "99dee137",
   "metadata": {},
   "outputs": [
    {
     "data": {
      "text/plain": [
       "array([[ 1,  2,  3,  4],\n",
       "       [ 5,  6,  7,  8],\n",
       "       [ 9, 10, 11, 12],\n",
       "       [13, 14, 15, 16],\n",
       "       [17, 18, 19, 20],\n",
       "       [21, 22, 23, 24]])"
      ]
     },
     "execution_count": 68,
     "metadata": {},
     "output_type": "execute_result"
    }
   ],
   "source": [
    "A"
   ]
  },
  {
   "cell_type": "code",
   "execution_count": 69,
   "id": "f5207304",
   "metadata": {},
   "outputs": [
    {
     "data": {
      "text/plain": [
       "(6, 4)"
      ]
     },
     "execution_count": 69,
     "metadata": {},
     "output_type": "execute_result"
    }
   ],
   "source": [
    "A.shape"
   ]
  },
  {
   "cell_type": "code",
   "execution_count": 78,
   "id": "b9c67f8b",
   "metadata": {},
   "outputs": [
    {
     "data": {
      "text/plain": [
       "array([[1, 2, 3, 4, 5]])"
      ]
     },
     "execution_count": 78,
     "metadata": {},
     "output_type": "execute_result"
    }
   ],
   "source": [
    "a = np.array([1, 2, 3,4,5], ndmin = 2)\n",
    "a"
   ]
  },
  {
   "cell_type": "code",
   "execution_count": 79,
   "id": "f4a64c1c",
   "metadata": {},
   "outputs": [
    {
     "data": {
      "text/plain": [
       "(1, 5)"
      ]
     },
     "execution_count": 79,
     "metadata": {},
     "output_type": "execute_result"
    }
   ],
   "source": [
    "a.shape"
   ]
  },
  {
   "cell_type": "code",
   "execution_count": 80,
   "id": "45ef3232",
   "metadata": {},
   "outputs": [
    {
     "data": {
      "text/plain": [
       "2"
      ]
     },
     "execution_count": 80,
     "metadata": {},
     "output_type": "execute_result"
    }
   ],
   "source": [
    "a.ndim"
   ]
  },
  {
   "cell_type": "code",
   "execution_count": 85,
   "id": "aa0ca161",
   "metadata": {},
   "outputs": [
    {
     "data": {
      "text/plain": [
       "(12,)"
      ]
     },
     "execution_count": 85,
     "metadata": {},
     "output_type": "execute_result"
    }
   ],
   "source": [
    "np.arange(1,13).shape"
   ]
  },
  {
   "cell_type": "code",
   "execution_count": 83,
   "id": "c49e8f9d",
   "metadata": {},
   "outputs": [
    {
     "data": {
      "text/plain": [
       "array([[ 1,  2,  3,  4],\n",
       "       [ 5,  6,  7,  8],\n",
       "       [ 9, 10, 11, 12]])"
      ]
     },
     "execution_count": 83,
     "metadata": {},
     "output_type": "execute_result"
    }
   ],
   "source": [
    "a = np.arange(1,13).reshape(3,4)\n",
    "a"
   ]
  },
  {
   "cell_type": "code",
   "execution_count": 86,
   "id": "844f932f",
   "metadata": {},
   "outputs": [
    {
     "data": {
      "text/plain": [
       "array([[ 1,  2,  3,  4],\n",
       "       [ 5,  6,  7,  8],\n",
       "       [ 9, 10, 11, 12]])"
      ]
     },
     "execution_count": 86,
     "metadata": {},
     "output_type": "execute_result"
    }
   ],
   "source": [
    "a"
   ]
  },
  {
   "cell_type": "code",
   "execution_count": 95,
   "id": "058af5d2",
   "metadata": {},
   "outputs": [],
   "source": [
    "a.resize(1,12)"
   ]
  },
  {
   "cell_type": "code",
   "execution_count": 96,
   "id": "9885ff45",
   "metadata": {},
   "outputs": [
    {
     "data": {
      "text/plain": [
       "array([[ 1,  2,  3,  4,  5,  6,  7,  8,  9, 10, 11, 12]])"
      ]
     },
     "execution_count": 96,
     "metadata": {},
     "output_type": "execute_result"
    }
   ],
   "source": [
    "a"
   ]
  },
  {
   "cell_type": "code",
   "execution_count": null,
   "id": "44a49b25",
   "metadata": {},
   "outputs": [],
   "source": []
  },
  {
   "cell_type": "code",
   "execution_count": 98,
   "id": "b8a31e11",
   "metadata": {},
   "outputs": [
    {
     "data": {
      "text/plain": [
       "array([ 1,  2,  3,  4,  5,  6,  7,  8,  9, 10, 11, 12])"
      ]
     },
     "execution_count": 98,
     "metadata": {},
     "output_type": "execute_result"
    }
   ],
   "source": [
    "A = np.array([1,2,3,4,5,6,7,8,9,10,11,12])\n",
    "A"
   ]
  },
  {
   "cell_type": "code",
   "execution_count": 99,
   "id": "845a98e4",
   "metadata": {},
   "outputs": [
    {
     "data": {
      "text/plain": [
       "array([[ 1,  2,  3,  4],\n",
       "       [ 5,  6,  7,  8],\n",
       "       [ 9, 10, 11, 12]])"
      ]
     },
     "execution_count": 99,
     "metadata": {},
     "output_type": "execute_result"
    }
   ],
   "source": [
    "np.resize(A,(3,4))"
   ]
  },
  {
   "cell_type": "code",
   "execution_count": 101,
   "id": "062a4986",
   "metadata": {},
   "outputs": [
    {
     "data": {
      "text/plain": [
       "array([[ 1,  2,  3,  4,  5],\n",
       "       [ 6,  7,  8,  9, 10],\n",
       "       [11, 12,  1,  2,  3]])"
      ]
     },
     "execution_count": 101,
     "metadata": {},
     "output_type": "execute_result"
    }
   ],
   "source": [
    "np.resize(A,(3,5))"
   ]
  },
  {
   "cell_type": "code",
   "execution_count": 107,
   "id": "3d426090",
   "metadata": {},
   "outputs": [
    {
     "data": {
      "text/plain": [
       "array([[ 1,  2,  3,  4,  5,  6,  7,  8,  9, 10, 11, 12],\n",
       "       [ 1,  2,  3,  4,  5,  6,  7,  8,  9, 10, 11, 12],\n",
       "       [ 1,  2,  3,  4,  5,  6,  7,  8,  9, 10, 11, 12],\n",
       "       [ 1,  2,  3,  4,  5,  6,  7,  8,  9, 10, 11, 12],\n",
       "       [ 1,  2,  3,  4,  5,  6,  7,  8,  9, 10, 11, 12],\n",
       "       [ 1,  2,  3,  4,  5,  6,  7,  8,  9, 10, 11, 12],\n",
       "       [ 1,  2,  3,  4,  5,  6,  7,  8,  9, 10, 11, 12],\n",
       "       [ 1,  2,  3,  4,  5,  6,  7,  8,  9, 10, 11, 12],\n",
       "       [ 1,  2,  3,  4,  5,  6,  7,  8,  9, 10, 11, 12],\n",
       "       [ 1,  2,  3,  4,  5,  6,  7,  8,  9, 10, 11, 12],\n",
       "       [ 1,  2,  3,  4,  5,  6,  7,  8,  9, 10, 11, 12],\n",
       "       [ 1,  2,  3,  4,  5,  6,  7,  8,  9, 10, 11, 12]])"
      ]
     },
     "execution_count": 107,
     "metadata": {},
     "output_type": "execute_result"
    }
   ],
   "source": [
    "np.resize(A,(12,12))"
   ]
  },
  {
   "cell_type": "code",
   "execution_count": 115,
   "id": "74017364",
   "metadata": {},
   "outputs": [
    {
     "data": {
      "text/plain": [
       "array([1, 2, 3, 4, 5, 6, 7])"
      ]
     },
     "execution_count": 115,
     "metadata": {},
     "output_type": "execute_result"
    }
   ],
   "source": [
    "a = np.array([1,2,3,4,5,6,7])\n",
    "a"
   ]
  },
  {
   "cell_type": "code",
   "execution_count": 116,
   "id": "da4edff0",
   "metadata": {},
   "outputs": [],
   "source": [
    "a.resize((6,2),refcheck = False)"
   ]
  },
  {
   "cell_type": "code",
   "execution_count": 117,
   "id": "b339db9d",
   "metadata": {},
   "outputs": [
    {
     "data": {
      "text/plain": [
       "array([[1, 2],\n",
       "       [3, 4],\n",
       "       [5, 6],\n",
       "       [7, 0],\n",
       "       [0, 0],\n",
       "       [0, 0]])"
      ]
     },
     "execution_count": 117,
     "metadata": {},
     "output_type": "execute_result"
    }
   ],
   "source": [
    "a"
   ]
  },
  {
   "cell_type": "code",
   "execution_count": 123,
   "id": "45d50488",
   "metadata": {},
   "outputs": [
    {
     "data": {
      "text/plain": [
       "array([[1, 2, 3, 4, 5, 6, 7, 1, 2],\n",
       "       [3, 4, 5, 6, 7, 1, 2, 3, 4],\n",
       "       [5, 6, 7, 1, 2, 3, 4, 5, 6],\n",
       "       [7, 1, 2, 3, 4, 5, 6, 7, 1],\n",
       "       [2, 3, 4, 5, 6, 7, 1, 2, 3]])"
      ]
     },
     "execution_count": 123,
     "metadata": {},
     "output_type": "execute_result"
    }
   ],
   "source": [
    "\n",
    "a = np.array([1,2,3,4,5,6,7])\n",
    "a\n",
    "np.resize(a,(5,9))"
   ]
  },
  {
   "cell_type": "code",
   "execution_count": 122,
   "id": "df8d3391",
   "metadata": {},
   "outputs": [
    {
     "data": {
      "text/plain": [
       "array([[1, 2],\n",
       "       [3, 4],\n",
       "       [5, 6],\n",
       "       [7, 0],\n",
       "       [0, 0],\n",
       "       [0, 0]])"
      ]
     },
     "execution_count": 122,
     "metadata": {},
     "output_type": "execute_result"
    }
   ],
   "source": [
    "a"
   ]
  },
  {
   "cell_type": "code",
   "execution_count": 124,
   "id": "7849eebb",
   "metadata": {},
   "outputs": [],
   "source": [
    "c = a"
   ]
  },
  {
   "cell_type": "code",
   "execution_count": 127,
   "id": "2bf00473",
   "metadata": {},
   "outputs": [],
   "source": [
    "  a.resize((3,4),refcheck ) "
   ]
  },
  {
   "cell_type": "code",
   "execution_count": 128,
   "id": "601918dc",
   "metadata": {},
   "outputs": [
    {
     "data": {
      "text/plain": [
       "array([[1, 2, 3, 4],\n",
       "       [5, 6, 7, 0],\n",
       "       [0, 0, 0, 0]])"
      ]
     },
     "execution_count": 128,
     "metadata": {},
     "output_type": "execute_result"
    }
   ],
   "source": [
    "a"
   ]
  },
  {
   "cell_type": "code",
   "execution_count": null,
   "id": "a9d99332",
   "metadata": {},
   "outputs": [],
   "source": []
  },
  {
   "cell_type": "code",
   "execution_count": 135,
   "id": "76712e45",
   "metadata": {},
   "outputs": [],
   "source": [
    "a = np.arange(3).reshape(1,3)"
   ]
  },
  {
   "cell_type": "code",
   "execution_count": 136,
   "id": "82ab8fb9",
   "metadata": {},
   "outputs": [
    {
     "data": {
      "text/plain": [
       "array([[0, 1, 2]])"
      ]
     },
     "execution_count": 136,
     "metadata": {},
     "output_type": "execute_result"
    }
   ],
   "source": [
    "a"
   ]
  },
  {
   "cell_type": "code",
   "execution_count": 137,
   "id": "2edb2628",
   "metadata": {},
   "outputs": [
    {
     "data": {
      "text/plain": [
       "array([[0],\n",
       "       [1],\n",
       "       [2]])"
      ]
     },
     "execution_count": 137,
     "metadata": {},
     "output_type": "execute_result"
    }
   ],
   "source": [
    "a.T"
   ]
  },
  {
   "cell_type": "code",
   "execution_count": 134,
   "id": "4238b9fd",
   "metadata": {},
   "outputs": [
    {
     "data": {
      "text/plain": [
       "array([0, 1, 2])"
      ]
     },
     "execution_count": 134,
     "metadata": {},
     "output_type": "execute_result"
    }
   ],
   "source": [
    "a = np.arange(3).T\n",
    "a"
   ]
  },
  {
   "cell_type": "code",
   "execution_count": 140,
   "id": "312d3adc",
   "metadata": {},
   "outputs": [
    {
     "data": {
      "text/plain": [
       "array([0, 1, 2])"
      ]
     },
     "execution_count": 140,
     "metadata": {},
     "output_type": "execute_result"
    }
   ],
   "source": [
    "a.flatten()"
   ]
  },
  {
   "cell_type": "code",
   "execution_count": 142,
   "id": "7a540d51",
   "metadata": {},
   "outputs": [
    {
     "data": {
      "text/plain": [
       "array([[1, 2, 3, 4, 5, 6, 7, 1, 2],\n",
       "       [3, 4, 5, 6, 7, 1, 2, 3, 4],\n",
       "       [5, 6, 7, 1, 2, 3, 4, 5, 6],\n",
       "       [7, 1, 2, 3, 4, 5, 6, 7, 1],\n",
       "       [2, 3, 4, 5, 6, 7, 1, 2, 3]])"
      ]
     },
     "execution_count": 142,
     "metadata": {},
     "output_type": "execute_result"
    }
   ],
   "source": [
    "\n",
    "a = np.array([1,2,3,4,5,6,7])\n",
    "a\n",
    "a = np.resize(a,(5,9))\n",
    "a"
   ]
  },
  {
   "cell_type": "code",
   "execution_count": 143,
   "id": "11f6d386",
   "metadata": {},
   "outputs": [
    {
     "data": {
      "text/plain": [
       "array([[1, 2, 3, 4, 5, 6, 7, 1, 2],\n",
       "       [3, 4, 5, 6, 7, 1, 2, 3, 4],\n",
       "       [5, 6, 7, 1, 2, 3, 4, 5, 6],\n",
       "       [7, 1, 2, 3, 4, 5, 6, 7, 1],\n",
       "       [2, 3, 4, 5, 6, 7, 1, 2, 3]])"
      ]
     },
     "execution_count": 143,
     "metadata": {},
     "output_type": "execute_result"
    }
   ],
   "source": [
    "a"
   ]
  },
  {
   "cell_type": "code",
   "execution_count": 144,
   "id": "de4d881c",
   "metadata": {},
   "outputs": [
    {
     "data": {
      "text/plain": [
       "array([1, 2, 3, 4, 5, 6, 7, 1, 2, 3, 4, 5, 6, 7, 1, 2, 3, 4, 5, 6, 7, 1,\n",
       "       2, 3, 4, 5, 6, 7, 1, 2, 3, 4, 5, 6, 7, 1, 2, 3, 4, 5, 6, 7, 1, 2,\n",
       "       3])"
      ]
     },
     "execution_count": 144,
     "metadata": {},
     "output_type": "execute_result"
    }
   ],
   "source": [
    "a.flatten()"
   ]
  },
  {
   "cell_type": "code",
   "execution_count": 145,
   "id": "4d34236d",
   "metadata": {},
   "outputs": [
    {
     "data": {
      "text/plain": [
       "array([[1, 2, 3, 4, 5, 6, 7, 1, 2],\n",
       "       [3, 4, 5, 6, 7, 1, 2, 3, 4],\n",
       "       [5, 6, 7, 1, 2, 3, 4, 5, 6],\n",
       "       [7, 1, 2, 3, 4, 5, 6, 7, 1],\n",
       "       [2, 3, 4, 5, 6, 7, 1, 2, 3]])"
      ]
     },
     "execution_count": 145,
     "metadata": {},
     "output_type": "execute_result"
    }
   ],
   "source": [
    "a"
   ]
  },
  {
   "cell_type": "code",
   "execution_count": 152,
   "id": "c78f8810",
   "metadata": {},
   "outputs": [
    {
     "data": {
      "text/plain": [
       "array([[1, 2, 3, 4, 5, 6, 7, 1, 2, 3],\n",
       "       [4, 5, 6, 7, 1, 2, 3, 4, 5, 6],\n",
       "       [7, 1, 2, 3, 4, 5, 6, 7, 1, 2],\n",
       "       [3, 4, 5, 6, 7, 1, 2, 3, 4, 5],\n",
       "       [6, 7, 1, 2, 3, 1, 2, 3, 4, 5]])"
      ]
     },
     "execution_count": 152,
     "metadata": {},
     "output_type": "execute_result"
    }
   ],
   "source": [
    "A= np.resize(a,(5,10))\n",
    "A"
   ]
  },
  {
   "cell_type": "code",
   "execution_count": 154,
   "id": "55d20fef",
   "metadata": {},
   "outputs": [
    {
     "data": {
      "text/plain": [
       "array([[1, 2],\n",
       "       [3, 4],\n",
       "       [5, 6],\n",
       "       [7, 1],\n",
       "       [2, 3],\n",
       "       [4, 5],\n",
       "       [6, 7],\n",
       "       [1, 2],\n",
       "       [3, 4],\n",
       "       [5, 6],\n",
       "       [7, 1],\n",
       "       [2, 3],\n",
       "       [4, 5],\n",
       "       [6, 7],\n",
       "       [1, 2],\n",
       "       [3, 4],\n",
       "       [5, 6],\n",
       "       [7, 1],\n",
       "       [2, 3],\n",
       "       [4, 5],\n",
       "       [6, 7],\n",
       "       [1, 2],\n",
       "       [3, 1],\n",
       "       [2, 3],\n",
       "       [4, 5]])"
      ]
     },
     "execution_count": 154,
     "metadata": {},
     "output_type": "execute_result"
    }
   ],
   "source": [
    "A.reshape(25,2)"
   ]
  },
  {
   "cell_type": "code",
   "execution_count": 156,
   "id": "101f6c9a",
   "metadata": {},
   "outputs": [
    {
     "data": {
      "text/plain": [
       "50"
      ]
     },
     "execution_count": 156,
     "metadata": {},
     "output_type": "execute_result"
    }
   ],
   "source": [
    "A.size"
   ]
  },
  {
   "cell_type": "code",
   "execution_count": 157,
   "id": "74752609",
   "metadata": {},
   "outputs": [
    {
     "data": {
      "text/plain": [
       "array([[1, 2, 3, 4, 5, 6, 7, 1, 2, 3],\n",
       "       [4, 5, 6, 7, 1, 2, 3, 4, 5, 6],\n",
       "       [7, 1, 2, 3, 4, 5, 6, 7, 1, 2],\n",
       "       [3, 4, 5, 6, 7, 1, 2, 3, 4, 5],\n",
       "       [6, 7, 1, 2, 3, 1, 2, 3, 4, 5]])"
      ]
     },
     "execution_count": 157,
     "metadata": {},
     "output_type": "execute_result"
    }
   ],
   "source": [
    "A"
   ]
  },
  {
   "cell_type": "code",
   "execution_count": 158,
   "id": "ad4af9e1",
   "metadata": {},
   "outputs": [
    {
     "data": {
      "text/plain": [
       "array([[1, 2, 3, 4, 5],\n",
       "       [6, 7, 1, 2, 3],\n",
       "       [4, 5, 6, 7, 1],\n",
       "       [2, 3, 4, 5, 6],\n",
       "       [7, 1, 2, 3, 4],\n",
       "       [5, 6, 7, 1, 2],\n",
       "       [3, 4, 5, 6, 7],\n",
       "       [1, 2, 3, 4, 5],\n",
       "       [6, 7, 1, 2, 3],\n",
       "       [1, 2, 3, 4, 5]])"
      ]
     },
     "execution_count": 158,
     "metadata": {},
     "output_type": "execute_result"
    }
   ],
   "source": [
    "A.reshape(-1,5)"
   ]
  },
  {
   "cell_type": "code",
   "execution_count": 159,
   "id": "a5d3e52e",
   "metadata": {},
   "outputs": [
    {
     "data": {
      "text/plain": [
       "array([[1, 2, 3, 4, 5, 6, 7, 1, 2, 3],\n",
       "       [4, 5, 6, 7, 1, 2, 3, 4, 5, 6],\n",
       "       [7, 1, 2, 3, 4, 5, 6, 7, 1, 2],\n",
       "       [3, 4, 5, 6, 7, 1, 2, 3, 4, 5],\n",
       "       [6, 7, 1, 2, 3, 1, 2, 3, 4, 5]])"
      ]
     },
     "execution_count": 159,
     "metadata": {},
     "output_type": "execute_result"
    }
   ],
   "source": [
    "A.reshape(5,-1)"
   ]
  },
  {
   "cell_type": "code",
   "execution_count": 160,
   "id": "93aa2d20",
   "metadata": {},
   "outputs": [
    {
     "data": {
      "text/plain": [
       "array([[0., 0., 0., 0., 0.],\n",
       "       [0., 0., 0., 0., 0.],\n",
       "       [0., 0., 0., 0., 0.],\n",
       "       [0., 0., 0., 0., 0.],\n",
       "       [0., 0., 0., 0., 0.]])"
      ]
     },
     "execution_count": 160,
     "metadata": {},
     "output_type": "execute_result"
    }
   ],
   "source": []
  },
  {
   "cell_type": "code",
   "execution_count": 161,
   "id": "80c2903e",
   "metadata": {},
   "outputs": [
    {
     "data": {
      "text/plain": [
       "array([[1., 1., 1., 1., 1.],\n",
       "       [1., 1., 1., 1., 1.],\n",
       "       [1., 1., 1., 1., 1.],\n",
       "       [1., 1., 1., 1., 1.],\n",
       "       [1., 1., 1., 1., 1.]])"
      ]
     },
     "execution_count": 161,
     "metadata": {},
     "output_type": "execute_result"
    }
   ],
   "source": [
    "np.ones((5,5))"
   ]
  },
  {
   "cell_type": "code",
   "execution_count": 164,
   "id": "04a5733f",
   "metadata": {},
   "outputs": [
    {
     "data": {
      "text/plain": [
       "array([[1., 0., 0., 0., 0.],\n",
       "       [0., 1., 0., 0., 0.],\n",
       "       [0., 0., 1., 0., 0.],\n",
       "       [0., 0., 0., 1., 0.],\n",
       "       [0., 0., 0., 0., 1.]])"
      ]
     },
     "execution_count": 164,
     "metadata": {},
     "output_type": "execute_result"
    }
   ],
   "source": [
    "np.identity(n=5)"
   ]
  },
  {
   "cell_type": "code",
   "execution_count": 165,
   "id": "e78f5ed2",
   "metadata": {},
   "outputs": [
    {
     "data": {
      "text/plain": [
       "array([[1, 0, 0, 0, 0, 0],\n",
       "       [0, 2, 0, 0, 0, 0],\n",
       "       [0, 0, 3, 0, 0, 0],\n",
       "       [0, 0, 0, 4, 0, 0],\n",
       "       [0, 0, 0, 0, 5, 0],\n",
       "       [0, 0, 0, 0, 0, 6]])"
      ]
     },
     "execution_count": 165,
     "metadata": {},
     "output_type": "execute_result"
    }
   ],
   "source": [
    "np.diag([1,2,3,4,5,6])"
   ]
  },
  {
   "cell_type": "code",
   "execution_count": 167,
   "id": "87e72a97",
   "metadata": {},
   "outputs": [
    {
     "data": {
      "text/plain": [
       "array([1, 2, 3])"
      ]
     },
     "execution_count": 167,
     "metadata": {},
     "output_type": "execute_result"
    }
   ],
   "source": [
    "np.diag(np.diag([1,2,3]))"
   ]
  },
  {
   "cell_type": "code",
   "execution_count": 168,
   "id": "ff8eb3a3",
   "metadata": {},
   "outputs": [],
   "source": []
  },
  {
   "cell_type": "code",
   "execution_count": 169,
   "id": "c3a4f988",
   "metadata": {},
   "outputs": [
    {
     "data": {
      "text/plain": [
       "array([ 0,  1,  2,  3,  4,  5,  6,  7,  8,  9, 10, 11])"
      ]
     },
     "execution_count": 169,
     "metadata": {},
     "output_type": "execute_result"
    }
   ],
   "source": [
    "M"
   ]
  },
  {
   "cell_type": "code",
   "execution_count": 172,
   "id": "c3a19097",
   "metadata": {},
   "outputs": [
    {
     "data": {
      "text/plain": [
       "11"
      ]
     },
     "execution_count": 172,
     "metadata": {},
     "output_type": "execute_result"
    }
   ],
   "source": [
    "M[11]"
   ]
  },
  {
   "cell_type": "code",
   "execution_count": 174,
   "id": "cbe87528",
   "metadata": {},
   "outputs": [
    {
     "data": {
      "text/plain": [
       "array([[ 0,  1,  2,  3],\n",
       "       [ 4,  5,  6,  7],\n",
       "       [ 8,  9, 10, 11]])"
      ]
     },
     "execution_count": 174,
     "metadata": {},
     "output_type": "execute_result"
    }
   ],
   "source": [
    "M = np.arange(12)\n",
    "M  = M.reshape(3,4)\n",
    "M"
   ]
  },
  {
   "cell_type": "code",
   "execution_count": 176,
   "id": "af78fe76",
   "metadata": {},
   "outputs": [
    {
     "data": {
      "text/plain": [
       "6"
      ]
     },
     "execution_count": 176,
     "metadata": {},
     "output_type": "execute_result"
    }
   ],
   "source": [
    "M[1,2]"
   ]
  },
  {
   "cell_type": "code",
   "execution_count": 177,
   "id": "7392b924",
   "metadata": {},
   "outputs": [
    {
     "data": {
      "text/plain": [
       "array([ 7, 11])"
      ]
     },
     "execution_count": 177,
     "metadata": {},
     "output_type": "execute_result"
    }
   ],
   "source": [
    "M[[1,2],[-1,-1]]"
   ]
  },
  {
   "cell_type": "code",
   "execution_count": 181,
   "id": "f8d18b2b",
   "metadata": {},
   "outputs": [
    {
     "data": {
      "text/plain": [
       "array([[ 8,  9, 10, 11],\n",
       "       [ 8,  9, 10, 11],\n",
       "       [ 4,  5,  6,  7],\n",
       "       [ 8,  9, 10, 11]])"
      ]
     },
     "execution_count": 181,
     "metadata": {},
     "output_type": "execute_result"
    }
   ],
   "source": [
    "M[[2,2,1,2]]"
   ]
  },
  {
   "cell_type": "code",
   "execution_count": 182,
   "id": "a29cf3b0",
   "metadata": {},
   "outputs": [
    {
     "data": {
      "text/plain": [
       "array([0, 1, 6])"
      ]
     },
     "execution_count": 182,
     "metadata": {},
     "output_type": "execute_result"
    }
   ],
   "source": [
    "M[[0,0,1],[0,1,2]]"
   ]
  },
  {
   "cell_type": "code",
   "execution_count": 183,
   "id": "18160f89",
   "metadata": {},
   "outputs": [
    {
     "data": {
      "text/plain": [
       "array([[ 0,  1,  2,  3],\n",
       "       [ 4,  5,  6,  7],\n",
       "       [ 8,  9, 10, 11]])"
      ]
     },
     "execution_count": 183,
     "metadata": {},
     "output_type": "execute_result"
    }
   ],
   "source": [
    "M"
   ]
  },
  {
   "cell_type": "code",
   "execution_count": 188,
   "id": "0c56b5e2",
   "metadata": {},
   "outputs": [
    {
     "data": {
      "text/plain": [
       "array([[4, 5, 6, 7]])"
      ]
     },
     "execution_count": 188,
     "metadata": {},
     "output_type": "execute_result"
    }
   ],
   "source": [
    "M[1:2]"
   ]
  },
  {
   "cell_type": "code",
   "execution_count": 191,
   "id": "6569287d",
   "metadata": {},
   "outputs": [
    {
     "data": {
      "text/plain": [
       "array([ 2,  6, 10])"
      ]
     },
     "execution_count": 191,
     "metadata": {},
     "output_type": "execute_result"
    }
   ],
   "source": [
    "M[0:,2]"
   ]
  },
  {
   "cell_type": "code",
   "execution_count": 193,
   "id": "11766b88",
   "metadata": {},
   "outputs": [
    {
     "data": {
      "text/plain": [
       "array([[ 2,  3],\n",
       "       [ 6,  7],\n",
       "       [10, 11]])"
      ]
     },
     "execution_count": 193,
     "metadata": {},
     "output_type": "execute_result"
    }
   ],
   "source": [
    "M[:,2:]"
   ]
  },
  {
   "cell_type": "code",
   "execution_count": 197,
   "id": "0d5adff4",
   "metadata": {},
   "outputs": [
    {
     "data": {
      "text/plain": [
       "array([[0, 1, 2],\n",
       "       [4, 5, 6]])"
      ]
     },
     "execution_count": 197,
     "metadata": {},
     "output_type": "execute_result"
    }
   ],
   "source": [
    "M[:-1,:-1]"
   ]
  },
  {
   "cell_type": "code",
   "execution_count": 198,
   "id": "9895b3f9",
   "metadata": {},
   "outputs": [
    {
     "data": {
      "text/plain": [
       "array([[ 0,  1,  2,  3],\n",
       "       [ 4,  5,  6,  7],\n",
       "       [ 8,  9, 10, 11]])"
      ]
     },
     "execution_count": 198,
     "metadata": {},
     "output_type": "execute_result"
    }
   ],
   "source": [
    "M = np.arange(12)\n",
    "M  = M.reshape(3,4)\n",
    "M"
   ]
  },
  {
   "cell_type": "code",
   "execution_count": 199,
   "id": "26f0e2d7",
   "metadata": {},
   "outputs": [
    {
     "data": {
      "text/plain": [
       "array([[ True,  True,  True,  True],\n",
       "       [ True,  True, False, False],\n",
       "       [False, False, False, False]])"
      ]
     },
     "execution_count": 199,
     "metadata": {},
     "output_type": "execute_result"
    }
   ],
   "source": [
    "M<6"
   ]
  },
  {
   "cell_type": "code",
   "execution_count": 200,
   "id": "51baf6d3",
   "metadata": {},
   "outputs": [
    {
     "data": {
      "text/plain": [
       "array([0, 1, 2, 3, 4, 5])"
      ]
     },
     "execution_count": 200,
     "metadata": {},
     "output_type": "execute_result"
    }
   ],
   "source": [
    "M[M<6]"
   ]
  },
  {
   "cell_type": "code",
   "execution_count": 210,
   "id": "b2c49e56",
   "metadata": {},
   "outputs": [],
   "source": [
    "M = np.random.randint(0,50,(4,8))"
   ]
  },
  {
   "cell_type": "code",
   "execution_count": 211,
   "id": "f4b81c31",
   "metadata": {},
   "outputs": [
    {
     "data": {
      "text/plain": [
       "array([[42,  8, 18, 34, 30, 30, 17, 30],\n",
       "       [11, 49, 22, 23, 41, 28,  6, 23],\n",
       "       [35, 10, 25, 45,  7, 36, 34, 20],\n",
       "       [38, 21, 34, 41, 38, 22, 40, 10]])"
      ]
     },
     "execution_count": 211,
     "metadata": {},
     "output_type": "execute_result"
    }
   ],
   "source": [
    "M"
   ]
  },
  {
   "cell_type": "code",
   "execution_count": 213,
   "id": "c6964e3f",
   "metadata": {},
   "outputs": [
    {
     "data": {
      "text/plain": [
       "array([ 8, 18, 17, 11,  6, 10,  7, 10])"
      ]
     },
     "execution_count": 213,
     "metadata": {},
     "output_type": "execute_result"
    }
   ],
   "source": [
    "M[M<20]"
   ]
  },
  {
   "cell_type": "code",
   "execution_count": 218,
   "id": "edf9094c",
   "metadata": {},
   "outputs": [],
   "source": [
    "M[(M%2==0) | (M%5==0)] = -1"
   ]
  },
  {
   "cell_type": "code",
   "execution_count": 219,
   "id": "4f349276",
   "metadata": {},
   "outputs": [
    {
     "data": {
      "text/plain": [
       "array([[-1, -1, -1, -1, -1, -1, 17, -1],\n",
       "       [11, 49, -1, 23, 41, -1, -1, 23],\n",
       "       [-1, -1, -1, -1,  7, -1, -1, -1],\n",
       "       [-1, 21, -1, 41, -1, -1, -1, -1]])"
      ]
     },
     "execution_count": 219,
     "metadata": {},
     "output_type": "execute_result"
    }
   ],
   "source": [
    "M"
   ]
  },
  {
   "cell_type": "code",
   "execution_count": null,
   "id": "9ff3b622",
   "metadata": {},
   "outputs": [],
   "source": []
  },
  {
   "cell_type": "code",
   "execution_count": 220,
   "id": "9e102ceb",
   "metadata": {},
   "outputs": [
    {
     "data": {
      "text/plain": [
       "array([[-1, -1, -1, -1, -1, -1, 17, -1],\n",
       "       [11, 49, -1, 23, 41, -1, -1, 23],\n",
       "       [-1, -1, -1, -1,  7, -1, -1, -1],\n",
       "       [-1, 21, -1, 41, -1, -1, -1, -1]])"
      ]
     },
     "execution_count": 220,
     "metadata": {},
     "output_type": "execute_result"
    }
   ],
   "source": [
    "M"
   ]
  },
  {
   "cell_type": "code",
   "execution_count": 228,
   "id": "0083f2ae",
   "metadata": {},
   "outputs": [
    {
     "data": {
      "text/plain": [
       "array([[-1, -1, -1, -1],\n",
       "       [-1, -1, 17, -1],\n",
       "       [11, 49, -1, 23],\n",
       "       [41, -1, -1, 23],\n",
       "       [-1, -1, -1, -1],\n",
       "       [ 7, -1, -1, -1],\n",
       "       [-1, 21, -1, 41],\n",
       "       [-1, -1, -1, -1]])"
      ]
     },
     "execution_count": 228,
     "metadata": {},
     "output_type": "execute_result"
    }
   ],
   "source": [
    "M.reshape(8,-1)"
   ]
  },
  {
   "cell_type": "code",
   "execution_count": 232,
   "id": "b0a271f0",
   "metadata": {},
   "outputs": [],
   "source": [
    "M.resize((5,5),refcheck = False)"
   ]
  },
  {
   "cell_type": "code",
   "execution_count": 237,
   "id": "7a3d7a3f",
   "metadata": {},
   "outputs": [
    {
     "data": {
      "text/plain": [
       "array([[ 1.00000000e+00,  0.00000000e+00, -0.00000000e+00,\n",
       "         1.00000000e+00, -0.00000000e+00],\n",
       "       [ 1.18316790e+16,  1.00000000e+00,  1.00000000e+00,\n",
       "         5.91583951e+15, -1.77475185e+16],\n",
       "       [-6.76095944e+15, -0.00000000e+00, -0.00000000e+00,\n",
       "        -3.38047972e+15,  1.01414392e+16],\n",
       "       [-1.06751991e+15, -0.00000000e+00, -0.00000000e+00,\n",
       "        -5.33759956e+14,  1.60127987e+15],\n",
       "       [-4.00319967e+15,  1.00000000e+00, -0.00000000e+00,\n",
       "        -2.00159983e+15,  6.00479950e+15]])"
      ]
     },
     "execution_count": 237,
     "metadata": {},
     "output_type": "execute_result"
    }
   ],
   "source": [
    "np.ceil(np.linalg.inv(M))"
   ]
  },
  {
   "cell_type": "code",
   "execution_count": 238,
   "id": "bd662bce",
   "metadata": {},
   "outputs": [
    {
     "data": {
      "text/plain": [
       "array([[-1, -1, -1, -1, -1],\n",
       "       [-1, 17, -1, 11, 49],\n",
       "       [-1, 23, 41, -1, -1],\n",
       "       [23, -1, -1, -1, -1],\n",
       "       [ 7, -1, -1, -1, -1]])"
      ]
     },
     "execution_count": 238,
     "metadata": {},
     "output_type": "execute_result"
    }
   ],
   "source": [
    "M"
   ]
  },
  {
   "cell_type": "code",
   "execution_count": 239,
   "id": "13690835",
   "metadata": {},
   "outputs": [],
   "source": [
    "M = np.random.randint(0,50,(4,8))"
   ]
  },
  {
   "cell_type": "code",
   "execution_count": 240,
   "id": "30104d62",
   "metadata": {},
   "outputs": [
    {
     "data": {
      "text/plain": [
       "array([[ 4, 22, 44, 27, 20, 48, 40, 28],\n",
       "       [29,  1, 17, 14, 21, 38, 30, 38],\n",
       "       [37, 24, 28, 43, 44,  7,  1, 46],\n",
       "       [45, 19, 42, 17, 43, 49,  2, 23]])"
      ]
     },
     "execution_count": 240,
     "metadata": {},
     "output_type": "execute_result"
    }
   ],
   "source": [
    "M"
   ]
  },
  {
   "cell_type": "code",
   "execution_count": 241,
   "id": "eb2aa7ff",
   "metadata": {},
   "outputs": [
    {
     "data": {
      "text/plain": [
       "891"
      ]
     },
     "execution_count": 241,
     "metadata": {},
     "output_type": "execute_result"
    }
   ],
   "source": [
    "M.sum()"
   ]
  },
  {
   "cell_type": "code",
   "execution_count": 242,
   "id": "d0ff0094",
   "metadata": {},
   "outputs": [
    {
     "data": {
      "text/plain": [
       "array([115,  66, 131, 101, 128, 142,  73, 135])"
      ]
     },
     "execution_count": 242,
     "metadata": {},
     "output_type": "execute_result"
    }
   ],
   "source": [
    "M.sum(axis = 0)"
   ]
  },
  {
   "cell_type": "code",
   "execution_count": 243,
   "id": "05066c22",
   "metadata": {},
   "outputs": [
    {
     "data": {
      "text/plain": [
       "array([233, 188, 230, 240])"
      ]
     },
     "execution_count": 243,
     "metadata": {},
     "output_type": "execute_result"
    }
   ],
   "source": [
    "M.sum(axis = 1)"
   ]
  },
  {
   "cell_type": "code",
   "execution_count": 244,
   "id": "4b741b70",
   "metadata": {},
   "outputs": [],
   "source": [
    "M = np.random.randint(0,50,(4,8,2))"
   ]
  },
  {
   "cell_type": "code",
   "execution_count": 252,
   "id": "8cc9d416",
   "metadata": {},
   "outputs": [
    {
     "data": {
      "text/plain": [
       "78"
      ]
     },
     "execution_count": 252,
     "metadata": {},
     "output_type": "execute_result"
    }
   ],
   "source": [
    "41+37"
   ]
  },
  {
   "cell_type": "code",
   "execution_count": 245,
   "id": "8157cf09",
   "metadata": {},
   "outputs": [
    {
     "data": {
      "text/plain": [
       "array([[[41, 37],\n",
       "        [48,  7],\n",
       "        [45, 42],\n",
       "        [ 4,  2],\n",
       "        [41,  3],\n",
       "        [10, 14],\n",
       "        [14, 43],\n",
       "        [22, 41]],\n",
       "\n",
       "       [[ 5, 22],\n",
       "        [14, 33],\n",
       "        [26, 42],\n",
       "        [20, 23],\n",
       "        [26,  5],\n",
       "        [31, 33],\n",
       "        [48, 38],\n",
       "        [33,  7]],\n",
       "\n",
       "       [[ 4, 43],\n",
       "        [23, 46],\n",
       "        [18, 48],\n",
       "        [36, 44],\n",
       "        [ 7, 38],\n",
       "        [17, 31],\n",
       "        [17, 49],\n",
       "        [11, 15]],\n",
       "\n",
       "       [[42, 31],\n",
       "        [36,  3],\n",
       "        [38, 14],\n",
       "        [ 9, 34],\n",
       "        [ 8, 48],\n",
       "        [32, 41],\n",
       "        [29,  0],\n",
       "        [37,  8]]])"
      ]
     },
     "execution_count": 245,
     "metadata": {},
     "output_type": "execute_result"
    }
   ],
   "source": [
    "M"
   ]
  },
  {
   "cell_type": "code",
   "execution_count": 246,
   "id": "450184d6",
   "metadata": {},
   "outputs": [
    {
     "data": {
      "text/plain": [
       "1677"
      ]
     },
     "execution_count": 246,
     "metadata": {},
     "output_type": "execute_result"
    }
   ],
   "source": [
    "M.sum()"
   ]
  },
  {
   "cell_type": "code",
   "execution_count": 250,
   "id": "55113631",
   "metadata": {},
   "outputs": [
    {
     "data": {
      "text/plain": [
       "array([[78, 55, 87,  6, 44, 24, 57, 63],\n",
       "       [27, 47, 68, 43, 31, 64, 86, 40],\n",
       "       [47, 69, 66, 80, 45, 48, 66, 26],\n",
       "       [73, 39, 52, 43, 56, 73, 29, 45]])"
      ]
     },
     "execution_count": 250,
     "metadata": {},
     "output_type": "execute_result"
    }
   ],
   "source": [
    "M.sum(axis = 2)"
   ]
  },
  {
   "cell_type": "code",
   "execution_count": 262,
   "id": "d16749cc",
   "metadata": {},
   "outputs": [],
   "source": [
    "M = np.random.randint(0,50,(4,8))"
   ]
  },
  {
   "cell_type": "code",
   "execution_count": 263,
   "id": "74e68eb0",
   "metadata": {},
   "outputs": [
    {
     "data": {
      "text/plain": [
       "array([[45,  8, 14, 40,  1, 16,  3, 19],\n",
       "       [38, 38, 33,  8, 11, 35,  3,  3],\n",
       "       [ 0, 43, 45, 43,  3, 46, 27,  0],\n",
       "       [36,  8, 36, 43,  3, 20, 16, 17]])"
      ]
     },
     "execution_count": 263,
     "metadata": {},
     "output_type": "execute_result"
    }
   ],
   "source": [
    "M"
   ]
  },
  {
   "cell_type": "code",
   "execution_count": 264,
   "id": "576d5de4",
   "metadata": {},
   "outputs": [
    {
     "data": {
      "text/plain": [
       "array([29.75, 24.25, 32.  , 33.5 ,  4.5 , 29.25, 12.25,  9.75])"
      ]
     },
     "execution_count": 264,
     "metadata": {},
     "output_type": "execute_result"
    }
   ],
   "source": [
    "np.mean(M,axis =0 )"
   ]
  },
  {
   "cell_type": "code",
   "execution_count": 265,
   "id": "e4ddfc75",
   "metadata": {},
   "outputs": [
    {
     "data": {
      "text/plain": [
       "array([ 0,  8, 14,  8,  1, 16,  3,  0])"
      ]
     },
     "execution_count": 265,
     "metadata": {},
     "output_type": "execute_result"
    }
   ],
   "source": [
    "np.min(M,axis = 0)"
   ]
  },
  {
   "cell_type": "code",
   "execution_count": 275,
   "id": "f0702fb3",
   "metadata": {},
   "outputs": [
    {
     "data": {
      "text/plain": [
       "array([[45,  8, 14, 40,  1, 16,  3, 19],\n",
       "       [38, 38, 33,  8, 11, 35,  3,  3],\n",
       "       [ 0, 43, 45, 43,  3, 46, 27,  0],\n",
       "       [36,  8, 36, 43,  3, 20, 16, 17]])"
      ]
     },
     "execution_count": 275,
     "metadata": {},
     "output_type": "execute_result"
    }
   ],
   "source": [
    "M"
   ]
  },
  {
   "cell_type": "code",
   "execution_count": 267,
   "id": "e916b211",
   "metadata": {},
   "outputs": [
    {
     "data": {
      "text/plain": [
       "array([False,  True,  True,  True,  True,  True,  True, False])"
      ]
     },
     "execution_count": 267,
     "metadata": {},
     "output_type": "execute_result"
    }
   ],
   "source": [
    "np.all(M,axis = 0)"
   ]
  },
  {
   "cell_type": "code",
   "execution_count": 268,
   "id": "69a75d88",
   "metadata": {},
   "outputs": [
    {
     "data": {
      "text/plain": [
       "array([ True,  True, False,  True])"
      ]
     },
     "execution_count": 268,
     "metadata": {},
     "output_type": "execute_result"
    }
   ],
   "source": [
    "np.all(M,axis = 1)"
   ]
  },
  {
   "cell_type": "code",
   "execution_count": 277,
   "id": "51ef85fc",
   "metadata": {},
   "outputs": [
    {
     "data": {
      "text/plain": [
       "array([ True,  True,  True,  True,  True,  True,  True,  True])"
      ]
     },
     "execution_count": 277,
     "metadata": {},
     "output_type": "execute_result"
    }
   ],
   "source": [
    "np.all(M,axis = 0,where=(0))"
   ]
  },
  {
   "cell_type": "code",
   "execution_count": 284,
   "id": "57dab669",
   "metadata": {},
   "outputs": [
    {
     "data": {
      "text/plain": [
       "array([[0, 1, 1, 1, 0, 1, 0, 0],\n",
       "       [1, 1, 0, 1, 0, 0, 0, 0],\n",
       "       [1, 0, 0, 0, 0, 1, 0, 1],\n",
       "       [1, 1, 1, 0, 0, 1, 1, 0]])"
      ]
     },
     "execution_count": 284,
     "metadata": {},
     "output_type": "execute_result"
    }
   ],
   "source": [
    "np.where(M%2==0,1,0)"
   ]
  },
  {
   "cell_type": "code",
   "execution_count": null,
   "id": "0b11c5b2",
   "metadata": {},
   "outputs": [],
   "source": []
  },
  {
   "cell_type": "code",
   "execution_count": null,
   "id": "d084667c",
   "metadata": {},
   "outputs": [],
   "source": []
  },
  {
   "cell_type": "code",
   "execution_count": 285,
   "id": "475d0a49",
   "metadata": {},
   "outputs": [],
   "source": [
    "M = np.random.randint(0,50,(4,8))\n",
    "N = np.random.randint(0,50,(4,8))"
   ]
  },
  {
   "cell_type": "code",
   "execution_count": 286,
   "id": "a7b85e84",
   "metadata": {},
   "outputs": [
    {
     "data": {
      "text/plain": [
       "(array([[43,  4, 26, 26,  0, 49, 48,  9],\n",
       "        [30, 12, 21,  5, 43, 34, 41, 15],\n",
       "        [22, 42, 32, 41, 25, 37, 26, 13],\n",
       "        [26, 16,  8, 26, 44,  6, 21,  5]]),\n",
       " array([[38, 23, 42, 10, 23,  2, 13, 17],\n",
       "        [26, 33, 29, 39, 40, 18, 30, 35],\n",
       "        [26, 27,  9, 44,  6, 31, 23, 45],\n",
       "        [ 8,  1, 10, 31, 49,  2, 20, 49]]))"
      ]
     },
     "execution_count": 286,
     "metadata": {},
     "output_type": "execute_result"
    }
   ],
   "source": [
    "M,N"
   ]
  },
  {
   "cell_type": "code",
   "execution_count": 292,
   "id": "49e90c3b",
   "metadata": {},
   "outputs": [
    {
     "data": {
      "text/plain": [
       "array([[False,  True,  True, False,  True, False, False,  True],\n",
       "       [False,  True,  True,  True, False, False, False,  True],\n",
       "       [ True, False, False,  True, False, False, False,  True],\n",
       "       [False, False,  True,  True,  True, False, False,  True]])"
      ]
     },
     "execution_count": 292,
     "metadata": {},
     "output_type": "execute_result"
    }
   ],
   "source": [
    "(M<N)"
   ]
  },
  {
   "cell_type": "code",
   "execution_count": 291,
   "id": "4dba78fd",
   "metadata": {},
   "outputs": [
    {
     "data": {
      "text/plain": [
       "array([ True,  True,  True,  True,  True, False, False,  True])"
      ]
     },
     "execution_count": 291,
     "metadata": {},
     "output_type": "execute_result"
    }
   ],
   "source": [
    "np.any(M<N,axis= 0)"
   ]
  },
  {
   "cell_type": "code",
   "execution_count": 293,
   "id": "2fa7ca0e",
   "metadata": {},
   "outputs": [
    {
     "data": {
      "text/plain": [
       "array([False, False, False, False, False, False, False,  True])"
      ]
     },
     "execution_count": 293,
     "metadata": {},
     "output_type": "execute_result"
    }
   ],
   "source": [
    "np.all(M<N,axis= 0)"
   ]
  },
  {
   "cell_type": "code",
   "execution_count": null,
   "id": "0a799c2a",
   "metadata": {},
   "outputs": [],
   "source": []
  },
  {
   "cell_type": "code",
   "execution_count": 294,
   "id": "502a377e",
   "metadata": {},
   "outputs": [
    {
     "data": {
      "text/plain": [
       "array([[43,  4, 26, 26,  0, 49, 48,  9],\n",
       "       [30, 12, 21,  5, 43, 34, 41, 15],\n",
       "       [22, 42, 32, 41, 25, 37, 26, 13],\n",
       "       [26, 16,  8, 26, 44,  6, 21,  5]])"
      ]
     },
     "execution_count": 294,
     "metadata": {},
     "output_type": "execute_result"
    }
   ],
   "source": [
    "M"
   ]
  },
  {
   "cell_type": "code",
   "execution_count": 295,
   "id": "c08ba067",
   "metadata": {},
   "outputs": [
    {
     "data": {
      "text/plain": [
       "array([[ 0,  4,  9, 26, 26, 43, 48, 49],\n",
       "       [ 5, 12, 15, 21, 30, 34, 41, 43],\n",
       "       [13, 22, 25, 26, 32, 37, 41, 42],\n",
       "       [ 5,  6,  8, 16, 21, 26, 26, 44]])"
      ]
     },
     "execution_count": 295,
     "metadata": {},
     "output_type": "execute_result"
    }
   ],
   "source": [
    "np.sort(M)"
   ]
  },
  {
   "cell_type": "code",
   "execution_count": 297,
   "id": "89231be4",
   "metadata": {},
   "outputs": [
    {
     "data": {
      "text/plain": [
       "array([[43,  4, 26, 26,  0, 49, 48,  9],\n",
       "       [30, 12, 21,  5, 43, 34, 41, 15],\n",
       "       [22, 42, 32, 41, 25, 37, 26, 13],\n",
       "       [26, 16,  8, 26, 44,  6, 21,  5]])"
      ]
     },
     "execution_count": 297,
     "metadata": {},
     "output_type": "execute_result"
    }
   ],
   "source": [
    "M"
   ]
  },
  {
   "cell_type": "code",
   "execution_count": 298,
   "id": "1076f2d7",
   "metadata": {},
   "outputs": [
    {
     "data": {
      "text/plain": [
       "array([[ 0,  4,  9, 26, 26, 43, 48, 49],\n",
       "       [ 5, 12, 15, 21, 30, 34, 41, 43],\n",
       "       [13, 22, 25, 26, 32, 37, 41, 42],\n",
       "       [ 5,  6,  8, 16, 21, 26, 26, 44]])"
      ]
     },
     "execution_count": 298,
     "metadata": {},
     "output_type": "execute_result"
    }
   ],
   "source": [
    "np.sort(M,axis= 1)"
   ]
  },
  {
   "cell_type": "code",
   "execution_count": 296,
   "id": "1968f420",
   "metadata": {
    "scrolled": true
   },
   "outputs": [
    {
     "data": {
      "text/plain": [
       "array([[22,  4,  8,  5,  0,  6, 21,  5],\n",
       "       [26, 12, 21, 26, 25, 34, 26,  9],\n",
       "       [30, 16, 26, 26, 43, 37, 41, 13],\n",
       "       [43, 42, 32, 41, 44, 49, 48, 15]])"
      ]
     },
     "execution_count": 296,
     "metadata": {},
     "output_type": "execute_result"
    }
   ],
   "source": [
    "np.sort(M,axis= 0)"
   ]
  },
  {
   "cell_type": "code",
   "execution_count": 302,
   "id": "d4e1e899",
   "metadata": {},
   "outputs": [
    {
     "data": {
      "text/plain": [
       "array([3, 1, 4, 2, 1, 4, 4, 4], dtype=int64)"
      ]
     },
     "execution_count": 302,
     "metadata": {},
     "output_type": "execute_result"
    }
   ],
   "source": [
    "np.argmin(M,axis = 0)+1"
   ]
  },
  {
   "cell_type": "code",
   "execution_count": 301,
   "id": "43287e04",
   "metadata": {},
   "outputs": [
    {
     "data": {
      "text/plain": [
       "array([[43,  4, 26, 26,  0, 49, 48,  9],\n",
       "       [30, 12, 21,  5, 43, 34, 41, 15],\n",
       "       [22, 42, 32, 41, 25, 37, 26, 13],\n",
       "       [26, 16,  8, 26, 44,  6, 21,  5]])"
      ]
     },
     "execution_count": 301,
     "metadata": {},
     "output_type": "execute_result"
    }
   ],
   "source": [
    "M"
   ]
  },
  {
   "cell_type": "code",
   "execution_count": 303,
   "id": "885a8599",
   "metadata": {},
   "outputs": [
    {
     "data": {
      "text/plain": [
       "array([[43,  4, 26, 26,  0, 49, 48,  9],\n",
       "       [30, 12, 21,  5, 43, 34, 41, 15],\n",
       "       [22, 42, 32, 41, 25, 37, 26, 13],\n",
       "       [26, 16,  8, 26, 44,  6, 21,  5]])"
      ]
     },
     "execution_count": 303,
     "metadata": {},
     "output_type": "execute_result"
    }
   ],
   "source": [
    "M"
   ]
  },
  {
   "cell_type": "code",
   "execution_count": 304,
   "id": "e273e2e1",
   "metadata": {},
   "outputs": [
    {
     "data": {
      "text/plain": [
       "array([[2, 0, 3, 1, 0, 3, 3, 3],\n",
       "       [3, 1, 1, 0, 2, 1, 2, 0],\n",
       "       [1, 3, 0, 3, 1, 2, 1, 2],\n",
       "       [0, 2, 2, 2, 3, 0, 0, 1]], dtype=int64)"
      ]
     },
     "execution_count": 304,
     "metadata": {},
     "output_type": "execute_result"
    }
   ],
   "source": [
    "np.argsort(M,axis = 0)"
   ]
  },
  {
   "cell_type": "code",
   "execution_count": 306,
   "id": "190b3b35",
   "metadata": {},
   "outputs": [
    {
     "name": "stderr",
     "output_type": "stream",
     "text": [
      "Downloading...\n",
      "From: https://drive.google.com/uc?id=1kXqcJo4YzmwF1G2BPoA17CI49TZVHANF\n",
      "To: C:\\Users\\sunny\\Data Science Studies\\GitHub_Desktop\\Data-Science-Numpy-Pandas\\fitness.txt\n",
      "\n",
      "  0%|          | 0.00/3.14k [00:00<?, ?B/s]\n",
      "100%|##########| 3.14k/3.14k [00:00<00:00, 2.64MB/s]\n"
     ]
    }
   ],
   "source": [
    "!gdown 1kXqcJo4YzmwF1G2BPoA17CI49TZVHANF"
   ]
  },
  {
   "cell_type": "code",
   "execution_count": 310,
   "id": "7dc838fc",
   "metadata": {},
   "outputs": [],
   "source": [
    "data = np.loadtxt(\"fitness.txt\",dtype=\"str\")"
   ]
  },
  {
   "cell_type": "code",
   "execution_count": 311,
   "id": "eefc6830",
   "metadata": {},
   "outputs": [
    {
     "data": {
      "text/plain": [
       "array([['06-10-2017', '5464', '200', '181', '5', '0', '66'],\n",
       "       ['07-10-2017', '6041', '100', '197', '8', '0', '66'],\n",
       "       ['08-10-2017', '25', '100', '0', '5', '0', '66'],\n",
       "       ['09-10-2017', '5461', '100', '174', '4', '0', '66'],\n",
       "       ['10-10-2017', '6915', '200', '223', '5', '500', '66'],\n",
       "       ['11-10-2017', '4545', '100', '149', '6', '0', '66'],\n",
       "       ['12-10-2017', '4340', '100', '140', '6', '0', '66'],\n",
       "       ['13-10-2017', '1230', '100', '38', '7', '0', '66'],\n",
       "       ['14-10-2017', '61', '100', '1', '5', '0', '66'],\n",
       "       ['15-10-2017', '1258', '100', '40', '6', '0', '65'],\n",
       "       ['16-10-2017', '3148', '100', '101', '8', '0', '65'],\n",
       "       ['17-10-2017', '4687', '100', '152', '5', '0', '65'],\n",
       "       ['18-10-2017', '4732', '300', '150', '6', '500', '65'],\n",
       "       ['19-10-2017', '3519', '100', '113', '7', '0', '65'],\n",
       "       ['20-10-2017', '1580', '100', '49', '5', '0', '65'],\n",
       "       ['21-10-2017', '2822', '100', '86', '6', '0', '65'],\n",
       "       ['22-10-2017', '181', '100', '6', '8', '0', '65'],\n",
       "       ['23-10-2017', '3158', '200', '99', '5', '0', '65'],\n",
       "       ['24-10-2017', '4383', '200', '143', '4', '0', '64'],\n",
       "       ['25-10-2017', '3881', '200', '125', '5', '0', '64'],\n",
       "       ['26-10-2017', '4037', '200', '129', '6', '0', '64'],\n",
       "       ['27-10-2017', '202', '200', '6', '8', '0', '64'],\n",
       "       ['28-10-2017', '292', '200', '9', '5', '0', '64'],\n",
       "       ['29-10-2017', '330', '300', '10', '6', '0', '64'],\n",
       "       ['30-10-2017', '2209', '200', '72', '5', '0', '64'],\n",
       "       ['31-10-2017', '4550', '300', '150', '8', '500', '64'],\n",
       "       ['01-11-2017', '4435', '300', '141', '5', '0', '64'],\n",
       "       ['02-11-2017', '4779', '300', '156', '4', '0', '64'],\n",
       "       ['03-11-2017', '1831', '300', '57', '5', '0', '64'],\n",
       "       ['04-11-2017', '2255', '300', '72', '4', '0', '64'],\n",
       "       ['05-11-2017', '539', '300', '17', '5', '500', '64'],\n",
       "       ['06-11-2017', '5464', '300', '181', '4', '0', '64'],\n",
       "       ['07-11-2017', '6041', '200', '197', '3', '0', '64'],\n",
       "       ['08-11-2017', '4068', '300', '131', '2', '0', '64'],\n",
       "       ['09-11-2017', '4683', '300', '154', '9', '0', '64'],\n",
       "       ['10-11-2017', '4033', '300', '137', '5', '0', '64'],\n",
       "       ['11-11-2017', '6314', '300', '193', '6', '500', '64'],\n",
       "       ['12-11-2017', '614', '300', '19', '4', '500', '64'],\n",
       "       ['13-11-2017', '3149', '300', '101', '5', '500', '64'],\n",
       "       ['14-11-2017', '4005', '300', '139', '8', '500', '64'],\n",
       "       ['15-11-2017', '4880', '300', '164', '4', '500', '64'],\n",
       "       ['16-11-2017', '4136', '300', '137', '5', '500', '64'],\n",
       "       ['17-11-2017', '705', '300', '22', '6', '500', '64'],\n",
       "       ['18-11-2017', '570', '200', '17', '5', '500', '64'],\n",
       "       ['19-11-2017', '269', '300', '9', '6', '500', '64'],\n",
       "       ['20-11-2017', '4275', '300', '145', '5', '0', '64'],\n",
       "       ['21-11-2017', '5999', '300', '192', '6', '0', '64'],\n",
       "       ['22-11-2017', '4421', '300', '146', '5', '0', '64'],\n",
       "       ['23-11-2017', '6930', '300', '234', '6', '0', '64'],\n",
       "       ['24-11-2017', '5195', '300', '167', '5', '0', '64'],\n",
       "       ['25-11-2017', '546', '300', '16', '6', '0', '64'],\n",
       "       ['26-11-2017', '493', '300', '17', '7', '500', '64'],\n",
       "       ['27-11-2017', '995', '300', '32', '6', '500', '64'],\n",
       "       ['28-11-2017', '1163', '200', '35', '7', '500', '64'],\n",
       "       ['29-11-2017', '6676', '100', '220', '6', '500', '64'],\n",
       "       ['30-11-2017', '3608', '300', '116', '5', '500', '64'],\n",
       "       ['01-12-2017', '774', '300', '23', '6', '500', '64'],\n",
       "       ['02-12-2017', '1421', '300', '44', '7', '500', '64'],\n",
       "       ['03-12-2017', '4064', '300', '131', '8', '500', '64'],\n",
       "       ['04-12-2017', '2725', '300', '86', '8', '500', '64'],\n",
       "       ['05-12-2017', '5934', '300', '194', '7', '500', '64'],\n",
       "       ['06-12-2017', '1867', '300', '60', '8', '500', '64'],\n",
       "       ['07-12-2017', '3721', '100', '121', '5', '500', '64'],\n",
       "       ['08-12-2017', '2374', '200', '76', '4', '0', '64'],\n",
       "       ['09-12-2017', '2909', '200', '93', '3', '500', '64'],\n",
       "       ['10-12-2017', '1648', '100', '53', '3', '500', '64'],\n",
       "       ['11-12-2017', '799', '100', '25', '4', '0', '64'],\n",
       "       ['12-12-2017', '7102', '200', '227', '5', '500', '64'],\n",
       "       ['13-12-2017', '3941', '200', '125', '5', '500', '64'],\n",
       "       ['14-12-2017', '7422', '300', '243', '5', '500', '64'],\n",
       "       ['15-12-2017', '437', '200', '14', '3', '500', '64'],\n",
       "       ['16-12-2017', '1231', '200', '39', '4', '500', '64'],\n",
       "       ['17-12-2017', '1696', '100', '55', '4', '0', '64'],\n",
       "       ['18-12-2017', '4921', '200', '158', '5', '500', '64'],\n",
       "       ['19-12-2017', '221', '100', '7', '5', '500', '64'],\n",
       "       ['20-12-2017', '6500', '200', '213', '5', '500', '64'],\n",
       "       ['21-12-2017', '3575', '200', '116', '5', '500', '64'],\n",
       "       ['22-12-2017', '4061', '100', '129', '5', '0', '64'],\n",
       "       ['23-12-2017', '651', '100', '21', '5', '0', '64'],\n",
       "       ['24-12-2017', '753', '100', '28', '4', '0', '64'],\n",
       "       ['25-12-2017', '518', '100', '16', '3', '0', '64'],\n",
       "       ['26-12-2017', '5537', '300', '180', '4', '500', '64'],\n",
       "       ['27-12-2017', '4108', '200', '138', '5', '500', '64'],\n",
       "       ['28-12-2017', '5376', '300', '176', '5', '500', '64'],\n",
       "       ['29-12-2017', '3066', '200', '99', '4', '500', '64'],\n",
       "       ['30-12-2017', '177', '100', '5', '5', '0', '64'],\n",
       "       ['31-12-2017', '36', '100', '1', '3', '0', '64'],\n",
       "       ['01-01-2018', '299', '100', '10', '3', '0', '64'],\n",
       "       ['02-01-2018', '1447', '200', '47', '3', '0', '64'],\n",
       "       ['03-01-2018', '2599', '200', '84', '2', '0', '64'],\n",
       "       ['04-01-2018', '702', '100', '23', '3', '0', '64'],\n",
       "       ['05-01-2018', '133', '100', '4', '2', '0', '64'],\n",
       "       ['06-01-2018', '153', '300', '0', '8', '0', '64'],\n",
       "       ['07-01-2018', '500', '200', '0', '5', '500', '64'],\n",
       "       ['08-01-2018', '2127', '200', '0', '5', '0', '64'],\n",
       "       ['09-01-2018', '2203', '300', '0', '5', '500', '64']], dtype='<U10')"
      ]
     },
     "execution_count": 311,
     "metadata": {},
     "output_type": "execute_result"
    }
   ],
   "source": [
    "data"
   ]
  },
  {
   "cell_type": "code",
   "execution_count": 312,
   "id": "32582aa6",
   "metadata": {},
   "outputs": [
    {
     "data": {
      "text/plain": [
       "(96, 7)"
      ]
     },
     "execution_count": 312,
     "metadata": {},
     "output_type": "execute_result"
    }
   ],
   "source": [
    "data.shape"
   ]
  },
  {
   "cell_type": "code",
   "execution_count": 323,
   "id": "5216d72a",
   "metadata": {},
   "outputs": [
    {
     "data": {
      "text/plain": [
       "array(['06-10-2017', '07-10-2017', '08-10-2017', '09-10-2017',\n",
       "       '10-10-2017', '11-10-2017', '12-10-2017', '13-10-2017',\n",
       "       '14-10-2017', '15-10-2017', '16-10-2017', '17-10-2017',\n",
       "       '18-10-2017', '19-10-2017', '20-10-2017', '21-10-2017',\n",
       "       '22-10-2017', '23-10-2017', '24-10-2017', '25-10-2017',\n",
       "       '26-10-2017', '27-10-2017', '28-10-2017', '29-10-2017',\n",
       "       '30-10-2017', '31-10-2017', '01-11-2017', '02-11-2017',\n",
       "       '03-11-2017', '04-11-2017', '05-11-2017', '06-11-2017',\n",
       "       '07-11-2017', '08-11-2017', '09-11-2017', '10-11-2017',\n",
       "       '11-11-2017', '12-11-2017', '13-11-2017', '14-11-2017',\n",
       "       '15-11-2017', '16-11-2017', '17-11-2017', '18-11-2017',\n",
       "       '19-11-2017', '20-11-2017', '21-11-2017', '22-11-2017',\n",
       "       '23-11-2017', '24-11-2017', '25-11-2017', '26-11-2017',\n",
       "       '27-11-2017', '28-11-2017', '29-11-2017', '30-11-2017',\n",
       "       '01-12-2017', '02-12-2017', '03-12-2017', '04-12-2017',\n",
       "       '05-12-2017', '06-12-2017', '07-12-2017', '08-12-2017',\n",
       "       '09-12-2017', '10-12-2017', '11-12-2017', '12-12-2017',\n",
       "       '13-12-2017', '14-12-2017', '15-12-2017', '16-12-2017',\n",
       "       '17-12-2017', '18-12-2017', '19-12-2017', '20-12-2017',\n",
       "       '21-12-2017', '22-12-2017', '23-12-2017', '24-12-2017',\n",
       "       '25-12-2017', '26-12-2017', '27-12-2017', '28-12-2017',\n",
       "       '29-12-2017', '30-12-2017', '31-12-2017', '01-01-2018',\n",
       "       '02-01-2018', '03-01-2018', '04-01-2018', '05-01-2018',\n",
       "       '06-01-2018', '07-01-2018', '08-01-2018', '09-01-2018'],\n",
       "      dtype='<U10')"
      ]
     },
     "execution_count": 323,
     "metadata": {},
     "output_type": "execute_result"
    }
   ],
   "source": [
    "data.T[0]"
   ]
  },
  {
   "cell_type": "code",
   "execution_count": null,
   "id": "09ed2031",
   "metadata": {},
   "outputs": [],
   "source": []
  },
  {
   "cell_type": "code",
   "execution_count": 324,
   "id": "194d5410",
   "metadata": {},
   "outputs": [],
   "source": [
    "date,step_count,mood,calories,sleepHours, activityStatus,weight = data.T"
   ]
  },
  {
   "cell_type": "code",
   "execution_count": 330,
   "id": "86e2a169",
   "metadata": {},
   "outputs": [],
   "source": [
    "step_count = step_count.astype(\"int\")"
   ]
  },
  {
   "cell_type": "code",
   "execution_count": 334,
   "id": "fc541452",
   "metadata": {},
   "outputs": [],
   "source": [
    "calories = calories.astype(\"int\")"
   ]
  },
  {
   "cell_type": "code",
   "execution_count": 336,
   "id": "9368871a",
   "metadata": {},
   "outputs": [],
   "source": [
    "sleepHours = sleepHours.astype(\"int\")"
   ]
  },
  {
   "cell_type": "code",
   "execution_count": 339,
   "id": "8902d044",
   "metadata": {},
   "outputs": [],
   "source": [
    "weight = weight.astype(\"int\")"
   ]
  },
  {
   "cell_type": "code",
   "execution_count": 340,
   "id": "c8e833d8",
   "metadata": {},
   "outputs": [
    {
     "data": {
      "text/plain": [
       "array(['200', '100', '100', '100', '200', '100', '100', '100', '100',\n",
       "       '100', '100', '100', '300', '100', '100', '100', '100', '200',\n",
       "       '200', '200', '200', '200', '200', '300', '200', '300', '300',\n",
       "       '300', '300', '300', '300', '300', '200', '300', '300', '300',\n",
       "       '300', '300', '300', '300', '300', '300', '300', '200', '300',\n",
       "       '300', '300', '300', '300', '300', '300', '300', '300', '200',\n",
       "       '100', '300', '300', '300', '300', '300', '300', '300', '100',\n",
       "       '200', '200', '100', '100', '200', '200', '300', '200', '200',\n",
       "       '100', '200', '100', '200', '200', '100', '100', '100', '100',\n",
       "       '300', '200', '300', '200', '100', '100', '100', '200', '200',\n",
       "       '100', '100', '300', '200', '200', '300'], dtype='<U10')"
      ]
     },
     "execution_count": 340,
     "metadata": {},
     "output_type": "execute_result"
    }
   ],
   "source": [
    "mood"
   ]
  },
  {
   "cell_type": "code",
   "execution_count": 341,
   "id": "61d98b9e",
   "metadata": {},
   "outputs": [
    {
     "data": {
      "text/plain": [
       "array(['100', '200', '300'], dtype='<U10')"
      ]
     },
     "execution_count": 341,
     "metadata": {},
     "output_type": "execute_result"
    }
   ],
   "source": [
    "np.unique(mood)"
   ]
  },
  {
   "cell_type": "code",
   "execution_count": 346,
   "id": "31ab30d7",
   "metadata": {},
   "outputs": [],
   "source": [
    "mood[mood == \"300\"] = \"Happy\""
   ]
  },
  {
   "cell_type": "code",
   "execution_count": 348,
   "id": "7112e503",
   "metadata": {},
   "outputs": [],
   "source": [
    "mood[mood == \"200\"] = \"Neutral\"\n",
    "mood[mood == \"100\"] = \"Sad\"\n"
   ]
  },
  {
   "cell_type": "code",
   "execution_count": 349,
   "id": "ad52827c",
   "metadata": {},
   "outputs": [
    {
     "data": {
      "text/plain": [
       "array(['Neutral', 'Sad', 'Sad', 'Sad', 'Neutral', 'Sad', 'Sad', 'Sad',\n",
       "       'Sad', 'Sad', 'Sad', 'Sad', 'Happy', 'Sad', 'Sad', 'Sad', 'Sad',\n",
       "       'Neutral', 'Neutral', 'Neutral', 'Neutral', 'Neutral', 'Neutral',\n",
       "       'Happy', 'Neutral', 'Happy', 'Happy', 'Happy', 'Happy', 'Happy',\n",
       "       'Happy', 'Happy', 'Neutral', 'Happy', 'Happy', 'Happy', 'Happy',\n",
       "       'Happy', 'Happy', 'Happy', 'Happy', 'Happy', 'Happy', 'Neutral',\n",
       "       'Happy', 'Happy', 'Happy', 'Happy', 'Happy', 'Happy', 'Happy',\n",
       "       'Happy', 'Happy', 'Neutral', 'Sad', 'Happy', 'Happy', 'Happy',\n",
       "       'Happy', 'Happy', 'Happy', 'Happy', 'Sad', 'Neutral', 'Neutral',\n",
       "       'Sad', 'Sad', 'Neutral', 'Neutral', 'Happy', 'Neutral', 'Neutral',\n",
       "       'Sad', 'Neutral', 'Sad', 'Neutral', 'Neutral', 'Sad', 'Sad', 'Sad',\n",
       "       'Sad', 'Happy', 'Neutral', 'Happy', 'Neutral', 'Sad', 'Sad', 'Sad',\n",
       "       'Neutral', 'Neutral', 'Sad', 'Sad', 'Happy', 'Neutral', 'Neutral',\n",
       "       'Happy'], dtype='<U10')"
      ]
     },
     "execution_count": 349,
     "metadata": {},
     "output_type": "execute_result"
    }
   ],
   "source": [
    "mood"
   ]
  },
  {
   "cell_type": "code",
   "execution_count": 352,
   "id": "a62866f1",
   "metadata": {},
   "outputs": [],
   "source": [
    "activityStatus[activityStatus == \"0\"] = \"InActive\"\n",
    "activityStatus[activityStatus == \"500\"] = \"Active\""
   ]
  },
  {
   "cell_type": "code",
   "execution_count": 353,
   "id": "cf792157",
   "metadata": {},
   "outputs": [
    {
     "data": {
      "text/plain": [
       "array(['InActive', 'InActive', 'InActive', 'InActive', 'Active',\n",
       "       'InActive', 'InActive', 'InActive', 'InActive', 'InActive',\n",
       "       'InActive', 'InActive', 'Active', 'InActive', 'InActive',\n",
       "       'InActive', 'InActive', 'InActive', 'InActive', 'InActive',\n",
       "       'InActive', 'InActive', 'InActive', 'InActive', 'InActive',\n",
       "       'Active', 'InActive', 'InActive', 'InActive', 'InActive', 'Active',\n",
       "       'InActive', 'InActive', 'InActive', 'InActive', 'InActive',\n",
       "       'Active', 'Active', 'Active', 'Active', 'Active', 'Active',\n",
       "       'Active', 'Active', 'Active', 'InActive', 'InActive', 'InActive',\n",
       "       'InActive', 'InActive', 'InActive', 'Active', 'Active', 'Active',\n",
       "       'Active', 'Active', 'Active', 'Active', 'Active', 'Active',\n",
       "       'Active', 'Active', 'Active', 'InActive', 'Active', 'Active',\n",
       "       'InActive', 'Active', 'Active', 'Active', 'Active', 'Active',\n",
       "       'InActive', 'Active', 'Active', 'Active', 'Active', 'InActive',\n",
       "       'InActive', 'InActive', 'InActive', 'Active', 'Active', 'Active',\n",
       "       'Active', 'InActive', 'InActive', 'InActive', 'InActive',\n",
       "       'InActive', 'InActive', 'InActive', 'InActive', 'Active',\n",
       "       'InActive', 'Active'], dtype='<U10')"
      ]
     },
     "execution_count": 353,
     "metadata": {},
     "output_type": "execute_result"
    }
   ],
   "source": [
    "activityStatus"
   ]
  },
  {
   "cell_type": "code",
   "execution_count": 354,
   "id": "195899e0",
   "metadata": {},
   "outputs": [
    {
     "data": {
      "text/plain": [
       "2935.9375"
      ]
     },
     "execution_count": 354,
     "metadata": {},
     "output_type": "execute_result"
    }
   ],
   "source": [
    "np.mean(step_count)"
   ]
  },
  {
   "cell_type": "code",
   "execution_count": 356,
   "id": "486fdaa3",
   "metadata": {},
   "outputs": [
    {
     "data": {
      "text/plain": [
       "'14-12-2017'"
      ]
     },
     "execution_count": 356,
     "metadata": {},
     "output_type": "execute_result"
    }
   ],
   "source": [
    "date[np.argmax(step_count)]"
   ]
  },
  {
   "cell_type": "code",
   "execution_count": 360,
   "id": "37e18965",
   "metadata": {},
   "outputs": [
    {
     "data": {
      "text/plain": [
       "(array(['Happy', 'Neutral', 'Sad'], dtype='<U10'),\n",
       " array([40, 27, 29], dtype=int64))"
      ]
     },
     "execution_count": 360,
     "metadata": {},
     "output_type": "execute_result"
    }
   ],
   "source": [
    "np.unique(mood,return_counts=True)"
   ]
  },
  {
   "cell_type": "code",
   "execution_count": 365,
   "id": "241469e7",
   "metadata": {},
   "outputs": [
    {
     "data": {
      "text/plain": [
       "(3392.725, 2103.0689655172414, 3153.777777777778)"
      ]
     },
     "execution_count": 365,
     "metadata": {},
     "output_type": "execute_result"
    }
   ],
   "source": [
    "step_count[mood == \"Happy\"].mean(),step_count[mood == \"Sad\"].mean(),step_count[mood == \"Neutral\"].mean()"
   ]
  },
  {
   "cell_type": "code",
   "execution_count": 368,
   "id": "5dd1dc06",
   "metadata": {},
   "outputs": [
    {
     "data": {
      "text/plain": [
       "(array(['Happy', 'Neutral', 'Sad'], dtype='<U10'),\n",
       " array([22,  9,  7], dtype=int64))"
      ]
     },
     "execution_count": 368,
     "metadata": {},
     "output_type": "execute_result"
    }
   ],
   "source": [
    "np.unique(mood[step_count > 4000],return_counts=True)"
   ]
  },
  {
   "cell_type": "code",
   "execution_count": 370,
   "id": "4407e82e",
   "metadata": {},
   "outputs": [
    {
     "data": {
      "text/plain": [
       "(array(['Happy', 'Neutral', 'Sad'], dtype='<U10'),\n",
       " array([13,  8, 18], dtype=int64))"
      ]
     },
     "execution_count": 370,
     "metadata": {},
     "output_type": "execute_result"
    }
   ],
   "source": [
    "np.unique(mood[step_count < 2000],return_counts=True)"
   ]
  },
  {
   "cell_type": "code",
   "execution_count": null,
   "id": "997e7fe6",
   "metadata": {},
   "outputs": [],
   "source": []
  },
  {
   "cell_type": "code",
   "execution_count": 372,
   "id": "174e08ee",
   "metadata": {},
   "outputs": [],
   "source": [
    "M = np.arange(12).reshape(3,4)"
   ]
  },
  {
   "cell_type": "code",
   "execution_count": 373,
   "id": "a68e0f3b",
   "metadata": {},
   "outputs": [
    {
     "data": {
      "text/plain": [
       "array([[ 0,  1,  2,  3],\n",
       "       [ 4,  5,  6,  7],\n",
       "       [ 8,  9, 10, 11]])"
      ]
     },
     "execution_count": 373,
     "metadata": {},
     "output_type": "execute_result"
    }
   ],
   "source": [
    "M\n",
    "\n"
   ]
  },
  {
   "cell_type": "code",
   "execution_count": 374,
   "id": "799bca21",
   "metadata": {},
   "outputs": [
    {
     "data": {
      "text/plain": [
       "array([[ 2,  3,  4,  5],\n",
       "       [ 6,  7,  8,  9],\n",
       "       [10, 11, 12, 13]])"
      ]
     },
     "execution_count": 374,
     "metadata": {},
     "output_type": "execute_result"
    }
   ],
   "source": [
    "M+2"
   ]
  },
  {
   "cell_type": "code",
   "execution_count": 375,
   "id": "5c4608e1",
   "metadata": {},
   "outputs": [],
   "source": [
    "a = np.array([1,2,3])"
   ]
  },
  {
   "cell_type": "code",
   "execution_count": 376,
   "id": "f0374eee",
   "metadata": {},
   "outputs": [
    {
     "data": {
      "text/plain": [
       "array([1, 2, 3])"
      ]
     },
     "execution_count": 376,
     "metadata": {},
     "output_type": "execute_result"
    }
   ],
   "source": [
    "a"
   ]
  },
  {
   "cell_type": "code",
   "execution_count": 377,
   "id": "d0d39f90",
   "metadata": {},
   "outputs": [
    {
     "data": {
      "text/plain": [
       "array([[ 0,  1,  2,  3],\n",
       "       [ 4,  5,  6,  7],\n",
       "       [ 8,  9, 10, 11]])"
      ]
     },
     "execution_count": 377,
     "metadata": {},
     "output_type": "execute_result"
    }
   ],
   "source": [
    "M"
   ]
  },
  {
   "cell_type": "code",
   "execution_count": 382,
   "id": "8b5df99d",
   "metadata": {},
   "outputs": [
    {
     "data": {
      "text/plain": [
       "array([[ 1,  2,  3,  4],\n",
       "       [ 6,  7,  8,  9],\n",
       "       [11, 12, 13, 14]])"
      ]
     },
     "execution_count": 382,
     "metadata": {},
     "output_type": "execute_result"
    }
   ],
   "source": [
    "a.reshape(-1,3).T + M"
   ]
  },
  {
   "cell_type": "code",
   "execution_count": null,
   "id": "83f046af",
   "metadata": {},
   "outputs": [],
   "source": []
  },
  {
   "cell_type": "code",
   "execution_count": null,
   "id": "0024bc03",
   "metadata": {},
   "outputs": [],
   "source": []
  },
  {
   "cell_type": "code",
   "execution_count": null,
   "id": "f1296701",
   "metadata": {},
   "outputs": [],
   "source": []
  },
  {
   "cell_type": "code",
   "execution_count": null,
   "id": "d40dbb5d",
   "metadata": {},
   "outputs": [],
   "source": []
  },
  {
   "cell_type": "code",
   "execution_count": 383,
   "id": "68221e1d",
   "metadata": {},
   "outputs": [],
   "source": [
    "A = np.arange(12).reshape(3,4)\n",
    "B = np.arange(12).reshape(3,4)"
   ]
  },
  {
   "cell_type": "code",
   "execution_count": 385,
   "id": "73b6ff37",
   "metadata": {},
   "outputs": [
    {
     "data": {
      "text/plain": [
       "(array([[ 0,  1,  2,  3],\n",
       "        [ 4,  5,  6,  7],\n",
       "        [ 8,  9, 10, 11]]),\n",
       " array([[ 0,  1,  2,  3],\n",
       "        [ 4,  5,  6,  7],\n",
       "        [ 8,  9, 10, 11]]))"
      ]
     },
     "execution_count": 385,
     "metadata": {},
     "output_type": "execute_result"
    }
   ],
   "source": [
    "A,B"
   ]
  },
  {
   "cell_type": "code",
   "execution_count": 386,
   "id": "bea33365",
   "metadata": {},
   "outputs": [
    {
     "data": {
      "text/plain": [
       "array([[ 0,  2,  4,  6],\n",
       "       [ 8, 10, 12, 14],\n",
       "       [16, 18, 20, 22]])"
      ]
     },
     "execution_count": 386,
     "metadata": {},
     "output_type": "execute_result"
    }
   ],
   "source": [
    "A+B"
   ]
  },
  {
   "cell_type": "code",
   "execution_count": 389,
   "id": "bdfb9659",
   "metadata": {},
   "outputs": [
    {
     "data": {
      "text/plain": [
       "array([[ 0,  2,  4,  6],\n",
       "       [ 4,  6,  8, 10],\n",
       "       [ 8, 10, 12, 14]])"
      ]
     },
     "execution_count": 389,
     "metadata": {},
     "output_type": "execute_result"
    }
   ],
   "source": [
    "A + B[0,:]"
   ]
  },
  {
   "cell_type": "code",
   "execution_count": 390,
   "id": "2f1d0a92",
   "metadata": {},
   "outputs": [
    {
     "data": {
      "text/plain": [
       "array([[  0,   1,   4,   9],\n",
       "       [ 16,  25,  36,  49],\n",
       "       [ 64,  81, 100, 121]])"
      ]
     },
     "execution_count": 390,
     "metadata": {},
     "output_type": "execute_result"
    }
   ],
   "source": [
    "A*B"
   ]
  },
  {
   "cell_type": "code",
   "execution_count": 395,
   "id": "f9638753",
   "metadata": {},
   "outputs": [
    {
     "data": {
      "text/plain": [
       "array([[ 14,  38,  62],\n",
       "       [ 38, 126, 214],\n",
       "       [ 62, 214, 366]])"
      ]
     },
     "execution_count": 395,
     "metadata": {},
     "output_type": "execute_result"
    }
   ],
   "source": [
    "A@B.T"
   ]
  },
  {
   "cell_type": "code",
   "execution_count": 403,
   "id": "77403d3e",
   "metadata": {},
   "outputs": [
    {
     "data": {
      "text/plain": [
       "(array([[ 0,  1,  2,  3],\n",
       "        [ 4,  5,  6,  7],\n",
       "        [ 8,  9, 10, 11]]),\n",
       " array([[ 0,  4,  8],\n",
       "        [ 1,  5,  9],\n",
       "        [ 2,  6, 10],\n",
       "        [ 3,  7, 11]]))"
      ]
     },
     "execution_count": 403,
     "metadata": {},
     "output_type": "execute_result"
    }
   ],
   "source": [
    "A,B.T"
   ]
  },
  {
   "cell_type": "code",
   "execution_count": 396,
   "id": "dc2467e6",
   "metadata": {},
   "outputs": [
    {
     "data": {
      "text/plain": [
       "array([[ 14,  38,  62],\n",
       "       [ 38, 126, 214],\n",
       "       [ 62, 214, 366]])"
      ]
     },
     "execution_count": 396,
     "metadata": {},
     "output_type": "execute_result"
    }
   ],
   "source": [
    "np.dot(A,B.T)"
   ]
  },
  {
   "cell_type": "code",
   "execution_count": 397,
   "id": "d3df75e3",
   "metadata": {},
   "outputs": [
    {
     "data": {
      "text/plain": [
       "array([[ 14,  38,  62],\n",
       "       [ 38, 126, 214],\n",
       "       [ 62, 214, 366]])"
      ]
     },
     "execution_count": 397,
     "metadata": {},
     "output_type": "execute_result"
    }
   ],
   "source": [
    "np.matmul(A,B.T)"
   ]
  },
  {
   "cell_type": "code",
   "execution_count": 402,
   "id": "d3740c67",
   "metadata": {},
   "outputs": [
    {
     "data": {
      "text/plain": [
       "array([[ 0,  4,  8],\n",
       "       [ 1,  5,  9],\n",
       "       [ 2,  6, 10],\n",
       "       [ 3,  7, 11]])"
      ]
     },
     "execution_count": 402,
     "metadata": {},
     "output_type": "execute_result"
    }
   ],
   "source": [
    "B.T"
   ]
  },
  {
   "cell_type": "code",
   "execution_count": 400,
   "id": "f78bead7",
   "metadata": {},
   "outputs": [
    {
     "data": {
      "text/plain": [
       "array([[ 0,  1,  2,  3],\n",
       "       [ 4,  5,  6,  7],\n",
       "       [ 8,  9, 10, 11]])"
      ]
     },
     "execution_count": 400,
     "metadata": {},
     "output_type": "execute_result"
    }
   ],
   "source": [
    "A\n"
   ]
  },
  {
   "cell_type": "code",
   "execution_count": 399,
   "id": "60dfdcad",
   "metadata": {},
   "outputs": [
    {
     "data": {
      "text/plain": [
       "array([[ 80,  92, 104, 116],\n",
       "       [ 92, 107, 122, 137],\n",
       "       [104, 122, 140, 158],\n",
       "       [116, 137, 158, 179]])"
      ]
     },
     "execution_count": 399,
     "metadata": {},
     "output_type": "execute_result"
    }
   ],
   "source": [
    "B.T@A"
   ]
  },
  {
   "cell_type": "code",
   "execution_count": null,
   "id": "0fbf4c08",
   "metadata": {},
   "outputs": [],
   "source": []
  },
  {
   "cell_type": "code",
   "execution_count": 408,
   "id": "c2f57883",
   "metadata": {},
   "outputs": [
    {
     "data": {
      "text/plain": [
       "array([[0.        , 0.69314718, 1.09861229, 1.38629436],\n",
       "       [1.60943791, 1.79175947, 1.94591015, 2.07944154],\n",
       "       [2.19722458, 2.30258509, 2.39789527, 2.48490665]])"
      ]
     },
     "execution_count": 408,
     "metadata": {},
     "output_type": "execute_result"
    }
   ],
   "source": [
    "np.log(np.arange(1,13).reshape(3,4))"
   ]
  },
  {
   "cell_type": "code",
   "execution_count": 409,
   "id": "96338bb5",
   "metadata": {},
   "outputs": [],
   "source": [
    "import math"
   ]
  },
  {
   "cell_type": "code",
   "execution_count": 414,
   "id": "7e7b3f9d",
   "metadata": {},
   "outputs": [],
   "source": [
    "nplog = np.vectorize(math.log)"
   ]
  },
  {
   "cell_type": "code",
   "execution_count": 418,
   "id": "368e7958",
   "metadata": {},
   "outputs": [
    {
     "data": {
      "text/plain": [
       "array([[0.        , 0.30103   , 0.47712125, 0.60205999, 0.69897   ],\n",
       "       [0.77815125, 0.84509804, 0.90308999, 0.95424251, 1.        ]])"
      ]
     },
     "execution_count": 418,
     "metadata": {},
     "output_type": "execute_result"
    }
   ],
   "source": [
    "nplog(np.arange(1,11).reshape(2,5),10)"
   ]
  },
  {
   "cell_type": "code",
   "execution_count": null,
   "id": "d0f518ad",
   "metadata": {},
   "outputs": [],
   "source": []
  },
  {
   "cell_type": "code",
   "execution_count": 423,
   "id": "67a79322",
   "metadata": {},
   "outputs": [
    {
     "data": {
      "text/plain": [
       "array([[ 0,  1,  2],\n",
       "       [10, 11, 12],\n",
       "       [20, 21, 22],\n",
       "       [30, 31, 32]])"
      ]
     },
     "execution_count": 423,
     "metadata": {},
     "output_type": "execute_result"
    }
   ],
   "source": [
    "np.array([0,10,20,30],ndmin=2).T + np.array([0,1,2])"
   ]
  },
  {
   "cell_type": "code",
   "execution_count": null,
   "id": "199152dc",
   "metadata": {},
   "outputs": [],
   "source": []
  },
  {
   "cell_type": "code",
   "execution_count": 426,
   "id": "d11b1dfb",
   "metadata": {},
   "outputs": [
    {
     "data": {
      "text/plain": [
       "array([[ 0, 10, 20, 30,  0, 10, 20, 30],\n",
       "       [ 0, 10, 20, 30,  0, 10, 20, 30],\n",
       "       [ 0, 10, 20, 30,  0, 10, 20, 30],\n",
       "       [ 0, 10, 20, 30,  0, 10, 20, 30]])"
      ]
     },
     "execution_count": 426,
     "metadata": {},
     "output_type": "execute_result"
    }
   ],
   "source": [
    "np.tile(np.arange(0,40,10),(4,2))"
   ]
  },
  {
   "cell_type": "code",
   "execution_count": null,
   "id": "43d2d364",
   "metadata": {},
   "outputs": [],
   "source": []
  },
  {
   "cell_type": "code",
   "execution_count": 433,
   "id": "0b2be3f7",
   "metadata": {},
   "outputs": [],
   "source": [
    "A = np.tile(np.arange(9),(10,1))"
   ]
  },
  {
   "cell_type": "code",
   "execution_count": 434,
   "id": "02df7686",
   "metadata": {},
   "outputs": [
    {
     "data": {
      "text/plain": [
       "array([[0, 1, 2, 3, 4, 5, 6, 7, 8],\n",
       "       [0, 1, 2, 3, 4, 5, 6, 7, 8],\n",
       "       [0, 1, 2, 3, 4, 5, 6, 7, 8],\n",
       "       [0, 1, 2, 3, 4, 5, 6, 7, 8],\n",
       "       [0, 1, 2, 3, 4, 5, 6, 7, 8],\n",
       "       [0, 1, 2, 3, 4, 5, 6, 7, 8],\n",
       "       [0, 1, 2, 3, 4, 5, 6, 7, 8],\n",
       "       [0, 1, 2, 3, 4, 5, 6, 7, 8],\n",
       "       [0, 1, 2, 3, 4, 5, 6, 7, 8],\n",
       "       [0, 1, 2, 3, 4, 5, 6, 7, 8]])"
      ]
     },
     "execution_count": 434,
     "metadata": {},
     "output_type": "execute_result"
    }
   ],
   "source": [
    "A"
   ]
  },
  {
   "cell_type": "code",
   "execution_count": 454,
   "id": "52d88b55",
   "metadata": {},
   "outputs": [
    {
     "data": {
      "text/plain": [
       "[array([[0, 1, 2, 3, 4, 5, 6, 7, 8],\n",
       "        [0, 1, 2, 3, 4, 5, 6, 7, 8],\n",
       "        [0, 1, 2, 3, 4, 5, 6, 7, 8],\n",
       "        [0, 1, 2, 3, 4, 5, 6, 7, 8]]),\n",
       " array([[0, 1, 2, 3, 4, 5, 6, 7, 8],\n",
       "        [0, 1, 2, 3, 4, 5, 6, 7, 8]]),\n",
       " array([[0, 1, 2, 3, 4, 5, 6, 7, 8],\n",
       "        [0, 1, 2, 3, 4, 5, 6, 7, 8]]),\n",
       " array([[0, 1, 2, 3, 4, 5, 6, 7, 8],\n",
       "        [0, 1, 2, 3, 4, 5, 6, 7, 8]])]"
      ]
     },
     "execution_count": 454,
     "metadata": {},
     "output_type": "execute_result"
    }
   ],
   "source": [
    "np.split(A,[4,6,8],axis=0)"
   ]
  },
  {
   "cell_type": "code",
   "execution_count": 458,
   "id": "b398c9ad",
   "metadata": {},
   "outputs": [
    {
     "data": {
      "text/plain": [
       "[array([[0, 1, 2, 3, 4, 5, 6, 7, 8],\n",
       "        [0, 1, 2, 3, 4, 5, 6, 7, 8]]),\n",
       " array([[0, 1, 2, 3, 4, 5, 6, 7, 8],\n",
       "        [0, 1, 2, 3, 4, 5, 6, 7, 8]]),\n",
       " array([[0, 1, 2, 3, 4, 5, 6, 7, 8],\n",
       "        [0, 1, 2, 3, 4, 5, 6, 7, 8]]),\n",
       " array([[0, 1, 2, 3, 4, 5, 6, 7, 8],\n",
       "        [0, 1, 2, 3, 4, 5, 6, 7, 8]]),\n",
       " array([[0, 1, 2, 3, 4, 5, 6, 7, 8],\n",
       "        [0, 1, 2, 3, 4, 5, 6, 7, 8]])]"
      ]
     },
     "execution_count": 458,
     "metadata": {},
     "output_type": "execute_result"
    }
   ],
   "source": [
    "np.vsplit(A,5)"
   ]
  },
  {
   "cell_type": "code",
   "execution_count": 461,
   "id": "dd48e73b",
   "metadata": {},
   "outputs": [
    {
     "data": {
      "text/plain": [
       "[array([[0, 1, 2],\n",
       "        [0, 1, 2],\n",
       "        [0, 1, 2],\n",
       "        [0, 1, 2],\n",
       "        [0, 1, 2],\n",
       "        [0, 1, 2],\n",
       "        [0, 1, 2],\n",
       "        [0, 1, 2],\n",
       "        [0, 1, 2],\n",
       "        [0, 1, 2]]),\n",
       " array([[3, 4, 5],\n",
       "        [3, 4, 5],\n",
       "        [3, 4, 5],\n",
       "        [3, 4, 5],\n",
       "        [3, 4, 5],\n",
       "        [3, 4, 5],\n",
       "        [3, 4, 5],\n",
       "        [3, 4, 5],\n",
       "        [3, 4, 5],\n",
       "        [3, 4, 5]]),\n",
       " array([[6, 7, 8],\n",
       "        [6, 7, 8],\n",
       "        [6, 7, 8],\n",
       "        [6, 7, 8],\n",
       "        [6, 7, 8],\n",
       "        [6, 7, 8],\n",
       "        [6, 7, 8],\n",
       "        [6, 7, 8],\n",
       "        [6, 7, 8],\n",
       "        [6, 7, 8]])]"
      ]
     },
     "execution_count": 461,
     "metadata": {},
     "output_type": "execute_result"
    }
   ],
   "source": [
    "np.hsplit(A,3)"
   ]
  },
  {
   "cell_type": "code",
   "execution_count": null,
   "id": "92dfe75e",
   "metadata": {},
   "outputs": [],
   "source": []
  },
  {
   "cell_type": "code",
   "execution_count": 468,
   "id": "7e31b82d",
   "metadata": {},
   "outputs": [],
   "source": [
    "A = np.array([0, 1, 2, 3, 4])\n",
    "B = np.array([5, 6 ,7 ,8, 9])\n",
    "\n"
   ]
  },
  {
   "cell_type": "code",
   "execution_count": 465,
   "id": "bae907ac",
   "metadata": {},
   "outputs": [
    {
     "data": {
      "text/plain": [
       "array([0, 1, 2, 3, 4])"
      ]
     },
     "execution_count": 465,
     "metadata": {},
     "output_type": "execute_result"
    }
   ],
   "source": [
    "A"
   ]
  },
  {
   "cell_type": "code",
   "execution_count": 469,
   "id": "1e9cfec2",
   "metadata": {},
   "outputs": [
    {
     "data": {
      "text/plain": [
       "array([[0, 1, 2, 3, 4],\n",
       "       [5, 6, 7, 8, 9]])"
      ]
     },
     "execution_count": 469,
     "metadata": {},
     "output_type": "execute_result"
    }
   ],
   "source": [
    "np.vstack((A,B))"
   ]
  },
  {
   "cell_type": "code",
   "execution_count": 473,
   "id": "7fda370e",
   "metadata": {},
   "outputs": [
    {
     "data": {
      "text/plain": [
       "array([0, 1, 2, 3, 4, 5, 6, 7, 8, 9])"
      ]
     },
     "execution_count": 473,
     "metadata": {},
     "output_type": "execute_result"
    }
   ],
   "source": [
    "np.concatenate((A,B),axis = 0)"
   ]
  },
  {
   "cell_type": "code",
   "execution_count": null,
   "id": "a0c15304",
   "metadata": {},
   "outputs": [],
   "source": []
  },
  {
   "cell_type": "code",
   "execution_count": 474,
   "id": "f1d7a274",
   "metadata": {},
   "outputs": [],
   "source": [
    "A = np.array([0, 1, 2, 3, 4])\n",
    "\n"
   ]
  },
  {
   "cell_type": "code",
   "execution_count": 475,
   "id": "607b3e38",
   "metadata": {},
   "outputs": [
    {
     "data": {
      "text/plain": [
       "1287497758736"
      ]
     },
     "execution_count": 475,
     "metadata": {},
     "output_type": "execute_result"
    }
   ],
   "source": [
    "id(A)"
   ]
  },
  {
   "cell_type": "code",
   "execution_count": 476,
   "id": "e61187cd",
   "metadata": {},
   "outputs": [
    {
     "data": {
      "text/plain": [
       "1287497623984"
      ]
     },
     "execution_count": 476,
     "metadata": {},
     "output_type": "execute_result"
    }
   ],
   "source": [
    "id(A[0])"
   ]
  },
  {
   "cell_type": "code",
   "execution_count": 477,
   "id": "2f6c0775",
   "metadata": {},
   "outputs": [],
   "source": [
    "A[0] = 5"
   ]
  },
  {
   "cell_type": "code",
   "execution_count": 478,
   "id": "3478353d",
   "metadata": {},
   "outputs": [
    {
     "data": {
      "text/plain": [
       "array([5, 1, 2, 3, 4])"
      ]
     },
     "execution_count": 478,
     "metadata": {},
     "output_type": "execute_result"
    }
   ],
   "source": [
    "A"
   ]
  },
  {
   "cell_type": "code",
   "execution_count": 479,
   "id": "7af99290",
   "metadata": {},
   "outputs": [
    {
     "data": {
      "text/plain": [
       "1287497758736"
      ]
     },
     "execution_count": 479,
     "metadata": {},
     "output_type": "execute_result"
    }
   ],
   "source": [
    "id(A)"
   ]
  },
  {
   "cell_type": "code",
   "execution_count": 480,
   "id": "21db05bb",
   "metadata": {},
   "outputs": [],
   "source": [
    "X = A"
   ]
  },
  {
   "cell_type": "code",
   "execution_count": 481,
   "id": "ee47736e",
   "metadata": {},
   "outputs": [
    {
     "data": {
      "text/plain": [
       "array([5, 1, 2, 3, 4])"
      ]
     },
     "execution_count": 481,
     "metadata": {},
     "output_type": "execute_result"
    }
   ],
   "source": [
    "X"
   ]
  },
  {
   "cell_type": "code",
   "execution_count": 482,
   "id": "f574c814",
   "metadata": {},
   "outputs": [
    {
     "data": {
      "text/plain": [
       "1287497758736"
      ]
     },
     "execution_count": 482,
     "metadata": {},
     "output_type": "execute_result"
    }
   ],
   "source": [
    "id(X)"
   ]
  },
  {
   "cell_type": "code",
   "execution_count": 483,
   "id": "0c80e5a7",
   "metadata": {},
   "outputs": [],
   "source": [
    "X[0] = 6"
   ]
  },
  {
   "cell_type": "code",
   "execution_count": 484,
   "id": "8b27318c",
   "metadata": {},
   "outputs": [
    {
     "data": {
      "text/plain": [
       "array([6, 1, 2, 3, 4])"
      ]
     },
     "execution_count": 484,
     "metadata": {},
     "output_type": "execute_result"
    }
   ],
   "source": [
    "X"
   ]
  },
  {
   "cell_type": "code",
   "execution_count": 485,
   "id": "d0f90b60",
   "metadata": {},
   "outputs": [
    {
     "data": {
      "text/plain": [
       "(1287497758736, 1287497758736)"
      ]
     },
     "execution_count": 485,
     "metadata": {},
     "output_type": "execute_result"
    }
   ],
   "source": [
    "id(X),id(A)"
   ]
  },
  {
   "cell_type": "code",
   "execution_count": 486,
   "id": "92c343ae",
   "metadata": {},
   "outputs": [
    {
     "data": {
      "text/plain": [
       "(array([6, 1, 2, 3, 4]), array([6, 1, 2, 3, 4]))"
      ]
     },
     "execution_count": 486,
     "metadata": {},
     "output_type": "execute_result"
    }
   ],
   "source": [
    "A,X"
   ]
  },
  {
   "cell_type": "code",
   "execution_count": 487,
   "id": "bc780257",
   "metadata": {},
   "outputs": [],
   "source": [
    "M = np.copy(A)"
   ]
  },
  {
   "cell_type": "code",
   "execution_count": 489,
   "id": "d5ad81e1",
   "metadata": {},
   "outputs": [
    {
     "data": {
      "text/plain": [
       "(1287486453776, 1287497758736, 1287497758736)"
      ]
     },
     "execution_count": 489,
     "metadata": {},
     "output_type": "execute_result"
    }
   ],
   "source": [
    "id(M),id(A),id(X)"
   ]
  },
  {
   "cell_type": "code",
   "execution_count": 490,
   "id": "dc3fa710",
   "metadata": {},
   "outputs": [],
   "source": [
    "M[0] = 7"
   ]
  },
  {
   "cell_type": "code",
   "execution_count": 491,
   "id": "3d26aa90",
   "metadata": {},
   "outputs": [
    {
     "data": {
      "text/plain": [
       "array([7, 1, 2, 3, 4])"
      ]
     },
     "execution_count": 491,
     "metadata": {},
     "output_type": "execute_result"
    }
   ],
   "source": [
    "M"
   ]
  },
  {
   "cell_type": "code",
   "execution_count": 492,
   "id": "e4343b22",
   "metadata": {},
   "outputs": [
    {
     "data": {
      "text/plain": [
       "array([6, 1, 2, 3, 4])"
      ]
     },
     "execution_count": 492,
     "metadata": {},
     "output_type": "execute_result"
    }
   ],
   "source": [
    "A"
   ]
  },
  {
   "cell_type": "code",
   "execution_count": 493,
   "id": "e0e60de6",
   "metadata": {},
   "outputs": [
    {
     "data": {
      "text/plain": [
       "array([6, 1, 2, 3, 4])"
      ]
     },
     "execution_count": 493,
     "metadata": {},
     "output_type": "execute_result"
    }
   ],
   "source": [
    "X"
   ]
  },
  {
   "cell_type": "code",
   "execution_count": 495,
   "id": "ee542910",
   "metadata": {},
   "outputs": [
    {
     "data": {
      "text/plain": [
       "(1287486453776, 1287497758736)"
      ]
     },
     "execution_count": 495,
     "metadata": {},
     "output_type": "execute_result"
    }
   ],
   "source": [
    "id(M),id(X)"
   ]
  },
  {
   "cell_type": "code",
   "execution_count": 496,
   "id": "388072c0",
   "metadata": {},
   "outputs": [],
   "source": [
    "a = np.array([0,1,2,3,4,5])"
   ]
  },
  {
   "cell_type": "code",
   "execution_count": 497,
   "id": "d98b01c3",
   "metadata": {},
   "outputs": [
    {
     "data": {
      "text/plain": [
       "array([0, 1, 2, 3, 4, 5])"
      ]
     },
     "execution_count": 497,
     "metadata": {},
     "output_type": "execute_result"
    }
   ],
   "source": [
    "\n",
    "b = a[a%1 == 0]\n",
    "\n",
    "b"
   ]
  },
  {
   "cell_type": "code",
   "execution_count": 498,
   "id": "4d358f18",
   "metadata": {},
   "outputs": [],
   "source": [
    "b[0] = 10"
   ]
  },
  {
   "cell_type": "code",
   "execution_count": 499,
   "id": "4d38cdb9",
   "metadata": {},
   "outputs": [
    {
     "data": {
      "text/plain": [
       "array([10,  1,  2,  3,  4,  5])"
      ]
     },
     "execution_count": 499,
     "metadata": {},
     "output_type": "execute_result"
    }
   ],
   "source": [
    "b"
   ]
  },
  {
   "cell_type": "code",
   "execution_count": 500,
   "id": "c4968147",
   "metadata": {},
   "outputs": [
    {
     "data": {
      "text/plain": [
       "array([0, 1])"
      ]
     },
     "execution_count": 500,
     "metadata": {},
     "output_type": "execute_result"
    }
   ],
   "source": [
    "a[:2]"
   ]
  },
  {
   "cell_type": "code",
   "execution_count": null,
   "id": "a432c562",
   "metadata": {},
   "outputs": [],
   "source": []
  },
  {
   "cell_type": "code",
   "execution_count": 503,
   "id": "574233d6",
   "metadata": {},
   "outputs": [],
   "source": [
    "X = np.arange(1,25).reshape(4,2,3)"
   ]
  },
  {
   "cell_type": "code",
   "execution_count": 504,
   "id": "00995b77",
   "metadata": {},
   "outputs": [
    {
     "data": {
      "text/plain": [
       "array([[[ 1,  2,  3],\n",
       "        [ 4,  5,  6]],\n",
       "\n",
       "       [[ 7,  8,  9],\n",
       "        [10, 11, 12]],\n",
       "\n",
       "       [[13, 14, 15],\n",
       "        [16, 17, 18]],\n",
       "\n",
       "       [[19, 20, 21],\n",
       "        [22, 23, 24]]])"
      ]
     },
     "execution_count": 504,
     "metadata": {},
     "output_type": "execute_result"
    }
   ],
   "source": [
    "X"
   ]
  },
  {
   "cell_type": "code",
   "execution_count": 514,
   "id": "4e3f16b0",
   "metadata": {},
   "outputs": [
    {
     "data": {
      "text/plain": [
       "array([[ 3,  6],\n",
       "       [ 9, 12],\n",
       "       [15, 18],\n",
       "       [21, 24]])"
      ]
     },
     "execution_count": 514,
     "metadata": {},
     "output_type": "execute_result"
    }
   ],
   "source": [
    "X[:,:,-1]"
   ]
  },
  {
   "cell_type": "code",
   "execution_count": null,
   "id": "8107a616",
   "metadata": {},
   "outputs": [],
   "source": []
  },
  {
   "cell_type": "code",
   "execution_count": 517,
   "id": "a0dfb674",
   "metadata": {},
   "outputs": [
    {
     "data": {
      "text/plain": [
       "120"
      ]
     },
     "execution_count": 517,
     "metadata": {},
     "output_type": "execute_result"
    }
   ],
   "source": [
    "24*5"
   ]
  },
  {
   "cell_type": "code",
   "execution_count": 518,
   "id": "de0701da",
   "metadata": {},
   "outputs": [],
   "source": [
    "X = np.arange(1,121).reshape(3,2,4,5)"
   ]
  },
  {
   "cell_type": "code",
   "execution_count": 519,
   "id": "e6e65fef",
   "metadata": {},
   "outputs": [
    {
     "data": {
      "text/plain": [
       "array([[[[  1,   2,   3,   4,   5],\n",
       "         [  6,   7,   8,   9,  10],\n",
       "         [ 11,  12,  13,  14,  15],\n",
       "         [ 16,  17,  18,  19,  20]],\n",
       "\n",
       "        [[ 21,  22,  23,  24,  25],\n",
       "         [ 26,  27,  28,  29,  30],\n",
       "         [ 31,  32,  33,  34,  35],\n",
       "         [ 36,  37,  38,  39,  40]]],\n",
       "\n",
       "\n",
       "       [[[ 41,  42,  43,  44,  45],\n",
       "         [ 46,  47,  48,  49,  50],\n",
       "         [ 51,  52,  53,  54,  55],\n",
       "         [ 56,  57,  58,  59,  60]],\n",
       "\n",
       "        [[ 61,  62,  63,  64,  65],\n",
       "         [ 66,  67,  68,  69,  70],\n",
       "         [ 71,  72,  73,  74,  75],\n",
       "         [ 76,  77,  78,  79,  80]]],\n",
       "\n",
       "\n",
       "       [[[ 81,  82,  83,  84,  85],\n",
       "         [ 86,  87,  88,  89,  90],\n",
       "         [ 91,  92,  93,  94,  95],\n",
       "         [ 96,  97,  98,  99, 100]],\n",
       "\n",
       "        [[101, 102, 103, 104, 105],\n",
       "         [106, 107, 108, 109, 110],\n",
       "         [111, 112, 113, 114, 115],\n",
       "         [116, 117, 118, 119, 120]]]])"
      ]
     },
     "execution_count": 519,
     "metadata": {},
     "output_type": "execute_result"
    }
   ],
   "source": [
    "X"
   ]
  },
  {
   "cell_type": "code",
   "execution_count": 526,
   "id": "9a889eef",
   "metadata": {},
   "outputs": [
    {
     "data": {
      "text/plain": [
       "array([[[  5,  10,  15,  20],\n",
       "        [ 25,  30,  35,  40]],\n",
       "\n",
       "       [[ 45,  50,  55,  60],\n",
       "        [ 65,  70,  75,  80]],\n",
       "\n",
       "       [[ 85,  90,  95, 100],\n",
       "        [105, 110, 115, 120]]])"
      ]
     },
     "execution_count": 526,
     "metadata": {},
     "output_type": "execute_result"
    }
   ],
   "source": [
    "X[:,:,:,-1]"
   ]
  },
  {
   "cell_type": "code",
   "execution_count": null,
   "id": "8b8c40e9",
   "metadata": {},
   "outputs": [],
   "source": []
  },
  {
   "cell_type": "code",
   "execution_count": 527,
   "id": "637e4867",
   "metadata": {},
   "outputs": [],
   "source": [
    "X = np.arange(1,121).reshape(24,5)"
   ]
  },
  {
   "cell_type": "code",
   "execution_count": 528,
   "id": "3194e3eb",
   "metadata": {},
   "outputs": [
    {
     "data": {
      "text/plain": [
       "array([[  1,   2,   3,   4,   5],\n",
       "       [  6,   7,   8,   9,  10],\n",
       "       [ 11,  12,  13,  14,  15],\n",
       "       [ 16,  17,  18,  19,  20],\n",
       "       [ 21,  22,  23,  24,  25],\n",
       "       [ 26,  27,  28,  29,  30],\n",
       "       [ 31,  32,  33,  34,  35],\n",
       "       [ 36,  37,  38,  39,  40],\n",
       "       [ 41,  42,  43,  44,  45],\n",
       "       [ 46,  47,  48,  49,  50],\n",
       "       [ 51,  52,  53,  54,  55],\n",
       "       [ 56,  57,  58,  59,  60],\n",
       "       [ 61,  62,  63,  64,  65],\n",
       "       [ 66,  67,  68,  69,  70],\n",
       "       [ 71,  72,  73,  74,  75],\n",
       "       [ 76,  77,  78,  79,  80],\n",
       "       [ 81,  82,  83,  84,  85],\n",
       "       [ 86,  87,  88,  89,  90],\n",
       "       [ 91,  92,  93,  94,  95],\n",
       "       [ 96,  97,  98,  99, 100],\n",
       "       [101, 102, 103, 104, 105],\n",
       "       [106, 107, 108, 109, 110],\n",
       "       [111, 112, 113, 114, 115],\n",
       "       [116, 117, 118, 119, 120]])"
      ]
     },
     "execution_count": 528,
     "metadata": {},
     "output_type": "execute_result"
    }
   ],
   "source": [
    "X"
   ]
  },
  {
   "cell_type": "code",
   "execution_count": 535,
   "id": "f9889af3",
   "metadata": {},
   "outputs": [
    {
     "data": {
      "text/plain": [
       "array([[ 0],\n",
       "       [ 1],\n",
       "       [ 5],\n",
       "       [10]])"
      ]
     },
     "execution_count": 535,
     "metadata": {},
     "output_type": "execute_result"
    }
   ],
   "source": [
    "row = np.array([0,1,5,10])\n",
    "row[:,np.newaxis]"
   ]
  },
  {
   "cell_type": "code",
   "execution_count": 536,
   "id": "0a625d26",
   "metadata": {},
   "outputs": [
    {
     "data": {
      "text/plain": [
       "array([[[ 1,  2,  3,  4,  5]],\n",
       "\n",
       "       [[ 6,  7,  8,  9, 10]],\n",
       "\n",
       "       [[26, 27, 28, 29, 30]],\n",
       "\n",
       "       [[51, 52, 53, 54, 55]]])"
      ]
     },
     "execution_count": 536,
     "metadata": {},
     "output_type": "execute_result"
    }
   ],
   "source": [
    "X[row[:,np.newaxis]]"
   ]
  },
  {
   "cell_type": "code",
   "execution_count": 541,
   "id": "c03f5da6",
   "metadata": {},
   "outputs": [
    {
     "data": {
      "text/plain": [
       "(True, False)"
      ]
     },
     "execution_count": 541,
     "metadata": {},
     "output_type": "execute_result"
    }
   ],
   "source": [
    "a = np.arange(1,5,1)\n",
    "\n",
    "b = a\n",
    "c = a.copy()\n",
    "b[2] = 99\n",
    "c[2] = 99\n",
    "np.shares_memory(a,b),np.shares_memory(a,c)\n"
   ]
  },
  {
   "cell_type": "code",
   "execution_count": 540,
   "id": "feee6967",
   "metadata": {},
   "outputs": [
    {
     "data": {
      "text/plain": [
       "(array([ 1,  2, 99,  4]), array([ 1,  2, 99,  4]))"
      ]
     },
     "execution_count": 540,
     "metadata": {},
     "output_type": "execute_result"
    }
   ],
   "source": [
    "a,b"
   ]
  },
  {
   "cell_type": "code",
   "execution_count": 542,
   "id": "10ad1550",
   "metadata": {},
   "outputs": [
    {
     "data": {
      "application/javascript": [
       "\n",
       "        if (window._pyforest_update_imports_cell) { window._pyforest_update_imports_cell('import pandas as pd'); }\n",
       "    "
      ],
      "text/plain": [
       "<IPython.core.display.Javascript object>"
      ]
     },
     "metadata": {},
     "output_type": "display_data"
    }
   ],
   "source": [
    "df = pd.read_csv(\"gapminder-Copy1.csv\")"
   ]
  },
  {
   "cell_type": "code",
   "execution_count": 543,
   "id": "c32c5cc9",
   "metadata": {},
   "outputs": [
    {
     "data": {
      "text/html": [
       "<div>\n",
       "<style scoped>\n",
       "    .dataframe tbody tr th:only-of-type {\n",
       "        vertical-align: middle;\n",
       "    }\n",
       "\n",
       "    .dataframe tbody tr th {\n",
       "        vertical-align: top;\n",
       "    }\n",
       "\n",
       "    .dataframe thead th {\n",
       "        text-align: right;\n",
       "    }\n",
       "</style>\n",
       "<table border=\"1\" class=\"dataframe\">\n",
       "  <thead>\n",
       "    <tr style=\"text-align: right;\">\n",
       "      <th></th>\n",
       "      <th>country</th>\n",
       "      <th>year</th>\n",
       "      <th>population</th>\n",
       "      <th>continent</th>\n",
       "      <th>life_exp</th>\n",
       "      <th>gdp_cap</th>\n",
       "    </tr>\n",
       "  </thead>\n",
       "  <tbody>\n",
       "    <tr>\n",
       "      <th>0</th>\n",
       "      <td>Afghanistan</td>\n",
       "      <td>1952</td>\n",
       "      <td>8425333</td>\n",
       "      <td>Asia</td>\n",
       "      <td>28.801</td>\n",
       "      <td>779.445314</td>\n",
       "    </tr>\n",
       "    <tr>\n",
       "      <th>1</th>\n",
       "      <td>Afghanistan</td>\n",
       "      <td>1957</td>\n",
       "      <td>9240934</td>\n",
       "      <td>Asia</td>\n",
       "      <td>30.332</td>\n",
       "      <td>820.853030</td>\n",
       "    </tr>\n",
       "    <tr>\n",
       "      <th>2</th>\n",
       "      <td>Afghanistan</td>\n",
       "      <td>1962</td>\n",
       "      <td>10267083</td>\n",
       "      <td>Asia</td>\n",
       "      <td>31.997</td>\n",
       "      <td>853.100710</td>\n",
       "    </tr>\n",
       "    <tr>\n",
       "      <th>3</th>\n",
       "      <td>Afghanistan</td>\n",
       "      <td>1967</td>\n",
       "      <td>11537966</td>\n",
       "      <td>Asia</td>\n",
       "      <td>34.020</td>\n",
       "      <td>836.197138</td>\n",
       "    </tr>\n",
       "    <tr>\n",
       "      <th>4</th>\n",
       "      <td>Afghanistan</td>\n",
       "      <td>1972</td>\n",
       "      <td>13079460</td>\n",
       "      <td>Asia</td>\n",
       "      <td>36.088</td>\n",
       "      <td>739.981106</td>\n",
       "    </tr>\n",
       "    <tr>\n",
       "      <th>...</th>\n",
       "      <td>...</td>\n",
       "      <td>...</td>\n",
       "      <td>...</td>\n",
       "      <td>...</td>\n",
       "      <td>...</td>\n",
       "      <td>...</td>\n",
       "    </tr>\n",
       "    <tr>\n",
       "      <th>1699</th>\n",
       "      <td>Zimbabwe</td>\n",
       "      <td>1987</td>\n",
       "      <td>9216418</td>\n",
       "      <td>Africa</td>\n",
       "      <td>62.351</td>\n",
       "      <td>706.157306</td>\n",
       "    </tr>\n",
       "    <tr>\n",
       "      <th>1700</th>\n",
       "      <td>Zimbabwe</td>\n",
       "      <td>1992</td>\n",
       "      <td>10704340</td>\n",
       "      <td>Africa</td>\n",
       "      <td>60.377</td>\n",
       "      <td>693.420786</td>\n",
       "    </tr>\n",
       "    <tr>\n",
       "      <th>1701</th>\n",
       "      <td>Zimbabwe</td>\n",
       "      <td>1997</td>\n",
       "      <td>11404948</td>\n",
       "      <td>Africa</td>\n",
       "      <td>46.809</td>\n",
       "      <td>792.449960</td>\n",
       "    </tr>\n",
       "    <tr>\n",
       "      <th>1702</th>\n",
       "      <td>Zimbabwe</td>\n",
       "      <td>2002</td>\n",
       "      <td>11926563</td>\n",
       "      <td>Africa</td>\n",
       "      <td>39.989</td>\n",
       "      <td>672.038623</td>\n",
       "    </tr>\n",
       "    <tr>\n",
       "      <th>1703</th>\n",
       "      <td>Zimbabwe</td>\n",
       "      <td>2007</td>\n",
       "      <td>12311143</td>\n",
       "      <td>Africa</td>\n",
       "      <td>43.487</td>\n",
       "      <td>469.709298</td>\n",
       "    </tr>\n",
       "  </tbody>\n",
       "</table>\n",
       "<p>1704 rows × 6 columns</p>\n",
       "</div>"
      ],
      "text/plain": [
       "          country  year  population continent  life_exp     gdp_cap\n",
       "0     Afghanistan  1952     8425333      Asia    28.801  779.445314\n",
       "1     Afghanistan  1957     9240934      Asia    30.332  820.853030\n",
       "2     Afghanistan  1962    10267083      Asia    31.997  853.100710\n",
       "3     Afghanistan  1967    11537966      Asia    34.020  836.197138\n",
       "4     Afghanistan  1972    13079460      Asia    36.088  739.981106\n",
       "...           ...   ...         ...       ...       ...         ...\n",
       "1699     Zimbabwe  1987     9216418    Africa    62.351  706.157306\n",
       "1700     Zimbabwe  1992    10704340    Africa    60.377  693.420786\n",
       "1701     Zimbabwe  1997    11404948    Africa    46.809  792.449960\n",
       "1702     Zimbabwe  2002    11926563    Africa    39.989  672.038623\n",
       "1703     Zimbabwe  2007    12311143    Africa    43.487  469.709298\n",
       "\n",
       "[1704 rows x 6 columns]"
      ]
     },
     "execution_count": 543,
     "metadata": {},
     "output_type": "execute_result"
    }
   ],
   "source": [
    "df"
   ]
  },
  {
   "cell_type": "code",
   "execution_count": 557,
   "id": "d966e28e",
   "metadata": {},
   "outputs": [],
   "source": [
    "d = df.groupby([\"continent\"])[\"life_exp\"].mean().reset_index()\n"
   ]
  },
  {
   "cell_type": "code",
   "execution_count": 558,
   "id": "13e9998a",
   "metadata": {},
   "outputs": [
    {
     "data": {
      "text/html": [
       "<div>\n",
       "<style scoped>\n",
       "    .dataframe tbody tr th:only-of-type {\n",
       "        vertical-align: middle;\n",
       "    }\n",
       "\n",
       "    .dataframe tbody tr th {\n",
       "        vertical-align: top;\n",
       "    }\n",
       "\n",
       "    .dataframe thead th {\n",
       "        text-align: right;\n",
       "    }\n",
       "</style>\n",
       "<table border=\"1\" class=\"dataframe\">\n",
       "  <thead>\n",
       "    <tr style=\"text-align: right;\">\n",
       "      <th></th>\n",
       "      <th>continent</th>\n",
       "      <th>life_exp</th>\n",
       "    </tr>\n",
       "  </thead>\n",
       "  <tbody>\n",
       "    <tr>\n",
       "      <th>0</th>\n",
       "      <td>Africa</td>\n",
       "      <td>48.865330</td>\n",
       "    </tr>\n",
       "    <tr>\n",
       "      <th>1</th>\n",
       "      <td>Americas</td>\n",
       "      <td>64.658737</td>\n",
       "    </tr>\n",
       "    <tr>\n",
       "      <th>2</th>\n",
       "      <td>Asia</td>\n",
       "      <td>60.064903</td>\n",
       "    </tr>\n",
       "    <tr>\n",
       "      <th>3</th>\n",
       "      <td>Europe</td>\n",
       "      <td>71.903686</td>\n",
       "    </tr>\n",
       "    <tr>\n",
       "      <th>4</th>\n",
       "      <td>Oceania</td>\n",
       "      <td>74.326208</td>\n",
       "    </tr>\n",
       "  </tbody>\n",
       "</table>\n",
       "</div>"
      ],
      "text/plain": [
       "  continent   life_exp\n",
       "0    Africa  48.865330\n",
       "1  Americas  64.658737\n",
       "2      Asia  60.064903\n",
       "3    Europe  71.903686\n",
       "4   Oceania  74.326208"
      ]
     },
     "execution_count": 558,
     "metadata": {},
     "output_type": "execute_result"
    }
   ],
   "source": [
    "d"
   ]
  },
  {
   "cell_type": "code",
   "execution_count": 559,
   "id": "86476e12",
   "metadata": {},
   "outputs": [],
   "source": [
    "df[\"total_GDP\"] = df[\"gdp_cap\"] * df[\"population\"]"
   ]
  },
  {
   "cell_type": "code",
   "execution_count": 564,
   "id": "7fa56b60",
   "metadata": {},
   "outputs": [],
   "source": [
    "df[\"total_GDP\"] = df[\"total_GDP\"]/1000000000"
   ]
  },
  {
   "cell_type": "code",
   "execution_count": 565,
   "id": "740a85c4",
   "metadata": {},
   "outputs": [
    {
     "data": {
      "text/html": [
       "<div>\n",
       "<style scoped>\n",
       "    .dataframe tbody tr th:only-of-type {\n",
       "        vertical-align: middle;\n",
       "    }\n",
       "\n",
       "    .dataframe tbody tr th {\n",
       "        vertical-align: top;\n",
       "    }\n",
       "\n",
       "    .dataframe thead th {\n",
       "        text-align: right;\n",
       "    }\n",
       "</style>\n",
       "<table border=\"1\" class=\"dataframe\">\n",
       "  <thead>\n",
       "    <tr style=\"text-align: right;\">\n",
       "      <th></th>\n",
       "      <th>country</th>\n",
       "      <th>year</th>\n",
       "      <th>population</th>\n",
       "      <th>continent</th>\n",
       "      <th>life_exp</th>\n",
       "      <th>gdp_cap</th>\n",
       "      <th>total_GDP</th>\n",
       "    </tr>\n",
       "  </thead>\n",
       "  <tbody>\n",
       "    <tr>\n",
       "      <th>0</th>\n",
       "      <td>Afghanistan</td>\n",
       "      <td>1952</td>\n",
       "      <td>8425333</td>\n",
       "      <td>Asia</td>\n",
       "      <td>28.801</td>\n",
       "      <td>779.445314</td>\n",
       "      <td>6.567086</td>\n",
       "    </tr>\n",
       "    <tr>\n",
       "      <th>1</th>\n",
       "      <td>Afghanistan</td>\n",
       "      <td>1957</td>\n",
       "      <td>9240934</td>\n",
       "      <td>Asia</td>\n",
       "      <td>30.332</td>\n",
       "      <td>820.853030</td>\n",
       "      <td>7.585449</td>\n",
       "    </tr>\n",
       "    <tr>\n",
       "      <th>2</th>\n",
       "      <td>Afghanistan</td>\n",
       "      <td>1962</td>\n",
       "      <td>10267083</td>\n",
       "      <td>Asia</td>\n",
       "      <td>31.997</td>\n",
       "      <td>853.100710</td>\n",
       "      <td>8.758856</td>\n",
       "    </tr>\n",
       "    <tr>\n",
       "      <th>3</th>\n",
       "      <td>Afghanistan</td>\n",
       "      <td>1967</td>\n",
       "      <td>11537966</td>\n",
       "      <td>Asia</td>\n",
       "      <td>34.020</td>\n",
       "      <td>836.197138</td>\n",
       "      <td>9.648014</td>\n",
       "    </tr>\n",
       "    <tr>\n",
       "      <th>4</th>\n",
       "      <td>Afghanistan</td>\n",
       "      <td>1972</td>\n",
       "      <td>13079460</td>\n",
       "      <td>Asia</td>\n",
       "      <td>36.088</td>\n",
       "      <td>739.981106</td>\n",
       "      <td>9.678553</td>\n",
       "    </tr>\n",
       "    <tr>\n",
       "      <th>...</th>\n",
       "      <td>...</td>\n",
       "      <td>...</td>\n",
       "      <td>...</td>\n",
       "      <td>...</td>\n",
       "      <td>...</td>\n",
       "      <td>...</td>\n",
       "      <td>...</td>\n",
       "    </tr>\n",
       "    <tr>\n",
       "      <th>1699</th>\n",
       "      <td>Zimbabwe</td>\n",
       "      <td>1987</td>\n",
       "      <td>9216418</td>\n",
       "      <td>Africa</td>\n",
       "      <td>62.351</td>\n",
       "      <td>706.157306</td>\n",
       "      <td>6.508241</td>\n",
       "    </tr>\n",
       "    <tr>\n",
       "      <th>1700</th>\n",
       "      <td>Zimbabwe</td>\n",
       "      <td>1992</td>\n",
       "      <td>10704340</td>\n",
       "      <td>Africa</td>\n",
       "      <td>60.377</td>\n",
       "      <td>693.420786</td>\n",
       "      <td>7.422612</td>\n",
       "    </tr>\n",
       "    <tr>\n",
       "      <th>1701</th>\n",
       "      <td>Zimbabwe</td>\n",
       "      <td>1997</td>\n",
       "      <td>11404948</td>\n",
       "      <td>Africa</td>\n",
       "      <td>46.809</td>\n",
       "      <td>792.449960</td>\n",
       "      <td>9.037851</td>\n",
       "    </tr>\n",
       "    <tr>\n",
       "      <th>1702</th>\n",
       "      <td>Zimbabwe</td>\n",
       "      <td>2002</td>\n",
       "      <td>11926563</td>\n",
       "      <td>Africa</td>\n",
       "      <td>39.989</td>\n",
       "      <td>672.038623</td>\n",
       "      <td>8.015111</td>\n",
       "    </tr>\n",
       "    <tr>\n",
       "      <th>1703</th>\n",
       "      <td>Zimbabwe</td>\n",
       "      <td>2007</td>\n",
       "      <td>12311143</td>\n",
       "      <td>Africa</td>\n",
       "      <td>43.487</td>\n",
       "      <td>469.709298</td>\n",
       "      <td>5.782658</td>\n",
       "    </tr>\n",
       "  </tbody>\n",
       "</table>\n",
       "<p>1704 rows × 7 columns</p>\n",
       "</div>"
      ],
      "text/plain": [
       "          country  year  population continent  life_exp     gdp_cap  total_GDP\n",
       "0     Afghanistan  1952     8425333      Asia    28.801  779.445314   6.567086\n",
       "1     Afghanistan  1957     9240934      Asia    30.332  820.853030   7.585449\n",
       "2     Afghanistan  1962    10267083      Asia    31.997  853.100710   8.758856\n",
       "3     Afghanistan  1967    11537966      Asia    34.020  836.197138   9.648014\n",
       "4     Afghanistan  1972    13079460      Asia    36.088  739.981106   9.678553\n",
       "...           ...   ...         ...       ...       ...         ...        ...\n",
       "1699     Zimbabwe  1987     9216418    Africa    62.351  706.157306   6.508241\n",
       "1700     Zimbabwe  1992    10704340    Africa    60.377  693.420786   7.422612\n",
       "1701     Zimbabwe  1997    11404948    Africa    46.809  792.449960   9.037851\n",
       "1702     Zimbabwe  2002    11926563    Africa    39.989  672.038623   8.015111\n",
       "1703     Zimbabwe  2007    12311143    Africa    43.487  469.709298   5.782658\n",
       "\n",
       "[1704 rows x 7 columns]"
      ]
     },
     "execution_count": 565,
     "metadata": {},
     "output_type": "execute_result"
    }
   ],
   "source": [
    "df"
   ]
  },
  {
   "cell_type": "code",
   "execution_count": 585,
   "id": "0c48ee3c",
   "metadata": {},
   "outputs": [],
   "source": [
    "# df.iloc[5:50,1:5]"
   ]
  },
  {
   "cell_type": "code",
   "execution_count": 588,
   "id": "d3b947ba",
   "metadata": {},
   "outputs": [
    {
     "data": {
      "text/html": [
       "<div>\n",
       "<style scoped>\n",
       "    .dataframe tbody tr th:only-of-type {\n",
       "        vertical-align: middle;\n",
       "    }\n",
       "\n",
       "    .dataframe tbody tr th {\n",
       "        vertical-align: top;\n",
       "    }\n",
       "\n",
       "    .dataframe thead th {\n",
       "        text-align: right;\n",
       "    }\n",
       "</style>\n",
       "<table border=\"1\" class=\"dataframe\">\n",
       "  <thead>\n",
       "    <tr style=\"text-align: right;\">\n",
       "      <th></th>\n",
       "      <th>country</th>\n",
       "      <th>year</th>\n",
       "      <th>population</th>\n",
       "      <th>continent</th>\n",
       "      <th>life_exp</th>\n",
       "      <th>gdp_cap</th>\n",
       "      <th>total_GDP</th>\n",
       "    </tr>\n",
       "  </thead>\n",
       "  <tbody>\n",
       "    <tr>\n",
       "      <th>5</th>\n",
       "      <td>Afghanistan</td>\n",
       "      <td>1977</td>\n",
       "      <td>14880372</td>\n",
       "      <td>Asia</td>\n",
       "      <td>38.438</td>\n",
       "      <td>786.113360</td>\n",
       "      <td>11.697659</td>\n",
       "    </tr>\n",
       "    <tr>\n",
       "      <th>6</th>\n",
       "      <td>Afghanistan</td>\n",
       "      <td>1982</td>\n",
       "      <td>12881816</td>\n",
       "      <td>Asia</td>\n",
       "      <td>39.854</td>\n",
       "      <td>978.011439</td>\n",
       "      <td>12.598563</td>\n",
       "    </tr>\n",
       "    <tr>\n",
       "      <th>7</th>\n",
       "      <td>Afghanistan</td>\n",
       "      <td>1987</td>\n",
       "      <td>13867957</td>\n",
       "      <td>Asia</td>\n",
       "      <td>40.822</td>\n",
       "      <td>852.395945</td>\n",
       "      <td>11.820990</td>\n",
       "    </tr>\n",
       "  </tbody>\n",
       "</table>\n",
       "</div>"
      ],
      "text/plain": [
       "       country  year  population continent  life_exp     gdp_cap  total_GDP\n",
       "5  Afghanistan  1977    14880372      Asia    38.438  786.113360  11.697659\n",
       "6  Afghanistan  1982    12881816      Asia    39.854  978.011439  12.598563\n",
       "7  Afghanistan  1987    13867957      Asia    40.822  852.395945  11.820990"
      ]
     },
     "execution_count": 588,
     "metadata": {},
     "output_type": "execute_result"
    }
   ],
   "source": [
    "df.loc[[5,6,7]]"
   ]
  },
  {
   "cell_type": "code",
   "execution_count": 591,
   "id": "fd297d9d",
   "metadata": {},
   "outputs": [
    {
     "data": {
      "text/html": [
       "<div>\n",
       "<style scoped>\n",
       "    .dataframe tbody tr th:only-of-type {\n",
       "        vertical-align: middle;\n",
       "    }\n",
       "\n",
       "    .dataframe tbody tr th {\n",
       "        vertical-align: top;\n",
       "    }\n",
       "\n",
       "    .dataframe thead th {\n",
       "        text-align: right;\n",
       "    }\n",
       "</style>\n",
       "<table border=\"1\" class=\"dataframe\">\n",
       "  <thead>\n",
       "    <tr style=\"text-align: right;\">\n",
       "      <th></th>\n",
       "      <th>country</th>\n",
       "      <th>year</th>\n",
       "      <th>population</th>\n",
       "      <th>continent</th>\n",
       "      <th>life_exp</th>\n",
       "      <th>gdp_cap</th>\n",
       "      <th>total_GDP</th>\n",
       "    </tr>\n",
       "  </thead>\n",
       "  <tbody>\n",
       "    <tr>\n",
       "      <th>1</th>\n",
       "      <td>Afghanistan</td>\n",
       "      <td>1957</td>\n",
       "      <td>9240934</td>\n",
       "      <td>Asia</td>\n",
       "      <td>30.332</td>\n",
       "      <td>820.853030</td>\n",
       "      <td>7.585449</td>\n",
       "    </tr>\n",
       "    <tr>\n",
       "      <th>2</th>\n",
       "      <td>Afghanistan</td>\n",
       "      <td>1962</td>\n",
       "      <td>10267083</td>\n",
       "      <td>Asia</td>\n",
       "      <td>31.997</td>\n",
       "      <td>853.100710</td>\n",
       "      <td>8.758856</td>\n",
       "    </tr>\n",
       "    <tr>\n",
       "      <th>3</th>\n",
       "      <td>Afghanistan</td>\n",
       "      <td>1967</td>\n",
       "      <td>11537966</td>\n",
       "      <td>Asia</td>\n",
       "      <td>34.020</td>\n",
       "      <td>836.197138</td>\n",
       "      <td>9.648014</td>\n",
       "    </tr>\n",
       "    <tr>\n",
       "      <th>95</th>\n",
       "      <td>Bahrain</td>\n",
       "      <td>2007</td>\n",
       "      <td>708573</td>\n",
       "      <td>Asia</td>\n",
       "      <td>75.635</td>\n",
       "      <td>29796.048340</td>\n",
       "      <td>21.112675</td>\n",
       "    </tr>\n",
       "    <tr>\n",
       "      <th>11</th>\n",
       "      <td>Afghanistan</td>\n",
       "      <td>2007</td>\n",
       "      <td>31889923</td>\n",
       "      <td>Asia</td>\n",
       "      <td>43.828</td>\n",
       "      <td>974.580338</td>\n",
       "      <td>31.079292</td>\n",
       "    </tr>\n",
       "    <tr>\n",
       "      <th>101</th>\n",
       "      <td>Bangladesh</td>\n",
       "      <td>1977</td>\n",
       "      <td>80428306</td>\n",
       "      <td>Asia</td>\n",
       "      <td>46.923</td>\n",
       "      <td>659.877232</td>\n",
       "      <td>53.072808</td>\n",
       "    </tr>\n",
       "  </tbody>\n",
       "</table>\n",
       "</div>"
      ],
      "text/plain": [
       "         country  year  population continent  life_exp       gdp_cap  total_GDP\n",
       "1    Afghanistan  1957     9240934      Asia    30.332    820.853030   7.585449\n",
       "2    Afghanistan  1962    10267083      Asia    31.997    853.100710   8.758856\n",
       "3    Afghanistan  1967    11537966      Asia    34.020    836.197138   9.648014\n",
       "95       Bahrain  2007      708573      Asia    75.635  29796.048340  21.112675\n",
       "11   Afghanistan  2007    31889923      Asia    43.828    974.580338  31.079292\n",
       "101   Bangladesh  1977    80428306      Asia    46.923    659.877232  53.072808"
      ]
     },
     "execution_count": 591,
     "metadata": {},
     "output_type": "execute_result"
    }
   ],
   "source": [
    "df.loc[[1,2,3,95,11,101]]"
   ]
  },
  {
   "cell_type": "code",
   "execution_count": 602,
   "id": "32fad1ce",
   "metadata": {},
   "outputs": [],
   "source": [
    "df.loc[1704] = df.loc[101]"
   ]
  },
  {
   "cell_type": "code",
   "execution_count": 603,
   "id": "ffe25357",
   "metadata": {},
   "outputs": [
    {
     "data": {
      "text/html": [
       "<div>\n",
       "<style scoped>\n",
       "    .dataframe tbody tr th:only-of-type {\n",
       "        vertical-align: middle;\n",
       "    }\n",
       "\n",
       "    .dataframe tbody tr th {\n",
       "        vertical-align: top;\n",
       "    }\n",
       "\n",
       "    .dataframe thead th {\n",
       "        text-align: right;\n",
       "    }\n",
       "</style>\n",
       "<table border=\"1\" class=\"dataframe\">\n",
       "  <thead>\n",
       "    <tr style=\"text-align: right;\">\n",
       "      <th></th>\n",
       "      <th>country</th>\n",
       "      <th>year</th>\n",
       "      <th>population</th>\n",
       "      <th>continent</th>\n",
       "      <th>life_exp</th>\n",
       "      <th>gdp_cap</th>\n",
       "      <th>total_GDP</th>\n",
       "    </tr>\n",
       "  </thead>\n",
       "  <tbody>\n",
       "    <tr>\n",
       "      <th>0</th>\n",
       "      <td>Afghanistan</td>\n",
       "      <td>1952</td>\n",
       "      <td>8425333</td>\n",
       "      <td>Asia</td>\n",
       "      <td>28.801</td>\n",
       "      <td>779.445314</td>\n",
       "      <td>6.567086</td>\n",
       "    </tr>\n",
       "    <tr>\n",
       "      <th>1</th>\n",
       "      <td>Afghanistan</td>\n",
       "      <td>1957</td>\n",
       "      <td>9240934</td>\n",
       "      <td>Asia</td>\n",
       "      <td>30.332</td>\n",
       "      <td>820.853030</td>\n",
       "      <td>7.585449</td>\n",
       "    </tr>\n",
       "    <tr>\n",
       "      <th>2</th>\n",
       "      <td>Afghanistan</td>\n",
       "      <td>1962</td>\n",
       "      <td>10267083</td>\n",
       "      <td>Asia</td>\n",
       "      <td>31.997</td>\n",
       "      <td>853.100710</td>\n",
       "      <td>8.758856</td>\n",
       "    </tr>\n",
       "    <tr>\n",
       "      <th>3</th>\n",
       "      <td>Afghanistan</td>\n",
       "      <td>1967</td>\n",
       "      <td>11537966</td>\n",
       "      <td>Asia</td>\n",
       "      <td>34.020</td>\n",
       "      <td>836.197138</td>\n",
       "      <td>9.648014</td>\n",
       "    </tr>\n",
       "    <tr>\n",
       "      <th>4</th>\n",
       "      <td>Afghanistan</td>\n",
       "      <td>1972</td>\n",
       "      <td>13079460</td>\n",
       "      <td>Asia</td>\n",
       "      <td>36.088</td>\n",
       "      <td>739.981106</td>\n",
       "      <td>9.678553</td>\n",
       "    </tr>\n",
       "    <tr>\n",
       "      <th>...</th>\n",
       "      <td>...</td>\n",
       "      <td>...</td>\n",
       "      <td>...</td>\n",
       "      <td>...</td>\n",
       "      <td>...</td>\n",
       "      <td>...</td>\n",
       "      <td>...</td>\n",
       "    </tr>\n",
       "    <tr>\n",
       "      <th>1700</th>\n",
       "      <td>Zimbabwe</td>\n",
       "      <td>1992</td>\n",
       "      <td>10704340</td>\n",
       "      <td>Africa</td>\n",
       "      <td>60.377</td>\n",
       "      <td>693.420786</td>\n",
       "      <td>7.422612</td>\n",
       "    </tr>\n",
       "    <tr>\n",
       "      <th>1701</th>\n",
       "      <td>Zimbabwe</td>\n",
       "      <td>1997</td>\n",
       "      <td>11404948</td>\n",
       "      <td>Africa</td>\n",
       "      <td>46.809</td>\n",
       "      <td>792.449960</td>\n",
       "      <td>9.037851</td>\n",
       "    </tr>\n",
       "    <tr>\n",
       "      <th>1702</th>\n",
       "      <td>Zimbabwe</td>\n",
       "      <td>2002</td>\n",
       "      <td>11926563</td>\n",
       "      <td>Africa</td>\n",
       "      <td>39.989</td>\n",
       "      <td>672.038623</td>\n",
       "      <td>8.015111</td>\n",
       "    </tr>\n",
       "    <tr>\n",
       "      <th>1703</th>\n",
       "      <td>Zimbabwe</td>\n",
       "      <td>2007</td>\n",
       "      <td>12311143</td>\n",
       "      <td>Africa</td>\n",
       "      <td>43.487</td>\n",
       "      <td>469.709298</td>\n",
       "      <td>5.782658</td>\n",
       "    </tr>\n",
       "    <tr>\n",
       "      <th>1704</th>\n",
       "      <td>Bangladesh</td>\n",
       "      <td>1977</td>\n",
       "      <td>80428306</td>\n",
       "      <td>Asia</td>\n",
       "      <td>46.923</td>\n",
       "      <td>659.877232</td>\n",
       "      <td>53.072808</td>\n",
       "    </tr>\n",
       "  </tbody>\n",
       "</table>\n",
       "<p>1705 rows × 7 columns</p>\n",
       "</div>"
      ],
      "text/plain": [
       "          country  year  population continent  life_exp     gdp_cap  total_GDP\n",
       "0     Afghanistan  1952     8425333      Asia    28.801  779.445314   6.567086\n",
       "1     Afghanistan  1957     9240934      Asia    30.332  820.853030   7.585449\n",
       "2     Afghanistan  1962    10267083      Asia    31.997  853.100710   8.758856\n",
       "3     Afghanistan  1967    11537966      Asia    34.020  836.197138   9.648014\n",
       "4     Afghanistan  1972    13079460      Asia    36.088  739.981106   9.678553\n",
       "...           ...   ...         ...       ...       ...         ...        ...\n",
       "1700     Zimbabwe  1992    10704340    Africa    60.377  693.420786   7.422612\n",
       "1701     Zimbabwe  1997    11404948    Africa    46.809  792.449960   9.037851\n",
       "1702     Zimbabwe  2002    11926563    Africa    39.989  672.038623   8.015111\n",
       "1703     Zimbabwe  2007    12311143    Africa    43.487  469.709298   5.782658\n",
       "1704   Bangladesh  1977    80428306      Asia    46.923  659.877232  53.072808\n",
       "\n",
       "[1705 rows x 7 columns]"
      ]
     },
     "execution_count": 603,
     "metadata": {},
     "output_type": "execute_result"
    }
   ],
   "source": [
    "df"
   ]
  },
  {
   "cell_type": "code",
   "execution_count": 604,
   "id": "fa383420",
   "metadata": {},
   "outputs": [
    {
     "data": {
      "text/html": [
       "<div>\n",
       "<style scoped>\n",
       "    .dataframe tbody tr th:only-of-type {\n",
       "        vertical-align: middle;\n",
       "    }\n",
       "\n",
       "    .dataframe tbody tr th {\n",
       "        vertical-align: top;\n",
       "    }\n",
       "\n",
       "    .dataframe thead th {\n",
       "        text-align: right;\n",
       "    }\n",
       "</style>\n",
       "<table border=\"1\" class=\"dataframe\">\n",
       "  <thead>\n",
       "    <tr style=\"text-align: right;\">\n",
       "      <th></th>\n",
       "      <th>country</th>\n",
       "      <th>year</th>\n",
       "      <th>population</th>\n",
       "      <th>continent</th>\n",
       "      <th>life_exp</th>\n",
       "      <th>gdp_cap</th>\n",
       "      <th>total_GDP</th>\n",
       "    </tr>\n",
       "  </thead>\n",
       "  <tbody>\n",
       "    <tr>\n",
       "      <th>1704</th>\n",
       "      <td>Bangladesh</td>\n",
       "      <td>1977</td>\n",
       "      <td>80428306</td>\n",
       "      <td>Asia</td>\n",
       "      <td>46.923</td>\n",
       "      <td>659.877232</td>\n",
       "      <td>53.072808</td>\n",
       "    </tr>\n",
       "  </tbody>\n",
       "</table>\n",
       "</div>"
      ],
      "text/plain": [
       "         country  year  population continent  life_exp     gdp_cap  total_GDP\n",
       "1704  Bangladesh  1977    80428306      Asia    46.923  659.877232  53.072808"
      ]
     },
     "execution_count": 604,
     "metadata": {},
     "output_type": "execute_result"
    }
   ],
   "source": [
    "df.loc[df.duplicated()]"
   ]
  },
  {
   "cell_type": "code",
   "execution_count": 608,
   "id": "ef25d844",
   "metadata": {},
   "outputs": [
    {
     "data": {
      "text/html": [
       "<div>\n",
       "<style scoped>\n",
       "    .dataframe tbody tr th:only-of-type {\n",
       "        vertical-align: middle;\n",
       "    }\n",
       "\n",
       "    .dataframe tbody tr th {\n",
       "        vertical-align: top;\n",
       "    }\n",
       "\n",
       "    .dataframe thead th {\n",
       "        text-align: right;\n",
       "    }\n",
       "</style>\n",
       "<table border=\"1\" class=\"dataframe\">\n",
       "  <thead>\n",
       "    <tr style=\"text-align: right;\">\n",
       "      <th></th>\n",
       "      <th>country</th>\n",
       "      <th>year</th>\n",
       "      <th>population</th>\n",
       "      <th>continent</th>\n",
       "      <th>life_exp</th>\n",
       "      <th>gdp_cap</th>\n",
       "      <th>total_GDP</th>\n",
       "    </tr>\n",
       "  </thead>\n",
       "  <tbody>\n",
       "    <tr>\n",
       "      <th>0</th>\n",
       "      <td>Afghanistan</td>\n",
       "      <td>1952</td>\n",
       "      <td>8425333</td>\n",
       "      <td>Asia</td>\n",
       "      <td>28.801</td>\n",
       "      <td>779.445314</td>\n",
       "      <td>6.567086</td>\n",
       "    </tr>\n",
       "    <tr>\n",
       "      <th>1</th>\n",
       "      <td>Afghanistan</td>\n",
       "      <td>1957</td>\n",
       "      <td>9240934</td>\n",
       "      <td>Asia</td>\n",
       "      <td>30.332</td>\n",
       "      <td>820.853030</td>\n",
       "      <td>7.585449</td>\n",
       "    </tr>\n",
       "    <tr>\n",
       "      <th>2</th>\n",
       "      <td>Afghanistan</td>\n",
       "      <td>1962</td>\n",
       "      <td>10267083</td>\n",
       "      <td>Asia</td>\n",
       "      <td>31.997</td>\n",
       "      <td>853.100710</td>\n",
       "      <td>8.758856</td>\n",
       "    </tr>\n",
       "    <tr>\n",
       "      <th>3</th>\n",
       "      <td>Afghanistan</td>\n",
       "      <td>1967</td>\n",
       "      <td>11537966</td>\n",
       "      <td>Asia</td>\n",
       "      <td>34.020</td>\n",
       "      <td>836.197138</td>\n",
       "      <td>9.648014</td>\n",
       "    </tr>\n",
       "    <tr>\n",
       "      <th>4</th>\n",
       "      <td>Afghanistan</td>\n",
       "      <td>1972</td>\n",
       "      <td>13079460</td>\n",
       "      <td>Asia</td>\n",
       "      <td>36.088</td>\n",
       "      <td>739.981106</td>\n",
       "      <td>9.678553</td>\n",
       "    </tr>\n",
       "    <tr>\n",
       "      <th>...</th>\n",
       "      <td>...</td>\n",
       "      <td>...</td>\n",
       "      <td>...</td>\n",
       "      <td>...</td>\n",
       "      <td>...</td>\n",
       "      <td>...</td>\n",
       "      <td>...</td>\n",
       "    </tr>\n",
       "    <tr>\n",
       "      <th>1699</th>\n",
       "      <td>Zimbabwe</td>\n",
       "      <td>1987</td>\n",
       "      <td>9216418</td>\n",
       "      <td>Africa</td>\n",
       "      <td>62.351</td>\n",
       "      <td>706.157306</td>\n",
       "      <td>6.508241</td>\n",
       "    </tr>\n",
       "    <tr>\n",
       "      <th>1700</th>\n",
       "      <td>Zimbabwe</td>\n",
       "      <td>1992</td>\n",
       "      <td>10704340</td>\n",
       "      <td>Africa</td>\n",
       "      <td>60.377</td>\n",
       "      <td>693.420786</td>\n",
       "      <td>7.422612</td>\n",
       "    </tr>\n",
       "    <tr>\n",
       "      <th>1701</th>\n",
       "      <td>Zimbabwe</td>\n",
       "      <td>1997</td>\n",
       "      <td>11404948</td>\n",
       "      <td>Africa</td>\n",
       "      <td>46.809</td>\n",
       "      <td>792.449960</td>\n",
       "      <td>9.037851</td>\n",
       "    </tr>\n",
       "    <tr>\n",
       "      <th>1702</th>\n",
       "      <td>Zimbabwe</td>\n",
       "      <td>2002</td>\n",
       "      <td>11926563</td>\n",
       "      <td>Africa</td>\n",
       "      <td>39.989</td>\n",
       "      <td>672.038623</td>\n",
       "      <td>8.015111</td>\n",
       "    </tr>\n",
       "    <tr>\n",
       "      <th>1703</th>\n",
       "      <td>Zimbabwe</td>\n",
       "      <td>2007</td>\n",
       "      <td>12311143</td>\n",
       "      <td>Africa</td>\n",
       "      <td>43.487</td>\n",
       "      <td>469.709298</td>\n",
       "      <td>5.782658</td>\n",
       "    </tr>\n",
       "  </tbody>\n",
       "</table>\n",
       "<p>1703 rows × 7 columns</p>\n",
       "</div>"
      ],
      "text/plain": [
       "          country  year  population continent  life_exp     gdp_cap  total_GDP\n",
       "0     Afghanistan  1952     8425333      Asia    28.801  779.445314   6.567086\n",
       "1     Afghanistan  1957     9240934      Asia    30.332  820.853030   7.585449\n",
       "2     Afghanistan  1962    10267083      Asia    31.997  853.100710   8.758856\n",
       "3     Afghanistan  1967    11537966      Asia    34.020  836.197138   9.648014\n",
       "4     Afghanistan  1972    13079460      Asia    36.088  739.981106   9.678553\n",
       "...           ...   ...         ...       ...       ...         ...        ...\n",
       "1699     Zimbabwe  1987     9216418    Africa    62.351  706.157306   6.508241\n",
       "1700     Zimbabwe  1992    10704340    Africa    60.377  693.420786   7.422612\n",
       "1701     Zimbabwe  1997    11404948    Africa    46.809  792.449960   9.037851\n",
       "1702     Zimbabwe  2002    11926563    Africa    39.989  672.038623   8.015111\n",
       "1703     Zimbabwe  2007    12311143    Africa    43.487  469.709298   5.782658\n",
       "\n",
       "[1703 rows x 7 columns]"
      ]
     },
     "execution_count": 608,
     "metadata": {},
     "output_type": "execute_result"
    }
   ],
   "source": [
    "df.drop_duplicates(keep=False)"
   ]
  },
  {
   "cell_type": "code",
   "execution_count": null,
   "id": "ca02cae0",
   "metadata": {},
   "outputs": [],
   "source": []
  },
  {
   "cell_type": "code",
   "execution_count": 613,
   "id": "2fda3c5c",
   "metadata": {},
   "outputs": [
    {
     "data": {
      "text/html": [
       "<div>\n",
       "<style scoped>\n",
       "    .dataframe tbody tr th:only-of-type {\n",
       "        vertical-align: middle;\n",
       "    }\n",
       "\n",
       "    .dataframe tbody tr th {\n",
       "        vertical-align: top;\n",
       "    }\n",
       "\n",
       "    .dataframe thead th {\n",
       "        text-align: right;\n",
       "    }\n",
       "</style>\n",
       "<table border=\"1\" class=\"dataframe\">\n",
       "  <thead>\n",
       "    <tr style=\"text-align: right;\">\n",
       "      <th></th>\n",
       "      <th>country</th>\n",
       "      <th>year</th>\n",
       "      <th>population</th>\n",
       "      <th>continent</th>\n",
       "      <th>life_exp</th>\n",
       "      <th>gdp_cap</th>\n",
       "      <th>total_GDP</th>\n",
       "    </tr>\n",
       "  </thead>\n",
       "  <tbody>\n",
       "    <tr>\n",
       "      <th>1619</th>\n",
       "      <td>United States</td>\n",
       "      <td>2007</td>\n",
       "      <td>301139947</td>\n",
       "      <td>Americas</td>\n",
       "      <td>78.242</td>\n",
       "      <td>42951.653090</td>\n",
       "      <td>12934.458535</td>\n",
       "    </tr>\n",
       "    <tr>\n",
       "      <th>299</th>\n",
       "      <td>China</td>\n",
       "      <td>2007</td>\n",
       "      <td>1318683096</td>\n",
       "      <td>Asia</td>\n",
       "      <td>72.961</td>\n",
       "      <td>4959.114854</td>\n",
       "      <td>6539.500929</td>\n",
       "    </tr>\n",
       "    <tr>\n",
       "      <th>803</th>\n",
       "      <td>Japan</td>\n",
       "      <td>2007</td>\n",
       "      <td>127467972</td>\n",
       "      <td>Asia</td>\n",
       "      <td>82.603</td>\n",
       "      <td>31656.068060</td>\n",
       "      <td>4035.134797</td>\n",
       "    </tr>\n",
       "    <tr>\n",
       "      <th>707</th>\n",
       "      <td>India</td>\n",
       "      <td>2007</td>\n",
       "      <td>1110396331</td>\n",
       "      <td>Asia</td>\n",
       "      <td>64.698</td>\n",
       "      <td>2452.210407</td>\n",
       "      <td>2722.925439</td>\n",
       "    </tr>\n",
       "    <tr>\n",
       "      <th>575</th>\n",
       "      <td>Germany</td>\n",
       "      <td>2007</td>\n",
       "      <td>82400996</td>\n",
       "      <td>Europe</td>\n",
       "      <td>79.406</td>\n",
       "      <td>32170.374420</td>\n",
       "      <td>2650.870894</td>\n",
       "    </tr>\n",
       "    <tr>\n",
       "      <th>1607</th>\n",
       "      <td>United Kingdom</td>\n",
       "      <td>2007</td>\n",
       "      <td>60776238</td>\n",
       "      <td>Europe</td>\n",
       "      <td>79.425</td>\n",
       "      <td>33203.261280</td>\n",
       "      <td>2017.969310</td>\n",
       "    </tr>\n",
       "    <tr>\n",
       "      <th>539</th>\n",
       "      <td>France</td>\n",
       "      <td>2007</td>\n",
       "      <td>61083916</td>\n",
       "      <td>Europe</td>\n",
       "      <td>80.657</td>\n",
       "      <td>30470.016700</td>\n",
       "      <td>1861.227941</td>\n",
       "    </tr>\n",
       "    <tr>\n",
       "      <th>179</th>\n",
       "      <td>Brazil</td>\n",
       "      <td>2007</td>\n",
       "      <td>190010647</td>\n",
       "      <td>Americas</td>\n",
       "      <td>72.390</td>\n",
       "      <td>9065.800825</td>\n",
       "      <td>1722.598680</td>\n",
       "    </tr>\n",
       "    <tr>\n",
       "      <th>779</th>\n",
       "      <td>Italy</td>\n",
       "      <td>2007</td>\n",
       "      <td>58147733</td>\n",
       "      <td>Europe</td>\n",
       "      <td>80.546</td>\n",
       "      <td>28569.719700</td>\n",
       "      <td>1661.264433</td>\n",
       "    </tr>\n",
       "    <tr>\n",
       "      <th>995</th>\n",
       "      <td>Mexico</td>\n",
       "      <td>2007</td>\n",
       "      <td>108700891</td>\n",
       "      <td>Americas</td>\n",
       "      <td>76.195</td>\n",
       "      <td>11977.574960</td>\n",
       "      <td>1301.973070</td>\n",
       "    </tr>\n",
       "    <tr>\n",
       "      <th>251</th>\n",
       "      <td>Canada</td>\n",
       "      <td>2007</td>\n",
       "      <td>33390141</td>\n",
       "      <td>Americas</td>\n",
       "      <td>80.653</td>\n",
       "      <td>36319.235010</td>\n",
       "      <td>1212.704378</td>\n",
       "    </tr>\n",
       "    <tr>\n",
       "      <th>1427</th>\n",
       "      <td>Spain</td>\n",
       "      <td>2007</td>\n",
       "      <td>40448191</td>\n",
       "      <td>Europe</td>\n",
       "      <td>80.941</td>\n",
       "      <td>28821.063700</td>\n",
       "      <td>1165.759889</td>\n",
       "    </tr>\n",
       "    <tr>\n",
       "      <th>851</th>\n",
       "      <td>Korea, Rep.</td>\n",
       "      <td>2007</td>\n",
       "      <td>49044790</td>\n",
       "      <td>Asia</td>\n",
       "      <td>78.623</td>\n",
       "      <td>23348.139730</td>\n",
       "      <td>1145.104610</td>\n",
       "    </tr>\n",
       "    <tr>\n",
       "      <th>731</th>\n",
       "      <td>Iran</td>\n",
       "      <td>2007</td>\n",
       "      <td>69453570</td>\n",
       "      <td>Asia</td>\n",
       "      <td>70.964</td>\n",
       "      <td>11605.714490</td>\n",
       "      <td>806.058304</td>\n",
       "    </tr>\n",
       "    <tr>\n",
       "      <th>719</th>\n",
       "      <td>Indonesia</td>\n",
       "      <td>2007</td>\n",
       "      <td>223547000</td>\n",
       "      <td>Asia</td>\n",
       "      <td>70.650</td>\n",
       "      <td>3540.651564</td>\n",
       "      <td>791.502035</td>\n",
       "    </tr>\n",
       "    <tr>\n",
       "      <th>71</th>\n",
       "      <td>Australia</td>\n",
       "      <td>2007</td>\n",
       "      <td>20434176</td>\n",
       "      <td>Oceania</td>\n",
       "      <td>81.235</td>\n",
       "      <td>34435.367440</td>\n",
       "      <td>703.658359</td>\n",
       "    </tr>\n",
       "    <tr>\n",
       "      <th>1511</th>\n",
       "      <td>Taiwan</td>\n",
       "      <td>2007</td>\n",
       "      <td>23174294</td>\n",
       "      <td>Asia</td>\n",
       "      <td>78.400</td>\n",
       "      <td>28718.276840</td>\n",
       "      <td>665.525791</td>\n",
       "    </tr>\n",
       "    <tr>\n",
       "      <th>1091</th>\n",
       "      <td>Netherlands</td>\n",
       "      <td>2007</td>\n",
       "      <td>16570613</td>\n",
       "      <td>Europe</td>\n",
       "      <td>79.762</td>\n",
       "      <td>36797.933320</td>\n",
       "      <td>609.764312</td>\n",
       "    </tr>\n",
       "    <tr>\n",
       "      <th>1583</th>\n",
       "      <td>Turkey</td>\n",
       "      <td>2007</td>\n",
       "      <td>71158647</td>\n",
       "      <td>Europe</td>\n",
       "      <td>71.777</td>\n",
       "      <td>8458.276384</td>\n",
       "      <td>601.879503</td>\n",
       "    </tr>\n",
       "    <tr>\n",
       "      <th>1319</th>\n",
       "      <td>Saudi Arabia</td>\n",
       "      <td>2007</td>\n",
       "      <td>27601038</td>\n",
       "      <td>Asia</td>\n",
       "      <td>72.777</td>\n",
       "      <td>21654.831940</td>\n",
       "      <td>597.695839</td>\n",
       "    </tr>\n",
       "    <tr>\n",
       "      <th>1235</th>\n",
       "      <td>Poland</td>\n",
       "      <td>2007</td>\n",
       "      <td>38518241</td>\n",
       "      <td>Europe</td>\n",
       "      <td>75.563</td>\n",
       "      <td>15389.924680</td>\n",
       "      <td>592.792828</td>\n",
       "    </tr>\n",
       "    <tr>\n",
       "      <th>59</th>\n",
       "      <td>Argentina</td>\n",
       "      <td>2007</td>\n",
       "      <td>40301927</td>\n",
       "      <td>Americas</td>\n",
       "      <td>75.320</td>\n",
       "      <td>12779.379640</td>\n",
       "      <td>515.033625</td>\n",
       "    </tr>\n",
       "    <tr>\n",
       "      <th>1535</th>\n",
       "      <td>Thailand</td>\n",
       "      <td>2007</td>\n",
       "      <td>65068149</td>\n",
       "      <td>Asia</td>\n",
       "      <td>70.616</td>\n",
       "      <td>7458.396327</td>\n",
       "      <td>485.304044</td>\n",
       "    </tr>\n",
       "    <tr>\n",
       "      <th>467</th>\n",
       "      <td>Egypt</td>\n",
       "      <td>2007</td>\n",
       "      <td>80264543</td>\n",
       "      <td>Africa</td>\n",
       "      <td>71.338</td>\n",
       "      <td>5581.180998</td>\n",
       "      <td>447.970942</td>\n",
       "    </tr>\n",
       "    <tr>\n",
       "      <th>1175</th>\n",
       "      <td>Pakistan</td>\n",
       "      <td>2007</td>\n",
       "      <td>169270617</td>\n",
       "      <td>Asia</td>\n",
       "      <td>65.483</td>\n",
       "      <td>2605.947580</td>\n",
       "      <td>441.110355</td>\n",
       "    </tr>\n",
       "    <tr>\n",
       "      <th>1415</th>\n",
       "      <td>South Africa</td>\n",
       "      <td>2007</td>\n",
       "      <td>43997828</td>\n",
       "      <td>Africa</td>\n",
       "      <td>49.339</td>\n",
       "      <td>9269.657808</td>\n",
       "      <td>407.844810</td>\n",
       "    </tr>\n",
       "    <tr>\n",
       "      <th>119</th>\n",
       "      <td>Belgium</td>\n",
       "      <td>2007</td>\n",
       "      <td>10392226</td>\n",
       "      <td>Europe</td>\n",
       "      <td>79.441</td>\n",
       "      <td>33692.605080</td>\n",
       "      <td>350.141167</td>\n",
       "    </tr>\n",
       "    <tr>\n",
       "      <th>311</th>\n",
       "      <td>Colombia</td>\n",
       "      <td>2007</td>\n",
       "      <td>44227550</td>\n",
       "      <td>Americas</td>\n",
       "      <td>72.889</td>\n",
       "      <td>7006.580419</td>\n",
       "      <td>309.883886</td>\n",
       "    </tr>\n",
       "    <tr>\n",
       "      <th>947</th>\n",
       "      <td>Malaysia</td>\n",
       "      <td>2007</td>\n",
       "      <td>24821286</td>\n",
       "      <td>Asia</td>\n",
       "      <td>74.241</td>\n",
       "      <td>12451.655800</td>\n",
       "      <td>309.066110</td>\n",
       "    </tr>\n",
       "    <tr>\n",
       "      <th>1475</th>\n",
       "      <td>Sweden</td>\n",
       "      <td>2007</td>\n",
       "      <td>9031088</td>\n",
       "      <td>Europe</td>\n",
       "      <td>80.884</td>\n",
       "      <td>33859.748350</td>\n",
       "      <td>305.790367</td>\n",
       "    </tr>\n",
       "    <tr>\n",
       "      <th>1643</th>\n",
       "      <td>Venezuela</td>\n",
       "      <td>2007</td>\n",
       "      <td>26084662</td>\n",
       "      <td>Americas</td>\n",
       "      <td>73.747</td>\n",
       "      <td>11415.805690</td>\n",
       "      <td>297.777433</td>\n",
       "    </tr>\n",
       "    <tr>\n",
       "      <th>83</th>\n",
       "      <td>Austria</td>\n",
       "      <td>2007</td>\n",
       "      <td>8199783</td>\n",
       "      <td>Europe</td>\n",
       "      <td>79.829</td>\n",
       "      <td>36126.492700</td>\n",
       "      <td>296.229401</td>\n",
       "    </tr>\n",
       "    <tr>\n",
       "      <th>599</th>\n",
       "      <td>Greece</td>\n",
       "      <td>2007</td>\n",
       "      <td>10706290</td>\n",
       "      <td>Europe</td>\n",
       "      <td>79.483</td>\n",
       "      <td>27538.411880</td>\n",
       "      <td>294.834224</td>\n",
       "    </tr>\n",
       "    <tr>\n",
       "      <th>1223</th>\n",
       "      <td>Philippines</td>\n",
       "      <td>2007</td>\n",
       "      <td>91077287</td>\n",
       "      <td>Asia</td>\n",
       "      <td>71.688</td>\n",
       "      <td>3190.481016</td>\n",
       "      <td>290.580355</td>\n",
       "    </tr>\n",
       "    <tr>\n",
       "      <th>1487</th>\n",
       "      <td>Switzerland</td>\n",
       "      <td>2007</td>\n",
       "      <td>7554661</td>\n",
       "      <td>Europe</td>\n",
       "      <td>81.701</td>\n",
       "      <td>37506.419070</td>\n",
       "      <td>283.348281</td>\n",
       "    </tr>\n",
       "    <tr>\n",
       "      <th>671</th>\n",
       "      <td>Hong Kong, China</td>\n",
       "      <td>2007</td>\n",
       "      <td>6980412</td>\n",
       "      <td>Asia</td>\n",
       "      <td>82.208</td>\n",
       "      <td>39724.978670</td>\n",
       "      <td>277.296718</td>\n",
       "    </tr>\n",
       "    <tr>\n",
       "      <th>1139</th>\n",
       "      <td>Nigeria</td>\n",
       "      <td>2007</td>\n",
       "      <td>135031164</td>\n",
       "      <td>Africa</td>\n",
       "      <td>46.859</td>\n",
       "      <td>2013.977305</td>\n",
       "      <td>271.949700</td>\n",
       "    </tr>\n",
       "    <tr>\n",
       "      <th>1283</th>\n",
       "      <td>Romania</td>\n",
       "      <td>2007</td>\n",
       "      <td>22276056</td>\n",
       "      <td>Europe</td>\n",
       "      <td>72.476</td>\n",
       "      <td>10808.475610</td>\n",
       "      <td>240.770208</td>\n",
       "    </tr>\n",
       "    <tr>\n",
       "      <th>407</th>\n",
       "      <td>Czech Republic</td>\n",
       "      <td>2007</td>\n",
       "      <td>10228744</td>\n",
       "      <td>Europe</td>\n",
       "      <td>76.486</td>\n",
       "      <td>22833.308510</td>\n",
       "      <td>233.556067</td>\n",
       "    </tr>\n",
       "    <tr>\n",
       "      <th>1151</th>\n",
       "      <td>Norway</td>\n",
       "      <td>2007</td>\n",
       "      <td>4627926</td>\n",
       "      <td>Europe</td>\n",
       "      <td>80.196</td>\n",
       "      <td>49357.190170</td>\n",
       "      <td>228.421424</td>\n",
       "    </tr>\n",
       "    <tr>\n",
       "      <th>1247</th>\n",
       "      <td>Portugal</td>\n",
       "      <td>2007</td>\n",
       "      <td>10642836</td>\n",
       "      <td>Europe</td>\n",
       "      <td>78.098</td>\n",
       "      <td>20509.647770</td>\n",
       "      <td>218.280818</td>\n",
       "    </tr>\n",
       "    <tr>\n",
       "      <th>1367</th>\n",
       "      <td>Singapore</td>\n",
       "      <td>2007</td>\n",
       "      <td>4553009</td>\n",
       "      <td>Asia</td>\n",
       "      <td>79.972</td>\n",
       "      <td>47143.179640</td>\n",
       "      <td>214.643321</td>\n",
       "    </tr>\n",
       "    <tr>\n",
       "      <th>287</th>\n",
       "      <td>Chile</td>\n",
       "      <td>2007</td>\n",
       "      <td>16284741</td>\n",
       "      <td>Americas</td>\n",
       "      <td>78.553</td>\n",
       "      <td>13171.638850</td>\n",
       "      <td>214.496727</td>\n",
       "    </tr>\n",
       "    <tr>\n",
       "      <th>1211</th>\n",
       "      <td>Peru</td>\n",
       "      <td>2007</td>\n",
       "      <td>28674757</td>\n",
       "      <td>Americas</td>\n",
       "      <td>71.421</td>\n",
       "      <td>7408.905561</td>\n",
       "      <td>212.448567</td>\n",
       "    </tr>\n",
       "    <tr>\n",
       "      <th>107</th>\n",
       "      <td>Bangladesh</td>\n",
       "      <td>2007</td>\n",
       "      <td>150448339</td>\n",
       "      <td>Asia</td>\n",
       "      <td>64.062</td>\n",
       "      <td>1391.253792</td>\n",
       "      <td>209.311822</td>\n",
       "    </tr>\n",
       "    <tr>\n",
       "      <th>1655</th>\n",
       "      <td>Vietnam</td>\n",
       "      <td>2007</td>\n",
       "      <td>85262356</td>\n",
       "      <td>Asia</td>\n",
       "      <td>74.249</td>\n",
       "      <td>2441.576404</td>\n",
       "      <td>208.174557</td>\n",
       "    </tr>\n",
       "    <tr>\n",
       "      <th>35</th>\n",
       "      <td>Algeria</td>\n",
       "      <td>2007</td>\n",
       "      <td>33333216</td>\n",
       "      <td>Africa</td>\n",
       "      <td>72.301</td>\n",
       "      <td>6223.367465</td>\n",
       "      <td>207.444852</td>\n",
       "    </tr>\n",
       "    <tr>\n",
       "      <th>419</th>\n",
       "      <td>Denmark</td>\n",
       "      <td>2007</td>\n",
       "      <td>5468120</td>\n",
       "      <td>Europe</td>\n",
       "      <td>78.332</td>\n",
       "      <td>35278.418740</td>\n",
       "      <td>192.906627</td>\n",
       "    </tr>\n",
       "    <tr>\n",
       "      <th>683</th>\n",
       "      <td>Hungary</td>\n",
       "      <td>2007</td>\n",
       "      <td>9956108</td>\n",
       "      <td>Europe</td>\n",
       "      <td>73.338</td>\n",
       "      <td>18008.944440</td>\n",
       "      <td>179.298996</td>\n",
       "    </tr>\n",
       "    <tr>\n",
       "      <th>527</th>\n",
       "      <td>Finland</td>\n",
       "      <td>2007</td>\n",
       "      <td>5238460</td>\n",
       "      <td>Europe</td>\n",
       "      <td>79.313</td>\n",
       "      <td>33207.084400</td>\n",
       "      <td>173.953983</td>\n",
       "    </tr>\n",
       "  </tbody>\n",
       "</table>\n",
       "</div>"
      ],
      "text/plain": [
       "               country  year  population continent  life_exp       gdp_cap     total_GDP\n",
       "1619     United States  2007   301139947  Americas    78.242  42951.653090  12934.458535\n",
       "299              China  2007  1318683096      Asia    72.961   4959.114854   6539.500929\n",
       "803              Japan  2007   127467972      Asia    82.603  31656.068060   4035.134797\n",
       "707              India  2007  1110396331      Asia    64.698   2452.210407   2722.925439\n",
       "575            Germany  2007    82400996    Europe    79.406  32170.374420   2650.870894\n",
       "1607    United Kingdom  2007    60776238    Europe    79.425  33203.261280   2017.969310\n",
       "539             France  2007    61083916    Europe    80.657  30470.016700   1861.227941\n",
       "179             Brazil  2007   190010647  Americas    72.390   9065.800825   1722.598680\n",
       "779              Italy  2007    58147733    Europe    80.546  28569.719700   1661.264433\n",
       "995             Mexico  2007   108700891  Americas    76.195  11977.574960   1301.973070\n",
       "251             Canada  2007    33390141  Americas    80.653  36319.235010   1212.704378\n",
       "1427             Spain  2007    40448191    Europe    80.941  28821.063700   1165.759889\n",
       "851        Korea, Rep.  2007    49044790      Asia    78.623  23348.139730   1145.104610\n",
       "731               Iran  2007    69453570      Asia    70.964  11605.714490    806.058304\n",
       "719          Indonesia  2007   223547000      Asia    70.650   3540.651564    791.502035\n",
       "71           Australia  2007    20434176   Oceania    81.235  34435.367440    703.658359\n",
       "1511            Taiwan  2007    23174294      Asia    78.400  28718.276840    665.525791\n",
       "1091       Netherlands  2007    16570613    Europe    79.762  36797.933320    609.764312\n",
       "1583            Turkey  2007    71158647    Europe    71.777   8458.276384    601.879503\n",
       "1319      Saudi Arabia  2007    27601038      Asia    72.777  21654.831940    597.695839\n",
       "1235            Poland  2007    38518241    Europe    75.563  15389.924680    592.792828\n",
       "59           Argentina  2007    40301927  Americas    75.320  12779.379640    515.033625\n",
       "1535          Thailand  2007    65068149      Asia    70.616   7458.396327    485.304044\n",
       "467              Egypt  2007    80264543    Africa    71.338   5581.180998    447.970942\n",
       "1175          Pakistan  2007   169270617      Asia    65.483   2605.947580    441.110355\n",
       "1415      South Africa  2007    43997828    Africa    49.339   9269.657808    407.844810\n",
       "119            Belgium  2007    10392226    Europe    79.441  33692.605080    350.141167\n",
       "311           Colombia  2007    44227550  Americas    72.889   7006.580419    309.883886\n",
       "947           Malaysia  2007    24821286      Asia    74.241  12451.655800    309.066110\n",
       "1475            Sweden  2007     9031088    Europe    80.884  33859.748350    305.790367\n",
       "1643         Venezuela  2007    26084662  Americas    73.747  11415.805690    297.777433\n",
       "83             Austria  2007     8199783    Europe    79.829  36126.492700    296.229401\n",
       "599             Greece  2007    10706290    Europe    79.483  27538.411880    294.834224\n",
       "1223       Philippines  2007    91077287      Asia    71.688   3190.481016    290.580355\n",
       "1487       Switzerland  2007     7554661    Europe    81.701  37506.419070    283.348281\n",
       "671   Hong Kong, China  2007     6980412      Asia    82.208  39724.978670    277.296718\n",
       "1139           Nigeria  2007   135031164    Africa    46.859   2013.977305    271.949700\n",
       "1283           Romania  2007    22276056    Europe    72.476  10808.475610    240.770208\n",
       "407     Czech Republic  2007    10228744    Europe    76.486  22833.308510    233.556067\n",
       "1151            Norway  2007     4627926    Europe    80.196  49357.190170    228.421424\n",
       "1247          Portugal  2007    10642836    Europe    78.098  20509.647770    218.280818\n",
       "1367         Singapore  2007     4553009      Asia    79.972  47143.179640    214.643321\n",
       "287              Chile  2007    16284741  Americas    78.553  13171.638850    214.496727\n",
       "1211              Peru  2007    28674757  Americas    71.421   7408.905561    212.448567\n",
       "107         Bangladesh  2007   150448339      Asia    64.062   1391.253792    209.311822\n",
       "1655           Vietnam  2007    85262356      Asia    74.249   2441.576404    208.174557\n",
       "35             Algeria  2007    33333216    Africa    72.301   6223.367465    207.444852\n",
       "419            Denmark  2007     5468120    Europe    78.332  35278.418740    192.906627\n",
       "683            Hungary  2007     9956108    Europe    73.338  18008.944440    179.298996\n",
       "527            Finland  2007     5238460    Europe    79.313  33207.084400    173.953983"
      ]
     },
     "execution_count": 613,
     "metadata": {},
     "output_type": "execute_result"
    }
   ],
   "source": [
    "df.sort_values(by = [\"year\",\"total_GDP\"],ascending=[False,False]).head(50)"
   ]
  },
  {
   "cell_type": "code",
   "execution_count": null,
   "id": "8928bc7a",
   "metadata": {},
   "outputs": [],
   "source": []
  },
  {
   "cell_type": "code",
   "execution_count": 814,
   "id": "002c5a99",
   "metadata": {},
   "outputs": [
    {
     "data": {
      "application/javascript": [
       "\n",
       "        if (window._pyforest_update_imports_cell) { window._pyforest_update_imports_cell('import pandas as pd'); }\n",
       "    "
      ],
      "text/plain": [
       "<IPython.core.display.Javascript object>"
      ]
     },
     "metadata": {},
     "output_type": "display_data"
    },
    {
     "data": {
      "application/javascript": [
       "\n",
       "        if (window._pyforest_update_imports_cell) { window._pyforest_update_imports_cell('import pandas as pd'); }\n",
       "    "
      ],
      "text/plain": [
       "<IPython.core.display.Javascript object>"
      ]
     },
     "metadata": {},
     "output_type": "display_data"
    }
   ],
   "source": [
    "movies = pd.read_csv(\"movies-Copy1.csv\",index_col = 0)\n",
    "directors = pd.read_csv(\"directors-Copy1.csv\",index_col = 0)"
   ]
  },
  {
   "cell_type": "code",
   "execution_count": 815,
   "id": "3d5b2a82",
   "metadata": {},
   "outputs": [
    {
     "data": {
      "text/html": [
       "<div>\n",
       "<style scoped>\n",
       "    .dataframe tbody tr th:only-of-type {\n",
       "        vertical-align: middle;\n",
       "    }\n",
       "\n",
       "    .dataframe tbody tr th {\n",
       "        vertical-align: top;\n",
       "    }\n",
       "\n",
       "    .dataframe thead th {\n",
       "        text-align: right;\n",
       "    }\n",
       "</style>\n",
       "<table border=\"1\" class=\"dataframe\">\n",
       "  <thead>\n",
       "    <tr style=\"text-align: right;\">\n",
       "      <th></th>\n",
       "      <th>id</th>\n",
       "      <th>budget</th>\n",
       "      <th>popularity</th>\n",
       "      <th>revenue</th>\n",
       "      <th>title</th>\n",
       "      <th>vote_average</th>\n",
       "      <th>vote_count</th>\n",
       "      <th>director_id</th>\n",
       "      <th>year</th>\n",
       "      <th>month</th>\n",
       "      <th>day</th>\n",
       "    </tr>\n",
       "  </thead>\n",
       "  <tbody>\n",
       "    <tr>\n",
       "      <th>0</th>\n",
       "      <td>43597</td>\n",
       "      <td>237000000</td>\n",
       "      <td>150</td>\n",
       "      <td>2787965087</td>\n",
       "      <td>Avatar</td>\n",
       "      <td>7.2</td>\n",
       "      <td>11800</td>\n",
       "      <td>4762</td>\n",
       "      <td>2009</td>\n",
       "      <td>Dec</td>\n",
       "      <td>Thursday</td>\n",
       "    </tr>\n",
       "    <tr>\n",
       "      <th>1</th>\n",
       "      <td>43598</td>\n",
       "      <td>300000000</td>\n",
       "      <td>139</td>\n",
       "      <td>961000000</td>\n",
       "      <td>Pirates of the Caribbean: At World's End</td>\n",
       "      <td>6.9</td>\n",
       "      <td>4500</td>\n",
       "      <td>4763</td>\n",
       "      <td>2007</td>\n",
       "      <td>May</td>\n",
       "      <td>Saturday</td>\n",
       "    </tr>\n",
       "    <tr>\n",
       "      <th>2</th>\n",
       "      <td>43599</td>\n",
       "      <td>245000000</td>\n",
       "      <td>107</td>\n",
       "      <td>880674609</td>\n",
       "      <td>Spectre</td>\n",
       "      <td>6.3</td>\n",
       "      <td>4466</td>\n",
       "      <td>4764</td>\n",
       "      <td>2015</td>\n",
       "      <td>Oct</td>\n",
       "      <td>Monday</td>\n",
       "    </tr>\n",
       "    <tr>\n",
       "      <th>3</th>\n",
       "      <td>43600</td>\n",
       "      <td>250000000</td>\n",
       "      <td>112</td>\n",
       "      <td>1084939099</td>\n",
       "      <td>The Dark Knight Rises</td>\n",
       "      <td>7.6</td>\n",
       "      <td>9106</td>\n",
       "      <td>4765</td>\n",
       "      <td>2012</td>\n",
       "      <td>Jul</td>\n",
       "      <td>Monday</td>\n",
       "    </tr>\n",
       "    <tr>\n",
       "      <th>5</th>\n",
       "      <td>43602</td>\n",
       "      <td>258000000</td>\n",
       "      <td>115</td>\n",
       "      <td>890871626</td>\n",
       "      <td>Spider-Man 3</td>\n",
       "      <td>5.9</td>\n",
       "      <td>3576</td>\n",
       "      <td>4767</td>\n",
       "      <td>2007</td>\n",
       "      <td>May</td>\n",
       "      <td>Tuesday</td>\n",
       "    </tr>\n",
       "    <tr>\n",
       "      <th>...</th>\n",
       "      <td>...</td>\n",
       "      <td>...</td>\n",
       "      <td>...</td>\n",
       "      <td>...</td>\n",
       "      <td>...</td>\n",
       "      <td>...</td>\n",
       "      <td>...</td>\n",
       "      <td>...</td>\n",
       "      <td>...</td>\n",
       "      <td>...</td>\n",
       "      <td>...</td>\n",
       "    </tr>\n",
       "    <tr>\n",
       "      <th>4736</th>\n",
       "      <td>48363</td>\n",
       "      <td>0</td>\n",
       "      <td>3</td>\n",
       "      <td>321952</td>\n",
       "      <td>The Last Waltz</td>\n",
       "      <td>7.9</td>\n",
       "      <td>64</td>\n",
       "      <td>4809</td>\n",
       "      <td>1978</td>\n",
       "      <td>May</td>\n",
       "      <td>Monday</td>\n",
       "    </tr>\n",
       "    <tr>\n",
       "      <th>4743</th>\n",
       "      <td>48370</td>\n",
       "      <td>27000</td>\n",
       "      <td>19</td>\n",
       "      <td>3151130</td>\n",
       "      <td>Clerks</td>\n",
       "      <td>7.4</td>\n",
       "      <td>755</td>\n",
       "      <td>5369</td>\n",
       "      <td>1994</td>\n",
       "      <td>Sep</td>\n",
       "      <td>Tuesday</td>\n",
       "    </tr>\n",
       "    <tr>\n",
       "      <th>4748</th>\n",
       "      <td>48375</td>\n",
       "      <td>0</td>\n",
       "      <td>7</td>\n",
       "      <td>0</td>\n",
       "      <td>Rampage</td>\n",
       "      <td>6.0</td>\n",
       "      <td>131</td>\n",
       "      <td>5148</td>\n",
       "      <td>2009</td>\n",
       "      <td>Aug</td>\n",
       "      <td>Friday</td>\n",
       "    </tr>\n",
       "    <tr>\n",
       "      <th>4749</th>\n",
       "      <td>48376</td>\n",
       "      <td>0</td>\n",
       "      <td>3</td>\n",
       "      <td>0</td>\n",
       "      <td>Slacker</td>\n",
       "      <td>6.4</td>\n",
       "      <td>77</td>\n",
       "      <td>5535</td>\n",
       "      <td>1990</td>\n",
       "      <td>Jul</td>\n",
       "      <td>Friday</td>\n",
       "    </tr>\n",
       "    <tr>\n",
       "      <th>4768</th>\n",
       "      <td>48395</td>\n",
       "      <td>220000</td>\n",
       "      <td>14</td>\n",
       "      <td>2040920</td>\n",
       "      <td>El Mariachi</td>\n",
       "      <td>6.6</td>\n",
       "      <td>238</td>\n",
       "      <td>5097</td>\n",
       "      <td>1992</td>\n",
       "      <td>Sep</td>\n",
       "      <td>Friday</td>\n",
       "    </tr>\n",
       "  </tbody>\n",
       "</table>\n",
       "<p>1465 rows × 11 columns</p>\n",
       "</div>"
      ],
      "text/plain": [
       "         id     budget  popularity     revenue  ... director_id  year  month       day\n",
       "0     43597  237000000         150  2787965087  ...        4762  2009    Dec  Thursday\n",
       "1     43598  300000000         139   961000000  ...        4763  2007    May  Saturday\n",
       "2     43599  245000000         107   880674609  ...        4764  2015    Oct    Monday\n",
       "3     43600  250000000         112  1084939099  ...        4765  2012    Jul    Monday\n",
       "5     43602  258000000         115   890871626  ...        4767  2007    May   Tuesday\n",
       "...     ...        ...         ...         ...  ...         ...   ...    ...       ...\n",
       "4736  48363          0           3      321952  ...        4809  1978    May    Monday\n",
       "4743  48370      27000          19     3151130  ...        5369  1994    Sep   Tuesday\n",
       "4748  48375          0           7           0  ...        5148  2009    Aug    Friday\n",
       "4749  48376          0           3           0  ...        5535  1990    Jul    Friday\n",
       "4768  48395     220000          14     2040920  ...        5097  1992    Sep    Friday\n",
       "\n",
       "[1465 rows x 11 columns]"
      ]
     },
     "execution_count": 815,
     "metadata": {},
     "output_type": "execute_result"
    }
   ],
   "source": [
    "movies"
   ]
  },
  {
   "cell_type": "code",
   "execution_count": 816,
   "id": "74831813",
   "metadata": {},
   "outputs": [
    {
     "data": {
      "text/html": [
       "<div>\n",
       "<style scoped>\n",
       "    .dataframe tbody tr th:only-of-type {\n",
       "        vertical-align: middle;\n",
       "    }\n",
       "\n",
       "    .dataframe tbody tr th {\n",
       "        vertical-align: top;\n",
       "    }\n",
       "\n",
       "    .dataframe thead th {\n",
       "        text-align: right;\n",
       "    }\n",
       "</style>\n",
       "<table border=\"1\" class=\"dataframe\">\n",
       "  <thead>\n",
       "    <tr style=\"text-align: right;\">\n",
       "      <th></th>\n",
       "      <th>director_name</th>\n",
       "      <th>id</th>\n",
       "      <th>gender</th>\n",
       "    </tr>\n",
       "  </thead>\n",
       "  <tbody>\n",
       "    <tr>\n",
       "      <th>0</th>\n",
       "      <td>James Cameron</td>\n",
       "      <td>4762</td>\n",
       "      <td>Male</td>\n",
       "    </tr>\n",
       "    <tr>\n",
       "      <th>1</th>\n",
       "      <td>Gore Verbinski</td>\n",
       "      <td>4763</td>\n",
       "      <td>Male</td>\n",
       "    </tr>\n",
       "    <tr>\n",
       "      <th>2</th>\n",
       "      <td>Sam Mendes</td>\n",
       "      <td>4764</td>\n",
       "      <td>Male</td>\n",
       "    </tr>\n",
       "    <tr>\n",
       "      <th>3</th>\n",
       "      <td>Christopher Nolan</td>\n",
       "      <td>4765</td>\n",
       "      <td>Male</td>\n",
       "    </tr>\n",
       "    <tr>\n",
       "      <th>4</th>\n",
       "      <td>Andrew Stanton</td>\n",
       "      <td>4766</td>\n",
       "      <td>Male</td>\n",
       "    </tr>\n",
       "    <tr>\n",
       "      <th>...</th>\n",
       "      <td>...</td>\n",
       "      <td>...</td>\n",
       "      <td>...</td>\n",
       "    </tr>\n",
       "    <tr>\n",
       "      <th>2344</th>\n",
       "      <td>Shane Carruth</td>\n",
       "      <td>7106</td>\n",
       "      <td>Male</td>\n",
       "    </tr>\n",
       "    <tr>\n",
       "      <th>2345</th>\n",
       "      <td>Neill Dela Llana</td>\n",
       "      <td>7107</td>\n",
       "      <td>NaN</td>\n",
       "    </tr>\n",
       "    <tr>\n",
       "      <th>2346</th>\n",
       "      <td>Scott Smith</td>\n",
       "      <td>7108</td>\n",
       "      <td>NaN</td>\n",
       "    </tr>\n",
       "    <tr>\n",
       "      <th>2347</th>\n",
       "      <td>Daniel Hsia</td>\n",
       "      <td>7109</td>\n",
       "      <td>Male</td>\n",
       "    </tr>\n",
       "    <tr>\n",
       "      <th>2348</th>\n",
       "      <td>Brian Herzlinger</td>\n",
       "      <td>7110</td>\n",
       "      <td>Male</td>\n",
       "    </tr>\n",
       "  </tbody>\n",
       "</table>\n",
       "<p>2349 rows × 3 columns</p>\n",
       "</div>"
      ],
      "text/plain": [
       "          director_name    id gender\n",
       "0         James Cameron  4762   Male\n",
       "1        Gore Verbinski  4763   Male\n",
       "2            Sam Mendes  4764   Male\n",
       "3     Christopher Nolan  4765   Male\n",
       "4        Andrew Stanton  4766   Male\n",
       "...                 ...   ...    ...\n",
       "2344      Shane Carruth  7106   Male\n",
       "2345   Neill Dela Llana  7107    NaN\n",
       "2346        Scott Smith  7108    NaN\n",
       "2347        Daniel Hsia  7109   Male\n",
       "2348   Brian Herzlinger  7110   Male\n",
       "\n",
       "[2349 rows x 3 columns]"
      ]
     },
     "execution_count": 816,
     "metadata": {},
     "output_type": "execute_result"
    }
   ],
   "source": [
    "directors"
   ]
  },
  {
   "cell_type": "code",
   "execution_count": 817,
   "id": "c58e6335",
   "metadata": {},
   "outputs": [],
   "source": [
    "df = movies.merge(right = directors,left_on=\"director_id\",right_on=\"id\")"
   ]
  },
  {
   "cell_type": "code",
   "execution_count": 818,
   "id": "80c87fc6",
   "metadata": {},
   "outputs": [],
   "source": [
    "df.drop([\"director_id\",\"id_y\",\"gender\"],axis = 1, inplace=True)"
   ]
  },
  {
   "cell_type": "code",
   "execution_count": 819,
   "id": "0ad92c2a",
   "metadata": {},
   "outputs": [
    {
     "data": {
      "text/html": [
       "<div>\n",
       "<style scoped>\n",
       "    .dataframe tbody tr th:only-of-type {\n",
       "        vertical-align: middle;\n",
       "    }\n",
       "\n",
       "    .dataframe tbody tr th {\n",
       "        vertical-align: top;\n",
       "    }\n",
       "\n",
       "    .dataframe thead th {\n",
       "        text-align: right;\n",
       "    }\n",
       "</style>\n",
       "<table border=\"1\" class=\"dataframe\">\n",
       "  <thead>\n",
       "    <tr style=\"text-align: right;\">\n",
       "      <th></th>\n",
       "      <th>id_x</th>\n",
       "      <th>budget</th>\n",
       "      <th>popularity</th>\n",
       "      <th>revenue</th>\n",
       "      <th>title</th>\n",
       "      <th>vote_average</th>\n",
       "      <th>vote_count</th>\n",
       "      <th>year</th>\n",
       "      <th>month</th>\n",
       "      <th>day</th>\n",
       "      <th>director_name</th>\n",
       "    </tr>\n",
       "  </thead>\n",
       "  <tbody>\n",
       "    <tr>\n",
       "      <th>0</th>\n",
       "      <td>43597</td>\n",
       "      <td>237000000</td>\n",
       "      <td>150</td>\n",
       "      <td>2787965087</td>\n",
       "      <td>Avatar</td>\n",
       "      <td>7.2</td>\n",
       "      <td>11800</td>\n",
       "      <td>2009</td>\n",
       "      <td>Dec</td>\n",
       "      <td>Thursday</td>\n",
       "      <td>James Cameron</td>\n",
       "    </tr>\n",
       "    <tr>\n",
       "      <th>1</th>\n",
       "      <td>43622</td>\n",
       "      <td>200000000</td>\n",
       "      <td>100</td>\n",
       "      <td>1845034188</td>\n",
       "      <td>Titanic</td>\n",
       "      <td>7.5</td>\n",
       "      <td>7562</td>\n",
       "      <td>1997</td>\n",
       "      <td>Nov</td>\n",
       "      <td>Tuesday</td>\n",
       "      <td>James Cameron</td>\n",
       "    </tr>\n",
       "    <tr>\n",
       "      <th>2</th>\n",
       "      <td>43876</td>\n",
       "      <td>100000000</td>\n",
       "      <td>101</td>\n",
       "      <td>520000000</td>\n",
       "      <td>Terminator 2: Judgment Day</td>\n",
       "      <td>7.7</td>\n",
       "      <td>4185</td>\n",
       "      <td>1991</td>\n",
       "      <td>Jul</td>\n",
       "      <td>Monday</td>\n",
       "      <td>James Cameron</td>\n",
       "    </tr>\n",
       "    <tr>\n",
       "      <th>3</th>\n",
       "      <td>43879</td>\n",
       "      <td>115000000</td>\n",
       "      <td>38</td>\n",
       "      <td>378882411</td>\n",
       "      <td>True Lies</td>\n",
       "      <td>6.8</td>\n",
       "      <td>1116</td>\n",
       "      <td>1994</td>\n",
       "      <td>Jul</td>\n",
       "      <td>Thursday</td>\n",
       "      <td>James Cameron</td>\n",
       "    </tr>\n",
       "    <tr>\n",
       "      <th>4</th>\n",
       "      <td>44184</td>\n",
       "      <td>70000000</td>\n",
       "      <td>24</td>\n",
       "      <td>90000098</td>\n",
       "      <td>The Abyss</td>\n",
       "      <td>7.1</td>\n",
       "      <td>808</td>\n",
       "      <td>1989</td>\n",
       "      <td>Aug</td>\n",
       "      <td>Wednesday</td>\n",
       "      <td>James Cameron</td>\n",
       "    </tr>\n",
       "    <tr>\n",
       "      <th>...</th>\n",
       "      <td>...</td>\n",
       "      <td>...</td>\n",
       "      <td>...</td>\n",
       "      <td>...</td>\n",
       "      <td>...</td>\n",
       "      <td>...</td>\n",
       "      <td>...</td>\n",
       "      <td>...</td>\n",
       "      <td>...</td>\n",
       "      <td>...</td>\n",
       "      <td>...</td>\n",
       "    </tr>\n",
       "    <tr>\n",
       "      <th>1460</th>\n",
       "      <td>46859</td>\n",
       "      <td>0</td>\n",
       "      <td>14</td>\n",
       "      <td>25288872</td>\n",
       "      <td>Enough Said</td>\n",
       "      <td>6.6</td>\n",
       "      <td>348</td>\n",
       "      <td>2013</td>\n",
       "      <td>Sep</td>\n",
       "      <td>Wednesday</td>\n",
       "      <td>Nicole Holofcener</td>\n",
       "    </tr>\n",
       "    <tr>\n",
       "      <th>1461</th>\n",
       "      <td>47023</td>\n",
       "      <td>6500000</td>\n",
       "      <td>11</td>\n",
       "      <td>13368437</td>\n",
       "      <td>Friends with Money</td>\n",
       "      <td>5.1</td>\n",
       "      <td>128</td>\n",
       "      <td>2006</td>\n",
       "      <td>Sep</td>\n",
       "      <td>Thursday</td>\n",
       "      <td>Nicole Holofcener</td>\n",
       "    </tr>\n",
       "    <tr>\n",
       "      <th>1462</th>\n",
       "      <td>47524</td>\n",
       "      <td>3000000</td>\n",
       "      <td>5</td>\n",
       "      <td>0</td>\n",
       "      <td>Please Give</td>\n",
       "      <td>6.0</td>\n",
       "      <td>57</td>\n",
       "      <td>2010</td>\n",
       "      <td>Jan</td>\n",
       "      <td>Friday</td>\n",
       "      <td>Nicole Holofcener</td>\n",
       "    </tr>\n",
       "    <tr>\n",
       "      <th>1463</th>\n",
       "      <td>47962</td>\n",
       "      <td>0</td>\n",
       "      <td>0</td>\n",
       "      <td>0</td>\n",
       "      <td>Walking and Talking</td>\n",
       "      <td>6.6</td>\n",
       "      <td>7</td>\n",
       "      <td>1996</td>\n",
       "      <td>Jul</td>\n",
       "      <td>Wednesday</td>\n",
       "      <td>Nicole Holofcener</td>\n",
       "    </tr>\n",
       "    <tr>\n",
       "      <th>1464</th>\n",
       "      <td>48229</td>\n",
       "      <td>250000</td>\n",
       "      <td>1</td>\n",
       "      <td>4186931</td>\n",
       "      <td>Lovely &amp; Amazing</td>\n",
       "      <td>6.3</td>\n",
       "      <td>23</td>\n",
       "      <td>2001</td>\n",
       "      <td>Aug</td>\n",
       "      <td>Friday</td>\n",
       "      <td>Nicole Holofcener</td>\n",
       "    </tr>\n",
       "  </tbody>\n",
       "</table>\n",
       "<p>1465 rows × 11 columns</p>\n",
       "</div>"
      ],
      "text/plain": [
       "       id_x     budget  popularity     revenue  ...  year  month        day      director_name\n",
       "0     43597  237000000         150  2787965087  ...  2009    Dec   Thursday      James Cameron\n",
       "1     43622  200000000         100  1845034188  ...  1997    Nov    Tuesday      James Cameron\n",
       "2     43876  100000000         101   520000000  ...  1991    Jul     Monday      James Cameron\n",
       "3     43879  115000000          38   378882411  ...  1994    Jul   Thursday      James Cameron\n",
       "4     44184   70000000          24    90000098  ...  1989    Aug  Wednesday      James Cameron\n",
       "...     ...        ...         ...         ...  ...   ...    ...        ...                ...\n",
       "1460  46859          0          14    25288872  ...  2013    Sep  Wednesday  Nicole Holofcener\n",
       "1461  47023    6500000          11    13368437  ...  2006    Sep   Thursday  Nicole Holofcener\n",
       "1462  47524    3000000           5           0  ...  2010    Jan     Friday  Nicole Holofcener\n",
       "1463  47962          0           0           0  ...  1996    Jul  Wednesday  Nicole Holofcener\n",
       "1464  48229     250000           1     4186931  ...  2001    Aug     Friday  Nicole Holofcener\n",
       "\n",
       "[1465 rows x 11 columns]"
      ]
     },
     "execution_count": 819,
     "metadata": {},
     "output_type": "execute_result"
    }
   ],
   "source": [
    "df"
   ]
  },
  {
   "cell_type": "code",
   "execution_count": 820,
   "id": "d4a52c34",
   "metadata": {},
   "outputs": [
    {
     "data": {
      "text/plain": [
       "199"
      ]
     },
     "execution_count": 820,
     "metadata": {},
     "output_type": "execute_result"
    }
   ],
   "source": [
    "df[\"director_name\"].nunique()"
   ]
  },
  {
   "cell_type": "code",
   "execution_count": null,
   "id": "ed69671e",
   "metadata": {},
   "outputs": [],
   "source": []
  },
  {
   "cell_type": "code",
   "execution_count": 821,
   "id": "9f0f2b60",
   "metadata": {},
   "outputs": [
    {
     "data": {
      "text/plain": [
       "True"
      ]
     },
     "execution_count": 821,
     "metadata": {},
     "output_type": "execute_result"
    }
   ],
   "source": [
    "np.all(movies[\"director_id\"].isin(directors[\"id\"]))"
   ]
  },
  {
   "cell_type": "code",
   "execution_count": 822,
   "id": "e03f8f16",
   "metadata": {},
   "outputs": [
    {
     "name": "stdout",
     "output_type": "stream",
     "text": [
      "<class 'pandas.core.frame.DataFrame'>\n",
      "Int64Index: 1465 entries, 0 to 1464\n",
      "Data columns (total 11 columns):\n",
      " #   Column         Non-Null Count  Dtype  \n",
      "---  ------         --------------  -----  \n",
      " 0   id_x           1465 non-null   int64  \n",
      " 1   budget         1465 non-null   int64  \n",
      " 2   popularity     1465 non-null   int64  \n",
      " 3   revenue        1465 non-null   int64  \n",
      " 4   title          1465 non-null   object \n",
      " 5   vote_average   1465 non-null   float64\n",
      " 6   vote_count     1465 non-null   int64  \n",
      " 7   year           1465 non-null   int64  \n",
      " 8   month          1465 non-null   object \n",
      " 9   day            1465 non-null   object \n",
      " 10  director_name  1465 non-null   object \n",
      "dtypes: float64(1), int64(6), object(4)\n",
      "memory usage: 137.3+ KB\n"
     ]
    }
   ],
   "source": [
    "df.info()"
   ]
  },
  {
   "cell_type": "code",
   "execution_count": 823,
   "id": "382e846a",
   "metadata": {},
   "outputs": [],
   "source": [
    "df[\"budget\"] = df[\"budget\"]/1000000"
   ]
  },
  {
   "cell_type": "code",
   "execution_count": 824,
   "id": "83a8c430",
   "metadata": {},
   "outputs": [],
   "source": [
    "df[\"revenue\"] = df[\"revenue\"]/1000000"
   ]
  },
  {
   "cell_type": "code",
   "execution_count": 825,
   "id": "ca061c52",
   "metadata": {},
   "outputs": [
    {
     "data": {
      "text/html": [
       "<div>\n",
       "<style scoped>\n",
       "    .dataframe tbody tr th:only-of-type {\n",
       "        vertical-align: middle;\n",
       "    }\n",
       "\n",
       "    .dataframe tbody tr th {\n",
       "        vertical-align: top;\n",
       "    }\n",
       "\n",
       "    .dataframe thead th {\n",
       "        text-align: right;\n",
       "    }\n",
       "</style>\n",
       "<table border=\"1\" class=\"dataframe\">\n",
       "  <thead>\n",
       "    <tr style=\"text-align: right;\">\n",
       "      <th></th>\n",
       "      <th>id_x</th>\n",
       "      <th>budget</th>\n",
       "      <th>popularity</th>\n",
       "      <th>revenue</th>\n",
       "      <th>title</th>\n",
       "      <th>vote_average</th>\n",
       "      <th>vote_count</th>\n",
       "      <th>year</th>\n",
       "      <th>month</th>\n",
       "      <th>day</th>\n",
       "      <th>director_name</th>\n",
       "    </tr>\n",
       "  </thead>\n",
       "  <tbody>\n",
       "    <tr>\n",
       "      <th>0</th>\n",
       "      <td>43597</td>\n",
       "      <td>237.00</td>\n",
       "      <td>150</td>\n",
       "      <td>2787.965087</td>\n",
       "      <td>Avatar</td>\n",
       "      <td>7.2</td>\n",
       "      <td>11800</td>\n",
       "      <td>2009</td>\n",
       "      <td>Dec</td>\n",
       "      <td>Thursday</td>\n",
       "      <td>James Cameron</td>\n",
       "    </tr>\n",
       "    <tr>\n",
       "      <th>1</th>\n",
       "      <td>43622</td>\n",
       "      <td>200.00</td>\n",
       "      <td>100</td>\n",
       "      <td>1845.034188</td>\n",
       "      <td>Titanic</td>\n",
       "      <td>7.5</td>\n",
       "      <td>7562</td>\n",
       "      <td>1997</td>\n",
       "      <td>Nov</td>\n",
       "      <td>Tuesday</td>\n",
       "      <td>James Cameron</td>\n",
       "    </tr>\n",
       "    <tr>\n",
       "      <th>2</th>\n",
       "      <td>43876</td>\n",
       "      <td>100.00</td>\n",
       "      <td>101</td>\n",
       "      <td>520.000000</td>\n",
       "      <td>Terminator 2: Judgment Day</td>\n",
       "      <td>7.7</td>\n",
       "      <td>4185</td>\n",
       "      <td>1991</td>\n",
       "      <td>Jul</td>\n",
       "      <td>Monday</td>\n",
       "      <td>James Cameron</td>\n",
       "    </tr>\n",
       "    <tr>\n",
       "      <th>3</th>\n",
       "      <td>43879</td>\n",
       "      <td>115.00</td>\n",
       "      <td>38</td>\n",
       "      <td>378.882411</td>\n",
       "      <td>True Lies</td>\n",
       "      <td>6.8</td>\n",
       "      <td>1116</td>\n",
       "      <td>1994</td>\n",
       "      <td>Jul</td>\n",
       "      <td>Thursday</td>\n",
       "      <td>James Cameron</td>\n",
       "    </tr>\n",
       "    <tr>\n",
       "      <th>4</th>\n",
       "      <td>44184</td>\n",
       "      <td>70.00</td>\n",
       "      <td>24</td>\n",
       "      <td>90.000098</td>\n",
       "      <td>The Abyss</td>\n",
       "      <td>7.1</td>\n",
       "      <td>808</td>\n",
       "      <td>1989</td>\n",
       "      <td>Aug</td>\n",
       "      <td>Wednesday</td>\n",
       "      <td>James Cameron</td>\n",
       "    </tr>\n",
       "    <tr>\n",
       "      <th>...</th>\n",
       "      <td>...</td>\n",
       "      <td>...</td>\n",
       "      <td>...</td>\n",
       "      <td>...</td>\n",
       "      <td>...</td>\n",
       "      <td>...</td>\n",
       "      <td>...</td>\n",
       "      <td>...</td>\n",
       "      <td>...</td>\n",
       "      <td>...</td>\n",
       "      <td>...</td>\n",
       "    </tr>\n",
       "    <tr>\n",
       "      <th>1460</th>\n",
       "      <td>46859</td>\n",
       "      <td>0.00</td>\n",
       "      <td>14</td>\n",
       "      <td>25.288872</td>\n",
       "      <td>Enough Said</td>\n",
       "      <td>6.6</td>\n",
       "      <td>348</td>\n",
       "      <td>2013</td>\n",
       "      <td>Sep</td>\n",
       "      <td>Wednesday</td>\n",
       "      <td>Nicole Holofcener</td>\n",
       "    </tr>\n",
       "    <tr>\n",
       "      <th>1461</th>\n",
       "      <td>47023</td>\n",
       "      <td>6.50</td>\n",
       "      <td>11</td>\n",
       "      <td>13.368437</td>\n",
       "      <td>Friends with Money</td>\n",
       "      <td>5.1</td>\n",
       "      <td>128</td>\n",
       "      <td>2006</td>\n",
       "      <td>Sep</td>\n",
       "      <td>Thursday</td>\n",
       "      <td>Nicole Holofcener</td>\n",
       "    </tr>\n",
       "    <tr>\n",
       "      <th>1462</th>\n",
       "      <td>47524</td>\n",
       "      <td>3.00</td>\n",
       "      <td>5</td>\n",
       "      <td>0.000000</td>\n",
       "      <td>Please Give</td>\n",
       "      <td>6.0</td>\n",
       "      <td>57</td>\n",
       "      <td>2010</td>\n",
       "      <td>Jan</td>\n",
       "      <td>Friday</td>\n",
       "      <td>Nicole Holofcener</td>\n",
       "    </tr>\n",
       "    <tr>\n",
       "      <th>1463</th>\n",
       "      <td>47962</td>\n",
       "      <td>0.00</td>\n",
       "      <td>0</td>\n",
       "      <td>0.000000</td>\n",
       "      <td>Walking and Talking</td>\n",
       "      <td>6.6</td>\n",
       "      <td>7</td>\n",
       "      <td>1996</td>\n",
       "      <td>Jul</td>\n",
       "      <td>Wednesday</td>\n",
       "      <td>Nicole Holofcener</td>\n",
       "    </tr>\n",
       "    <tr>\n",
       "      <th>1464</th>\n",
       "      <td>48229</td>\n",
       "      <td>0.25</td>\n",
       "      <td>1</td>\n",
       "      <td>4.186931</td>\n",
       "      <td>Lovely &amp; Amazing</td>\n",
       "      <td>6.3</td>\n",
       "      <td>23</td>\n",
       "      <td>2001</td>\n",
       "      <td>Aug</td>\n",
       "      <td>Friday</td>\n",
       "      <td>Nicole Holofcener</td>\n",
       "    </tr>\n",
       "  </tbody>\n",
       "</table>\n",
       "<p>1465 rows × 11 columns</p>\n",
       "</div>"
      ],
      "text/plain": [
       "       id_x  budget  popularity      revenue  ...  year  month        day      director_name\n",
       "0     43597  237.00         150  2787.965087  ...  2009    Dec   Thursday      James Cameron\n",
       "1     43622  200.00         100  1845.034188  ...  1997    Nov    Tuesday      James Cameron\n",
       "2     43876  100.00         101   520.000000  ...  1991    Jul     Monday      James Cameron\n",
       "3     43879  115.00          38   378.882411  ...  1994    Jul   Thursday      James Cameron\n",
       "4     44184   70.00          24    90.000098  ...  1989    Aug  Wednesday      James Cameron\n",
       "...     ...     ...         ...          ...  ...   ...    ...        ...                ...\n",
       "1460  46859    0.00          14    25.288872  ...  2013    Sep  Wednesday  Nicole Holofcener\n",
       "1461  47023    6.50          11    13.368437  ...  2006    Sep   Thursday  Nicole Holofcener\n",
       "1462  47524    3.00           5     0.000000  ...  2010    Jan     Friday  Nicole Holofcener\n",
       "1463  47962    0.00           0     0.000000  ...  1996    Jul  Wednesday  Nicole Holofcener\n",
       "1464  48229    0.25           1     4.186931  ...  2001    Aug     Friday  Nicole Holofcener\n",
       "\n",
       "[1465 rows x 11 columns]"
      ]
     },
     "execution_count": 825,
     "metadata": {},
     "output_type": "execute_result"
    }
   ],
   "source": [
    "df"
   ]
  },
  {
   "cell_type": "code",
   "execution_count": null,
   "id": "c02ea891",
   "metadata": {},
   "outputs": [],
   "source": []
  },
  {
   "cell_type": "code",
   "execution_count": 826,
   "id": "2eb4baaa",
   "metadata": {},
   "outputs": [
    {
     "name": "stderr",
     "output_type": "stream",
     "text": [
      "C:\\Users\\sunny\\AppData\\Local\\Temp/ipykernel_32924/1080928540.py:1: FutureWarning: Indexing with multiple keys (implicitly converted to a tuple of keys) will be deprecated, use a list instead.\n",
      "  df.groupby(\"year\")[\"vote_average\",\"id_x\"].aggregate({\"vote_average\":max,\n"
     ]
    },
    {
     "data": {
      "text/html": [
       "<div>\n",
       "<style scoped>\n",
       "    .dataframe tbody tr th:only-of-type {\n",
       "        vertical-align: middle;\n",
       "    }\n",
       "\n",
       "    .dataframe tbody tr th {\n",
       "        vertical-align: top;\n",
       "    }\n",
       "\n",
       "    .dataframe thead th {\n",
       "        text-align: right;\n",
       "    }\n",
       "</style>\n",
       "<table border=\"1\" class=\"dataframe\">\n",
       "  <thead>\n",
       "    <tr style=\"text-align: right;\">\n",
       "      <th></th>\n",
       "      <th>vote_average</th>\n",
       "      <th>id_x</th>\n",
       "    </tr>\n",
       "    <tr>\n",
       "      <th>year</th>\n",
       "      <th></th>\n",
       "      <th></th>\n",
       "    </tr>\n",
       "  </thead>\n",
       "  <tbody>\n",
       "    <tr>\n",
       "      <th>1976</th>\n",
       "      <td>8.0</td>\n",
       "      <td>[47934, 45435, 47409]</td>\n",
       "    </tr>\n",
       "    <tr>\n",
       "      <th>1977</th>\n",
       "      <td>7.8</td>\n",
       "      <td>[45684, 46290, 47265, 48095, 48321, 47336]</td>\n",
       "    </tr>\n",
       "    <tr>\n",
       "      <th>1978</th>\n",
       "      <td>7.9</td>\n",
       "      <td>[48363, 44410, 47480, 46006, 45574]</td>\n",
       "    </tr>\n",
       "    <tr>\n",
       "      <th>1979</th>\n",
       "      <td>8.0</td>\n",
       "      <td>[46755, 45107, 48267, 45122]</td>\n",
       "    </tr>\n",
       "    <tr>\n",
       "      <th>1980</th>\n",
       "      <td>7.9</td>\n",
       "      <td>[45941, 46121, 47020, 47046, 47048, 45350, 459...</td>\n",
       "    </tr>\n",
       "    <tr>\n",
       "      <th>1981</th>\n",
       "      <td>7.9</td>\n",
       "      <td>[48192, 45682, 46457, 47674, 45956, 46575, 464...</td>\n",
       "    </tr>\n",
       "    <tr>\n",
       "      <th>1982</th>\n",
       "      <td>7.9</td>\n",
       "      <td>[45322, 46564, 46110, 44014, 47199, 45663, 449...</td>\n",
       "    </tr>\n",
       "    <tr>\n",
       "      <th>1983</th>\n",
       "      <td>8.0</td>\n",
       "      <td>[46603, 45447, 46124, 46609, 46980, 46771, 466...</td>\n",
       "    </tr>\n",
       "    <tr>\n",
       "      <th>1984</th>\n",
       "      <td>7.3</td>\n",
       "      <td>[47036, 45294, 45358, 46834, 45893, 46647, 465...</td>\n",
       "    </tr>\n",
       "    <tr>\n",
       "      <th>1985</th>\n",
       "      <td>8.0</td>\n",
       "      <td>[46117, 45882, 46592, 45772, 47711, 45126, 459...</td>\n",
       "    </tr>\n",
       "    <tr>\n",
       "      <th>1986</th>\n",
       "      <td>7.8</td>\n",
       "      <td>[46000, 46582, 47042, 47301, 46111, 45206, 447...</td>\n",
       "    </tr>\n",
       "    <tr>\n",
       "      <th>1987</th>\n",
       "      <td>7.6</td>\n",
       "      <td>[47438, 46045, 45924, 46807, 45686, 47158, 454...</td>\n",
       "    </tr>\n",
       "    <tr>\n",
       "      <th>1988</th>\n",
       "      <td>7.6</td>\n",
       "      <td>[46127, 46964, 47366, 45094, 45299, 46330, 473...</td>\n",
       "    </tr>\n",
       "    <tr>\n",
       "      <th>1989</th>\n",
       "      <td>7.6</td>\n",
       "      <td>[44184, 45189, 44956, 44603, 44749, 46268, 467...</td>\n",
       "    </tr>\n",
       "    <tr>\n",
       "      <th>1990</th>\n",
       "      <td>8.2</td>\n",
       "      <td>[45705, 44762, 45444, 46108, 43804, 45143, 453...</td>\n",
       "    </tr>\n",
       "    <tr>\n",
       "      <th>1991</th>\n",
       "      <td>8.1</td>\n",
       "      <td>[43876, 45146, 44169, 44966, 44498, 44778, 448...</td>\n",
       "    </tr>\n",
       "    <tr>\n",
       "      <th>1992</th>\n",
       "      <td>8.0</td>\n",
       "      <td>[46541, 44025, 44429, 44435, 44958, 45052, 446...</td>\n",
       "    </tr>\n",
       "    <tr>\n",
       "      <th>1993</th>\n",
       "      <td>8.3</td>\n",
       "      <td>[44272, 45415, 45064, 46269, 46847, 45408, 440...</td>\n",
       "    </tr>\n",
       "    <tr>\n",
       "      <th>1994</th>\n",
       "      <td>8.3</td>\n",
       "      <td>[43879, 47228, 45965, 47293, 44406, 46413, 458...</td>\n",
       "    </tr>\n",
       "    <tr>\n",
       "      <th>1995</th>\n",
       "      <td>8.1</td>\n",
       "      <td>[45111, 47051, 45134, 45588, 44292, 44489, 436...</td>\n",
       "    </tr>\n",
       "    <tr>\n",
       "      <th>1996</th>\n",
       "      <td>7.8</td>\n",
       "      <td>[44914, 44070, 44110, 44104, 47297, 44075, 444...</td>\n",
       "    </tr>\n",
       "    <tr>\n",
       "      <th>1997</th>\n",
       "      <td>7.9</td>\n",
       "      <td>[43622, 43939, 44542, 45451, 44991, 44105, 448...</td>\n",
       "    </tr>\n",
       "    <tr>\n",
       "      <th>1998</th>\n",
       "      <td>7.9</td>\n",
       "      <td>[46021, 46645, 43746, 44237, 44225, 44502, 440...</td>\n",
       "    </tr>\n",
       "    <tr>\n",
       "      <th>1999</th>\n",
       "      <td>8.3</td>\n",
       "      <td>[46113, 44561, 43667, 46407, 45086, 44231, 451...</td>\n",
       "    </tr>\n",
       "    <tr>\n",
       "      <th>2000</th>\n",
       "      <td>8.1</td>\n",
       "      <td>[47170, 44108, 43871, 44307, 44120, 43947, 438...</td>\n",
       "    </tr>\n",
       "    <tr>\n",
       "      <th>2001</th>\n",
       "      <td>8.0</td>\n",
       "      <td>[44780, 47338, 48145, 44496, 43859, 43917, 451...</td>\n",
       "    </tr>\n",
       "    <tr>\n",
       "      <th>2002</th>\n",
       "      <td>8.0</td>\n",
       "      <td>[44041, 44630, 43756, 45135, 43747, 44694, 439...</td>\n",
       "    </tr>\n",
       "    <tr>\n",
       "      <th>2003</th>\n",
       "      <td>8.1</td>\n",
       "      <td>[43796, 43800, 43926, 43999, 44180, 43783, 443...</td>\n",
       "    </tr>\n",
       "    <tr>\n",
       "      <th>2004</th>\n",
       "      <td>7.7</td>\n",
       "      <td>[43627, 45304, 45439, 44162, 44401, 47888, 443...</td>\n",
       "    </tr>\n",
       "    <tr>\n",
       "      <th>2005</th>\n",
       "      <td>7.7</td>\n",
       "      <td>[45801, 44154, 43716, 43660, 44001, 43621, 438...</td>\n",
       "    </tr>\n",
       "    <tr>\n",
       "      <th>2006</th>\n",
       "      <td>8.0</td>\n",
       "      <td>[43609, 44793, 44284, 43607, 45200, 45051, 436...</td>\n",
       "    </tr>\n",
       "    <tr>\n",
       "      <th>2007</th>\n",
       "      <td>7.9</td>\n",
       "      <td>[43598, 43602, 45783, 43878, 43620, 44150, 436...</td>\n",
       "    </tr>\n",
       "    <tr>\n",
       "      <th>2008</th>\n",
       "      <td>8.2</td>\n",
       "      <td>[44678, 43662, 43957, 43608, 43612, 44219, 437...</td>\n",
       "    </tr>\n",
       "    <tr>\n",
       "      <th>2009</th>\n",
       "      <td>7.9</td>\n",
       "      <td>[43597, 45674, 45195, 43760, 44079, 43924, 444...</td>\n",
       "    </tr>\n",
       "    <tr>\n",
       "      <th>2010</th>\n",
       "      <td>8.1</td>\n",
       "      <td>[43693, 43899, 43618, 43629, 44355, 47821, 436...</td>\n",
       "    </tr>\n",
       "    <tr>\n",
       "      <th>2011</th>\n",
       "      <td>7.7</td>\n",
       "      <td>[43775, 44144, 45272, 43614, 46681, 43991, 436...</td>\n",
       "    </tr>\n",
       "    <tr>\n",
       "      <th>2012</th>\n",
       "      <td>7.8</td>\n",
       "      <td>[43626, 43600, 45539, 43615, 43695, 43817, 436...</td>\n",
       "    </tr>\n",
       "    <tr>\n",
       "      <th>2013</th>\n",
       "      <td>7.9</td>\n",
       "      <td>[43610, 43634, 43611, 43645, 43642, 43619, 455...</td>\n",
       "    </tr>\n",
       "    <tr>\n",
       "      <th>2014</th>\n",
       "      <td>8.1</td>\n",
       "      <td>[43692, 43643, 44514, 43616, 43754, 46644, 439...</td>\n",
       "    </tr>\n",
       "    <tr>\n",
       "      <th>2015</th>\n",
       "      <td>7.7</td>\n",
       "      <td>[43599, 43867, 43641, 44784, 47719, 45049, 436...</td>\n",
       "    </tr>\n",
       "    <tr>\n",
       "      <th>2016</th>\n",
       "      <td>7.1</td>\n",
       "      <td>[43606, 43661, 44538, 44757, 43772, 43653, 436...</td>\n",
       "    </tr>\n",
       "  </tbody>\n",
       "</table>\n",
       "</div>"
      ],
      "text/plain": [
       "      vote_average                                               id_x\n",
       "year                                                                 \n",
       "1976           8.0                              [47934, 45435, 47409]\n",
       "1977           7.8         [45684, 46290, 47265, 48095, 48321, 47336]\n",
       "1978           7.9                [48363, 44410, 47480, 46006, 45574]\n",
       "1979           8.0                       [46755, 45107, 48267, 45122]\n",
       "1980           7.9  [45941, 46121, 47020, 47046, 47048, 45350, 459...\n",
       "1981           7.9  [48192, 45682, 46457, 47674, 45956, 46575, 464...\n",
       "1982           7.9  [45322, 46564, 46110, 44014, 47199, 45663, 449...\n",
       "1983           8.0  [46603, 45447, 46124, 46609, 46980, 46771, 466...\n",
       "1984           7.3  [47036, 45294, 45358, 46834, 45893, 46647, 465...\n",
       "1985           8.0  [46117, 45882, 46592, 45772, 47711, 45126, 459...\n",
       "1986           7.8  [46000, 46582, 47042, 47301, 46111, 45206, 447...\n",
       "1987           7.6  [47438, 46045, 45924, 46807, 45686, 47158, 454...\n",
       "1988           7.6  [46127, 46964, 47366, 45094, 45299, 46330, 473...\n",
       "1989           7.6  [44184, 45189, 44956, 44603, 44749, 46268, 467...\n",
       "1990           8.2  [45705, 44762, 45444, 46108, 43804, 45143, 453...\n",
       "1991           8.1  [43876, 45146, 44169, 44966, 44498, 44778, 448...\n",
       "1992           8.0  [46541, 44025, 44429, 44435, 44958, 45052, 446...\n",
       "1993           8.3  [44272, 45415, 45064, 46269, 46847, 45408, 440...\n",
       "1994           8.3  [43879, 47228, 45965, 47293, 44406, 46413, 458...\n",
       "1995           8.1  [45111, 47051, 45134, 45588, 44292, 44489, 436...\n",
       "1996           7.8  [44914, 44070, 44110, 44104, 47297, 44075, 444...\n",
       "1997           7.9  [43622, 43939, 44542, 45451, 44991, 44105, 448...\n",
       "1998           7.9  [46021, 46645, 43746, 44237, 44225, 44502, 440...\n",
       "1999           8.3  [46113, 44561, 43667, 46407, 45086, 44231, 451...\n",
       "2000           8.1  [47170, 44108, 43871, 44307, 44120, 43947, 438...\n",
       "2001           8.0  [44780, 47338, 48145, 44496, 43859, 43917, 451...\n",
       "2002           8.0  [44041, 44630, 43756, 45135, 43747, 44694, 439...\n",
       "2003           8.1  [43796, 43800, 43926, 43999, 44180, 43783, 443...\n",
       "2004           7.7  [43627, 45304, 45439, 44162, 44401, 47888, 443...\n",
       "2005           7.7  [45801, 44154, 43716, 43660, 44001, 43621, 438...\n",
       "2006           8.0  [43609, 44793, 44284, 43607, 45200, 45051, 436...\n",
       "2007           7.9  [43598, 43602, 45783, 43878, 43620, 44150, 436...\n",
       "2008           8.2  [44678, 43662, 43957, 43608, 43612, 44219, 437...\n",
       "2009           7.9  [43597, 45674, 45195, 43760, 44079, 43924, 444...\n",
       "2010           8.1  [43693, 43899, 43618, 43629, 44355, 47821, 436...\n",
       "2011           7.7  [43775, 44144, 45272, 43614, 46681, 43991, 436...\n",
       "2012           7.8  [43626, 43600, 45539, 43615, 43695, 43817, 436...\n",
       "2013           7.9  [43610, 43634, 43611, 43645, 43642, 43619, 455...\n",
       "2014           8.1  [43692, 43643, 44514, 43616, 43754, 46644, 439...\n",
       "2015           7.7  [43599, 43867, 43641, 44784, 47719, 45049, 436...\n",
       "2016           7.1  [43606, 43661, 44538, 44757, 43772, 43653, 436..."
      ]
     },
     "execution_count": 826,
     "metadata": {},
     "output_type": "execute_result"
    }
   ],
   "source": [
    "df.groupby(\"year\")[\"vote_average\",\"id_x\"].aggregate({\"vote_average\":max,\n",
    "                                                    \"id_x\":\"unique\"})"
   ]
  },
  {
   "cell_type": "code",
   "execution_count": 827,
   "id": "8fc628ed",
   "metadata": {},
   "outputs": [],
   "source": [
    "import numpy as np"
   ]
  },
  {
   "cell_type": "code",
   "execution_count": 828,
   "id": "f871c4fb",
   "metadata": {},
   "outputs": [],
   "source": [
    "# df.groupby(\"director_name\")[\"budget\",\"id_x\"].aggregate({\"budget\":max,\n",
    "#                                                        \"id_x\":pd.unique})"
   ]
  },
  {
   "cell_type": "code",
   "execution_count": 829,
   "id": "e38651b0",
   "metadata": {},
   "outputs": [
    {
     "ename": "TypeError",
     "evalue": "filter function returned a float, but expected a scalar bool",
     "output_type": "error",
     "traceback": [
      "\u001b[1;31m---------------------------------------------------------------------------\u001b[0m",
      "\u001b[1;31mTypeError\u001b[0m                                 Traceback (most recent call last)",
      "\u001b[1;32m~\\AppData\\Local\\Temp/ipykernel_32924/459629291.py\u001b[0m in \u001b[0;36m<module>\u001b[1;34m\u001b[0m\n\u001b[1;32m----> 1\u001b[1;33m \u001b[0mdf\u001b[0m\u001b[1;33m.\u001b[0m\u001b[0mgroupby\u001b[0m\u001b[1;33m(\u001b[0m\u001b[1;34m\"director_name\"\u001b[0m\u001b[1;33m)\u001b[0m\u001b[1;33m.\u001b[0m\u001b[0mfilter\u001b[0m\u001b[1;33m(\u001b[0m\u001b[1;32mlambda\u001b[0m \u001b[0mx\u001b[0m\u001b[1;33m:\u001b[0m\u001b[0mx\u001b[0m\u001b[1;33m[\u001b[0m\u001b[1;34m\"budget\"\u001b[0m\u001b[1;33m]\u001b[0m\u001b[1;33m.\u001b[0m\u001b[0mmax\u001b[0m\u001b[1;33m(\u001b[0m\u001b[1;33m)\u001b[0m \u001b[1;33m)\u001b[0m\u001b[1;33m\u001b[0m\u001b[1;33m\u001b[0m\u001b[0m\n\u001b[0m",
      "\u001b[1;32m~\\anaconda3\\lib\\site-packages\\pandas\\core\\groupby\\generic.py\u001b[0m in \u001b[0;36mfilter\u001b[1;34m(self, func, dropna, *args, **kwargs)\u001b[0m\n\u001b[0;32m   1515\u001b[0m             \u001b[1;32melse\u001b[0m\u001b[1;33m:\u001b[0m\u001b[1;33m\u001b[0m\u001b[1;33m\u001b[0m\u001b[0m\n\u001b[0;32m   1516\u001b[0m                 \u001b[1;31m# non scalars aren't allowed\u001b[0m\u001b[1;33m\u001b[0m\u001b[1;33m\u001b[0m\u001b[0m\n\u001b[1;32m-> 1517\u001b[1;33m                 raise TypeError(\n\u001b[0m\u001b[0;32m   1518\u001b[0m                     \u001b[1;34mf\"filter function returned a {type(res).__name__}, \"\u001b[0m\u001b[1;33m\u001b[0m\u001b[1;33m\u001b[0m\u001b[0m\n\u001b[0;32m   1519\u001b[0m                     \u001b[1;34m\"but expected a scalar bool\"\u001b[0m\u001b[1;33m\u001b[0m\u001b[1;33m\u001b[0m\u001b[0m\n",
      "\u001b[1;31mTypeError\u001b[0m: filter function returned a float, but expected a scalar bool"
     ]
    }
   ],
   "source": [
    " df.groupby(\"director_name\").filter(lambda x:x[\"budget\"].max() )"
   ]
  },
  {
   "cell_type": "code",
   "execution_count": 830,
   "id": "a1ba3406",
   "metadata": {},
   "outputs": [
    {
     "name": "stderr",
     "output_type": "stream",
     "text": [
      "C:\\Users\\sunny\\AppData\\Local\\Temp/ipykernel_32924/3110947703.py:1: FutureWarning: Indexing with multiple keys (implicitly converted to a tuple of keys) will be deprecated, use a list instead.\n",
      "  df.groupby(\"director_name\")[\"budget\",\"id_x\"].aggregate({\"budget\":max,\"id_x\":\"unique\"})\n"
     ]
    },
    {
     "data": {
      "text/html": [
       "<div>\n",
       "<style scoped>\n",
       "    .dataframe tbody tr th:only-of-type {\n",
       "        vertical-align: middle;\n",
       "    }\n",
       "\n",
       "    .dataframe tbody tr th {\n",
       "        vertical-align: top;\n",
       "    }\n",
       "\n",
       "    .dataframe thead th {\n",
       "        text-align: right;\n",
       "    }\n",
       "</style>\n",
       "<table border=\"1\" class=\"dataframe\">\n",
       "  <thead>\n",
       "    <tr style=\"text-align: right;\">\n",
       "      <th></th>\n",
       "      <th>budget</th>\n",
       "      <th>id_x</th>\n",
       "    </tr>\n",
       "    <tr>\n",
       "      <th>director_name</th>\n",
       "      <th></th>\n",
       "      <th></th>\n",
       "    </tr>\n",
       "  </thead>\n",
       "  <tbody>\n",
       "    <tr>\n",
       "      <th>Adam McKay</th>\n",
       "      <td>100.0</td>\n",
       "      <td>[43882, 44151, 44236, 44503, 45301, 45443]</td>\n",
       "    </tr>\n",
       "    <tr>\n",
       "      <th>Adam Shankman</th>\n",
       "      <td>80.0</td>\n",
       "      <td>[44040, 44113, 44195, 44304, 44404, 45305, 456...</td>\n",
       "    </tr>\n",
       "    <tr>\n",
       "      <th>Alejandro González Iñárritu</th>\n",
       "      <td>135.0</td>\n",
       "      <td>[43773, 45059, 45730, 45784, 45931, 47686]</td>\n",
       "    </tr>\n",
       "    <tr>\n",
       "      <th>Alex Proyas</th>\n",
       "      <td>140.0</td>\n",
       "      <td>[43758, 43863, 44519, 44886, 45359]</td>\n",
       "    </tr>\n",
       "    <tr>\n",
       "      <th>Alexander Payne</th>\n",
       "      <td>30.0</td>\n",
       "      <td>[45163, 45699, 46004, 46446, 46813]</td>\n",
       "    </tr>\n",
       "    <tr>\n",
       "      <th>...</th>\n",
       "      <td>...</td>\n",
       "      <td>...</td>\n",
       "    </tr>\n",
       "    <tr>\n",
       "      <th>Wes Craven</th>\n",
       "      <td>40.0</td>\n",
       "      <td>[44761, 44816, 44975, 45027, 45385, 45502, 455...</td>\n",
       "    </tr>\n",
       "    <tr>\n",
       "      <th>Wolfgang Petersen</th>\n",
       "      <td>175.0</td>\n",
       "      <td>[43701, 43742, 43811, 43984, 44526, 45358, 46457]</td>\n",
       "    </tr>\n",
       "    <tr>\n",
       "      <th>Woody Allen</th>\n",
       "      <td>30.0</td>\n",
       "      <td>[45176, 45402, 45662, 45798, 45810, 45814, 459...</td>\n",
       "    </tr>\n",
       "    <tr>\n",
       "      <th>Zack Snyder</th>\n",
       "      <td>250.0</td>\n",
       "      <td>[43606, 43611, 43760, 43899, 44144, 44284, 45304]</td>\n",
       "    </tr>\n",
       "    <tr>\n",
       "      <th>Zhang Yimou</th>\n",
       "      <td>94.0</td>\n",
       "      <td>[43914, 44692, 44733, 46460, 46493, 47489]</td>\n",
       "    </tr>\n",
       "  </tbody>\n",
       "</table>\n",
       "<p>199 rows × 2 columns</p>\n",
       "</div>"
      ],
      "text/plain": [
       "                             budget                                               id_x\n",
       "director_name                                                                         \n",
       "Adam McKay                    100.0         [43882, 44151, 44236, 44503, 45301, 45443]\n",
       "Adam Shankman                  80.0  [44040, 44113, 44195, 44304, 44404, 45305, 456...\n",
       "Alejandro González Iñárritu   135.0         [43773, 45059, 45730, 45784, 45931, 47686]\n",
       "Alex Proyas                   140.0                [43758, 43863, 44519, 44886, 45359]\n",
       "Alexander Payne                30.0                [45163, 45699, 46004, 46446, 46813]\n",
       "...                             ...                                                ...\n",
       "Wes Craven                     40.0  [44761, 44816, 44975, 45027, 45385, 45502, 455...\n",
       "Wolfgang Petersen             175.0  [43701, 43742, 43811, 43984, 44526, 45358, 46457]\n",
       "Woody Allen                    30.0  [45176, 45402, 45662, 45798, 45810, 45814, 459...\n",
       "Zack Snyder                   250.0  [43606, 43611, 43760, 43899, 44144, 44284, 45304]\n",
       "Zhang Yimou                    94.0         [43914, 44692, 44733, 46460, 46493, 47489]\n",
       "\n",
       "[199 rows x 2 columns]"
      ]
     },
     "execution_count": 830,
     "metadata": {},
     "output_type": "execute_result"
    }
   ],
   "source": [
    " df.groupby(\"director_name\")[\"budget\",\"id_x\"].aggregate({\"budget\":max,\"id_x\":\"unique\"})"
   ]
  },
  {
   "cell_type": "code",
   "execution_count": null,
   "id": "03c55495",
   "metadata": {},
   "outputs": [],
   "source": []
  },
  {
   "cell_type": "code",
   "execution_count": 831,
   "id": "873441af",
   "metadata": {
    "scrolled": true
   },
   "outputs": [
    {
     "name": "stderr",
     "output_type": "stream",
     "text": [
      "C:\\Users\\sunny\\AppData\\Local\\Temp/ipykernel_32924/668121400.py:1: FutureWarning: Indexing with multiple keys (implicitly converted to a tuple of keys) will be deprecated, use a list instead.\n",
      "  g =  df.groupby(\"director_name\")[\"year\",\"title\"].aggregate({\"year\":[\"min\",\"max\"],\n"
     ]
    },
    {
     "data": {
      "text/html": [
       "<div>\n",
       "<style scoped>\n",
       "    .dataframe tbody tr th:only-of-type {\n",
       "        vertical-align: middle;\n",
       "    }\n",
       "\n",
       "    .dataframe tbody tr th {\n",
       "        vertical-align: top;\n",
       "    }\n",
       "\n",
       "    .dataframe thead tr th {\n",
       "        text-align: left;\n",
       "    }\n",
       "</style>\n",
       "<table border=\"1\" class=\"dataframe\">\n",
       "  <thead>\n",
       "    <tr>\n",
       "      <th></th>\n",
       "      <th>director_name</th>\n",
       "      <th colspan=\"2\" halign=\"left\">year</th>\n",
       "      <th>title</th>\n",
       "    </tr>\n",
       "    <tr>\n",
       "      <th></th>\n",
       "      <th></th>\n",
       "      <th>min</th>\n",
       "      <th>max</th>\n",
       "      <th>count</th>\n",
       "    </tr>\n",
       "  </thead>\n",
       "  <tbody>\n",
       "    <tr>\n",
       "      <th>0</th>\n",
       "      <td>Adam McKay</td>\n",
       "      <td>2004</td>\n",
       "      <td>2015</td>\n",
       "      <td>6</td>\n",
       "    </tr>\n",
       "    <tr>\n",
       "      <th>1</th>\n",
       "      <td>Adam Shankman</td>\n",
       "      <td>2001</td>\n",
       "      <td>2012</td>\n",
       "      <td>8</td>\n",
       "    </tr>\n",
       "    <tr>\n",
       "      <th>2</th>\n",
       "      <td>Alejandro González Iñárritu</td>\n",
       "      <td>2000</td>\n",
       "      <td>2015</td>\n",
       "      <td>6</td>\n",
       "    </tr>\n",
       "    <tr>\n",
       "      <th>3</th>\n",
       "      <td>Alex Proyas</td>\n",
       "      <td>1994</td>\n",
       "      <td>2016</td>\n",
       "      <td>5</td>\n",
       "    </tr>\n",
       "    <tr>\n",
       "      <th>4</th>\n",
       "      <td>Alexander Payne</td>\n",
       "      <td>1999</td>\n",
       "      <td>2013</td>\n",
       "      <td>5</td>\n",
       "    </tr>\n",
       "    <tr>\n",
       "      <th>...</th>\n",
       "      <td>...</td>\n",
       "      <td>...</td>\n",
       "      <td>...</td>\n",
       "      <td>...</td>\n",
       "    </tr>\n",
       "    <tr>\n",
       "      <th>194</th>\n",
       "      <td>Wes Craven</td>\n",
       "      <td>1984</td>\n",
       "      <td>2011</td>\n",
       "      <td>10</td>\n",
       "    </tr>\n",
       "    <tr>\n",
       "      <th>195</th>\n",
       "      <td>Wolfgang Petersen</td>\n",
       "      <td>1981</td>\n",
       "      <td>2006</td>\n",
       "      <td>7</td>\n",
       "    </tr>\n",
       "    <tr>\n",
       "      <th>196</th>\n",
       "      <td>Woody Allen</td>\n",
       "      <td>1977</td>\n",
       "      <td>2013</td>\n",
       "      <td>18</td>\n",
       "    </tr>\n",
       "    <tr>\n",
       "      <th>197</th>\n",
       "      <td>Zack Snyder</td>\n",
       "      <td>2004</td>\n",
       "      <td>2016</td>\n",
       "      <td>7</td>\n",
       "    </tr>\n",
       "    <tr>\n",
       "      <th>198</th>\n",
       "      <td>Zhang Yimou</td>\n",
       "      <td>2002</td>\n",
       "      <td>2014</td>\n",
       "      <td>6</td>\n",
       "    </tr>\n",
       "  </tbody>\n",
       "</table>\n",
       "<p>199 rows × 4 columns</p>\n",
       "</div>"
      ],
      "text/plain": [
       "                   director_name  year       title\n",
       "                                   min   max count\n",
       "0                     Adam McKay  2004  2015     6\n",
       "1                  Adam Shankman  2001  2012     8\n",
       "2    Alejandro González Iñárritu  2000  2015     6\n",
       "3                    Alex Proyas  1994  2016     5\n",
       "4                Alexander Payne  1999  2013     5\n",
       "..                           ...   ...   ...   ...\n",
       "194                   Wes Craven  1984  2011    10\n",
       "195            Wolfgang Petersen  1981  2006     7\n",
       "196                  Woody Allen  1977  2013    18\n",
       "197                  Zack Snyder  2004  2016     7\n",
       "198                  Zhang Yimou  2002  2014     6\n",
       "\n",
       "[199 rows x 4 columns]"
      ]
     },
     "execution_count": 831,
     "metadata": {},
     "output_type": "execute_result"
    }
   ],
   "source": [
    "g =  df.groupby(\"director_name\")[\"year\",\"title\"].aggregate({\"year\":[\"min\",\"max\"],\n",
    "                                                       \"title\":\"count\"}).reset_index()\n",
    "g"
   ]
  },
  {
   "cell_type": "code",
   "execution_count": 832,
   "id": "35d6e2a9",
   "metadata": {},
   "outputs": [
    {
     "data": {
      "text/plain": [
       "0      2004\n",
       "1      2001\n",
       "2      2000\n",
       "3      1994\n",
       "4      1999\n",
       "       ... \n",
       "194    1984\n",
       "195    1981\n",
       "196    1977\n",
       "197    2004\n",
       "198    2002\n",
       "Name: min, Length: 199, dtype: int64"
      ]
     },
     "execution_count": 832,
     "metadata": {},
     "output_type": "execute_result"
    }
   ],
   "source": [
    "g[\"year\"][\"min\"]"
   ]
  },
  {
   "cell_type": "code",
   "execution_count": null,
   "id": "388cc592",
   "metadata": {},
   "outputs": [],
   "source": []
  },
  {
   "cell_type": "code",
   "execution_count": 833,
   "id": "96d38447",
   "metadata": {},
   "outputs": [
    {
     "data": {
      "text/html": [
       "<div>\n",
       "<style scoped>\n",
       "    .dataframe tbody tr th:only-of-type {\n",
       "        vertical-align: middle;\n",
       "    }\n",
       "\n",
       "    .dataframe tbody tr th {\n",
       "        vertical-align: top;\n",
       "    }\n",
       "\n",
       "    .dataframe thead th {\n",
       "        text-align: right;\n",
       "    }\n",
       "</style>\n",
       "<table border=\"1\" class=\"dataframe\">\n",
       "  <thead>\n",
       "    <tr style=\"text-align: right;\">\n",
       "      <th></th>\n",
       "      <th>id_x</th>\n",
       "      <th>budget</th>\n",
       "      <th>popularity</th>\n",
       "      <th>revenue</th>\n",
       "      <th>title</th>\n",
       "      <th>vote_average</th>\n",
       "      <th>vote_count</th>\n",
       "      <th>year</th>\n",
       "      <th>month</th>\n",
       "      <th>day</th>\n",
       "      <th>director_name</th>\n",
       "    </tr>\n",
       "  </thead>\n",
       "  <tbody>\n",
       "    <tr>\n",
       "      <th>0</th>\n",
       "      <td>43597</td>\n",
       "      <td>237.0</td>\n",
       "      <td>150</td>\n",
       "      <td>2787.965087</td>\n",
       "      <td>Avatar</td>\n",
       "      <td>7.2</td>\n",
       "      <td>11800</td>\n",
       "      <td>2009</td>\n",
       "      <td>Dec</td>\n",
       "      <td>Thursday</td>\n",
       "      <td>James Cameron</td>\n",
       "    </tr>\n",
       "    <tr>\n",
       "      <th>1</th>\n",
       "      <td>43622</td>\n",
       "      <td>200.0</td>\n",
       "      <td>100</td>\n",
       "      <td>1845.034188</td>\n",
       "      <td>Titanic</td>\n",
       "      <td>7.5</td>\n",
       "      <td>7562</td>\n",
       "      <td>1997</td>\n",
       "      <td>Nov</td>\n",
       "      <td>Tuesday</td>\n",
       "      <td>James Cameron</td>\n",
       "    </tr>\n",
       "    <tr>\n",
       "      <th>2</th>\n",
       "      <td>43876</td>\n",
       "      <td>100.0</td>\n",
       "      <td>101</td>\n",
       "      <td>520.000000</td>\n",
       "      <td>Terminator 2: Judgment Day</td>\n",
       "      <td>7.7</td>\n",
       "      <td>4185</td>\n",
       "      <td>1991</td>\n",
       "      <td>Jul</td>\n",
       "      <td>Monday</td>\n",
       "      <td>James Cameron</td>\n",
       "    </tr>\n",
       "    <tr>\n",
       "      <th>3</th>\n",
       "      <td>43879</td>\n",
       "      <td>115.0</td>\n",
       "      <td>38</td>\n",
       "      <td>378.882411</td>\n",
       "      <td>True Lies</td>\n",
       "      <td>6.8</td>\n",
       "      <td>1116</td>\n",
       "      <td>1994</td>\n",
       "      <td>Jul</td>\n",
       "      <td>Thursday</td>\n",
       "      <td>James Cameron</td>\n",
       "    </tr>\n",
       "    <tr>\n",
       "      <th>4</th>\n",
       "      <td>44184</td>\n",
       "      <td>70.0</td>\n",
       "      <td>24</td>\n",
       "      <td>90.000098</td>\n",
       "      <td>The Abyss</td>\n",
       "      <td>7.1</td>\n",
       "      <td>808</td>\n",
       "      <td>1989</td>\n",
       "      <td>Aug</td>\n",
       "      <td>Wednesday</td>\n",
       "      <td>James Cameron</td>\n",
       "    </tr>\n",
       "    <tr>\n",
       "      <th>...</th>\n",
       "      <td>...</td>\n",
       "      <td>...</td>\n",
       "      <td>...</td>\n",
       "      <td>...</td>\n",
       "      <td>...</td>\n",
       "      <td>...</td>\n",
       "      <td>...</td>\n",
       "      <td>...</td>\n",
       "      <td>...</td>\n",
       "      <td>...</td>\n",
       "      <td>...</td>\n",
       "    </tr>\n",
       "    <tr>\n",
       "      <th>757</th>\n",
       "      <td>44255</td>\n",
       "      <td>45.0</td>\n",
       "      <td>42</td>\n",
       "      <td>73.762516</td>\n",
       "      <td>Death Race</td>\n",
       "      <td>6.0</td>\n",
       "      <td>1175</td>\n",
       "      <td>2008</td>\n",
       "      <td>Aug</td>\n",
       "      <td>Friday</td>\n",
       "      <td>Paul W.S. Anderson</td>\n",
       "    </tr>\n",
       "    <tr>\n",
       "      <th>758</th>\n",
       "      <td>44367</td>\n",
       "      <td>60.0</td>\n",
       "      <td>29</td>\n",
       "      <td>26.673242</td>\n",
       "      <td>Event Horizon</td>\n",
       "      <td>6.5</td>\n",
       "      <td>742</td>\n",
       "      <td>1997</td>\n",
       "      <td>Aug</td>\n",
       "      <td>Friday</td>\n",
       "      <td>Paul W.S. Anderson</td>\n",
       "    </tr>\n",
       "    <tr>\n",
       "      <th>759</th>\n",
       "      <td>44396</td>\n",
       "      <td>60.0</td>\n",
       "      <td>2</td>\n",
       "      <td>300.228084</td>\n",
       "      <td>Resident Evil: Afterlife</td>\n",
       "      <td>5.8</td>\n",
       "      <td>1363</td>\n",
       "      <td>2010</td>\n",
       "      <td>Sep</td>\n",
       "      <td>Thursday</td>\n",
       "      <td>Paul W.S. Anderson</td>\n",
       "    </tr>\n",
       "    <tr>\n",
       "      <th>760</th>\n",
       "      <td>44992</td>\n",
       "      <td>33.0</td>\n",
       "      <td>40</td>\n",
       "      <td>102.984862</td>\n",
       "      <td>Resident Evil</td>\n",
       "      <td>6.4</td>\n",
       "      <td>2065</td>\n",
       "      <td>2002</td>\n",
       "      <td>Mar</td>\n",
       "      <td>Friday</td>\n",
       "      <td>Paul W.S. Anderson</td>\n",
       "    </tr>\n",
       "    <tr>\n",
       "      <th>761</th>\n",
       "      <td>45697</td>\n",
       "      <td>18.0</td>\n",
       "      <td>16</td>\n",
       "      <td>122.195920</td>\n",
       "      <td>Mortal Kombat</td>\n",
       "      <td>5.4</td>\n",
       "      <td>442</td>\n",
       "      <td>1995</td>\n",
       "      <td>Aug</td>\n",
       "      <td>Friday</td>\n",
       "      <td>Paul W.S. Anderson</td>\n",
       "    </tr>\n",
       "  </tbody>\n",
       "</table>\n",
       "<p>679 rows × 11 columns</p>\n",
       "</div>"
      ],
      "text/plain": [
       "      id_x  budget  popularity      revenue  ...  year  month        day       director_name\n",
       "0    43597   237.0         150  2787.965087  ...  2009    Dec   Thursday       James Cameron\n",
       "1    43622   200.0         100  1845.034188  ...  1997    Nov    Tuesday       James Cameron\n",
       "2    43876   100.0         101   520.000000  ...  1991    Jul     Monday       James Cameron\n",
       "3    43879   115.0          38   378.882411  ...  1994    Jul   Thursday       James Cameron\n",
       "4    44184    70.0          24    90.000098  ...  1989    Aug  Wednesday       James Cameron\n",
       "..     ...     ...         ...          ...  ...   ...    ...        ...                 ...\n",
       "757  44255    45.0          42    73.762516  ...  2008    Aug     Friday  Paul W.S. Anderson\n",
       "758  44367    60.0          29    26.673242  ...  1997    Aug     Friday  Paul W.S. Anderson\n",
       "759  44396    60.0           2   300.228084  ...  2010    Sep   Thursday  Paul W.S. Anderson\n",
       "760  44992    33.0          40   102.984862  ...  2002    Mar     Friday  Paul W.S. Anderson\n",
       "761  45697    18.0          16   122.195920  ...  1995    Aug     Friday  Paul W.S. Anderson\n",
       "\n",
       "[679 rows x 11 columns]"
      ]
     },
     "execution_count": 833,
     "metadata": {},
     "output_type": "execute_result"
    }
   ],
   "source": [
    "df.groupby(\"director_name\").filter(lambda x:x[\"budget\"].max() >= 100)"
   ]
  },
  {
   "cell_type": "code",
   "execution_count": null,
   "id": "422837b8",
   "metadata": {},
   "outputs": [],
   "source": []
  },
  {
   "cell_type": "code",
   "execution_count": 834,
   "id": "28818fac",
   "metadata": {},
   "outputs": [],
   "source": [
    "def sub_avg(X):\n",
    "    return X > X.mean() \n",
    "        \n"
   ]
  },
  {
   "cell_type": "code",
   "execution_count": 835,
   "id": "4fa20e1a",
   "metadata": {},
   "outputs": [
    {
     "data": {
      "text/plain": [
       "0        True\n",
       "1        True\n",
       "2       False\n",
       "3        True\n",
       "4       False\n",
       "        ...  \n",
       "1460    False\n",
       "1461     True\n",
       "1462     True\n",
       "1463    False\n",
       "1464    False\n",
       "Name: budget, Length: 1465, dtype: bool"
      ]
     },
     "execution_count": 835,
     "metadata": {},
     "output_type": "execute_result"
    }
   ],
   "source": [
    "df.groupby(\"director_name\")[\"budget\"].transform(sub_avg)"
   ]
  },
  {
   "cell_type": "code",
   "execution_count": 836,
   "id": "bacb236f",
   "metadata": {},
   "outputs": [
    {
     "data": {
      "text/plain": [
       "0       130.30\n",
       "1        93.30\n",
       "2        -6.70\n",
       "3         8.30\n",
       "4       -36.70\n",
       "         ...  \n",
       "1460     -1.95\n",
       "1461      4.55\n",
       "1462      1.05\n",
       "1463     -1.95\n",
       "1464     -1.70\n",
       "Name: budget, Length: 1465, dtype: float64"
      ]
     },
     "execution_count": 836,
     "metadata": {},
     "output_type": "execute_result"
    }
   ],
   "source": [
    "def sub_avg(X):\n",
    "    return X - X.mean()\n",
    "df.groupby(\"director_name\")[\"budget\"].transform(sub_avg)"
   ]
  },
  {
   "cell_type": "code",
   "execution_count": null,
   "id": "165131be",
   "metadata": {},
   "outputs": [],
   "source": []
  },
  {
   "cell_type": "code",
   "execution_count": 837,
   "id": "a41642f4",
   "metadata": {},
   "outputs": [
    {
     "data": {
      "text/html": [
       "<div>\n",
       "<style scoped>\n",
       "    .dataframe tbody tr th:only-of-type {\n",
       "        vertical-align: middle;\n",
       "    }\n",
       "\n",
       "    .dataframe tbody tr th {\n",
       "        vertical-align: top;\n",
       "    }\n",
       "\n",
       "    .dataframe thead th {\n",
       "        text-align: right;\n",
       "    }\n",
       "</style>\n",
       "<table border=\"1\" class=\"dataframe\">\n",
       "  <thead>\n",
       "    <tr style=\"text-align: right;\">\n",
       "      <th></th>\n",
       "      <th>id_x</th>\n",
       "      <th>budget</th>\n",
       "      <th>popularity</th>\n",
       "      <th>revenue</th>\n",
       "      <th>title</th>\n",
       "      <th>vote_average</th>\n",
       "      <th>vote_count</th>\n",
       "      <th>year</th>\n",
       "      <th>month</th>\n",
       "      <th>day</th>\n",
       "      <th>director_name</th>\n",
       "    </tr>\n",
       "  </thead>\n",
       "  <tbody>\n",
       "    <tr>\n",
       "      <th>0</th>\n",
       "      <td>43597</td>\n",
       "      <td>237.0</td>\n",
       "      <td>150</td>\n",
       "      <td>2787.965087</td>\n",
       "      <td>Avatar</td>\n",
       "      <td>7.2</td>\n",
       "      <td>11800</td>\n",
       "      <td>2009</td>\n",
       "      <td>Dec</td>\n",
       "      <td>Thursday</td>\n",
       "      <td>James Cameron</td>\n",
       "    </tr>\n",
       "    <tr>\n",
       "      <th>7</th>\n",
       "      <td>43598</td>\n",
       "      <td>300.0</td>\n",
       "      <td>139</td>\n",
       "      <td>961.000000</td>\n",
       "      <td>Pirates of the Caribbean: At World's End</td>\n",
       "      <td>6.9</td>\n",
       "      <td>4500</td>\n",
       "      <td>2007</td>\n",
       "      <td>May</td>\n",
       "      <td>Saturday</td>\n",
       "      <td>Gore Verbinski</td>\n",
       "    </tr>\n",
       "    <tr>\n",
       "      <th>14</th>\n",
       "      <td>43599</td>\n",
       "      <td>245.0</td>\n",
       "      <td>107</td>\n",
       "      <td>880.674609</td>\n",
       "      <td>Spectre</td>\n",
       "      <td>6.3</td>\n",
       "      <td>4466</td>\n",
       "      <td>2015</td>\n",
       "      <td>Oct</td>\n",
       "      <td>Monday</td>\n",
       "      <td>Sam Mendes</td>\n",
       "    </tr>\n",
       "    <tr>\n",
       "      <th>21</th>\n",
       "      <td>43600</td>\n",
       "      <td>250.0</td>\n",
       "      <td>112</td>\n",
       "      <td>1084.939099</td>\n",
       "      <td>The Dark Knight Rises</td>\n",
       "      <td>7.6</td>\n",
       "      <td>9106</td>\n",
       "      <td>2012</td>\n",
       "      <td>Jul</td>\n",
       "      <td>Monday</td>\n",
       "      <td>Christopher Nolan</td>\n",
       "    </tr>\n",
       "    <tr>\n",
       "      <th>29</th>\n",
       "      <td>43602</td>\n",
       "      <td>258.0</td>\n",
       "      <td>115</td>\n",
       "      <td>890.871626</td>\n",
       "      <td>Spider-Man 3</td>\n",
       "      <td>5.9</td>\n",
       "      <td>3576</td>\n",
       "      <td>2007</td>\n",
       "      <td>May</td>\n",
       "      <td>Tuesday</td>\n",
       "      <td>Sam Raimi</td>\n",
       "    </tr>\n",
       "    <tr>\n",
       "      <th>...</th>\n",
       "      <td>...</td>\n",
       "      <td>...</td>\n",
       "      <td>...</td>\n",
       "      <td>...</td>\n",
       "      <td>...</td>\n",
       "      <td>...</td>\n",
       "      <td>...</td>\n",
       "      <td>...</td>\n",
       "      <td>...</td>\n",
       "      <td>...</td>\n",
       "      <td>...</td>\n",
       "    </tr>\n",
       "    <tr>\n",
       "      <th>1444</th>\n",
       "      <td>46355</td>\n",
       "      <td>13.0</td>\n",
       "      <td>6</td>\n",
       "      <td>11.130889</td>\n",
       "      <td>The Astronaut Farmer</td>\n",
       "      <td>6.2</td>\n",
       "      <td>123</td>\n",
       "      <td>2006</td>\n",
       "      <td>Oct</td>\n",
       "      <td>Sunday</td>\n",
       "      <td>Michael Polish</td>\n",
       "    </tr>\n",
       "    <tr>\n",
       "      <th>1453</th>\n",
       "      <td>47263</td>\n",
       "      <td>15.0</td>\n",
       "      <td>10</td>\n",
       "      <td>0.000000</td>\n",
       "      <td>Dying of the Light</td>\n",
       "      <td>4.5</td>\n",
       "      <td>118</td>\n",
       "      <td>2014</td>\n",
       "      <td>Dec</td>\n",
       "      <td>Thursday</td>\n",
       "      <td>Paul Schrader</td>\n",
       "    </tr>\n",
       "    <tr>\n",
       "      <th>1455</th>\n",
       "      <td>46574</td>\n",
       "      <td>10.0</td>\n",
       "      <td>33</td>\n",
       "      <td>163.876815</td>\n",
       "      <td>Saw III</td>\n",
       "      <td>6.1</td>\n",
       "      <td>1071</td>\n",
       "      <td>2006</td>\n",
       "      <td>Oct</td>\n",
       "      <td>Friday</td>\n",
       "      <td>Darren Lynn Bousman</td>\n",
       "    </tr>\n",
       "    <tr>\n",
       "      <th>1456</th>\n",
       "      <td>46579</td>\n",
       "      <td>10.0</td>\n",
       "      <td>29</td>\n",
       "      <td>139.352633</td>\n",
       "      <td>Saw IV</td>\n",
       "      <td>5.9</td>\n",
       "      <td>903</td>\n",
       "      <td>2007</td>\n",
       "      <td>Oct</td>\n",
       "      <td>Thursday</td>\n",
       "      <td>Darren Lynn Bousman</td>\n",
       "    </tr>\n",
       "    <tr>\n",
       "      <th>1461</th>\n",
       "      <td>47023</td>\n",
       "      <td>6.5</td>\n",
       "      <td>11</td>\n",
       "      <td>13.368437</td>\n",
       "      <td>Friends with Money</td>\n",
       "      <td>5.1</td>\n",
       "      <td>128</td>\n",
       "      <td>2006</td>\n",
       "      <td>Sep</td>\n",
       "      <td>Thursday</td>\n",
       "      <td>Nicole Holofcener</td>\n",
       "    </tr>\n",
       "  </tbody>\n",
       "</table>\n",
       "<p>212 rows × 11 columns</p>\n",
       "</div>"
      ],
      "text/plain": [
       "       id_x  budget  popularity      revenue  ...  year  month       day        director_name\n",
       "0     43597   237.0         150  2787.965087  ...  2009    Dec  Thursday        James Cameron\n",
       "7     43598   300.0         139   961.000000  ...  2007    May  Saturday       Gore Verbinski\n",
       "14    43599   245.0         107   880.674609  ...  2015    Oct    Monday           Sam Mendes\n",
       "21    43600   250.0         112  1084.939099  ...  2012    Jul    Monday    Christopher Nolan\n",
       "29    43602   258.0         115   890.871626  ...  2007    May   Tuesday            Sam Raimi\n",
       "...     ...     ...         ...          ...  ...   ...    ...       ...                  ...\n",
       "1444  46355    13.0           6    11.130889  ...  2006    Oct    Sunday       Michael Polish\n",
       "1453  47263    15.0          10     0.000000  ...  2014    Dec  Thursday        Paul Schrader\n",
       "1455  46574    10.0          33   163.876815  ...  2006    Oct    Friday  Darren Lynn Bousman\n",
       "1456  46579    10.0          29   139.352633  ...  2007    Oct  Thursday  Darren Lynn Bousman\n",
       "1461  47023     6.5          11    13.368437  ...  2006    Sep  Thursday    Nicole Holofcener\n",
       "\n",
       "[212 rows x 11 columns]"
      ]
     },
     "execution_count": 837,
     "metadata": {},
     "output_type": "execute_result"
    }
   ],
   "source": [
    "def sub_avg(X):\n",
    "    return X == X.max()\n",
    "\n",
    "df[df.groupby(\"director_name\")[\"budget\"].transform(sub_avg)]"
   ]
  },
  {
   "cell_type": "code",
   "execution_count": 838,
   "id": "6dd88469",
   "metadata": {},
   "outputs": [],
   "source": [
    "df[\"Profit\"]=df[\"revenue\"]-df[\"budget\"]"
   ]
  },
  {
   "cell_type": "code",
   "execution_count": 839,
   "id": "aa52add7",
   "metadata": {
    "scrolled": false
   },
   "outputs": [
    {
     "data": {
      "text/plain": [
       "0                                           Avatar\n",
       "8       Pirates of the Caribbean: Dead Man's Chest\n",
       "15                                         Skyfall\n",
       "21                           The Dark Knight Rises\n",
       "32                                      Spider-Man\n",
       "                           ...                    \n",
       "1447                                     Northfork\n",
       "1448                              Twin Falls Idaho\n",
       "1449                                    Cat People\n",
       "1455                                       Saw III\n",
       "1460                                   Enough Said\n",
       "Name: title, Length: 203, dtype: object"
      ]
     },
     "execution_count": 839,
     "metadata": {},
     "output_type": "execute_result"
    }
   ],
   "source": [
    "def sub_avg(X):\n",
    "    return X == X.max()\n",
    "\n",
    "df[df.groupby(\"director_name\")[\"Profit\"].transform(sub_avg)][\"title\"]"
   ]
  },
  {
   "cell_type": "code",
   "execution_count": null,
   "id": "4e7acde3",
   "metadata": {},
   "outputs": [],
   "source": []
  },
  {
   "cell_type": "code",
   "execution_count": null,
   "id": "047a4de0",
   "metadata": {},
   "outputs": [],
   "source": []
  },
  {
   "cell_type": "code",
   "execution_count": 840,
   "id": "6d6eef33",
   "metadata": {
    "scrolled": true
   },
   "outputs": [],
   "source": [
    "# df.groupby(\"director_name\")[\"budget\",\"title\"].max() "
   ]
  },
  {
   "cell_type": "code",
   "execution_count": 841,
   "id": "1677a230",
   "metadata": {
    "scrolled": false
   },
   "outputs": [
    {
     "data": {
      "text/html": [
       "<div>\n",
       "<style scoped>\n",
       "    .dataframe tbody tr th:only-of-type {\n",
       "        vertical-align: middle;\n",
       "    }\n",
       "\n",
       "    .dataframe tbody tr th {\n",
       "        vertical-align: top;\n",
       "    }\n",
       "\n",
       "    .dataframe thead th {\n",
       "        text-align: right;\n",
       "    }\n",
       "</style>\n",
       "<table border=\"1\" class=\"dataframe\">\n",
       "  <thead>\n",
       "    <tr style=\"text-align: right;\">\n",
       "      <th></th>\n",
       "      <th>id_x</th>\n",
       "      <th>budget</th>\n",
       "      <th>popularity</th>\n",
       "      <th>revenue</th>\n",
       "      <th>title</th>\n",
       "      <th>vote_average</th>\n",
       "      <th>vote_count</th>\n",
       "      <th>year</th>\n",
       "      <th>month</th>\n",
       "      <th>day</th>\n",
       "      <th>director_name</th>\n",
       "      <th>Profit</th>\n",
       "    </tr>\n",
       "  </thead>\n",
       "  <tbody>\n",
       "    <tr>\n",
       "      <th>635</th>\n",
       "      <td>43882</td>\n",
       "      <td>100.0</td>\n",
       "      <td>24</td>\n",
       "      <td>170.432927</td>\n",
       "      <td>The Other Guys</td>\n",
       "      <td>6.1</td>\n",
       "      <td>1383</td>\n",
       "      <td>2010</td>\n",
       "      <td>Aug</td>\n",
       "      <td>Friday</td>\n",
       "      <td>Adam McKay</td>\n",
       "      <td>70.432927</td>\n",
       "    </tr>\n",
       "    <tr>\n",
       "      <th>792</th>\n",
       "      <td>44040</td>\n",
       "      <td>80.0</td>\n",
       "      <td>23</td>\n",
       "      <td>212.874442</td>\n",
       "      <td>Bedtime Stories</td>\n",
       "      <td>5.9</td>\n",
       "      <td>901</td>\n",
       "      <td>2008</td>\n",
       "      <td>Dec</td>\n",
       "      <td>Wednesday</td>\n",
       "      <td>Adam Shankman</td>\n",
       "      <td>132.874442</td>\n",
       "    </tr>\n",
       "    <tr>\n",
       "      <th>465</th>\n",
       "      <td>43773</td>\n",
       "      <td>135.0</td>\n",
       "      <td>100</td>\n",
       "      <td>532.950503</td>\n",
       "      <td>The Revenant</td>\n",
       "      <td>7.3</td>\n",
       "      <td>6396</td>\n",
       "      <td>2015</td>\n",
       "      <td>Dec</td>\n",
       "      <td>Friday</td>\n",
       "      <td>Alejandro González Iñárritu</td>\n",
       "      <td>397.950503</td>\n",
       "    </tr>\n",
       "    <tr>\n",
       "      <th>425</th>\n",
       "      <td>43758</td>\n",
       "      <td>140.0</td>\n",
       "      <td>56</td>\n",
       "      <td>150.680864</td>\n",
       "      <td>Gods of Egypt</td>\n",
       "      <td>5.3</td>\n",
       "      <td>1277</td>\n",
       "      <td>2016</td>\n",
       "      <td>Feb</td>\n",
       "      <td>Thursday</td>\n",
       "      <td>Alex Proyas</td>\n",
       "      <td>10.680864</td>\n",
       "    </tr>\n",
       "    <tr>\n",
       "      <th>1341</th>\n",
       "      <td>45163</td>\n",
       "      <td>30.0</td>\n",
       "      <td>19</td>\n",
       "      <td>105.834556</td>\n",
       "      <td>About Schmidt</td>\n",
       "      <td>6.7</td>\n",
       "      <td>362</td>\n",
       "      <td>2002</td>\n",
       "      <td>Dec</td>\n",
       "      <td>Friday</td>\n",
       "      <td>Alexander Payne</td>\n",
       "      <td>75.834556</td>\n",
       "    </tr>\n",
       "    <tr>\n",
       "      <th>...</th>\n",
       "      <td>...</td>\n",
       "      <td>...</td>\n",
       "      <td>...</td>\n",
       "      <td>...</td>\n",
       "      <td>...</td>\n",
       "      <td>...</td>\n",
       "      <td>...</td>\n",
       "      <td>...</td>\n",
       "      <td>...</td>\n",
       "      <td>...</td>\n",
       "      <td>...</td>\n",
       "      <td>...</td>\n",
       "    </tr>\n",
       "    <tr>\n",
       "      <th>1267</th>\n",
       "      <td>44761</td>\n",
       "      <td>40.0</td>\n",
       "      <td>24</td>\n",
       "      <td>161.834276</td>\n",
       "      <td>Scream 3</td>\n",
       "      <td>5.7</td>\n",
       "      <td>736</td>\n",
       "      <td>2000</td>\n",
       "      <td>Feb</td>\n",
       "      <td>Thursday</td>\n",
       "      <td>Wes Craven</td>\n",
       "      <td>121.834276</td>\n",
       "    </tr>\n",
       "    <tr>\n",
       "      <th>325</th>\n",
       "      <td>43742</td>\n",
       "      <td>175.0</td>\n",
       "      <td>66</td>\n",
       "      <td>497.409852</td>\n",
       "      <td>Troy</td>\n",
       "      <td>6.9</td>\n",
       "      <td>2759</td>\n",
       "      <td>2004</td>\n",
       "      <td>May</td>\n",
       "      <td>Thursday</td>\n",
       "      <td>Wolfgang Petersen</td>\n",
       "      <td>322.409852</td>\n",
       "    </tr>\n",
       "    <tr>\n",
       "      <th>1346</th>\n",
       "      <td>45176</td>\n",
       "      <td>30.0</td>\n",
       "      <td>43</td>\n",
       "      <td>151.119219</td>\n",
       "      <td>Midnight in Paris</td>\n",
       "      <td>7.4</td>\n",
       "      <td>1990</td>\n",
       "      <td>2011</td>\n",
       "      <td>May</td>\n",
       "      <td>Wednesday</td>\n",
       "      <td>Woody Allen</td>\n",
       "      <td>121.119219</td>\n",
       "    </tr>\n",
       "    <tr>\n",
       "      <th>40</th>\n",
       "      <td>43606</td>\n",
       "      <td>250.0</td>\n",
       "      <td>155</td>\n",
       "      <td>873.260194</td>\n",
       "      <td>Batman v Superman: Dawn of Justice</td>\n",
       "      <td>5.7</td>\n",
       "      <td>7004</td>\n",
       "      <td>2016</td>\n",
       "      <td>Mar</td>\n",
       "      <td>Wednesday</td>\n",
       "      <td>Zack Snyder</td>\n",
       "      <td>623.260194</td>\n",
       "    </tr>\n",
       "    <tr>\n",
       "      <th>674</th>\n",
       "      <td>43914</td>\n",
       "      <td>94.0</td>\n",
       "      <td>12</td>\n",
       "      <td>95.311434</td>\n",
       "      <td>The Flowers of War</td>\n",
       "      <td>7.1</td>\n",
       "      <td>187</td>\n",
       "      <td>2011</td>\n",
       "      <td>Dec</td>\n",
       "      <td>Thursday</td>\n",
       "      <td>Zhang Yimou</td>\n",
       "      <td>1.311434</td>\n",
       "    </tr>\n",
       "  </tbody>\n",
       "</table>\n",
       "<p>212 rows × 12 columns</p>\n",
       "</div>"
      ],
      "text/plain": [
       "       id_x  budget  popularity     revenue  ... month        day                director_name      Profit\n",
       "635   43882   100.0          24  170.432927  ...   Aug     Friday                   Adam McKay   70.432927\n",
       "792   44040    80.0          23  212.874442  ...   Dec  Wednesday                Adam Shankman  132.874442\n",
       "465   43773   135.0         100  532.950503  ...   Dec     Friday  Alejandro González Iñárritu  397.950503\n",
       "425   43758   140.0          56  150.680864  ...   Feb   Thursday                  Alex Proyas   10.680864\n",
       "1341  45163    30.0          19  105.834556  ...   Dec     Friday              Alexander Payne   75.834556\n",
       "...     ...     ...         ...         ...  ...   ...        ...                          ...         ...\n",
       "1267  44761    40.0          24  161.834276  ...   Feb   Thursday                   Wes Craven  121.834276\n",
       "325   43742   175.0          66  497.409852  ...   May   Thursday            Wolfgang Petersen  322.409852\n",
       "1346  45176    30.0          43  151.119219  ...   May  Wednesday                  Woody Allen  121.119219\n",
       "40    43606   250.0         155  873.260194  ...   Mar  Wednesday                  Zack Snyder  623.260194\n",
       "674   43914    94.0          12   95.311434  ...   Dec   Thursday                  Zhang Yimou    1.311434\n",
       "\n",
       "[212 rows x 12 columns]"
      ]
     },
     "execution_count": 841,
     "metadata": {},
     "output_type": "execute_result"
    }
   ],
   "source": [
    "def sub_avg(X):\n",
    "    return X == X.max()\n",
    "\n",
    "df[df.groupby(\"director_name\")[\"budget\"].transform(sub_avg)].sort_values(by=\"director_name\")"
   ]
  },
  {
   "cell_type": "code",
   "execution_count": null,
   "id": "44ab3dbe",
   "metadata": {},
   "outputs": [],
   "source": []
  },
  {
   "cell_type": "code",
   "execution_count": null,
   "id": "e80c8931",
   "metadata": {},
   "outputs": [],
   "source": []
  },
  {
   "cell_type": "code",
   "execution_count": null,
   "id": "6412f959",
   "metadata": {},
   "outputs": [],
   "source": []
  },
  {
   "cell_type": "code",
   "execution_count": null,
   "id": "65875eaf",
   "metadata": {},
   "outputs": [],
   "source": []
  },
  {
   "cell_type": "code",
   "execution_count": null,
   "id": "1827189d",
   "metadata": {},
   "outputs": [],
   "source": []
  },
  {
   "cell_type": "code",
   "execution_count": 848,
   "id": "b9ab2027",
   "metadata": {},
   "outputs": [],
   "source": [
    "def sub_avg(X):\n",
    "    X[\"risky\"] =  X[\"budget\"] - X[\"revenue\"].max()  >= 0 \n",
    "    return X\n",
    "    \n",
    "\n",
    "df = df.groupby(\"director_name\").apply(sub_avg)"
   ]
  },
  {
   "cell_type": "code",
   "execution_count": null,
   "id": "c797ac97",
   "metadata": {},
   "outputs": [],
   "source": []
  },
  {
   "cell_type": "code",
   "execution_count": 849,
   "id": "c6d13876",
   "metadata": {},
   "outputs": [],
   "source": [
    "\n",
    "# df.groupby(\"director_name\").apply(sub_avg)"
   ]
  },
  {
   "cell_type": "code",
   "execution_count": null,
   "id": "b83b06d6",
   "metadata": {},
   "outputs": [],
   "source": []
  },
  {
   "cell_type": "code",
   "execution_count": 850,
   "id": "a9e01835",
   "metadata": {},
   "outputs": [
    {
     "data": {
      "text/html": [
       "<div>\n",
       "<style scoped>\n",
       "    .dataframe tbody tr th:only-of-type {\n",
       "        vertical-align: middle;\n",
       "    }\n",
       "\n",
       "    .dataframe tbody tr th {\n",
       "        vertical-align: top;\n",
       "    }\n",
       "\n",
       "    .dataframe thead th {\n",
       "        text-align: right;\n",
       "    }\n",
       "</style>\n",
       "<table border=\"1\" class=\"dataframe\">\n",
       "  <thead>\n",
       "    <tr style=\"text-align: right;\">\n",
       "      <th></th>\n",
       "      <th>id_x</th>\n",
       "      <th>budget</th>\n",
       "      <th>popularity</th>\n",
       "      <th>revenue</th>\n",
       "      <th>title</th>\n",
       "      <th>vote_average</th>\n",
       "      <th>vote_count</th>\n",
       "      <th>year</th>\n",
       "      <th>month</th>\n",
       "      <th>day</th>\n",
       "      <th>director_name</th>\n",
       "      <th>Profit</th>\n",
       "      <th>risky</th>\n",
       "    </tr>\n",
       "  </thead>\n",
       "  <tbody>\n",
       "    <tr>\n",
       "      <th>402</th>\n",
       "      <td>43740</td>\n",
       "      <td>150.0</td>\n",
       "      <td>48</td>\n",
       "      <td>128.388320</td>\n",
       "      <td>Pan</td>\n",
       "      <td>5.9</td>\n",
       "      <td>954</td>\n",
       "      <td>2015</td>\n",
       "      <td>Sep</td>\n",
       "      <td>Thursday</td>\n",
       "      <td>Joe Wright</td>\n",
       "      <td>-21.611680</td>\n",
       "      <td>True</td>\n",
       "    </tr>\n",
       "    <tr>\n",
       "      <th>1006</th>\n",
       "      <td>44316</td>\n",
       "      <td>60.0</td>\n",
       "      <td>15</td>\n",
       "      <td>0.000000</td>\n",
       "      <td>This Is It</td>\n",
       "      <td>6.7</td>\n",
       "      <td>247</td>\n",
       "      <td>2009</td>\n",
       "      <td>Oct</td>\n",
       "      <td>Wednesday</td>\n",
       "      <td>Kenny Ortega</td>\n",
       "      <td>-60.000000</td>\n",
       "      <td>True</td>\n",
       "    </tr>\n",
       "    <tr>\n",
       "      <th>1063</th>\n",
       "      <td>44371</td>\n",
       "      <td>72.0</td>\n",
       "      <td>15</td>\n",
       "      <td>27.642707</td>\n",
       "      <td>The Last Castle</td>\n",
       "      <td>7.0</td>\n",
       "      <td>285</td>\n",
       "      <td>2001</td>\n",
       "      <td>Oct</td>\n",
       "      <td>Friday</td>\n",
       "      <td>Rod Lurie</td>\n",
       "      <td>-44.357293</td>\n",
       "      <td>True</td>\n",
       "    </tr>\n",
       "    <tr>\n",
       "      <th>1073</th>\n",
       "      <td>44381</td>\n",
       "      <td>60.0</td>\n",
       "      <td>15</td>\n",
       "      <td>0.000000</td>\n",
       "      <td>In the Name of the King: A Dungeon Siege Tale</td>\n",
       "      <td>4.1</td>\n",
       "      <td>224</td>\n",
       "      <td>2007</td>\n",
       "      <td>Nov</td>\n",
       "      <td>Thursday</td>\n",
       "      <td>Uwe Boll</td>\n",
       "      <td>-60.000000</td>\n",
       "      <td>True</td>\n",
       "    </tr>\n",
       "    <tr>\n",
       "      <th>1074</th>\n",
       "      <td>45536</td>\n",
       "      <td>25.0</td>\n",
       "      <td>7</td>\n",
       "      <td>2.405420</td>\n",
       "      <td>BloodRayne</td>\n",
       "      <td>3.5</td>\n",
       "      <td>118</td>\n",
       "      <td>2005</td>\n",
       "      <td>Oct</td>\n",
       "      <td>Saturday</td>\n",
       "      <td>Uwe Boll</td>\n",
       "      <td>-22.594580</td>\n",
       "      <td>True</td>\n",
       "    </tr>\n",
       "    <tr>\n",
       "      <th>1075</th>\n",
       "      <td>45834</td>\n",
       "      <td>20.0</td>\n",
       "      <td>9</td>\n",
       "      <td>10.442808</td>\n",
       "      <td>Alone in the Dark</td>\n",
       "      <td>3.1</td>\n",
       "      <td>173</td>\n",
       "      <td>2005</td>\n",
       "      <td>Jan</td>\n",
       "      <td>Friday</td>\n",
       "      <td>Uwe Boll</td>\n",
       "      <td>-9.557192</td>\n",
       "      <td>True</td>\n",
       "    </tr>\n",
       "    <tr>\n",
       "      <th>1239</th>\n",
       "      <td>44676</td>\n",
       "      <td>40.0</td>\n",
       "      <td>25</td>\n",
       "      <td>30.925690</td>\n",
       "      <td>Dune</td>\n",
       "      <td>6.5</td>\n",
       "      <td>562</td>\n",
       "      <td>1984</td>\n",
       "      <td>Dec</td>\n",
       "      <td>Friday</td>\n",
       "      <td>David Lynch</td>\n",
       "      <td>-9.074310</td>\n",
       "      <td>True</td>\n",
       "    </tr>\n",
       "    <tr>\n",
       "      <th>1405</th>\n",
       "      <td>45538</td>\n",
       "      <td>25.0</td>\n",
       "      <td>4</td>\n",
       "      <td>0.000000</td>\n",
       "      <td>Where the Truth Lies</td>\n",
       "      <td>5.9</td>\n",
       "      <td>66</td>\n",
       "      <td>2005</td>\n",
       "      <td>Oct</td>\n",
       "      <td>Friday</td>\n",
       "      <td>Atom Egoyan</td>\n",
       "      <td>-25.000000</td>\n",
       "      <td>True</td>\n",
       "    </tr>\n",
       "    <tr>\n",
       "      <th>1408</th>\n",
       "      <td>46370</td>\n",
       "      <td>15.0</td>\n",
       "      <td>26</td>\n",
       "      <td>8.459458</td>\n",
       "      <td>Chloe</td>\n",
       "      <td>5.9</td>\n",
       "      <td>498</td>\n",
       "      <td>2009</td>\n",
       "      <td>Mar</td>\n",
       "      <td>Wednesday</td>\n",
       "      <td>Atom Egoyan</td>\n",
       "      <td>-6.540542</td>\n",
       "      <td>True</td>\n",
       "    </tr>\n",
       "    <tr>\n",
       "      <th>1416</th>\n",
       "      <td>45609</td>\n",
       "      <td>23.0</td>\n",
       "      <td>6</td>\n",
       "      <td>16.123851</td>\n",
       "      <td>Vanity Fair</td>\n",
       "      <td>5.5</td>\n",
       "      <td>73</td>\n",
       "      <td>2004</td>\n",
       "      <td>Sep</td>\n",
       "      <td>Wednesday</td>\n",
       "      <td>Mira Nair</td>\n",
       "      <td>-6.876149</td>\n",
       "      <td>True</td>\n",
       "    </tr>\n",
       "    <tr>\n",
       "      <th>1444</th>\n",
       "      <td>46355</td>\n",
       "      <td>13.0</td>\n",
       "      <td>6</td>\n",
       "      <td>11.130889</td>\n",
       "      <td>The Astronaut Farmer</td>\n",
       "      <td>6.2</td>\n",
       "      <td>123</td>\n",
       "      <td>2006</td>\n",
       "      <td>Oct</td>\n",
       "      <td>Sunday</td>\n",
       "      <td>Michael Polish</td>\n",
       "      <td>-1.869111</td>\n",
       "      <td>True</td>\n",
       "    </tr>\n",
       "    <tr>\n",
       "      <th>1450</th>\n",
       "      <td>46727</td>\n",
       "      <td>10.0</td>\n",
       "      <td>2</td>\n",
       "      <td>0.000000</td>\n",
       "      <td>Adam Resurrected</td>\n",
       "      <td>6.4</td>\n",
       "      <td>22</td>\n",
       "      <td>2008</td>\n",
       "      <td>Aug</td>\n",
       "      <td>Friday</td>\n",
       "      <td>Paul Schrader</td>\n",
       "      <td>-10.000000</td>\n",
       "      <td>True</td>\n",
       "    </tr>\n",
       "    <tr>\n",
       "      <th>1451</th>\n",
       "      <td>46975</td>\n",
       "      <td>7.0</td>\n",
       "      <td>7</td>\n",
       "      <td>2.062066</td>\n",
       "      <td>Auto Focus</td>\n",
       "      <td>6.1</td>\n",
       "      <td>56</td>\n",
       "      <td>2002</td>\n",
       "      <td>Oct</td>\n",
       "      <td>Friday</td>\n",
       "      <td>Paul Schrader</td>\n",
       "      <td>-4.937934</td>\n",
       "      <td>True</td>\n",
       "    </tr>\n",
       "    <tr>\n",
       "      <th>1452</th>\n",
       "      <td>47233</td>\n",
       "      <td>5.0</td>\n",
       "      <td>6</td>\n",
       "      <td>0.000000</td>\n",
       "      <td>Light Sleeper</td>\n",
       "      <td>5.7</td>\n",
       "      <td>15</td>\n",
       "      <td>1992</td>\n",
       "      <td>Aug</td>\n",
       "      <td>Friday</td>\n",
       "      <td>Paul Schrader</td>\n",
       "      <td>-5.000000</td>\n",
       "      <td>True</td>\n",
       "    </tr>\n",
       "    <tr>\n",
       "      <th>1453</th>\n",
       "      <td>47263</td>\n",
       "      <td>15.0</td>\n",
       "      <td>10</td>\n",
       "      <td>0.000000</td>\n",
       "      <td>Dying of the Light</td>\n",
       "      <td>4.5</td>\n",
       "      <td>118</td>\n",
       "      <td>2014</td>\n",
       "      <td>Dec</td>\n",
       "      <td>Thursday</td>\n",
       "      <td>Paul Schrader</td>\n",
       "      <td>-15.000000</td>\n",
       "      <td>True</td>\n",
       "    </tr>\n",
       "  </tbody>\n",
       "</table>\n",
       "</div>"
      ],
      "text/plain": [
       "       id_x  budget  popularity     revenue  ...        day   director_name     Profit  risky\n",
       "402   43740   150.0          48  128.388320  ...   Thursday      Joe Wright -21.611680   True\n",
       "1006  44316    60.0          15    0.000000  ...  Wednesday    Kenny Ortega -60.000000   True\n",
       "1063  44371    72.0          15   27.642707  ...     Friday       Rod Lurie -44.357293   True\n",
       "1073  44381    60.0          15    0.000000  ...   Thursday        Uwe Boll -60.000000   True\n",
       "1074  45536    25.0           7    2.405420  ...   Saturday        Uwe Boll -22.594580   True\n",
       "1075  45834    20.0           9   10.442808  ...     Friday        Uwe Boll  -9.557192   True\n",
       "1239  44676    40.0          25   30.925690  ...     Friday     David Lynch  -9.074310   True\n",
       "1405  45538    25.0           4    0.000000  ...     Friday     Atom Egoyan -25.000000   True\n",
       "1408  46370    15.0          26    8.459458  ...  Wednesday     Atom Egoyan  -6.540542   True\n",
       "1416  45609    23.0           6   16.123851  ...  Wednesday       Mira Nair  -6.876149   True\n",
       "1444  46355    13.0           6   11.130889  ...     Sunday  Michael Polish  -1.869111   True\n",
       "1450  46727    10.0           2    0.000000  ...     Friday   Paul Schrader -10.000000   True\n",
       "1451  46975     7.0           7    2.062066  ...     Friday   Paul Schrader  -4.937934   True\n",
       "1452  47233     5.0           6    0.000000  ...     Friday   Paul Schrader  -5.000000   True\n",
       "1453  47263    15.0          10    0.000000  ...   Thursday   Paul Schrader -15.000000   True\n",
       "\n",
       "[15 rows x 13 columns]"
      ]
     },
     "execution_count": 850,
     "metadata": {},
     "output_type": "execute_result"
    }
   ],
   "source": [
    "df[df[\"risky\"]==True]"
   ]
  },
  {
   "cell_type": "code",
   "execution_count": null,
   "id": "90d2af45",
   "metadata": {},
   "outputs": [],
   "source": []
  },
  {
   "cell_type": "code",
   "execution_count": null,
   "id": "34770bb0",
   "metadata": {},
   "outputs": [],
   "source": []
  },
  {
   "cell_type": "code",
   "execution_count": null,
   "id": "b9419ada",
   "metadata": {},
   "outputs": [],
   "source": []
  },
  {
   "cell_type": "code",
   "execution_count": 852,
   "id": "b3c36987",
   "metadata": {},
   "outputs": [],
   "source": [
    "# !gdown 1XbB_dq6tH1D16Lg1OiKLXJuitQ8FdcvP"
   ]
  },
  {
   "cell_type": "code",
   "execution_count": 854,
   "id": "91c307f6",
   "metadata": {},
   "outputs": [
    {
     "data": {
      "application/javascript": [
       "\n",
       "        if (window._pyforest_update_imports_cell) { window._pyforest_update_imports_cell('import pandas as pd'); }\n",
       "    "
      ],
      "text/plain": [
       "<IPython.core.display.Javascript object>"
      ]
     },
     "metadata": {},
     "output_type": "display_data"
    },
    {
     "data": {
      "text/html": [
       "<div>\n",
       "<style scoped>\n",
       "    .dataframe tbody tr th:only-of-type {\n",
       "        vertical-align: middle;\n",
       "    }\n",
       "\n",
       "    .dataframe tbody tr th {\n",
       "        vertical-align: top;\n",
       "    }\n",
       "\n",
       "    .dataframe thead th {\n",
       "        text-align: right;\n",
       "    }\n",
       "</style>\n",
       "<table border=\"1\" class=\"dataframe\">\n",
       "  <thead>\n",
       "    <tr style=\"text-align: right;\">\n",
       "      <th></th>\n",
       "      <th>year</th>\n",
       "      <th>month</th>\n",
       "      <th>element</th>\n",
       "      <th>day1</th>\n",
       "      <th>day2</th>\n",
       "      <th>day3</th>\n",
       "      <th>day4</th>\n",
       "      <th>day5</th>\n",
       "      <th>day6</th>\n",
       "      <th>day7</th>\n",
       "      <th>day8</th>\n",
       "      <th>day9</th>\n",
       "      <th>day10</th>\n",
       "      <th>day11</th>\n",
       "      <th>day12</th>\n",
       "      <th>day13</th>\n",
       "      <th>day14</th>\n",
       "      <th>day15</th>\n",
       "      <th>day16</th>\n",
       "      <th>day17</th>\n",
       "      <th>day18</th>\n",
       "      <th>day19</th>\n",
       "      <th>day20</th>\n",
       "      <th>day21</th>\n",
       "      <th>day22</th>\n",
       "      <th>day23</th>\n",
       "      <th>day24</th>\n",
       "      <th>day25</th>\n",
       "      <th>day26</th>\n",
       "      <th>day27</th>\n",
       "      <th>day28</th>\n",
       "      <th>day29</th>\n",
       "      <th>day30</th>\n",
       "      <th>day31</th>\n",
       "    </tr>\n",
       "  </thead>\n",
       "  <tbody>\n",
       "    <tr>\n",
       "      <th>0</th>\n",
       "      <td>2018</td>\n",
       "      <td>1</td>\n",
       "      <td>max</td>\n",
       "      <td>17.573016</td>\n",
       "      <td>19.796815</td>\n",
       "      <td>22.412495</td>\n",
       "      <td>17.813163</td>\n",
       "      <td>20.165825</td>\n",
       "      <td>17.060539</td>\n",
       "      <td>22.736134</td>\n",
       "      <td>20.616921</td>\n",
       "      <td>18.229811</td>\n",
       "      <td>19.067288</td>\n",
       "      <td>19.361002</td>\n",
       "      <td>20.982134</td>\n",
       "      <td>21.668005</td>\n",
       "      <td>19.441664</td>\n",
       "      <td>17.609544</td>\n",
       "      <td>20.245582</td>\n",
       "      <td>17.386774</td>\n",
       "      <td>22.549572</td>\n",
       "      <td>19.898544</td>\n",
       "      <td>20.836153</td>\n",
       "      <td>18.427361</td>\n",
       "      <td>22.629226</td>\n",
       "      <td>19.013674</td>\n",
       "      <td>17.831558</td>\n",
       "      <td>17.018316</td>\n",
       "      <td>21.837387</td>\n",
       "      <td>19.700255</td>\n",
       "      <td>19.084056</td>\n",
       "      <td>18.534690</td>\n",
       "      <td>20.787275</td>\n",
       "      <td>21.117423</td>\n",
       "    </tr>\n",
       "    <tr>\n",
       "      <th>1</th>\n",
       "      <td>2018</td>\n",
       "      <td>1</td>\n",
       "      <td>min</td>\n",
       "      <td>22.725760</td>\n",
       "      <td>21.007865</td>\n",
       "      <td>17.730792</td>\n",
       "      <td>18.045290</td>\n",
       "      <td>20.766734</td>\n",
       "      <td>18.656651</td>\n",
       "      <td>22.607481</td>\n",
       "      <td>22.468289</td>\n",
       "      <td>18.126316</td>\n",
       "      <td>19.931129</td>\n",
       "      <td>22.598325</td>\n",
       "      <td>17.715137</td>\n",
       "      <td>17.940334</td>\n",
       "      <td>19.853651</td>\n",
       "      <td>18.662379</td>\n",
       "      <td>17.215839</td>\n",
       "      <td>21.662470</td>\n",
       "      <td>17.202508</td>\n",
       "      <td>19.697496</td>\n",
       "      <td>22.182156</td>\n",
       "      <td>21.532442</td>\n",
       "      <td>21.163491</td>\n",
       "      <td>17.371653</td>\n",
       "      <td>17.194530</td>\n",
       "      <td>18.964190</td>\n",
       "      <td>17.892385</td>\n",
       "      <td>17.646139</td>\n",
       "      <td>19.844125</td>\n",
       "      <td>22.729859</td>\n",
       "      <td>19.768917</td>\n",
       "      <td>20.913443</td>\n",
       "    </tr>\n",
       "    <tr>\n",
       "      <th>2</th>\n",
       "      <td>2018</td>\n",
       "      <td>2</td>\n",
       "      <td>max</td>\n",
       "      <td>19.015120</td>\n",
       "      <td>19.261805</td>\n",
       "      <td>17.510713</td>\n",
       "      <td>21.080425</td>\n",
       "      <td>17.915749</td>\n",
       "      <td>19.082145</td>\n",
       "      <td>18.056023</td>\n",
       "      <td>22.438020</td>\n",
       "      <td>21.938647</td>\n",
       "      <td>20.623170</td>\n",
       "      <td>22.919827</td>\n",
       "      <td>22.013088</td>\n",
       "      <td>20.899679</td>\n",
       "      <td>22.142212</td>\n",
       "      <td>20.763999</td>\n",
       "      <td>20.787652</td>\n",
       "      <td>17.854411</td>\n",
       "      <td>19.280197</td>\n",
       "      <td>17.624206</td>\n",
       "      <td>20.332475</td>\n",
       "      <td>19.045524</td>\n",
       "      <td>21.254968</td>\n",
       "      <td>20.346324</td>\n",
       "      <td>20.036019</td>\n",
       "      <td>22.926773</td>\n",
       "      <td>17.533172</td>\n",
       "      <td>20.308927</td>\n",
       "      <td>20.438899</td>\n",
       "      <td>17.005806</td>\n",
       "      <td>18.346534</td>\n",
       "      <td>20.878165</td>\n",
       "    </tr>\n",
       "    <tr>\n",
       "      <th>3</th>\n",
       "      <td>2018</td>\n",
       "      <td>2</td>\n",
       "      <td>min</td>\n",
       "      <td>18.653843</td>\n",
       "      <td>22.818600</td>\n",
       "      <td>21.842673</td>\n",
       "      <td>21.958159</td>\n",
       "      <td>22.523078</td>\n",
       "      <td>18.535469</td>\n",
       "      <td>19.636158</td>\n",
       "      <td>21.857388</td>\n",
       "      <td>21.152948</td>\n",
       "      <td>20.406606</td>\n",
       "      <td>22.383740</td>\n",
       "      <td>22.077585</td>\n",
       "      <td>19.708466</td>\n",
       "      <td>19.187420</td>\n",
       "      <td>22.125001</td>\n",
       "      <td>17.982867</td>\n",
       "      <td>21.912905</td>\n",
       "      <td>20.011313</td>\n",
       "      <td>17.065755</td>\n",
       "      <td>20.125427</td>\n",
       "      <td>21.015635</td>\n",
       "      <td>19.711974</td>\n",
       "      <td>20.586232</td>\n",
       "      <td>18.780840</td>\n",
       "      <td>20.065633</td>\n",
       "      <td>18.293548</td>\n",
       "      <td>20.823661</td>\n",
       "      <td>18.056112</td>\n",
       "      <td>22.748292</td>\n",
       "      <td>22.470172</td>\n",
       "      <td>18.602007</td>\n",
       "    </tr>\n",
       "    <tr>\n",
       "      <th>4</th>\n",
       "      <td>2018</td>\n",
       "      <td>3</td>\n",
       "      <td>max</td>\n",
       "      <td>20.741115</td>\n",
       "      <td>19.704016</td>\n",
       "      <td>17.039811</td>\n",
       "      <td>20.703908</td>\n",
       "      <td>22.714125</td>\n",
       "      <td>17.205000</td>\n",
       "      <td>19.079503</td>\n",
       "      <td>19.385105</td>\n",
       "      <td>22.641007</td>\n",
       "      <td>21.523745</td>\n",
       "      <td>19.031810</td>\n",
       "      <td>18.189939</td>\n",
       "      <td>22.906503</td>\n",
       "      <td>22.062526</td>\n",
       "      <td>22.749002</td>\n",
       "      <td>17.257076</td>\n",
       "      <td>21.643315</td>\n",
       "      <td>17.918147</td>\n",
       "      <td>19.180657</td>\n",
       "      <td>20.700693</td>\n",
       "      <td>18.790643</td>\n",
       "      <td>19.528963</td>\n",
       "      <td>19.563689</td>\n",
       "      <td>22.658997</td>\n",
       "      <td>22.446357</td>\n",
       "      <td>17.911240</td>\n",
       "      <td>22.591993</td>\n",
       "      <td>17.406800</td>\n",
       "      <td>19.118712</td>\n",
       "      <td>22.767154</td>\n",
       "      <td>17.119452</td>\n",
       "    </tr>\n",
       "    <tr>\n",
       "      <th>5</th>\n",
       "      <td>2018</td>\n",
       "      <td>3</td>\n",
       "      <td>min</td>\n",
       "      <td>17.250431</td>\n",
       "      <td>20.325829</td>\n",
       "      <td>21.473071</td>\n",
       "      <td>18.132962</td>\n",
       "      <td>18.405875</td>\n",
       "      <td>21.202295</td>\n",
       "      <td>22.756433</td>\n",
       "      <td>20.069465</td>\n",
       "      <td>22.576501</td>\n",
       "      <td>22.659978</td>\n",
       "      <td>17.557708</td>\n",
       "      <td>21.705888</td>\n",
       "      <td>18.452008</td>\n",
       "      <td>21.645681</td>\n",
       "      <td>22.021741</td>\n",
       "      <td>21.630187</td>\n",
       "      <td>22.935798</td>\n",
       "      <td>21.588641</td>\n",
       "      <td>20.036442</td>\n",
       "      <td>19.333634</td>\n",
       "      <td>17.426037</td>\n",
       "      <td>18.710609</td>\n",
       "      <td>19.523041</td>\n",
       "      <td>18.160872</td>\n",
       "      <td>17.343222</td>\n",
       "      <td>21.365854</td>\n",
       "      <td>18.198453</td>\n",
       "      <td>19.469490</td>\n",
       "      <td>22.732071</td>\n",
       "      <td>19.558373</td>\n",
       "      <td>21.205858</td>\n",
       "    </tr>\n",
       "    <tr>\n",
       "      <th>6</th>\n",
       "      <td>2018</td>\n",
       "      <td>4</td>\n",
       "      <td>max</td>\n",
       "      <td>20.408029</td>\n",
       "      <td>21.634346</td>\n",
       "      <td>22.677863</td>\n",
       "      <td>20.839558</td>\n",
       "      <td>19.371399</td>\n",
       "      <td>18.202578</td>\n",
       "      <td>21.916666</td>\n",
       "      <td>18.747752</td>\n",
       "      <td>21.749224</td>\n",
       "      <td>17.507677</td>\n",
       "      <td>21.761735</td>\n",
       "      <td>19.172134</td>\n",
       "      <td>18.906697</td>\n",
       "      <td>20.099364</td>\n",
       "      <td>19.743349</td>\n",
       "      <td>18.493867</td>\n",
       "      <td>19.290018</td>\n",
       "      <td>19.659484</td>\n",
       "      <td>22.004124</td>\n",
       "      <td>22.078397</td>\n",
       "      <td>20.728042</td>\n",
       "      <td>18.086580</td>\n",
       "      <td>21.861976</td>\n",
       "      <td>22.605832</td>\n",
       "      <td>19.209812</td>\n",
       "      <td>20.832980</td>\n",
       "      <td>20.797801</td>\n",
       "      <td>22.940309</td>\n",
       "      <td>21.036940</td>\n",
       "      <td>21.043597</td>\n",
       "      <td>18.219116</td>\n",
       "    </tr>\n",
       "    <tr>\n",
       "      <th>7</th>\n",
       "      <td>2018</td>\n",
       "      <td>4</td>\n",
       "      <td>min</td>\n",
       "      <td>21.849449</td>\n",
       "      <td>19.659674</td>\n",
       "      <td>18.009526</td>\n",
       "      <td>19.450892</td>\n",
       "      <td>22.665184</td>\n",
       "      <td>20.373879</td>\n",
       "      <td>19.245455</td>\n",
       "      <td>21.389677</td>\n",
       "      <td>17.475991</td>\n",
       "      <td>21.891405</td>\n",
       "      <td>21.351349</td>\n",
       "      <td>18.514812</td>\n",
       "      <td>17.411195</td>\n",
       "      <td>18.431759</td>\n",
       "      <td>21.165369</td>\n",
       "      <td>21.145173</td>\n",
       "      <td>17.640571</td>\n",
       "      <td>18.067103</td>\n",
       "      <td>17.132044</td>\n",
       "      <td>20.278332</td>\n",
       "      <td>18.728016</td>\n",
       "      <td>17.700962</td>\n",
       "      <td>22.241221</td>\n",
       "      <td>18.980226</td>\n",
       "      <td>18.879181</td>\n",
       "      <td>17.709269</td>\n",
       "      <td>20.661247</td>\n",
       "      <td>20.706672</td>\n",
       "      <td>19.968800</td>\n",
       "      <td>18.643717</td>\n",
       "      <td>19.953586</td>\n",
       "    </tr>\n",
       "    <tr>\n",
       "      <th>8</th>\n",
       "      <td>2018</td>\n",
       "      <td>5</td>\n",
       "      <td>max</td>\n",
       "      <td>21.354089</td>\n",
       "      <td>21.806705</td>\n",
       "      <td>19.863229</td>\n",
       "      <td>22.475220</td>\n",
       "      <td>18.996700</td>\n",
       "      <td>20.851806</td>\n",
       "      <td>18.774501</td>\n",
       "      <td>17.881270</td>\n",
       "      <td>18.584408</td>\n",
       "      <td>21.301897</td>\n",
       "      <td>20.574071</td>\n",
       "      <td>22.723350</td>\n",
       "      <td>22.856340</td>\n",
       "      <td>22.933260</td>\n",
       "      <td>19.538299</td>\n",
       "      <td>18.923798</td>\n",
       "      <td>18.814609</td>\n",
       "      <td>17.637654</td>\n",
       "      <td>18.457941</td>\n",
       "      <td>20.031285</td>\n",
       "      <td>20.235421</td>\n",
       "      <td>20.509023</td>\n",
       "      <td>20.080743</td>\n",
       "      <td>22.593543</td>\n",
       "      <td>18.806516</td>\n",
       "      <td>17.161325</td>\n",
       "      <td>19.362999</td>\n",
       "      <td>17.890202</td>\n",
       "      <td>18.695062</td>\n",
       "      <td>18.359134</td>\n",
       "      <td>19.559418</td>\n",
       "    </tr>\n",
       "    <tr>\n",
       "      <th>9</th>\n",
       "      <td>2018</td>\n",
       "      <td>5</td>\n",
       "      <td>min</td>\n",
       "      <td>18.889095</td>\n",
       "      <td>20.123320</td>\n",
       "      <td>19.376866</td>\n",
       "      <td>21.989649</td>\n",
       "      <td>17.459797</td>\n",
       "      <td>21.083719</td>\n",
       "      <td>20.670180</td>\n",
       "      <td>22.378758</td>\n",
       "      <td>18.603613</td>\n",
       "      <td>19.442066</td>\n",
       "      <td>22.482399</td>\n",
       "      <td>17.811882</td>\n",
       "      <td>18.004877</td>\n",
       "      <td>22.703267</td>\n",
       "      <td>17.860153</td>\n",
       "      <td>18.829748</td>\n",
       "      <td>21.914065</td>\n",
       "      <td>20.441300</td>\n",
       "      <td>17.341679</td>\n",
       "      <td>22.534792</td>\n",
       "      <td>17.559047</td>\n",
       "      <td>20.810872</td>\n",
       "      <td>18.254264</td>\n",
       "      <td>20.211035</td>\n",
       "      <td>20.679265</td>\n",
       "      <td>21.625088</td>\n",
       "      <td>21.260536</td>\n",
       "      <td>21.358298</td>\n",
       "      <td>20.760568</td>\n",
       "      <td>19.993844</td>\n",
       "      <td>22.908548</td>\n",
       "    </tr>\n",
       "    <tr>\n",
       "      <th>10</th>\n",
       "      <td>2018</td>\n",
       "      <td>6</td>\n",
       "      <td>max</td>\n",
       "      <td>22.419377</td>\n",
       "      <td>20.389671</td>\n",
       "      <td>22.669923</td>\n",
       "      <td>22.810337</td>\n",
       "      <td>20.300108</td>\n",
       "      <td>17.091177</td>\n",
       "      <td>20.195100</td>\n",
       "      <td>18.873392</td>\n",
       "      <td>19.996183</td>\n",
       "      <td>18.453909</td>\n",
       "      <td>19.483994</td>\n",
       "      <td>22.613443</td>\n",
       "      <td>21.413960</td>\n",
       "      <td>18.178747</td>\n",
       "      <td>21.759436</td>\n",
       "      <td>18.976875</td>\n",
       "      <td>22.175462</td>\n",
       "      <td>17.853544</td>\n",
       "      <td>20.747956</td>\n",
       "      <td>22.890525</td>\n",
       "      <td>21.027500</td>\n",
       "      <td>21.781542</td>\n",
       "      <td>17.015285</td>\n",
       "      <td>19.686188</td>\n",
       "      <td>17.987342</td>\n",
       "      <td>21.435778</td>\n",
       "      <td>21.736961</td>\n",
       "      <td>20.525993</td>\n",
       "      <td>20.003775</td>\n",
       "      <td>21.647975</td>\n",
       "      <td>17.277369</td>\n",
       "    </tr>\n",
       "    <tr>\n",
       "      <th>11</th>\n",
       "      <td>2018</td>\n",
       "      <td>6</td>\n",
       "      <td>min</td>\n",
       "      <td>21.121687</td>\n",
       "      <td>19.357005</td>\n",
       "      <td>17.346115</td>\n",
       "      <td>17.359855</td>\n",
       "      <td>18.956584</td>\n",
       "      <td>18.830880</td>\n",
       "      <td>17.514378</td>\n",
       "      <td>19.935816</td>\n",
       "      <td>20.249227</td>\n",
       "      <td>18.441432</td>\n",
       "      <td>22.437238</td>\n",
       "      <td>19.962931</td>\n",
       "      <td>19.301356</td>\n",
       "      <td>21.797049</td>\n",
       "      <td>17.323884</td>\n",
       "      <td>18.981661</td>\n",
       "      <td>19.097783</td>\n",
       "      <td>17.312790</td>\n",
       "      <td>22.756998</td>\n",
       "      <td>20.424337</td>\n",
       "      <td>21.772085</td>\n",
       "      <td>18.740019</td>\n",
       "      <td>22.893276</td>\n",
       "      <td>18.702475</td>\n",
       "      <td>19.178735</td>\n",
       "      <td>17.166716</td>\n",
       "      <td>21.236775</td>\n",
       "      <td>22.427899</td>\n",
       "      <td>19.030243</td>\n",
       "      <td>22.954366</td>\n",
       "      <td>20.909982</td>\n",
       "    </tr>\n",
       "    <tr>\n",
       "      <th>12</th>\n",
       "      <td>2018</td>\n",
       "      <td>7</td>\n",
       "      <td>max</td>\n",
       "      <td>19.006195</td>\n",
       "      <td>19.512117</td>\n",
       "      <td>21.249908</td>\n",
       "      <td>19.472257</td>\n",
       "      <td>17.682757</td>\n",
       "      <td>18.012483</td>\n",
       "      <td>22.622591</td>\n",
       "      <td>19.778909</td>\n",
       "      <td>18.612863</td>\n",
       "      <td>18.938600</td>\n",
       "      <td>20.145241</td>\n",
       "      <td>18.182840</td>\n",
       "      <td>19.905084</td>\n",
       "      <td>17.723472</td>\n",
       "      <td>20.401373</td>\n",
       "      <td>21.944710</td>\n",
       "      <td>19.052212</td>\n",
       "      <td>20.697862</td>\n",
       "      <td>17.423077</td>\n",
       "      <td>22.804965</td>\n",
       "      <td>20.821962</td>\n",
       "      <td>18.364730</td>\n",
       "      <td>21.049519</td>\n",
       "      <td>22.172182</td>\n",
       "      <td>22.032563</td>\n",
       "      <td>19.726391</td>\n",
       "      <td>19.359546</td>\n",
       "      <td>19.418448</td>\n",
       "      <td>22.130186</td>\n",
       "      <td>20.058017</td>\n",
       "      <td>18.371838</td>\n",
       "    </tr>\n",
       "    <tr>\n",
       "      <th>13</th>\n",
       "      <td>2018</td>\n",
       "      <td>7</td>\n",
       "      <td>min</td>\n",
       "      <td>19.704782</td>\n",
       "      <td>20.818029</td>\n",
       "      <td>21.998987</td>\n",
       "      <td>21.641961</td>\n",
       "      <td>21.974238</td>\n",
       "      <td>22.621633</td>\n",
       "      <td>19.706172</td>\n",
       "      <td>19.895614</td>\n",
       "      <td>22.361560</td>\n",
       "      <td>17.053850</td>\n",
       "      <td>19.923905</td>\n",
       "      <td>17.619261</td>\n",
       "      <td>17.877900</td>\n",
       "      <td>18.192022</td>\n",
       "      <td>19.291675</td>\n",
       "      <td>22.308352</td>\n",
       "      <td>22.512059</td>\n",
       "      <td>22.078248</td>\n",
       "      <td>20.900885</td>\n",
       "      <td>22.343208</td>\n",
       "      <td>18.338742</td>\n",
       "      <td>22.299387</td>\n",
       "      <td>21.523530</td>\n",
       "      <td>20.230445</td>\n",
       "      <td>17.291023</td>\n",
       "      <td>21.060501</td>\n",
       "      <td>18.380388</td>\n",
       "      <td>22.157723</td>\n",
       "      <td>20.065760</td>\n",
       "      <td>21.294903</td>\n",
       "      <td>18.303314</td>\n",
       "    </tr>\n",
       "    <tr>\n",
       "      <th>14</th>\n",
       "      <td>2018</td>\n",
       "      <td>8</td>\n",
       "      <td>max</td>\n",
       "      <td>21.736412</td>\n",
       "      <td>20.740506</td>\n",
       "      <td>21.384080</td>\n",
       "      <td>20.838949</td>\n",
       "      <td>19.450819</td>\n",
       "      <td>21.023473</td>\n",
       "      <td>18.996653</td>\n",
       "      <td>21.062467</td>\n",
       "      <td>22.778349</td>\n",
       "      <td>22.853273</td>\n",
       "      <td>20.844647</td>\n",
       "      <td>22.308015</td>\n",
       "      <td>22.238461</td>\n",
       "      <td>18.538391</td>\n",
       "      <td>20.204003</td>\n",
       "      <td>20.076154</td>\n",
       "      <td>18.438161</td>\n",
       "      <td>21.017664</td>\n",
       "      <td>18.987600</td>\n",
       "      <td>21.092465</td>\n",
       "      <td>22.494097</td>\n",
       "      <td>22.734952</td>\n",
       "      <td>18.310030</td>\n",
       "      <td>22.097507</td>\n",
       "      <td>17.002121</td>\n",
       "      <td>22.911112</td>\n",
       "      <td>19.771628</td>\n",
       "      <td>20.581845</td>\n",
       "      <td>22.614760</td>\n",
       "      <td>19.784193</td>\n",
       "      <td>21.420338</td>\n",
       "    </tr>\n",
       "    <tr>\n",
       "      <th>15</th>\n",
       "      <td>2018</td>\n",
       "      <td>8</td>\n",
       "      <td>min</td>\n",
       "      <td>18.896222</td>\n",
       "      <td>18.287267</td>\n",
       "      <td>19.770868</td>\n",
       "      <td>17.797850</td>\n",
       "      <td>18.318406</td>\n",
       "      <td>18.518200</td>\n",
       "      <td>17.960998</td>\n",
       "      <td>18.454756</td>\n",
       "      <td>19.456056</td>\n",
       "      <td>17.299154</td>\n",
       "      <td>19.209988</td>\n",
       "      <td>19.894978</td>\n",
       "      <td>20.348155</td>\n",
       "      <td>18.995740</td>\n",
       "      <td>21.845796</td>\n",
       "      <td>18.839154</td>\n",
       "      <td>18.074145</td>\n",
       "      <td>22.390690</td>\n",
       "      <td>19.582610</td>\n",
       "      <td>19.618039</td>\n",
       "      <td>17.096992</td>\n",
       "      <td>21.106888</td>\n",
       "      <td>18.091430</td>\n",
       "      <td>19.811531</td>\n",
       "      <td>20.808951</td>\n",
       "      <td>22.064548</td>\n",
       "      <td>21.913260</td>\n",
       "      <td>18.984714</td>\n",
       "      <td>18.327634</td>\n",
       "      <td>19.071913</td>\n",
       "      <td>18.538477</td>\n",
       "    </tr>\n",
       "    <tr>\n",
       "      <th>16</th>\n",
       "      <td>2018</td>\n",
       "      <td>10</td>\n",
       "      <td>max</td>\n",
       "      <td>18.503314</td>\n",
       "      <td>21.919221</td>\n",
       "      <td>22.222731</td>\n",
       "      <td>20.056339</td>\n",
       "      <td>21.171342</td>\n",
       "      <td>17.524772</td>\n",
       "      <td>18.845044</td>\n",
       "      <td>22.934687</td>\n",
       "      <td>20.254894</td>\n",
       "      <td>19.387604</td>\n",
       "      <td>21.486878</td>\n",
       "      <td>20.408238</td>\n",
       "      <td>21.738853</td>\n",
       "      <td>18.978805</td>\n",
       "      <td>21.752981</td>\n",
       "      <td>22.533282</td>\n",
       "      <td>17.462855</td>\n",
       "      <td>22.709894</td>\n",
       "      <td>21.795772</td>\n",
       "      <td>22.768198</td>\n",
       "      <td>19.370654</td>\n",
       "      <td>20.114971</td>\n",
       "      <td>20.885268</td>\n",
       "      <td>19.796539</td>\n",
       "      <td>18.925604</td>\n",
       "      <td>18.503575</td>\n",
       "      <td>20.695417</td>\n",
       "      <td>17.522579</td>\n",
       "      <td>18.225444</td>\n",
       "      <td>20.358178</td>\n",
       "      <td>21.530773</td>\n",
       "    </tr>\n",
       "    <tr>\n",
       "      <th>17</th>\n",
       "      <td>2018</td>\n",
       "      <td>10</td>\n",
       "      <td>min</td>\n",
       "      <td>22.845420</td>\n",
       "      <td>20.925599</td>\n",
       "      <td>17.622722</td>\n",
       "      <td>18.288523</td>\n",
       "      <td>17.924307</td>\n",
       "      <td>19.323868</td>\n",
       "      <td>20.499858</td>\n",
       "      <td>17.896248</td>\n",
       "      <td>19.581384</td>\n",
       "      <td>19.093981</td>\n",
       "      <td>21.219738</td>\n",
       "      <td>19.233836</td>\n",
       "      <td>22.748544</td>\n",
       "      <td>18.814694</td>\n",
       "      <td>22.405102</td>\n",
       "      <td>20.630403</td>\n",
       "      <td>21.668108</td>\n",
       "      <td>18.520005</td>\n",
       "      <td>21.771137</td>\n",
       "      <td>17.187572</td>\n",
       "      <td>20.968824</td>\n",
       "      <td>17.366527</td>\n",
       "      <td>21.204981</td>\n",
       "      <td>17.966559</td>\n",
       "      <td>20.621188</td>\n",
       "      <td>20.377089</td>\n",
       "      <td>21.781845</td>\n",
       "      <td>21.758143</td>\n",
       "      <td>18.036278</td>\n",
       "      <td>17.382997</td>\n",
       "      <td>21.691537</td>\n",
       "    </tr>\n",
       "    <tr>\n",
       "      <th>18</th>\n",
       "      <td>2018</td>\n",
       "      <td>11</td>\n",
       "      <td>max</td>\n",
       "      <td>17.994997</td>\n",
       "      <td>18.763467</td>\n",
       "      <td>22.573770</td>\n",
       "      <td>18.971307</td>\n",
       "      <td>22.703736</td>\n",
       "      <td>17.877037</td>\n",
       "      <td>21.348616</td>\n",
       "      <td>22.100336</td>\n",
       "      <td>19.034590</td>\n",
       "      <td>19.144784</td>\n",
       "      <td>22.634784</td>\n",
       "      <td>21.857309</td>\n",
       "      <td>20.514557</td>\n",
       "      <td>22.374936</td>\n",
       "      <td>17.722483</td>\n",
       "      <td>21.740644</td>\n",
       "      <td>22.797598</td>\n",
       "      <td>20.062607</td>\n",
       "      <td>21.634860</td>\n",
       "      <td>20.803281</td>\n",
       "      <td>18.983961</td>\n",
       "      <td>19.020742</td>\n",
       "      <td>22.752335</td>\n",
       "      <td>21.437482</td>\n",
       "      <td>17.751197</td>\n",
       "      <td>22.461303</td>\n",
       "      <td>22.311952</td>\n",
       "      <td>17.661902</td>\n",
       "      <td>22.275747</td>\n",
       "      <td>18.108529</td>\n",
       "      <td>20.750438</td>\n",
       "    </tr>\n",
       "    <tr>\n",
       "      <th>19</th>\n",
       "      <td>2018</td>\n",
       "      <td>11</td>\n",
       "      <td>min</td>\n",
       "      <td>22.275672</td>\n",
       "      <td>20.969661</td>\n",
       "      <td>17.245579</td>\n",
       "      <td>19.999959</td>\n",
       "      <td>21.967979</td>\n",
       "      <td>20.874754</td>\n",
       "      <td>22.106562</td>\n",
       "      <td>19.559973</td>\n",
       "      <td>21.381872</td>\n",
       "      <td>19.206065</td>\n",
       "      <td>22.820985</td>\n",
       "      <td>22.116759</td>\n",
       "      <td>17.854570</td>\n",
       "      <td>19.706737</td>\n",
       "      <td>20.824188</td>\n",
       "      <td>17.575852</td>\n",
       "      <td>18.794443</td>\n",
       "      <td>18.478971</td>\n",
       "      <td>17.083879</td>\n",
       "      <td>20.174955</td>\n",
       "      <td>21.376664</td>\n",
       "      <td>22.308400</td>\n",
       "      <td>21.021536</td>\n",
       "      <td>22.394417</td>\n",
       "      <td>19.019626</td>\n",
       "      <td>21.287149</td>\n",
       "      <td>20.163074</td>\n",
       "      <td>20.674553</td>\n",
       "      <td>17.862405</td>\n",
       "      <td>22.946974</td>\n",
       "      <td>18.939767</td>\n",
       "    </tr>\n",
       "    <tr>\n",
       "      <th>20</th>\n",
       "      <td>2018</td>\n",
       "      <td>12</td>\n",
       "      <td>max</td>\n",
       "      <td>17.367511</td>\n",
       "      <td>20.085256</td>\n",
       "      <td>22.052408</td>\n",
       "      <td>21.705199</td>\n",
       "      <td>21.375349</td>\n",
       "      <td>17.992885</td>\n",
       "      <td>19.683359</td>\n",
       "      <td>20.477046</td>\n",
       "      <td>20.210640</td>\n",
       "      <td>19.723102</td>\n",
       "      <td>18.702306</td>\n",
       "      <td>21.946825</td>\n",
       "      <td>22.017111</td>\n",
       "      <td>20.703143</td>\n",
       "      <td>22.813501</td>\n",
       "      <td>21.296838</td>\n",
       "      <td>20.723042</td>\n",
       "      <td>21.609235</td>\n",
       "      <td>22.799384</td>\n",
       "      <td>17.047687</td>\n",
       "      <td>22.752284</td>\n",
       "      <td>18.234449</td>\n",
       "      <td>21.399323</td>\n",
       "      <td>20.812194</td>\n",
       "      <td>18.291352</td>\n",
       "      <td>20.828003</td>\n",
       "      <td>20.528289</td>\n",
       "      <td>21.457248</td>\n",
       "      <td>19.919595</td>\n",
       "      <td>18.830226</td>\n",
       "      <td>19.648924</td>\n",
       "    </tr>\n",
       "    <tr>\n",
       "      <th>21</th>\n",
       "      <td>2018</td>\n",
       "      <td>12</td>\n",
       "      <td>min</td>\n",
       "      <td>18.175223</td>\n",
       "      <td>18.372862</td>\n",
       "      <td>22.745302</td>\n",
       "      <td>22.179476</td>\n",
       "      <td>20.865535</td>\n",
       "      <td>20.310116</td>\n",
       "      <td>20.531823</td>\n",
       "      <td>19.310346</td>\n",
       "      <td>22.820992</td>\n",
       "      <td>20.911788</td>\n",
       "      <td>19.580756</td>\n",
       "      <td>22.285076</td>\n",
       "      <td>18.253092</td>\n",
       "      <td>18.865005</td>\n",
       "      <td>21.505977</td>\n",
       "      <td>17.608992</td>\n",
       "      <td>17.644583</td>\n",
       "      <td>19.305740</td>\n",
       "      <td>17.441330</td>\n",
       "      <td>21.129271</td>\n",
       "      <td>21.468867</td>\n",
       "      <td>18.337089</td>\n",
       "      <td>18.498903</td>\n",
       "      <td>19.639278</td>\n",
       "      <td>20.677835</td>\n",
       "      <td>17.974580</td>\n",
       "      <td>18.744409</td>\n",
       "      <td>20.488991</td>\n",
       "      <td>21.662129</td>\n",
       "      <td>20.137534</td>\n",
       "      <td>18.775539</td>\n",
       "    </tr>\n",
       "  </tbody>\n",
       "</table>\n",
       "</div>"
      ],
      "text/plain": [
       "    year  month element       day1       day2  ...      day27      day28      day29      day30      day31\n",
       "0   2018      1     max  17.573016  19.796815  ...  19.700255  19.084056  18.534690  20.787275  21.117423\n",
       "1   2018      1     min  22.725760  21.007865  ...  17.646139  19.844125  22.729859  19.768917  20.913443\n",
       "2   2018      2     max  19.015120  19.261805  ...  20.308927  20.438899  17.005806  18.346534  20.878165\n",
       "3   2018      2     min  18.653843  22.818600  ...  20.823661  18.056112  22.748292  22.470172  18.602007\n",
       "4   2018      3     max  20.741115  19.704016  ...  22.591993  17.406800  19.118712  22.767154  17.119452\n",
       "5   2018      3     min  17.250431  20.325829  ...  18.198453  19.469490  22.732071  19.558373  21.205858\n",
       "6   2018      4     max  20.408029  21.634346  ...  20.797801  22.940309  21.036940  21.043597  18.219116\n",
       "7   2018      4     min  21.849449  19.659674  ...  20.661247  20.706672  19.968800  18.643717  19.953586\n",
       "8   2018      5     max  21.354089  21.806705  ...  19.362999  17.890202  18.695062  18.359134  19.559418\n",
       "9   2018      5     min  18.889095  20.123320  ...  21.260536  21.358298  20.760568  19.993844  22.908548\n",
       "10  2018      6     max  22.419377  20.389671  ...  21.736961  20.525993  20.003775  21.647975  17.277369\n",
       "11  2018      6     min  21.121687  19.357005  ...  21.236775  22.427899  19.030243  22.954366  20.909982\n",
       "12  2018      7     max  19.006195  19.512117  ...  19.359546  19.418448  22.130186  20.058017  18.371838\n",
       "13  2018      7     min  19.704782  20.818029  ...  18.380388  22.157723  20.065760  21.294903  18.303314\n",
       "14  2018      8     max  21.736412  20.740506  ...  19.771628  20.581845  22.614760  19.784193  21.420338\n",
       "15  2018      8     min  18.896222  18.287267  ...  21.913260  18.984714  18.327634  19.071913  18.538477\n",
       "16  2018     10     max  18.503314  21.919221  ...  20.695417  17.522579  18.225444  20.358178  21.530773\n",
       "17  2018     10     min  22.845420  20.925599  ...  21.781845  21.758143  18.036278  17.382997  21.691537\n",
       "18  2018     11     max  17.994997  18.763467  ...  22.311952  17.661902  22.275747  18.108529  20.750438\n",
       "19  2018     11     min  22.275672  20.969661  ...  20.163074  20.674553  17.862405  22.946974  18.939767\n",
       "20  2018     12     max  17.367511  20.085256  ...  20.528289  21.457248  19.919595  18.830226  19.648924\n",
       "21  2018     12     min  18.175223  18.372862  ...  18.744409  20.488991  21.662129  20.137534  18.775539\n",
       "\n",
       "[22 rows x 34 columns]"
      ]
     },
     "execution_count": 854,
     "metadata": {},
     "output_type": "execute_result"
    }
   ],
   "source": [
    "df = pd.read_csv(\"weather-Copy1.csv\")\n",
    "df"
   ]
  },
  {
   "cell_type": "code",
   "execution_count": 869,
   "id": "55ef8859",
   "metadata": {},
   "outputs": [
    {
     "data": {
      "application/javascript": [
       "\n",
       "        if (window._pyforest_update_imports_cell) { window._pyforest_update_imports_cell('import pandas as pd'); }\n",
       "    "
      ],
      "text/plain": [
       "<IPython.core.display.Javascript object>"
      ]
     },
     "metadata": {},
     "output_type": "display_data"
    }
   ],
   "source": [
    "melted = pd.melt(\n",
    "    frame = df,\n",
    "    id_vars=[\"year\",\"month\",\"element\"],\n",
    "    value_vars=None,\n",
    "    var_name=\"day\",\n",
    "    value_name='temp',\n",
    "    col_level = None,\n",
    "    ignore_index = True,)"
   ]
  },
  {
   "cell_type": "code",
   "execution_count": 870,
   "id": "5cfca142",
   "metadata": {},
   "outputs": [
    {
     "data": {
      "text/html": [
       "<div>\n",
       "<style scoped>\n",
       "    .dataframe tbody tr th:only-of-type {\n",
       "        vertical-align: middle;\n",
       "    }\n",
       "\n",
       "    .dataframe tbody tr th {\n",
       "        vertical-align: top;\n",
       "    }\n",
       "\n",
       "    .dataframe thead th {\n",
       "        text-align: right;\n",
       "    }\n",
       "</style>\n",
       "<table border=\"1\" class=\"dataframe\">\n",
       "  <thead>\n",
       "    <tr style=\"text-align: right;\">\n",
       "      <th></th>\n",
       "      <th>year</th>\n",
       "      <th>month</th>\n",
       "      <th>element</th>\n",
       "      <th>day</th>\n",
       "      <th>temp</th>\n",
       "    </tr>\n",
       "  </thead>\n",
       "  <tbody>\n",
       "    <tr>\n",
       "      <th>0</th>\n",
       "      <td>2018</td>\n",
       "      <td>1</td>\n",
       "      <td>max</td>\n",
       "      <td>day1</td>\n",
       "      <td>17.573016</td>\n",
       "    </tr>\n",
       "    <tr>\n",
       "      <th>1</th>\n",
       "      <td>2018</td>\n",
       "      <td>1</td>\n",
       "      <td>min</td>\n",
       "      <td>day1</td>\n",
       "      <td>22.725760</td>\n",
       "    </tr>\n",
       "    <tr>\n",
       "      <th>2</th>\n",
       "      <td>2018</td>\n",
       "      <td>2</td>\n",
       "      <td>max</td>\n",
       "      <td>day1</td>\n",
       "      <td>19.015120</td>\n",
       "    </tr>\n",
       "    <tr>\n",
       "      <th>3</th>\n",
       "      <td>2018</td>\n",
       "      <td>2</td>\n",
       "      <td>min</td>\n",
       "      <td>day1</td>\n",
       "      <td>18.653843</td>\n",
       "    </tr>\n",
       "    <tr>\n",
       "      <th>4</th>\n",
       "      <td>2018</td>\n",
       "      <td>3</td>\n",
       "      <td>max</td>\n",
       "      <td>day1</td>\n",
       "      <td>20.741115</td>\n",
       "    </tr>\n",
       "    <tr>\n",
       "      <th>...</th>\n",
       "      <td>...</td>\n",
       "      <td>...</td>\n",
       "      <td>...</td>\n",
       "      <td>...</td>\n",
       "      <td>...</td>\n",
       "    </tr>\n",
       "    <tr>\n",
       "      <th>677</th>\n",
       "      <td>2018</td>\n",
       "      <td>10</td>\n",
       "      <td>min</td>\n",
       "      <td>day31</td>\n",
       "      <td>21.691537</td>\n",
       "    </tr>\n",
       "    <tr>\n",
       "      <th>678</th>\n",
       "      <td>2018</td>\n",
       "      <td>11</td>\n",
       "      <td>max</td>\n",
       "      <td>day31</td>\n",
       "      <td>20.750438</td>\n",
       "    </tr>\n",
       "    <tr>\n",
       "      <th>679</th>\n",
       "      <td>2018</td>\n",
       "      <td>11</td>\n",
       "      <td>min</td>\n",
       "      <td>day31</td>\n",
       "      <td>18.939767</td>\n",
       "    </tr>\n",
       "    <tr>\n",
       "      <th>680</th>\n",
       "      <td>2018</td>\n",
       "      <td>12</td>\n",
       "      <td>max</td>\n",
       "      <td>day31</td>\n",
       "      <td>19.648924</td>\n",
       "    </tr>\n",
       "    <tr>\n",
       "      <th>681</th>\n",
       "      <td>2018</td>\n",
       "      <td>12</td>\n",
       "      <td>min</td>\n",
       "      <td>day31</td>\n",
       "      <td>18.775539</td>\n",
       "    </tr>\n",
       "  </tbody>\n",
       "</table>\n",
       "<p>682 rows × 5 columns</p>\n",
       "</div>"
      ],
      "text/plain": [
       "     year  month element    day       temp\n",
       "0    2018      1     max   day1  17.573016\n",
       "1    2018      1     min   day1  22.725760\n",
       "2    2018      2     max   day1  19.015120\n",
       "3    2018      2     min   day1  18.653843\n",
       "4    2018      3     max   day1  20.741115\n",
       "..    ...    ...     ...    ...        ...\n",
       "677  2018     10     min  day31  21.691537\n",
       "678  2018     11     max  day31  20.750438\n",
       "679  2018     11     min  day31  18.939767\n",
       "680  2018     12     max  day31  19.648924\n",
       "681  2018     12     min  day31  18.775539\n",
       "\n",
       "[682 rows x 5 columns]"
      ]
     },
     "execution_count": 870,
     "metadata": {},
     "output_type": "execute_result"
    }
   ],
   "source": [
    "melted"
   ]
  },
  {
   "cell_type": "code",
   "execution_count": 873,
   "id": "ed36439d",
   "metadata": {},
   "outputs": [
    {
     "data": {
      "text/html": [
       "<div>\n",
       "<style scoped>\n",
       "    .dataframe tbody tr th:only-of-type {\n",
       "        vertical-align: middle;\n",
       "    }\n",
       "\n",
       "    .dataframe tbody tr th {\n",
       "        vertical-align: top;\n",
       "    }\n",
       "\n",
       "    .dataframe thead th {\n",
       "        text-align: right;\n",
       "    }\n",
       "</style>\n",
       "<table border=\"1\" class=\"dataframe\">\n",
       "  <thead>\n",
       "    <tr style=\"text-align: right;\">\n",
       "      <th></th>\n",
       "      <th></th>\n",
       "      <th>element</th>\n",
       "      <th>max</th>\n",
       "      <th>min</th>\n",
       "    </tr>\n",
       "    <tr>\n",
       "      <th>year</th>\n",
       "      <th>month</th>\n",
       "      <th>day</th>\n",
       "      <th></th>\n",
       "      <th></th>\n",
       "    </tr>\n",
       "  </thead>\n",
       "  <tbody>\n",
       "    <tr>\n",
       "      <th rowspan=\"11\" valign=\"top\">2018</th>\n",
       "      <th rowspan=\"5\" valign=\"top\">1</th>\n",
       "      <th>day1</th>\n",
       "      <td>17.573016</td>\n",
       "      <td>22.725760</td>\n",
       "    </tr>\n",
       "    <tr>\n",
       "      <th>day10</th>\n",
       "      <td>19.067288</td>\n",
       "      <td>19.931129</td>\n",
       "    </tr>\n",
       "    <tr>\n",
       "      <th>day11</th>\n",
       "      <td>19.361002</td>\n",
       "      <td>22.598325</td>\n",
       "    </tr>\n",
       "    <tr>\n",
       "      <th>day12</th>\n",
       "      <td>20.982134</td>\n",
       "      <td>17.715137</td>\n",
       "    </tr>\n",
       "    <tr>\n",
       "      <th>day13</th>\n",
       "      <td>21.668005</td>\n",
       "      <td>17.940334</td>\n",
       "    </tr>\n",
       "    <tr>\n",
       "      <th>...</th>\n",
       "      <th>...</th>\n",
       "      <td>...</td>\n",
       "      <td>...</td>\n",
       "    </tr>\n",
       "    <tr>\n",
       "      <th rowspan=\"5\" valign=\"top\">12</th>\n",
       "      <th>day5</th>\n",
       "      <td>21.375349</td>\n",
       "      <td>20.865535</td>\n",
       "    </tr>\n",
       "    <tr>\n",
       "      <th>day6</th>\n",
       "      <td>17.992885</td>\n",
       "      <td>20.310116</td>\n",
       "    </tr>\n",
       "    <tr>\n",
       "      <th>day7</th>\n",
       "      <td>19.683359</td>\n",
       "      <td>20.531823</td>\n",
       "    </tr>\n",
       "    <tr>\n",
       "      <th>day8</th>\n",
       "      <td>20.477046</td>\n",
       "      <td>19.310346</td>\n",
       "    </tr>\n",
       "    <tr>\n",
       "      <th>day9</th>\n",
       "      <td>20.210640</td>\n",
       "      <td>22.820992</td>\n",
       "    </tr>\n",
       "  </tbody>\n",
       "</table>\n",
       "<p>341 rows × 2 columns</p>\n",
       "</div>"
      ],
      "text/plain": [
       "element                 max        min\n",
       "year month day                        \n",
       "2018 1     day1   17.573016  22.725760\n",
       "           day10  19.067288  19.931129\n",
       "           day11  19.361002  22.598325\n",
       "           day12  20.982134  17.715137\n",
       "           day13  21.668005  17.940334\n",
       "...                     ...        ...\n",
       "     12    day5   21.375349  20.865535\n",
       "           day6   17.992885  20.310116\n",
       "           day7   19.683359  20.531823\n",
       "           day8   20.477046  19.310346\n",
       "           day9   20.210640  22.820992\n",
       "\n",
       "[341 rows x 2 columns]"
      ]
     },
     "execution_count": 873,
     "metadata": {},
     "output_type": "execute_result"
    }
   ],
   "source": [
    "melted.pivot_table(\n",
    "    values=\"temp\",\n",
    "    index=[\"year\",\"month\",\"day\"],\n",
    "    columns=\"element\"\n",
    "    )"
   ]
  },
  {
   "cell_type": "code",
   "execution_count": null,
   "id": "6526bff9",
   "metadata": {},
   "outputs": [],
   "source": []
  },
  {
   "cell_type": "code",
   "execution_count": 874,
   "id": "d9b233b6",
   "metadata": {},
   "outputs": [
    {
     "data": {
      "text/html": [
       "<div>\n",
       "<style scoped>\n",
       "    .dataframe tbody tr th:only-of-type {\n",
       "        vertical-align: middle;\n",
       "    }\n",
       "\n",
       "    .dataframe tbody tr th {\n",
       "        vertical-align: top;\n",
       "    }\n",
       "\n",
       "    .dataframe thead th {\n",
       "        text-align: right;\n",
       "    }\n",
       "</style>\n",
       "<table border=\"1\" class=\"dataframe\">\n",
       "  <thead>\n",
       "    <tr style=\"text-align: right;\">\n",
       "      <th>element</th>\n",
       "      <th>year</th>\n",
       "      <th>month</th>\n",
       "      <th>day</th>\n",
       "      <th>max</th>\n",
       "      <th>min</th>\n",
       "    </tr>\n",
       "  </thead>\n",
       "  <tbody>\n",
       "    <tr>\n",
       "      <th>0</th>\n",
       "      <td>2018</td>\n",
       "      <td>1</td>\n",
       "      <td>day1</td>\n",
       "      <td>17.573016</td>\n",
       "      <td>22.725760</td>\n",
       "    </tr>\n",
       "    <tr>\n",
       "      <th>1</th>\n",
       "      <td>2018</td>\n",
       "      <td>1</td>\n",
       "      <td>day10</td>\n",
       "      <td>19.067288</td>\n",
       "      <td>19.931129</td>\n",
       "    </tr>\n",
       "    <tr>\n",
       "      <th>2</th>\n",
       "      <td>2018</td>\n",
       "      <td>1</td>\n",
       "      <td>day11</td>\n",
       "      <td>19.361002</td>\n",
       "      <td>22.598325</td>\n",
       "    </tr>\n",
       "    <tr>\n",
       "      <th>3</th>\n",
       "      <td>2018</td>\n",
       "      <td>1</td>\n",
       "      <td>day12</td>\n",
       "      <td>20.982134</td>\n",
       "      <td>17.715137</td>\n",
       "    </tr>\n",
       "    <tr>\n",
       "      <th>4</th>\n",
       "      <td>2018</td>\n",
       "      <td>1</td>\n",
       "      <td>day13</td>\n",
       "      <td>21.668005</td>\n",
       "      <td>17.940334</td>\n",
       "    </tr>\n",
       "    <tr>\n",
       "      <th>...</th>\n",
       "      <td>...</td>\n",
       "      <td>...</td>\n",
       "      <td>...</td>\n",
       "      <td>...</td>\n",
       "      <td>...</td>\n",
       "    </tr>\n",
       "    <tr>\n",
       "      <th>336</th>\n",
       "      <td>2018</td>\n",
       "      <td>12</td>\n",
       "      <td>day5</td>\n",
       "      <td>21.375349</td>\n",
       "      <td>20.865535</td>\n",
       "    </tr>\n",
       "    <tr>\n",
       "      <th>337</th>\n",
       "      <td>2018</td>\n",
       "      <td>12</td>\n",
       "      <td>day6</td>\n",
       "      <td>17.992885</td>\n",
       "      <td>20.310116</td>\n",
       "    </tr>\n",
       "    <tr>\n",
       "      <th>338</th>\n",
       "      <td>2018</td>\n",
       "      <td>12</td>\n",
       "      <td>day7</td>\n",
       "      <td>19.683359</td>\n",
       "      <td>20.531823</td>\n",
       "    </tr>\n",
       "    <tr>\n",
       "      <th>339</th>\n",
       "      <td>2018</td>\n",
       "      <td>12</td>\n",
       "      <td>day8</td>\n",
       "      <td>20.477046</td>\n",
       "      <td>19.310346</td>\n",
       "    </tr>\n",
       "    <tr>\n",
       "      <th>340</th>\n",
       "      <td>2018</td>\n",
       "      <td>12</td>\n",
       "      <td>day9</td>\n",
       "      <td>20.210640</td>\n",
       "      <td>22.820992</td>\n",
       "    </tr>\n",
       "  </tbody>\n",
       "</table>\n",
       "<p>341 rows × 5 columns</p>\n",
       "</div>"
      ],
      "text/plain": [
       "element  year  month    day        max        min\n",
       "0        2018      1   day1  17.573016  22.725760\n",
       "1        2018      1  day10  19.067288  19.931129\n",
       "2        2018      1  day11  19.361002  22.598325\n",
       "3        2018      1  day12  20.982134  17.715137\n",
       "4        2018      1  day13  21.668005  17.940334\n",
       "..        ...    ...    ...        ...        ...\n",
       "336      2018     12   day5  21.375349  20.865535\n",
       "337      2018     12   day6  17.992885  20.310116\n",
       "338      2018     12   day7  19.683359  20.531823\n",
       "339      2018     12   day8  20.477046  19.310346\n",
       "340      2018     12   day9  20.210640  22.820992\n",
       "\n",
       "[341 rows x 5 columns]"
      ]
     },
     "execution_count": 874,
     "metadata": {},
     "output_type": "execute_result"
    }
   ],
   "source": [
    "melted.pivot_table(\n",
    "    values=\"temp\",\n",
    "    index=[\"year\",\"month\",\"day\"],\n",
    "    columns=\"element\"\n",
    "    ).reset_index()"
   ]
  },
  {
   "cell_type": "code",
   "execution_count": 229,
   "id": "49712743",
   "metadata": {},
   "outputs": [],
   "source": [
    "import warnings\n",
    "warnings.filterwarnings(\"ignore\")"
   ]
  },
  {
   "cell_type": "code",
   "execution_count": 230,
   "id": "c09e528b",
   "metadata": {},
   "outputs": [],
   "source": [
    "import pandas as pd\n",
    "import numpy as np"
   ]
  },
  {
   "cell_type": "code",
   "execution_count": 231,
   "id": "2e6644bd",
   "metadata": {},
   "outputs": [
    {
     "name": "stdout",
     "output_type": "stream",
     "text": [
      "\n",
      "System:\n",
      "    python: 3.9.7 (default, Sep 16 2021, 16:59:28) [MSC v.1916 64 bit (AMD64)]\n",
      "executable: C:\\Users\\sunny\\anaconda3\\python.exe\n",
      "   machine: Windows-10-10.0.22621-SP0\n",
      "\n",
      "Python dependencies:\n",
      "      sklearn: 1.2.0\n",
      "          pip: 21.2.4\n",
      "   setuptools: 58.0.4\n",
      "        numpy: 1.20.3\n",
      "        scipy: 1.7.1\n",
      "       Cython: 0.29.24\n",
      "       pandas: 1.3.4\n",
      "   matplotlib: 3.4.3\n",
      "       joblib: 1.2.0\n",
      "threadpoolctl: 2.2.0\n",
      "\n",
      "Built with OpenMP: True\n",
      "\n",
      "threadpoolctl info:\n",
      "       filepath: C:\\Users\\sunny\\anaconda3\\Library\\bin\\mkl_rt.1.dll\n",
      "         prefix: mkl_rt\n",
      "       user_api: blas\n",
      "   internal_api: mkl\n",
      "        version: 2021.4-Product\n",
      "    num_threads: 6\n",
      "threading_layer: intel\n",
      "\n",
      "       filepath: C:\\Users\\sunny\\anaconda3\\Lib\\site-packages\\sklearn\\.libs\\vcomp140.dll\n",
      "         prefix: vcomp\n",
      "       user_api: openmp\n",
      "   internal_api: openmp\n",
      "        version: None\n",
      "    num_threads: 12\n",
      "\n",
      "       filepath: C:\\Users\\sunny\\anaconda3\\Library\\bin\\libiomp5md.dll\n",
      "         prefix: libiomp\n",
      "       user_api: openmp\n",
      "   internal_api: openmp\n",
      "        version: None\n",
      "    num_threads: 12\n"
     ]
    }
   ],
   "source": [
    "sklearn.show_versions()"
   ]
  },
  {
   "cell_type": "code",
   "execution_count": 232,
   "id": "ace4394e",
   "metadata": {},
   "outputs": [],
   "source": [
    "# from sklearn.datasets import load_boston\n"
   ]
  },
  {
   "cell_type": "code",
   "execution_count": 233,
   "id": "300ef500",
   "metadata": {},
   "outputs": [],
   "source": [
    "# X,y = load_boston(return_X_y=True)"
   ]
  },
  {
   "cell_type": "code",
   "execution_count": 234,
   "id": "2782418b",
   "metadata": {},
   "outputs": [],
   "source": [
    "# X"
   ]
  },
  {
   "cell_type": "code",
   "execution_count": 235,
   "id": "5a38ebed",
   "metadata": {},
   "outputs": [],
   "source": [
    "# y"
   ]
  },
  {
   "cell_type": "code",
   "execution_count": null,
   "id": "bb2392da",
   "metadata": {},
   "outputs": [],
   "source": []
  },
  {
   "cell_type": "code",
   "execution_count": 236,
   "id": "f9cf5406",
   "metadata": {},
   "outputs": [],
   "source": [
    "from sklearn.datasets import fetch_california_housing"
   ]
  },
  {
   "cell_type": "code",
   "execution_count": 237,
   "id": "e38cf3f6",
   "metadata": {},
   "outputs": [
    {
     "name": "stdout",
     "output_type": "stream",
     "text": [
      "{'data':        MedInc  HouseAge  AveRooms  AveBedrms  Population  AveOccup  Latitude  \\\n",
      "0      8.3252      41.0  6.984127   1.023810       322.0  2.555556     37.88   \n",
      "1      8.3014      21.0  6.238137   0.971880      2401.0  2.109842     37.86   \n",
      "2      7.2574      52.0  8.288136   1.073446       496.0  2.802260     37.85   \n",
      "3      5.6431      52.0  5.817352   1.073059       558.0  2.547945     37.85   \n",
      "4      3.8462      52.0  6.281853   1.081081       565.0  2.181467     37.85   \n",
      "...       ...       ...       ...        ...         ...       ...       ...   \n",
      "20635  1.5603      25.0  5.045455   1.133333       845.0  2.560606     39.48   \n",
      "20636  2.5568      18.0  6.114035   1.315789       356.0  3.122807     39.49   \n",
      "20637  1.7000      17.0  5.205543   1.120092      1007.0  2.325635     39.43   \n",
      "20638  1.8672      18.0  5.329513   1.171920       741.0  2.123209     39.43   \n",
      "20639  2.3886      16.0  5.254717   1.162264      1387.0  2.616981     39.37   \n",
      "\n",
      "       Longitude  \n",
      "0        -122.23  \n",
      "1        -122.22  \n",
      "2        -122.24  \n",
      "3        -122.25  \n",
      "4        -122.25  \n",
      "...          ...  \n",
      "20635    -121.09  \n",
      "20636    -121.21  \n",
      "20637    -121.22  \n",
      "20638    -121.32  \n",
      "20639    -121.24  \n",
      "\n",
      "[20640 rows x 8 columns], 'target': 0        4.526\n",
      "1        3.585\n",
      "2        3.521\n",
      "3        3.413\n",
      "4        3.422\n",
      "         ...  \n",
      "20635    0.781\n",
      "20636    0.771\n",
      "20637    0.923\n",
      "20638    0.847\n",
      "20639    0.894\n",
      "Name: MedHouseVal, Length: 20640, dtype: float64, 'frame':        MedInc  HouseAge  AveRooms  AveBedrms  Population  AveOccup  Latitude  \\\n",
      "0      8.3252      41.0  6.984127   1.023810       322.0  2.555556     37.88   \n",
      "1      8.3014      21.0  6.238137   0.971880      2401.0  2.109842     37.86   \n",
      "2      7.2574      52.0  8.288136   1.073446       496.0  2.802260     37.85   \n",
      "3      5.6431      52.0  5.817352   1.073059       558.0  2.547945     37.85   \n",
      "4      3.8462      52.0  6.281853   1.081081       565.0  2.181467     37.85   \n",
      "...       ...       ...       ...        ...         ...       ...       ...   \n",
      "20635  1.5603      25.0  5.045455   1.133333       845.0  2.560606     39.48   \n",
      "20636  2.5568      18.0  6.114035   1.315789       356.0  3.122807     39.49   \n",
      "20637  1.7000      17.0  5.205543   1.120092      1007.0  2.325635     39.43   \n",
      "20638  1.8672      18.0  5.329513   1.171920       741.0  2.123209     39.43   \n",
      "20639  2.3886      16.0  5.254717   1.162264      1387.0  2.616981     39.37   \n",
      "\n",
      "       Longitude  MedHouseVal  \n",
      "0        -122.23        4.526  \n",
      "1        -122.22        3.585  \n",
      "2        -122.24        3.521  \n",
      "3        -122.25        3.413  \n",
      "4        -122.25        3.422  \n",
      "...          ...          ...  \n",
      "20635    -121.09        0.781  \n",
      "20636    -121.21        0.771  \n",
      "20637    -121.22        0.923  \n",
      "20638    -121.32        0.847  \n",
      "20639    -121.24        0.894  \n",
      "\n",
      "[20640 rows x 9 columns], 'target_names': ['MedHouseVal'], 'feature_names': ['MedInc', 'HouseAge', 'AveRooms', 'AveBedrms', 'Population', 'AveOccup', 'Latitude', 'Longitude'], 'DESCR': '.. _california_housing_dataset:\\n\\nCalifornia Housing dataset\\n--------------------------\\n\\n**Data Set Characteristics:**\\n\\n    :Number of Instances: 20640\\n\\n    :Number of Attributes: 8 numeric, predictive attributes and the target\\n\\n    :Attribute Information:\\n        - MedInc        median income in block group\\n        - HouseAge      median house age in block group\\n        - AveRooms      average number of rooms per household\\n        - AveBedrms     average number of bedrooms per household\\n        - Population    block group population\\n        - AveOccup      average number of household members\\n        - Latitude      block group latitude\\n        - Longitude     block group longitude\\n\\n    :Missing Attribute Values: None\\n\\nThis dataset was obtained from the StatLib repository.\\nhttps://www.dcc.fc.up.pt/~ltorgo/Regression/cal_housing.html\\n\\nThe target variable is the median house value for California districts,\\nexpressed in hundreds of thousands of dollars ($100,000).\\n\\nThis dataset was derived from the 1990 U.S. census, using one row per census\\nblock group. A block group is the smallest geographical unit for which the U.S.\\nCensus Bureau publishes sample data (a block group typically has a population\\nof 600 to 3,000 people).\\n\\nAn household is a group of people residing within a home. Since the average\\nnumber of rooms and bedrooms in this dataset are provided per household, these\\ncolumns may take surpinsingly large values for block groups with few households\\nand many empty houses, such as vacation resorts.\\n\\nIt can be downloaded/loaded using the\\n:func:`sklearn.datasets.fetch_california_housing` function.\\n\\n.. topic:: References\\n\\n    - Pace, R. Kelley and Ronald Barry, Sparse Spatial Autoregressions,\\n      Statistics and Probability Letters, 33 (1997) 291-297\\n'}\n"
     ]
    }
   ],
   "source": [
    "print(fetch_california_housing(download_if_missing=True, return_X_y=False, as_frame=True))"
   ]
  },
  {
   "cell_type": "code",
   "execution_count": 238,
   "id": "a93753a7",
   "metadata": {},
   "outputs": [],
   "source": [
    "data = fetch_california_housing()"
   ]
  },
  {
   "cell_type": "code",
   "execution_count": 239,
   "id": "68b53b38",
   "metadata": {},
   "outputs": [],
   "source": [
    "df = pd.DataFrame(data = data.data, \n",
    "                 columns=data.feature_names)"
   ]
  },
  {
   "cell_type": "code",
   "execution_count": 240,
   "id": "cf9e62c9",
   "metadata": {},
   "outputs": [
    {
     "data": {
      "text/plain": [
       "['MedHouseVal']"
      ]
     },
     "execution_count": 240,
     "metadata": {},
     "output_type": "execute_result"
    }
   ],
   "source": [
    "data.target_names"
   ]
  },
  {
   "cell_type": "code",
   "execution_count": 241,
   "id": "26eaf94b",
   "metadata": {},
   "outputs": [],
   "source": [
    "df[\"MedHouseVal\"] = data.target"
   ]
  },
  {
   "cell_type": "code",
   "execution_count": 242,
   "id": "389a9540",
   "metadata": {},
   "outputs": [
    {
     "data": {
      "text/html": [
       "<div>\n",
       "<style scoped>\n",
       "    .dataframe tbody tr th:only-of-type {\n",
       "        vertical-align: middle;\n",
       "    }\n",
       "\n",
       "    .dataframe tbody tr th {\n",
       "        vertical-align: top;\n",
       "    }\n",
       "\n",
       "    .dataframe thead th {\n",
       "        text-align: right;\n",
       "    }\n",
       "</style>\n",
       "<table border=\"1\" class=\"dataframe\">\n",
       "  <thead>\n",
       "    <tr style=\"text-align: right;\">\n",
       "      <th></th>\n",
       "      <th>MedInc</th>\n",
       "      <th>HouseAge</th>\n",
       "      <th>AveRooms</th>\n",
       "      <th>AveBedrms</th>\n",
       "      <th>Population</th>\n",
       "      <th>AveOccup</th>\n",
       "      <th>Latitude</th>\n",
       "      <th>Longitude</th>\n",
       "      <th>MedHouseVal</th>\n",
       "    </tr>\n",
       "  </thead>\n",
       "  <tbody>\n",
       "    <tr>\n",
       "      <th>0</th>\n",
       "      <td>8.3252</td>\n",
       "      <td>41.0</td>\n",
       "      <td>6.984127</td>\n",
       "      <td>1.023810</td>\n",
       "      <td>322.0</td>\n",
       "      <td>2.555556</td>\n",
       "      <td>37.88</td>\n",
       "      <td>-122.23</td>\n",
       "      <td>4.526</td>\n",
       "    </tr>\n",
       "    <tr>\n",
       "      <th>1</th>\n",
       "      <td>8.3014</td>\n",
       "      <td>21.0</td>\n",
       "      <td>6.238137</td>\n",
       "      <td>0.971880</td>\n",
       "      <td>2401.0</td>\n",
       "      <td>2.109842</td>\n",
       "      <td>37.86</td>\n",
       "      <td>-122.22</td>\n",
       "      <td>3.585</td>\n",
       "    </tr>\n",
       "    <tr>\n",
       "      <th>2</th>\n",
       "      <td>7.2574</td>\n",
       "      <td>52.0</td>\n",
       "      <td>8.288136</td>\n",
       "      <td>1.073446</td>\n",
       "      <td>496.0</td>\n",
       "      <td>2.802260</td>\n",
       "      <td>37.85</td>\n",
       "      <td>-122.24</td>\n",
       "      <td>3.521</td>\n",
       "    </tr>\n",
       "    <tr>\n",
       "      <th>3</th>\n",
       "      <td>5.6431</td>\n",
       "      <td>52.0</td>\n",
       "      <td>5.817352</td>\n",
       "      <td>1.073059</td>\n",
       "      <td>558.0</td>\n",
       "      <td>2.547945</td>\n",
       "      <td>37.85</td>\n",
       "      <td>-122.25</td>\n",
       "      <td>3.413</td>\n",
       "    </tr>\n",
       "    <tr>\n",
       "      <th>4</th>\n",
       "      <td>3.8462</td>\n",
       "      <td>52.0</td>\n",
       "      <td>6.281853</td>\n",
       "      <td>1.081081</td>\n",
       "      <td>565.0</td>\n",
       "      <td>2.181467</td>\n",
       "      <td>37.85</td>\n",
       "      <td>-122.25</td>\n",
       "      <td>3.422</td>\n",
       "    </tr>\n",
       "    <tr>\n",
       "      <th>...</th>\n",
       "      <td>...</td>\n",
       "      <td>...</td>\n",
       "      <td>...</td>\n",
       "      <td>...</td>\n",
       "      <td>...</td>\n",
       "      <td>...</td>\n",
       "      <td>...</td>\n",
       "      <td>...</td>\n",
       "      <td>...</td>\n",
       "    </tr>\n",
       "    <tr>\n",
       "      <th>20635</th>\n",
       "      <td>1.5603</td>\n",
       "      <td>25.0</td>\n",
       "      <td>5.045455</td>\n",
       "      <td>1.133333</td>\n",
       "      <td>845.0</td>\n",
       "      <td>2.560606</td>\n",
       "      <td>39.48</td>\n",
       "      <td>-121.09</td>\n",
       "      <td>0.781</td>\n",
       "    </tr>\n",
       "    <tr>\n",
       "      <th>20636</th>\n",
       "      <td>2.5568</td>\n",
       "      <td>18.0</td>\n",
       "      <td>6.114035</td>\n",
       "      <td>1.315789</td>\n",
       "      <td>356.0</td>\n",
       "      <td>3.122807</td>\n",
       "      <td>39.49</td>\n",
       "      <td>-121.21</td>\n",
       "      <td>0.771</td>\n",
       "    </tr>\n",
       "    <tr>\n",
       "      <th>20637</th>\n",
       "      <td>1.7000</td>\n",
       "      <td>17.0</td>\n",
       "      <td>5.205543</td>\n",
       "      <td>1.120092</td>\n",
       "      <td>1007.0</td>\n",
       "      <td>2.325635</td>\n",
       "      <td>39.43</td>\n",
       "      <td>-121.22</td>\n",
       "      <td>0.923</td>\n",
       "    </tr>\n",
       "    <tr>\n",
       "      <th>20638</th>\n",
       "      <td>1.8672</td>\n",
       "      <td>18.0</td>\n",
       "      <td>5.329513</td>\n",
       "      <td>1.171920</td>\n",
       "      <td>741.0</td>\n",
       "      <td>2.123209</td>\n",
       "      <td>39.43</td>\n",
       "      <td>-121.32</td>\n",
       "      <td>0.847</td>\n",
       "    </tr>\n",
       "    <tr>\n",
       "      <th>20639</th>\n",
       "      <td>2.3886</td>\n",
       "      <td>16.0</td>\n",
       "      <td>5.254717</td>\n",
       "      <td>1.162264</td>\n",
       "      <td>1387.0</td>\n",
       "      <td>2.616981</td>\n",
       "      <td>39.37</td>\n",
       "      <td>-121.24</td>\n",
       "      <td>0.894</td>\n",
       "    </tr>\n",
       "  </tbody>\n",
       "</table>\n",
       "<p>20640 rows × 9 columns</p>\n",
       "</div>"
      ],
      "text/plain": [
       "       MedInc  HouseAge  AveRooms  AveBedrms  Population  AveOccup  Latitude  \\\n",
       "0      8.3252      41.0  6.984127   1.023810       322.0  2.555556     37.88   \n",
       "1      8.3014      21.0  6.238137   0.971880      2401.0  2.109842     37.86   \n",
       "2      7.2574      52.0  8.288136   1.073446       496.0  2.802260     37.85   \n",
       "3      5.6431      52.0  5.817352   1.073059       558.0  2.547945     37.85   \n",
       "4      3.8462      52.0  6.281853   1.081081       565.0  2.181467     37.85   \n",
       "...       ...       ...       ...        ...         ...       ...       ...   \n",
       "20635  1.5603      25.0  5.045455   1.133333       845.0  2.560606     39.48   \n",
       "20636  2.5568      18.0  6.114035   1.315789       356.0  3.122807     39.49   \n",
       "20637  1.7000      17.0  5.205543   1.120092      1007.0  2.325635     39.43   \n",
       "20638  1.8672      18.0  5.329513   1.171920       741.0  2.123209     39.43   \n",
       "20639  2.3886      16.0  5.254717   1.162264      1387.0  2.616981     39.37   \n",
       "\n",
       "       Longitude  MedHouseVal  \n",
       "0        -122.23        4.526  \n",
       "1        -122.22        3.585  \n",
       "2        -122.24        3.521  \n",
       "3        -122.25        3.413  \n",
       "4        -122.25        3.422  \n",
       "...          ...          ...  \n",
       "20635    -121.09        0.781  \n",
       "20636    -121.21        0.771  \n",
       "20637    -121.22        0.923  \n",
       "20638    -121.32        0.847  \n",
       "20639    -121.24        0.894  \n",
       "\n",
       "[20640 rows x 9 columns]"
      ]
     },
     "execution_count": 242,
     "metadata": {},
     "output_type": "execute_result"
    }
   ],
   "source": [
    "df"
   ]
  },
  {
   "cell_type": "code",
   "execution_count": 243,
   "id": "e50cc8fd",
   "metadata": {},
   "outputs": [],
   "source": [
    "# !pip install --upgrade scikit-learn"
   ]
  },
  {
   "cell_type": "code",
   "execution_count": 244,
   "id": "05871e22",
   "metadata": {},
   "outputs": [
    {
     "name": "stdout",
     "output_type": "stream",
     "text": [
      ".. _california_housing_dataset:\n",
      "\n",
      "California Housing dataset\n",
      "--------------------------\n",
      "\n",
      "**Data Set Characteristics:**\n",
      "\n",
      "    :Number of Instances: 20640\n",
      "\n",
      "    :Number of Attributes: 8 numeric, predictive attributes and the target\n",
      "\n",
      "    :Attribute Information:\n",
      "        - MedInc        median income in block group\n",
      "        - HouseAge      median house age in block group\n",
      "        - AveRooms      average number of rooms per household\n",
      "        - AveBedrms     average number of bedrooms per household\n",
      "        - Population    block group population\n",
      "        - AveOccup      average number of household members\n",
      "        - Latitude      block group latitude\n",
      "        - Longitude     block group longitude\n",
      "\n",
      "    :Missing Attribute Values: None\n",
      "\n",
      "This dataset was obtained from the StatLib repository.\n",
      "https://www.dcc.fc.up.pt/~ltorgo/Regression/cal_housing.html\n",
      "\n",
      "The target variable is the median house value for California districts,\n",
      "expressed in hundreds of thousands of dollars ($100,000).\n",
      "\n",
      "This dataset was derived from the 1990 U.S. census, using one row per census\n",
      "block group. A block group is the smallest geographical unit for which the U.S.\n",
      "Census Bureau publishes sample data (a block group typically has a population\n",
      "of 600 to 3,000 people).\n",
      "\n",
      "An household is a group of people residing within a home. Since the average\n",
      "number of rooms and bedrooms in this dataset are provided per household, these\n",
      "columns may take surpinsingly large values for block groups with few households\n",
      "and many empty houses, such as vacation resorts.\n",
      "\n",
      "It can be downloaded/loaded using the\n",
      ":func:`sklearn.datasets.fetch_california_housing` function.\n",
      "\n",
      ".. topic:: References\n",
      "\n",
      "    - Pace, R. Kelley and Ronald Barry, Sparse Spatial Autoregressions,\n",
      "      Statistics and Probability Letters, 33 (1997) 291-297\n",
      "\n"
     ]
    }
   ],
   "source": [
    "print(data.DESCR)"
   ]
  },
  {
   "cell_type": "code",
   "execution_count": 245,
   "id": "903902a5",
   "metadata": {},
   "outputs": [],
   "source": [
    "from category_encoders import TargetEncoder"
   ]
  },
  {
   "cell_type": "code",
   "execution_count": 246,
   "id": "93abbd04",
   "metadata": {},
   "outputs": [],
   "source": [
    "te = TargetEncoder(\n",
    "    verbose=0,\n",
    "    cols=None,\n",
    "    drop_invariant=False,\n",
    "    return_df=True,\n",
    "    handle_missing='value',\n",
    "    handle_unknown='value',\n",
    "    min_samples_leaf=1,\n",
    "    smoothing=1.0,\n",
    ")"
   ]
  },
  {
   "cell_type": "code",
   "execution_count": 247,
   "id": "7e2264e8",
   "metadata": {},
   "outputs": [],
   "source": [
    "df[\"Location\"] = df[\"Latitude\"].astype(\"str\") +\"_\"+ df[\"Longitude\"].astype(\"str\")"
   ]
  },
  {
   "cell_type": "code",
   "execution_count": 248,
   "id": "cfaf2eea",
   "metadata": {},
   "outputs": [],
   "source": [
    "df.drop([\"Latitude\",\"Longitude\"],axis = 1 , inplace=True)"
   ]
  },
  {
   "cell_type": "code",
   "execution_count": 249,
   "id": "8c7cfe55",
   "metadata": {},
   "outputs": [
    {
     "data": {
      "text/html": [
       "<div>\n",
       "<style scoped>\n",
       "    .dataframe tbody tr th:only-of-type {\n",
       "        vertical-align: middle;\n",
       "    }\n",
       "\n",
       "    .dataframe tbody tr th {\n",
       "        vertical-align: top;\n",
       "    }\n",
       "\n",
       "    .dataframe thead th {\n",
       "        text-align: right;\n",
       "    }\n",
       "</style>\n",
       "<table border=\"1\" class=\"dataframe\">\n",
       "  <thead>\n",
       "    <tr style=\"text-align: right;\">\n",
       "      <th></th>\n",
       "      <th>Location</th>\n",
       "      <th>MedHouseVal</th>\n",
       "    </tr>\n",
       "  </thead>\n",
       "  <tbody>\n",
       "    <tr>\n",
       "      <th>0</th>\n",
       "      <td>32.54_-117.04</td>\n",
       "      <td>0.675</td>\n",
       "    </tr>\n",
       "    <tr>\n",
       "      <th>1</th>\n",
       "      <td>32.55_-117.04</td>\n",
       "      <td>0.932</td>\n",
       "    </tr>\n",
       "    <tr>\n",
       "      <th>2</th>\n",
       "      <td>32.55_-117.06</td>\n",
       "      <td>1.088</td>\n",
       "    </tr>\n",
       "    <tr>\n",
       "      <th>3</th>\n",
       "      <td>32.55_-117.09</td>\n",
       "      <td>1.444</td>\n",
       "    </tr>\n",
       "    <tr>\n",
       "      <th>4</th>\n",
       "      <td>32.56_-116.97</td>\n",
       "      <td>1.533</td>\n",
       "    </tr>\n",
       "    <tr>\n",
       "      <th>...</th>\n",
       "      <td>...</td>\n",
       "      <td>...</td>\n",
       "    </tr>\n",
       "    <tr>\n",
       "      <th>12585</th>\n",
       "      <td>41.8_-124.17</td>\n",
       "      <td>1.094</td>\n",
       "    </tr>\n",
       "    <tr>\n",
       "      <th>12586</th>\n",
       "      <td>41.8_-124.3</td>\n",
       "      <td>0.858</td>\n",
       "    </tr>\n",
       "    <tr>\n",
       "      <th>12587</th>\n",
       "      <td>41.92_-124.16</td>\n",
       "      <td>0.750</td>\n",
       "    </tr>\n",
       "    <tr>\n",
       "      <th>12588</th>\n",
       "      <td>41.95_-122.64</td>\n",
       "      <td>0.535</td>\n",
       "    </tr>\n",
       "    <tr>\n",
       "      <th>12589</th>\n",
       "      <td>41.95_-124.14</td>\n",
       "      <td>1.224</td>\n",
       "    </tr>\n",
       "  </tbody>\n",
       "</table>\n",
       "<p>12590 rows × 2 columns</p>\n",
       "</div>"
      ],
      "text/plain": [
       "            Location  MedHouseVal\n",
       "0      32.54_-117.04        0.675\n",
       "1      32.55_-117.04        0.932\n",
       "2      32.55_-117.06        1.088\n",
       "3      32.55_-117.09        1.444\n",
       "4      32.56_-116.97        1.533\n",
       "...              ...          ...\n",
       "12585   41.8_-124.17        1.094\n",
       "12586    41.8_-124.3        0.858\n",
       "12587  41.92_-124.16        0.750\n",
       "12588  41.95_-122.64        0.535\n",
       "12589  41.95_-124.14        1.224\n",
       "\n",
       "[12590 rows x 2 columns]"
      ]
     },
     "execution_count": 249,
     "metadata": {},
     "output_type": "execute_result"
    }
   ],
   "source": [
    "m = df.groupby(\"Location\")[\"MedHouseVal\"].median().reset_index()\n",
    "m"
   ]
  },
  {
   "cell_type": "code",
   "execution_count": 250,
   "id": "9325f1b7",
   "metadata": {},
   "outputs": [],
   "source": [
    "m[\"Lat_encoded\"] = m[\"MedHouseVal\"] "
   ]
  },
  {
   "cell_type": "code",
   "execution_count": 251,
   "id": "f890f840",
   "metadata": {},
   "outputs": [],
   "source": [
    "m.drop([\"MedHouseVal\"],axis= 1 , inplace=True)"
   ]
  },
  {
   "cell_type": "code",
   "execution_count": 252,
   "id": "941b90c4",
   "metadata": {},
   "outputs": [
    {
     "data": {
      "text/html": [
       "<div>\n",
       "<style scoped>\n",
       "    .dataframe tbody tr th:only-of-type {\n",
       "        vertical-align: middle;\n",
       "    }\n",
       "\n",
       "    .dataframe tbody tr th {\n",
       "        vertical-align: top;\n",
       "    }\n",
       "\n",
       "    .dataframe thead th {\n",
       "        text-align: right;\n",
       "    }\n",
       "</style>\n",
       "<table border=\"1\" class=\"dataframe\">\n",
       "  <thead>\n",
       "    <tr style=\"text-align: right;\">\n",
       "      <th></th>\n",
       "      <th>Location</th>\n",
       "      <th>Lat_encoded</th>\n",
       "    </tr>\n",
       "  </thead>\n",
       "  <tbody>\n",
       "    <tr>\n",
       "      <th>0</th>\n",
       "      <td>32.54_-117.04</td>\n",
       "      <td>0.675</td>\n",
       "    </tr>\n",
       "    <tr>\n",
       "      <th>1</th>\n",
       "      <td>32.55_-117.04</td>\n",
       "      <td>0.932</td>\n",
       "    </tr>\n",
       "    <tr>\n",
       "      <th>2</th>\n",
       "      <td>32.55_-117.06</td>\n",
       "      <td>1.088</td>\n",
       "    </tr>\n",
       "    <tr>\n",
       "      <th>3</th>\n",
       "      <td>32.55_-117.09</td>\n",
       "      <td>1.444</td>\n",
       "    </tr>\n",
       "    <tr>\n",
       "      <th>4</th>\n",
       "      <td>32.56_-116.97</td>\n",
       "      <td>1.533</td>\n",
       "    </tr>\n",
       "    <tr>\n",
       "      <th>...</th>\n",
       "      <td>...</td>\n",
       "      <td>...</td>\n",
       "    </tr>\n",
       "    <tr>\n",
       "      <th>12585</th>\n",
       "      <td>41.8_-124.17</td>\n",
       "      <td>1.094</td>\n",
       "    </tr>\n",
       "    <tr>\n",
       "      <th>12586</th>\n",
       "      <td>41.8_-124.3</td>\n",
       "      <td>0.858</td>\n",
       "    </tr>\n",
       "    <tr>\n",
       "      <th>12587</th>\n",
       "      <td>41.92_-124.16</td>\n",
       "      <td>0.750</td>\n",
       "    </tr>\n",
       "    <tr>\n",
       "      <th>12588</th>\n",
       "      <td>41.95_-122.64</td>\n",
       "      <td>0.535</td>\n",
       "    </tr>\n",
       "    <tr>\n",
       "      <th>12589</th>\n",
       "      <td>41.95_-124.14</td>\n",
       "      <td>1.224</td>\n",
       "    </tr>\n",
       "  </tbody>\n",
       "</table>\n",
       "<p>12590 rows × 2 columns</p>\n",
       "</div>"
      ],
      "text/plain": [
       "            Location  Lat_encoded\n",
       "0      32.54_-117.04        0.675\n",
       "1      32.55_-117.04        0.932\n",
       "2      32.55_-117.06        1.088\n",
       "3      32.55_-117.09        1.444\n",
       "4      32.56_-116.97        1.533\n",
       "...              ...          ...\n",
       "12585   41.8_-124.17        1.094\n",
       "12586    41.8_-124.3        0.858\n",
       "12587  41.92_-124.16        0.750\n",
       "12588  41.95_-122.64        0.535\n",
       "12589  41.95_-124.14        1.224\n",
       "\n",
       "[12590 rows x 2 columns]"
      ]
     },
     "execution_count": 252,
     "metadata": {},
     "output_type": "execute_result"
    }
   ],
   "source": [
    "m"
   ]
  },
  {
   "cell_type": "code",
   "execution_count": 253,
   "id": "b14d3540",
   "metadata": {},
   "outputs": [],
   "source": [
    "df= df.merge(m,on=\"Location\")"
   ]
  },
  {
   "cell_type": "code",
   "execution_count": 254,
   "id": "f792b311",
   "metadata": {},
   "outputs": [],
   "source": [
    "df.drop([\"Location\"],axis = 1 , inplace=True)"
   ]
  },
  {
   "cell_type": "code",
   "execution_count": 255,
   "id": "1125cef2",
   "metadata": {},
   "outputs": [],
   "source": [
    "X = df.drop([\"MedHouseVal\"],axis = 1)\n",
    "y = df[\"MedHouseVal\"]"
   ]
  },
  {
   "cell_type": "code",
   "execution_count": 256,
   "id": "9c9916ed",
   "metadata": {},
   "outputs": [
    {
     "data": {
      "text/html": [
       "<div>\n",
       "<style scoped>\n",
       "    .dataframe tbody tr th:only-of-type {\n",
       "        vertical-align: middle;\n",
       "    }\n",
       "\n",
       "    .dataframe tbody tr th {\n",
       "        vertical-align: top;\n",
       "    }\n",
       "\n",
       "    .dataframe thead th {\n",
       "        text-align: right;\n",
       "    }\n",
       "</style>\n",
       "<table border=\"1\" class=\"dataframe\">\n",
       "  <thead>\n",
       "    <tr style=\"text-align: right;\">\n",
       "      <th></th>\n",
       "      <th>MedInc</th>\n",
       "      <th>HouseAge</th>\n",
       "      <th>AveRooms</th>\n",
       "      <th>AveBedrms</th>\n",
       "      <th>Population</th>\n",
       "      <th>AveOccup</th>\n",
       "      <th>Lat_encoded</th>\n",
       "    </tr>\n",
       "  </thead>\n",
       "  <tbody>\n",
       "    <tr>\n",
       "      <th>0</th>\n",
       "      <td>8.3252</td>\n",
       "      <td>41.0</td>\n",
       "      <td>6.984127</td>\n",
       "      <td>1.023810</td>\n",
       "      <td>322.0</td>\n",
       "      <td>2.555556</td>\n",
       "      <td>4.526</td>\n",
       "    </tr>\n",
       "    <tr>\n",
       "      <th>1</th>\n",
       "      <td>8.3014</td>\n",
       "      <td>21.0</td>\n",
       "      <td>6.238137</td>\n",
       "      <td>0.971880</td>\n",
       "      <td>2401.0</td>\n",
       "      <td>2.109842</td>\n",
       "      <td>3.585</td>\n",
       "    </tr>\n",
       "    <tr>\n",
       "      <th>2</th>\n",
       "      <td>7.2574</td>\n",
       "      <td>52.0</td>\n",
       "      <td>8.288136</td>\n",
       "      <td>1.073446</td>\n",
       "      <td>496.0</td>\n",
       "      <td>2.802260</td>\n",
       "      <td>3.716</td>\n",
       "    </tr>\n",
       "    <tr>\n",
       "      <th>3</th>\n",
       "      <td>4.9643</td>\n",
       "      <td>37.0</td>\n",
       "      <td>7.106383</td>\n",
       "      <td>1.148936</td>\n",
       "      <td>98.0</td>\n",
       "      <td>2.085106</td>\n",
       "      <td>3.716</td>\n",
       "    </tr>\n",
       "    <tr>\n",
       "      <th>4</th>\n",
       "      <td>7.2354</td>\n",
       "      <td>52.0</td>\n",
       "      <td>7.117166</td>\n",
       "      <td>0.994550</td>\n",
       "      <td>901.0</td>\n",
       "      <td>2.455041</td>\n",
       "      <td>3.716</td>\n",
       "    </tr>\n",
       "    <tr>\n",
       "      <th>...</th>\n",
       "      <td>...</td>\n",
       "      <td>...</td>\n",
       "      <td>...</td>\n",
       "      <td>...</td>\n",
       "      <td>...</td>\n",
       "      <td>...</td>\n",
       "      <td>...</td>\n",
       "    </tr>\n",
       "    <tr>\n",
       "      <th>20635</th>\n",
       "      <td>1.5603</td>\n",
       "      <td>25.0</td>\n",
       "      <td>5.045455</td>\n",
       "      <td>1.133333</td>\n",
       "      <td>845.0</td>\n",
       "      <td>2.560606</td>\n",
       "      <td>0.781</td>\n",
       "    </tr>\n",
       "    <tr>\n",
       "      <th>20636</th>\n",
       "      <td>2.5568</td>\n",
       "      <td>18.0</td>\n",
       "      <td>6.114035</td>\n",
       "      <td>1.315789</td>\n",
       "      <td>356.0</td>\n",
       "      <td>3.122807</td>\n",
       "      <td>0.771</td>\n",
       "    </tr>\n",
       "    <tr>\n",
       "      <th>20637</th>\n",
       "      <td>1.7000</td>\n",
       "      <td>17.0</td>\n",
       "      <td>5.205543</td>\n",
       "      <td>1.120092</td>\n",
       "      <td>1007.0</td>\n",
       "      <td>2.325635</td>\n",
       "      <td>0.923</td>\n",
       "    </tr>\n",
       "    <tr>\n",
       "      <th>20638</th>\n",
       "      <td>1.8672</td>\n",
       "      <td>18.0</td>\n",
       "      <td>5.329513</td>\n",
       "      <td>1.171920</td>\n",
       "      <td>741.0</td>\n",
       "      <td>2.123209</td>\n",
       "      <td>0.847</td>\n",
       "    </tr>\n",
       "    <tr>\n",
       "      <th>20639</th>\n",
       "      <td>2.3886</td>\n",
       "      <td>16.0</td>\n",
       "      <td>5.254717</td>\n",
       "      <td>1.162264</td>\n",
       "      <td>1387.0</td>\n",
       "      <td>2.616981</td>\n",
       "      <td>0.894</td>\n",
       "    </tr>\n",
       "  </tbody>\n",
       "</table>\n",
       "<p>20640 rows × 7 columns</p>\n",
       "</div>"
      ],
      "text/plain": [
       "       MedInc  HouseAge  AveRooms  AveBedrms  Population  AveOccup  \\\n",
       "0      8.3252      41.0  6.984127   1.023810       322.0  2.555556   \n",
       "1      8.3014      21.0  6.238137   0.971880      2401.0  2.109842   \n",
       "2      7.2574      52.0  8.288136   1.073446       496.0  2.802260   \n",
       "3      4.9643      37.0  7.106383   1.148936        98.0  2.085106   \n",
       "4      7.2354      52.0  7.117166   0.994550       901.0  2.455041   \n",
       "...       ...       ...       ...        ...         ...       ...   \n",
       "20635  1.5603      25.0  5.045455   1.133333       845.0  2.560606   \n",
       "20636  2.5568      18.0  6.114035   1.315789       356.0  3.122807   \n",
       "20637  1.7000      17.0  5.205543   1.120092      1007.0  2.325635   \n",
       "20638  1.8672      18.0  5.329513   1.171920       741.0  2.123209   \n",
       "20639  2.3886      16.0  5.254717   1.162264      1387.0  2.616981   \n",
       "\n",
       "       Lat_encoded  \n",
       "0            4.526  \n",
       "1            3.585  \n",
       "2            3.716  \n",
       "3            3.716  \n",
       "4            3.716  \n",
       "...            ...  \n",
       "20635        0.781  \n",
       "20636        0.771  \n",
       "20637        0.923  \n",
       "20638        0.847  \n",
       "20639        0.894  \n",
       "\n",
       "[20640 rows x 7 columns]"
      ]
     },
     "execution_count": 256,
     "metadata": {},
     "output_type": "execute_result"
    }
   ],
   "source": [
    "X"
   ]
  },
  {
   "cell_type": "code",
   "execution_count": 257,
   "id": "ebb039d3",
   "metadata": {},
   "outputs": [
    {
     "data": {
      "text/plain": [
       "0        4.526\n",
       "1        3.585\n",
       "2        3.521\n",
       "3        3.350\n",
       "4        3.911\n",
       "         ...  \n",
       "20635    0.781\n",
       "20636    0.771\n",
       "20637    0.923\n",
       "20638    0.847\n",
       "20639    0.894\n",
       "Name: MedHouseVal, Length: 20640, dtype: float64"
      ]
     },
     "execution_count": 257,
     "metadata": {},
     "output_type": "execute_result"
    }
   ],
   "source": [
    "y"
   ]
  },
  {
   "cell_type": "code",
   "execution_count": null,
   "id": "7802fd03",
   "metadata": {},
   "outputs": [],
   "source": []
  },
  {
   "cell_type": "code",
   "execution_count": 258,
   "id": "ae15d5a3",
   "metadata": {},
   "outputs": [],
   "source": [
    "from sklearn.preprocessing import StandardScaler"
   ]
  },
  {
   "cell_type": "code",
   "execution_count": 259,
   "id": "d3e3b950",
   "metadata": {},
   "outputs": [],
   "source": [
    "std = StandardScaler()"
   ]
  },
  {
   "cell_type": "code",
   "execution_count": 260,
   "id": "e3cf0c99",
   "metadata": {},
   "outputs": [],
   "source": [
    "from sklearn.model_selection import train_test_split\n",
    "from sklearn.model_selection import KFold\n",
    "from sklearn.model_selection import cross_val_score"
   ]
  },
  {
   "cell_type": "code",
   "execution_count": 261,
   "id": "ed2d2d40",
   "metadata": {},
   "outputs": [],
   "source": [
    "X_train , X_test,  y_train , y_test = train_test_split(X,y,\n",
    "                                                      test_size=0.2,\n",
    "                                                      random_state=42)"
   ]
  },
  {
   "cell_type": "code",
   "execution_count": 262,
   "id": "6a8b5d96",
   "metadata": {},
   "outputs": [],
   "source": [
    "kfold = KFold()"
   ]
  },
  {
   "cell_type": "code",
   "execution_count": 263,
   "id": "27c0d015",
   "metadata": {},
   "outputs": [],
   "source": [
    "std.fit(X_train)\n",
    "X_train   = std.transform(X_train)\n",
    "X_test   = std.transform(X_test)"
   ]
  },
  {
   "cell_type": "code",
   "execution_count": 264,
   "id": "ba1085f7",
   "metadata": {},
   "outputs": [],
   "source": [
    "from sklearn.linear_model import SGDRegressor\n",
    "from sklearn.linear_model import LinearRegression"
   ]
  },
  {
   "cell_type": "code",
   "execution_count": null,
   "id": "3b55a74b",
   "metadata": {},
   "outputs": [],
   "source": []
  },
  {
   "cell_type": "code",
   "execution_count": 267,
   "id": "ea97af71",
   "metadata": {},
   "outputs": [
    {
     "data": {
      "text/plain": [
       "(16512, 7)"
      ]
     },
     "execution_count": 267,
     "metadata": {},
     "output_type": "execute_result"
    }
   ],
   "source": [
    "X_train.shape"
   ]
  },
  {
   "cell_type": "code",
   "execution_count": 274,
   "id": "da5bc9e2",
   "metadata": {},
   "outputs": [],
   "source": [
    "# X_train.values"
   ]
  },
  {
   "cell_type": "code",
   "execution_count": null,
   "id": "623a3d95",
   "metadata": {},
   "outputs": [],
   "source": []
  },
  {
   "cell_type": "code",
   "execution_count": 302,
   "id": "95043e09",
   "metadata": {},
   "outputs": [
    {
     "data": {
      "text/html": [
       "<style>#sk-container-id-18 {color: black;background-color: white;}#sk-container-id-18 pre{padding: 0;}#sk-container-id-18 div.sk-toggleable {background-color: white;}#sk-container-id-18 label.sk-toggleable__label {cursor: pointer;display: block;width: 100%;margin-bottom: 0;padding: 0.3em;box-sizing: border-box;text-align: center;}#sk-container-id-18 label.sk-toggleable__label-arrow:before {content: \"▸\";float: left;margin-right: 0.25em;color: #696969;}#sk-container-id-18 label.sk-toggleable__label-arrow:hover:before {color: black;}#sk-container-id-18 div.sk-estimator:hover label.sk-toggleable__label-arrow:before {color: black;}#sk-container-id-18 div.sk-toggleable__content {max-height: 0;max-width: 0;overflow: hidden;text-align: left;background-color: #f0f8ff;}#sk-container-id-18 div.sk-toggleable__content pre {margin: 0.2em;color: black;border-radius: 0.25em;background-color: #f0f8ff;}#sk-container-id-18 input.sk-toggleable__control:checked~div.sk-toggleable__content {max-height: 200px;max-width: 100%;overflow: auto;}#sk-container-id-18 input.sk-toggleable__control:checked~label.sk-toggleable__label-arrow:before {content: \"▾\";}#sk-container-id-18 div.sk-estimator input.sk-toggleable__control:checked~label.sk-toggleable__label {background-color: #d4ebff;}#sk-container-id-18 div.sk-label input.sk-toggleable__control:checked~label.sk-toggleable__label {background-color: #d4ebff;}#sk-container-id-18 input.sk-hidden--visually {border: 0;clip: rect(1px 1px 1px 1px);clip: rect(1px, 1px, 1px, 1px);height: 1px;margin: -1px;overflow: hidden;padding: 0;position: absolute;width: 1px;}#sk-container-id-18 div.sk-estimator {font-family: monospace;background-color: #f0f8ff;border: 1px dotted black;border-radius: 0.25em;box-sizing: border-box;margin-bottom: 0.5em;}#sk-container-id-18 div.sk-estimator:hover {background-color: #d4ebff;}#sk-container-id-18 div.sk-parallel-item::after {content: \"\";width: 100%;border-bottom: 1px solid gray;flex-grow: 1;}#sk-container-id-18 div.sk-label:hover label.sk-toggleable__label {background-color: #d4ebff;}#sk-container-id-18 div.sk-serial::before {content: \"\";position: absolute;border-left: 1px solid gray;box-sizing: border-box;top: 0;bottom: 0;left: 50%;z-index: 0;}#sk-container-id-18 div.sk-serial {display: flex;flex-direction: column;align-items: center;background-color: white;padding-right: 0.2em;padding-left: 0.2em;position: relative;}#sk-container-id-18 div.sk-item {position: relative;z-index: 1;}#sk-container-id-18 div.sk-parallel {display: flex;align-items: stretch;justify-content: center;background-color: white;position: relative;}#sk-container-id-18 div.sk-item::before, #sk-container-id-18 div.sk-parallel-item::before {content: \"\";position: absolute;border-left: 1px solid gray;box-sizing: border-box;top: 0;bottom: 0;left: 50%;z-index: -1;}#sk-container-id-18 div.sk-parallel-item {display: flex;flex-direction: column;z-index: 1;position: relative;background-color: white;}#sk-container-id-18 div.sk-parallel-item:first-child::after {align-self: flex-end;width: 50%;}#sk-container-id-18 div.sk-parallel-item:last-child::after {align-self: flex-start;width: 50%;}#sk-container-id-18 div.sk-parallel-item:only-child::after {width: 0;}#sk-container-id-18 div.sk-dashed-wrapped {border: 1px dashed gray;margin: 0 0.4em 0.5em 0.4em;box-sizing: border-box;padding-bottom: 0.4em;background-color: white;}#sk-container-id-18 div.sk-label label {font-family: monospace;font-weight: bold;display: inline-block;line-height: 1.2em;}#sk-container-id-18 div.sk-label-container {text-align: center;}#sk-container-id-18 div.sk-container {/* jupyter's `normalize.less` sets `[hidden] { display: none; }` but bootstrap.min.css set `[hidden] { display: none !important; }` so we also need the `!important` here to be able to override the default hidden behavior on the sphinx rendered scikit-learn.org. See: https://github.com/scikit-learn/scikit-learn/issues/21755 */display: inline-block !important;position: relative;}#sk-container-id-18 div.sk-text-repr-fallback {display: none;}</style><div id=\"sk-container-id-18\" class=\"sk-top-container\"><div class=\"sk-text-repr-fallback\"><pre>LinearRegression()</pre><b>In a Jupyter environment, please rerun this cell to show the HTML representation or trust the notebook. <br />On GitHub, the HTML representation is unable to render, please try loading this page with nbviewer.org.</b></div><div class=\"sk-container\" hidden><div class=\"sk-item\"><div class=\"sk-estimator sk-toggleable\"><input class=\"sk-toggleable__control sk-hidden--visually\" id=\"sk-estimator-id-18\" type=\"checkbox\" checked><label for=\"sk-estimator-id-18\" class=\"sk-toggleable__label sk-toggleable__label-arrow\">LinearRegression</label><div class=\"sk-toggleable__content\"><pre>LinearRegression()</pre></div></div></div></div></div>"
      ],
      "text/plain": [
       "LinearRegression()"
      ]
     },
     "execution_count": 302,
     "metadata": {},
     "output_type": "execute_result"
    }
   ],
   "source": [
    "lr = LinearRegression()\n",
    "lr.fit(X_train,\n",
    "       y_train)"
   ]
  },
  {
   "cell_type": "code",
   "execution_count": 303,
   "id": "1d7e6345",
   "metadata": {},
   "outputs": [],
   "source": [
    "# !pip install sklearn"
   ]
  },
  {
   "cell_type": "code",
   "execution_count": 304,
   "id": "d2848344",
   "metadata": {},
   "outputs": [],
   "source": [
    "from sklearn.metrics import r2_score"
   ]
  },
  {
   "cell_type": "code",
   "execution_count": 305,
   "id": "d82a90af",
   "metadata": {},
   "outputs": [],
   "source": [
    "folds = KFold(n_splits = 5, shuffle = True, random_state = 955)"
   ]
  },
  {
   "cell_type": "code",
   "execution_count": 306,
   "id": "3666192c",
   "metadata": {},
   "outputs": [
    {
     "data": {
      "text/plain": [
       "array([0.94914781, 0.94045274, 0.9520647 , 0.9382112 , 0.9476667 ])"
      ]
     },
     "execution_count": 306,
     "metadata": {},
     "output_type": "execute_result"
    }
   ],
   "source": [
    "cross_val_score(lr,\n",
    "                X_train,\n",
    "                y_train,\n",
    "                scoring=\"r2\",\n",
    "                cv=folds\n",
    "                )"
   ]
  },
  {
   "cell_type": "code",
   "execution_count": 307,
   "id": "4a8d7f14",
   "metadata": {},
   "outputs": [
    {
     "data": {
      "text/plain": [
       "0.9493194660567871"
      ]
     },
     "execution_count": 307,
     "metadata": {},
     "output_type": "execute_result"
    }
   ],
   "source": [
    "lr.score(X_test,y_test)"
   ]
  },
  {
   "cell_type": "code",
   "execution_count": null,
   "id": "e95e0321",
   "metadata": {},
   "outputs": [],
   "source": []
  },
  {
   "cell_type": "code",
   "execution_count": null,
   "id": "d76b7a64",
   "metadata": {},
   "outputs": [],
   "source": []
  },
  {
   "cell_type": "code",
   "execution_count": 385,
   "id": "4be4e49f",
   "metadata": {},
   "outputs": [],
   "source": [
    "def predict(X,w):\n",
    "    return np.dot(X,w)"
   ]
  },
  {
   "cell_type": "code",
   "execution_count": 386,
   "id": "ffe6ab13",
   "metadata": {},
   "outputs": [],
   "source": [
    "def error(X,y,w):\n",
    "    y_hat = predict(X,w)\n",
    "    return np.mean((y-y_hat)**2)"
   ]
  },
  {
   "cell_type": "code",
   "execution_count": 387,
   "id": "8b649335",
   "metadata": {},
   "outputs": [],
   "source": [
    "def grad(X,y,w):\n",
    "    y_hat = predict(X,w)\n",
    "    grad = np.dot(X.T,y_hat-y)\n",
    "    return 2*grad / len(X)"
   ]
  },
  {
   "cell_type": "code",
   "execution_count": 388,
   "id": "a69f283f",
   "metadata": {},
   "outputs": [],
   "source": [
    "def gdreg(X,y,eta):\n",
    "    \n",
    "    X = np.insert(X,0,1,axis=1)\n",
    "    \n",
    "    w = np.random.randn(X.shape[1],1)\n",
    "    errors = []\n",
    "    \n",
    "    \n",
    "    for i in range(100):\n",
    "#         e = error(X,y,w)\n",
    "        \n",
    "#         errors.append(e)\n",
    "        gradient = grad(X,y,w)\n",
    "        \n",
    "        w = w -   (eta * gradient)\n",
    "    return w\n",
    "    \n",
    "    \n",
    "    "
   ]
  },
  {
   "cell_type": "code",
   "execution_count": null,
   "id": "3e04b153",
   "metadata": {},
   "outputs": [],
   "source": []
  },
  {
   "cell_type": "code",
   "execution_count": null,
   "id": "04d63a83",
   "metadata": {},
   "outputs": [],
   "source": [
    "gdreg(X_train,y_train.values,eta=0.01)"
   ]
  },
  {
   "cell_type": "code",
   "execution_count": null,
   "id": "e08fd647",
   "metadata": {},
   "outputs": [],
   "source": []
  },
  {
   "cell_type": "code",
   "execution_count": null,
   "id": "b6d9bb57",
   "metadata": {},
   "outputs": [],
   "source": []
  },
  {
   "cell_type": "code",
   "execution_count": null,
   "id": "e4bb4d76",
   "metadata": {},
   "outputs": [],
   "source": []
  },
  {
   "cell_type": "code",
   "execution_count": null,
   "id": "d71b77d0",
   "metadata": {},
   "outputs": [],
   "source": []
  },
  {
   "cell_type": "code",
   "execution_count": null,
   "id": "13fb5d68",
   "metadata": {},
   "outputs": [],
   "source": []
  },
  {
   "cell_type": "code",
   "execution_count": null,
   "id": "c8ccb33e",
   "metadata": {},
   "outputs": [],
   "source": []
  },
  {
   "cell_type": "code",
   "execution_count": null,
   "id": "405482cf",
   "metadata": {},
   "outputs": [],
   "source": []
  },
  {
   "cell_type": "code",
   "execution_count": null,
   "id": "7efab96c",
   "metadata": {},
   "outputs": [],
   "source": []
  },
  {
   "cell_type": "code",
   "execution_count": null,
   "id": "8e63c85b",
   "metadata": {},
   "outputs": [],
   "source": []
  },
  {
   "cell_type": "code",
   "execution_count": null,
   "id": "71c1f706",
   "metadata": {},
   "outputs": [],
   "source": []
  },
  {
   "cell_type": "code",
   "execution_count": null,
   "id": "f8f4339e",
   "metadata": {},
   "outputs": [],
   "source": []
  },
  {
   "cell_type": "code",
   "execution_count": null,
   "id": "a60147a7",
   "metadata": {},
   "outputs": [],
   "source": []
  },
  {
   "cell_type": "code",
   "execution_count": null,
   "id": "4aac902f",
   "metadata": {},
   "outputs": [],
   "source": []
  }
 ],
 "metadata": {
  "kernelspec": {
   "display_name": "Python 3 (ipykernel)",
   "language": "python",
   "name": "python3"
  },
  "language_info": {
   "codemirror_mode": {
    "name": "ipython",
    "version": 3
   },
   "file_extension": ".py",
   "mimetype": "text/x-python",
   "name": "python",
   "nbconvert_exporter": "python",
   "pygments_lexer": "ipython3",
   "version": "3.9.7"
  }
 },
 "nbformat": 4,
 "nbformat_minor": 5
}

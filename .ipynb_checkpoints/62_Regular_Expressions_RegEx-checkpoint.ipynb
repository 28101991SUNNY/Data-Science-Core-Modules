{
 "cells": [
  {
   "cell_type": "code",
   "execution_count": 6,
   "id": "128bb5ae",
   "metadata": {},
   "outputs": [],
   "source": [
    "import re\n"
   ]
  },
  {
   "cell_type": "code",
   "execution_count": 1,
   "id": "69f9d86a",
   "metadata": {},
   "outputs": [],
   "source": [
    "import pandas as pd\n",
    "import numpy as np"
   ]
  },
  {
   "cell_type": "code",
   "execution_count": 2,
   "id": "e11d5973",
   "metadata": {},
   "outputs": [
    {
     "name": "stderr",
     "output_type": "stream",
     "text": [
      "Downloading...\n",
      "From: https://drive.google.com/uc?id=1sSDV5UspYZL3UUOGuiuxppSGcv1wS9ex\n",
      "To: C:\\Users\\sunny\\DSML Advance\\data.txt\n",
      "\n",
      "  0%|          | 0.00/9.33k [00:00<?, ?B/s]\n",
      "100%|##########| 9.33k/9.33k [00:00<00:00, 597kB/s]\n"
     ]
    }
   ],
   "source": [
    "!gdown 1sSDV5UspYZL3UUOGuiuxppSGcv1wS9ex"
   ]
  },
  {
   "cell_type": "code",
   "execution_count": null,
   "id": "1e4fe401",
   "metadata": {},
   "outputs": [],
   "source": []
  },
  {
   "cell_type": "markdown",
   "id": "f294037d",
   "metadata": {},
   "source": [
    "https://regex101.com/"
   ]
  },
  {
   "cell_type": "code",
   "execution_count": 8,
   "id": "d2a969da",
   "metadata": {},
   "outputs": [],
   "source": [
    "data = open(\"data.txt\",\"r\").read()"
   ]
  },
  {
   "cell_type": "code",
   "execution_count": 181,
   "id": "fcfeae8e",
   "metadata": {},
   "outputs": [],
   "source": [
    "# print(data)"
   ]
  },
  {
   "cell_type": "code",
   "execution_count": null,
   "id": "454612ee",
   "metadata": {},
   "outputs": [],
   "source": []
  },
  {
   "cell_type": "code",
   "execution_count": null,
   "id": "87519dd1",
   "metadata": {},
   "outputs": [],
   "source": []
  },
  {
   "cell_type": "code",
   "execution_count": null,
   "id": "c268814c",
   "metadata": {},
   "outputs": [],
   "source": []
  },
  {
   "cell_type": "code",
   "execution_count": 11,
   "id": "4654413e",
   "metadata": {},
   "outputs": [],
   "source": [
    "# check for pattern in the string data"
   ]
  },
  {
   "cell_type": "code",
   "execution_count": 12,
   "id": "2b2adb93",
   "metadata": {},
   "outputs": [],
   "source": [
    "# valid phone number\n",
    "# valid email id\n",
    "# valid password\n",
    "# valid data\n",
    "\n",
    "\n",
    "# find particular pattern anywhere in string\n"
   ]
  },
  {
   "cell_type": "code",
   "execution_count": null,
   "id": "31980269",
   "metadata": {},
   "outputs": [],
   "source": []
  },
  {
   "cell_type": "code",
   "execution_count": 13,
   "id": "7c75251e",
   "metadata": {},
   "outputs": [],
   "source": [
    "def mask_email(s):\n",
    "    if \"@\" in s:\n",
    "        name, domain = s.split(\"@\")\n",
    "        return f\"{name[0]}####{name[-1]}@{domain}\"\n",
    "        \n",
    "        "
   ]
  },
  {
   "cell_type": "code",
   "execution_count": 14,
   "id": "f7716e8a",
   "metadata": {},
   "outputs": [
    {
     "data": {
      "text/plain": [
       "'j####r@bogusemail.com'"
      ]
     },
     "execution_count": 14,
     "metadata": {},
     "output_type": "execute_result"
    }
   ],
   "source": [
    "mask_email(\"jennifertaylor@bogusemail.com\")"
   ]
  },
  {
   "cell_type": "code",
   "execution_count": null,
   "id": "f184d513",
   "metadata": {},
   "outputs": [],
   "source": [
    "# edge case : "
   ]
  },
  {
   "cell_type": "code",
   "execution_count": 15,
   "id": "1d5f833d",
   "metadata": {},
   "outputs": [
    {
     "data": {
      "text/plain": [
       "'a####a@gmail.com'"
      ]
     },
     "execution_count": 15,
     "metadata": {},
     "output_type": "execute_result"
    }
   ],
   "source": [
    "mask_email(\"a@gmail.com\")"
   ]
  },
  {
   "cell_type": "code",
   "execution_count": null,
   "id": "4def49ce",
   "metadata": {},
   "outputs": [],
   "source": []
  },
  {
   "cell_type": "code",
   "execution_count": 16,
   "id": "e61e8bc1",
   "metadata": {},
   "outputs": [
    {
     "data": {
      "text/plain": [
       "'a####d@.com'"
      ]
     },
     "execution_count": 16,
     "metadata": {},
     "output_type": "execute_result"
    }
   ],
   "source": [
    "mask_email(\"aasd@.com\")"
   ]
  },
  {
   "cell_type": "code",
   "execution_count": 17,
   "id": "a2f5ed44",
   "metadata": {},
   "outputs": [],
   "source": [
    "mask_email(\"aasd.com\")"
   ]
  },
  {
   "cell_type": "code",
   "execution_count": null,
   "id": "b9f81afb",
   "metadata": {},
   "outputs": [],
   "source": []
  },
  {
   "cell_type": "code",
   "execution_count": null,
   "id": "369a35b6",
   "metadata": {},
   "outputs": [],
   "source": []
  },
  {
   "cell_type": "markdown",
   "id": "f26442c0",
   "metadata": {},
   "source": [
    "## Content\n",
    "\n",
    "1. **Business Case-1 Intro** \n",
    "\n",
    "\n",
    "2. **Regular Expressions**\n",
    "    - Simple pattern matching \n",
    "    - `.` character\n",
    "    - `\\` character\n",
    "\n",
    "\n",
    "3.  **Metacharacters**\n",
    "    - Matching digits (and non digits) - `\\d`, `\\D`\n",
    "    - Matching word (and non-word) characters - `\\w`, `\\W`\n",
    "    - Matching Whitespace characters - `\\s`, `\\S`\n",
    "\n",
    "4.  **Anchors**\n",
    "    - Word boundary (and non-boundary) anchors - `\\b`, `\\B`\n",
    "    - Beginning and end anchors - `^`,`$`$\n",
    "    - **Parse phone numbers from the text**\n",
    "\n",
    "\n",
    "5.  **Character Set** \n",
    "    - Range notation - `[a-z]`, `[A-Z]`, `[1-6]`\n",
    "    - Negation - `[^a-z]`\n",
    "\n",
    "\n",
    "6. **Quantifiers**\n",
    "    - *, +, ?, {3}, {3, 4}\n",
    "    - **Parse names starting from Mr**\n",
    "    \n",
    "\n",
    "7.  **Groups**\n",
    "    - `()` and `|`\n",
    "\n",
    "\n",
    "8. **RegEx based Email Validation**\n",
    "\n",
    "\n",
    "9.  **Functions in `re` library**\n",
    "    - Search function- match, search, findall, finditer\n",
    "    \n",
    "    - Use `re` functions to find the patterns in the data \n",
    "      - **Extract phone numbers, emails and names**\n",
    "      \n",
    "    - `re.compile()`\n",
    "    \n",
    "    - Modifying Regular Expression with **flags** - re.IGNORECASE, re.VERBOSE\n",
    "    \n",
    "    - Extracting different parts of the email - `group(x)` method\n",
    "    \n",
    "    - **Business Case-1 Solution** - Parse and Mask email and phone numbers using re functions\n",
    "    \n",
    "    - Extract location and pincode\n",
    "\n",
    "\n",
    "  \n",
    "\n"
   ]
  },
  {
   "cell_type": "code",
   "execution_count": null,
   "id": "4894bc2a",
   "metadata": {},
   "outputs": [],
   "source": []
  },
  {
   "cell_type": "code",
   "execution_count": 18,
   "id": "7ec7c4ef",
   "metadata": {},
   "outputs": [],
   "source": [
    "import re"
   ]
  },
  {
   "cell_type": "code",
   "execution_count": 20,
   "id": "75dd3f4b",
   "metadata": {},
   "outputs": [],
   "source": [
    "def is_vemail(s):\n",
    "    email_pattern = \"^\\w+([\\.-]?\\w+)*@\\w+([\\.-]?\\w+)*(\\.\\w{2,3})+$\"\n",
    "    res = re.search(email_pattern, s)\n",
    "    if res:\n",
    "        return True\n",
    "    else:\n",
    "        return False"
   ]
  },
  {
   "cell_type": "code",
   "execution_count": null,
   "id": "d6dc0981",
   "metadata": {},
   "outputs": [],
   "source": []
  },
  {
   "cell_type": "markdown",
   "id": "28b6047a",
   "metadata": {},
   "source": [
    "- The string `^\\w+([\\.-]?\\w+)*@\\w+([\\.-]?\\w+)*(\\.\\w{2,3})+$` is called a Regular Expression\n",
    "\n",
    "\n",
    "\n"
   ]
  },
  {
   "cell_type": "code",
   "execution_count": null,
   "id": "9b77bd96",
   "metadata": {},
   "outputs": [],
   "source": []
  },
  {
   "cell_type": "code",
   "execution_count": null,
   "id": "9f733c21",
   "metadata": {},
   "outputs": [],
   "source": []
  },
  {
   "cell_type": "code",
   "execution_count": null,
   "id": "4f68332b",
   "metadata": {},
   "outputs": [],
   "source": [
    "pattern = \"^b\\w*@\\w*\\.\\w{2,}$\"\n"
   ]
  },
  {
   "cell_type": "code",
   "execution_count": 21,
   "id": "22c8d72b",
   "metadata": {
    "scrolled": true
   },
   "outputs": [
    {
     "data": {
      "text/plain": [
       "\"Dave Martin\\n615-555-7164\\n173 Main St., Springfield RI 55924\\ndavemartin@bogusemail.com\\n\\nCharles Harris\\n800-555-5669\\n969 High St., Atlantis VA 34075\\ncharlesharris@bogusemail.com\\n\\nEric Williams\\n560-555-5153\\n806 1st St., Faketown AK 86847\\nlaurawilliams@bogusemail.com\\n\\nCorey Jefferson\\n900-555-9340\\n826 Elm St., Epicburg NE 10671\\ncoreyjefferson@bogusemail.com\\n\\nJennifer Martin-White\\n714-555-7405\\n212 Cedar St., Sunnydale CT 74983\\njenniferwhite@bogusemail.com\\n\\nErick Davis\\n800-555-6771\\n519 Washington St., Olympus TN 32425\\ntomdavis@bogusemail.com\\n\\nNeil Patterson\\n783-555-4799\\n625 Oak St., Dawnstar IL 61914\\nneilpatterson@bogusemail.com\\n\\nLaura Jefferson\\n516-555-4615\\n890 Main St., Pythonville LA 29947\\nlaurajefferson@bogusemail.com\\n\\nMaria Johnson\\n127-555-1867\\n884 High St., Braavosâ€Ž ME 43597\\nmariajohnson@bogusemail.com\\n\\nMichael Arnold\\n608-555-4938\\n249 Elm St., Quahog OR 90938\\nmichaelarnold@bogusemail.com\\n\\nMichael Smith\\n568-555-6051\\n619 Park St., Winterfell VA 99000\\nmichaelsmith@bogusemail.com\\n\\nErik Stuart\\n292-555-1875\\n220 Cedar St., Lakeview NY 87282\\nrobertstuart@bogusemail.com\\n\\nLaura Martin\\n900-555-3205\\n391 High St., Smalltown WY 28362\\nlauramartin@bogusemail.com\\n\\nBarbara Martin\\n614-555-1166\\n121 Hill St., Braavosâ€Ž UT 92474\\nbarbaramartin@bogusemail.com\\n\\nLinda Jackson\\n530-555-2676\\n433 Elm St., Westworld TX 61967\\nlindajackson@bogusemail.com\\n\\nEric Miller\\n470-555-2750\\n838 Main St., Balmora MT 56526\\nstevemiller@bogusemail.com\\n\\nDave Arnold\\n800-555-6089\\n732 High St., Valyria KY 97152\\ndavearnold@bogusemail.com\\n\\nJennifer Jacobs\\n880-555-8319\\n217 High St., Old-town IA 82767\\njenniferjacobs@bogusemail.com\\n\\nNeil Wilson\\n777-555-8378\\n191 Main St., Mordor IL 72160\\nneilwilson@bogusemail.com\\n\\nKurt Jackson\\n998-555-7385\\n607 Washington St., Blackwater NH 97183\\nkurtjackson@bogusemail.com\\n\\nMary Jacobs\\n800-555-7100\\n478 Oak St., Bedrock IA 58176\\nmaryjacobs@bogusemail.com\\n\\nMichael White\\n903-555-8277\\n906 Elm St., Mordor TX 89212\\nmichaelwhite@bogusemail.com\\n\\nJennifer Jenkins\\n196-555-5674\\n949 Main St., Smalltown SC 96962\\njenniferjenkins@bogusemail.com\\n\\nSam Wright\\n900-555-5118\\n835 Pearl St., Smalltown ND 77737\\nsamwright@bogusemail.com\\n\\nJohn Davis\\n905-555-1630\\n451 Lake St., Bedrock GA 34615\\njohndavis@bogusemail.com\\n\\nEric Davis\\n203-555-3475\\n419 Lake St., Balmora OR 30826\\nneildavis@bogusemail.com\\n\\nLaura Jackson\\n884-555-8444\\n443 Maple St., Quahog MS 29348\\nlaurajackson@bogusemail.com\\n\\nJohn Williams\\n904-555-8559\\n756 Hill St., Valyria KY 94854\\njohnwilliams@bogusemail.com\\n\\nMichael Martin\\n889-555-7393\\n216 High St., Olympus NV 21888\\nmichaelmartin@bogusemail.com\\n\\nMaggie Brown\\n195-555-2405\\n806 Lake St., Lakeview MD 59348\\nmaggiebrown@bogusemail.com\\n\\nErik Wilson\\n321-555-9053\\n354 Hill St., Mordor FL 74122\\nkurtwilson@bogusemail.com\\n\\nElizabeth Arnold\\n133-555-1711\\n805 Maple St., Winterfell NV 99431\\nelizabetharnold@bogusemail.com\\n\\nJane Martin\\n900-555-5428\\n418 Park St., Metropolis ID 16576\\njanemartin@bogusemail.com\\n\\nTravis Johnson\\n760-555-7147\\n749 Washington St., Braavosâ€Ž SD 25668\\ntravisjohnson@bogusemail.com\\n\\nLaura Jefferson\\n391-555-6621\\n122 High St., Metropolis ME 29540\\nlaurajefferson@bogusemail.com\\n\\nTom Williams\\n932-555-7724\\n610 High St., Old-town FL 60758\\ntomwilliams@bogusemail.com\\n\\nJennifer Taylor\\n609-555-7908\\n332 Main St., Pythonville OH 78172\\njennifertaylor@bogusemail.com\\n\\nErick Wright\\n800-555-8810\\n858 Hill St., Blackwater NC 79714\\njenniferwright@bogusemail.com\\n\\nSteve Doe\\n149-555-7657\\n441 Elm St., Atlantis MS 87195\\nstevedoe@bogusemail.com\\n\\nKurt Davis\\n130-555-9709\\n404 Oak St., Atlantis ND 85386\\nkurtdavis@bogusemail.com\\n\\nCorey Harris\\n143-555-9295\\n286 Pearl St., Vice City TX 57112\\ncoreyharris@bogusemail.com\\n\\nNicole Taylor\\n903-555-9878\\n465 Hill St., Old-town LA 64102\\nnicoletaylor@bogusemail.com\\n\\nElizabeth Davis\\n574-555-3194\\n151 Lake St., Eerie SD 17880\\nelizabethdavis@bogusemail.com\\n\\nMaggie Jenkins\\n496-555-7533\\n504 Lake St., Gotham PA 46692\\nmaggiejenkins@bogusemail.com\\n\\nLinda Davis\\n210-555-3757\\n201 Pine St., Vice City AR 78455\\nlindadavis@bogusemail.com\\n\\nDave Moore\\n900-555-9598\\n251 Pine St., Old-town OK 29087\\ndavemoore@bogusemail.com\\n\\nLinda Jenkins\\n866-555-9844\\n117 High St., Bedrock NE 11899\\nlindajenkins@bogusemail.com\\n\\nEric White\\n669-555-7159\\n650 Oak St., Smalltown TN 43281\\nsamwhite@bogusemail.com\\n\\nLaura Robinson\\n152-555-7417\\n377 Pine St., Valyria NC 78036\\nlaurarobinson@bogusemail.com\\n\\nCharles Patterson\\n893-555-9832\\n416 Pearl St., Valyria AK 62260\\ncharlespatterson@bogusemail.com\\n\\nJoe Jackson\\n217-555-7123\\n683 Cedar St., South Park KS 66724\\njoejackson@bogusemail.com\\n\\nMichael Johnson\\n786-555-6544\\n288 Hill St., Smalltown AZ 18586\\nmichaeljohnson@bogusemail.com\\n\\nCorey Miller\\n780-555-2574\\n286 High St., Springfield IA 16272\\ncoreymiller@bogusemail.com\\n\\nJames Moore\\n926-555-8735\\n278 Main St., Gotham KY 89569\\njamesmoore@bogusemail.com\\n\\nJennifer Stuart\\n895-555-3539\\n766 Hill St., King's Landing GA 54999\\njenniferstuart@bogusemail.com\\n\\nCharles Martin\\n874-555-3949\\n775 High St., Faketown PA 89260\\ncharlesmartin@bogusemail.com\\n\\nEric Wilks\\n800-555-2420\\n885 Main St., Blackwater OH 61275\\njoewilks@bogusemail.com\\n\\nElizabeth Arnold\\n936-555-6340\\n528 Hill St., Atlantis NH 88289\\nelizabetharnold@bogusemail.com\\n\\nJohn Miller\\n372-555-9809\\n117 Cedar St., Thundera NM 75205\\njohnmiller@bogusemail.com\\n\\nCorey Jackson\\n890-555-5618\\n115 Oak St., Gotham UT 36433\\ncoreyjackson@bogusemail.com\\n\\nSam Thomas\\n670-555-3005\\n743 Lake St., Springfield MS 25473\\nsamthomas@bogusemail.com\\n\\nPatricia Thomas\\n509-555-5997\\n381 Hill St., Blackwater CT 30958\\npatriciathomas@bogusemail.com\\n\\nJennifer Davis\\n721-555-5632\\n125 Main St., Smalltown MT 62155\\njenniferdavis@bogusemail.com\\n\\nPatricia Brown\\n900-555-3567\\n292 Hill St., Gotham WV 57680\\npatriciabrown@bogusemail.com\\n\\nBarbara Williams\\n147-555-6830\\n514 Park St., Balmora NV 55462\\nbarbarawilliams@bogusemail.com\\n\\nJames Taylor\\n582-555-3426\\n776 Hill St., Dawnstar MA 51312\\njamestaylor@bogusemail.com\\n\\nEric Harris\\n400-555-1706\\n421 Elm St., Smalltown NV 72025\\nbarbaraharris@bogusemail.com\\n\\nTravis Anderson\\n525-555-1793\\n937 Cedar St., Thundera WA 78862\\ntravisanderson@bogusemail.com\\n\\nSam Robinson\\n317-555-6700\\n417 Pine St., Lakeview MD 13147\\nsamrobinson@bogusemail.com\\n\\nSteve Robinson\\n974-555-8301\\n478 Park St., Springfield NM 92369\\nsteverobinson@bogusemail.com\\n\\nMary Wilson\\n800-555-3216\\n708 Maple St., Braavosâ€Ž UT 29551\\nmarywilson@bogusemail.com\\n\\nSam Wilson\\n746-555-4094\\n557 Pearl St., Westworld KS 23225\\nsamwilson@bogusemail.com\\n\\nCharles Jones\\n922-555-1773\\n855 Hill St., Olympus HI 81427\\ncharlesjones@bogusemail.com\\n\\nLaura Brown\\n711-555-4427\\n980 Maple St., Smalltown MO 96421\\nlaurabrown@bogusemail.com\\n\\nTom Harris\\n355-555-1872\\n676 Hill St., Blackwater AR 96698\\ntomharris@bogusemail.com\\n\\nPatricia Taylor\\n852-555-6521\\n588 Pine St., Olympus FL 98412\\npatriciataylor@bogusemail.com\\n\\nBarbara Williams\\n691-555-5773\\n351 Elm St., Sunnydale GA 26245\\nbarbarawilliams@bogusemail.com\\n\\nMaggie Johnson\\n332-555-5441\\n948 Cedar St., Quahog DE 56449\\nmaggiejohnson@bogusemail.com\\n\\nKurt Miller\\n900-555-7755\\n381 Hill St., Quahog AL 97503\\nkurtmiller@bogusemail.com\\n\\nNeil Stuart\\n379-555-3685\\n496 Cedar St., Sunnydale RI 49113\\nneilstuart@bogusemail.com\\n\\nLinda Patterson\\n127-555-9682\\n736 Cedar St., Lakeview KY 47472\\nlindapatterson@bogusemail.com\\n\\nCharles Davis\\n789-555-7032\\n678 Lake St., Mordor MN 11845\\ncharlesdavis@bogusemail.com\\n\\nJennifer Jefferson\\n783-555-5135\\n289 Park St., Sunnydale WA 74526\\njenniferjefferson@bogusemail.com\\n\\nErick Taylor\\n315-555-6507\\n245 Washington St., Bedrock IL 26941\\ncoreytaylor@bogusemail.com\\n\\nRobert Wilks\\n481-555-5835\\n573 Elm St., Sunnydale IL 47182\\nrobertwilks@bogusemail.com\\n\\nTravis Jackson\\n365-555-8287\\n851 Lake St., Metropolis PA 22772\\ntravisjackson@bogusemail.com\\n\\nTravis Jackson\\n911-555-7535\\n489 Oak St., Atlantis HI 73725\\ntravisjackson@bogusemail.com\\n\\nLaura Wilks\\n681-555-2460\\n371 Pearl St., Smalltown SC 47466\\nlaurawilks@bogusemail.com\\n\\nNeil Arnold\\n274-555-9800\\n504 Oak St., Faketown PA 73860\\nneilarnold@bogusemail.com\\n\\nLinda Johnson\\n800-555-1372\\n667 High St., Balmora IN 82473\\nlindajohnson@bogusemail.com\\n\\nJennifer Wilson\\n300-555-7821\\n266 Pine St., Westworld DC 58720\\njenniferwilson@bogusemail.com\\n\\nNicole White\\n133-555-3889\\n276 High St., Braavosâ€Ž IL 57764\\nnicolewhite@bogusemail.com\\n\\nMaria Arnold\\n705-555-6863\\n491 Elm St., Metropolis PA 31836\\nmariaarnold@bogusemail.com\\n\\nJennifer Davis\\n215-555-9449\\n859 Cedar St., Old-town MT 31169\\njenniferdavis@bogusemail.com\\n\\nMary Patterson\\n988-555-6112\\n956 Park St., Valyria CT 81541\\nmarypatterson@bogusemail.com\\n\\nJane Stuart\\n623-555-3006\\n983 Oak St., Old-town RI 15445\\njanestuart@bogusemail.com\\n\\nRobert Davis\\n192-555-4977\\n789 Maple St., Mordor IN 22215\\nrobertdavis@bogusemail.com\\n\\nJames Taylor\\n178-555-4899\\n439 Hill St., Olympus NV 39308\\njamestaylor@bogusemail.com\\n\\nEric Stuart\\n952-555-3089\\n777 High St., King's Landing AZ 16547\\njohnstuart@bogusemail.com\\n\\nCharles Miller\\n900-555-6426\\n207 Washington St., Blackwater MA 24886\\ncharlesmiller@bogusemail.com\""
      ]
     },
     "execution_count": 21,
     "metadata": {},
     "output_type": "execute_result"
    }
   ],
   "source": [
    "data"
   ]
  },
  {
   "cell_type": "code",
   "execution_count": 182,
   "id": "38abc30f",
   "metadata": {},
   "outputs": [],
   "source": [
    "# print(data)"
   ]
  },
  {
   "cell_type": "code",
   "execution_count": null,
   "id": "7b1fc89e",
   "metadata": {},
   "outputs": [],
   "source": []
  },
  {
   "cell_type": "code",
   "execution_count": 23,
   "id": "763bf7d6",
   "metadata": {},
   "outputs": [],
   "source": [
    "# extract phone numbers : \n"
   ]
  },
  {
   "cell_type": "code",
   "execution_count": 26,
   "id": "481d41c7",
   "metadata": {},
   "outputs": [
    {
     "name": "stdout",
     "output_type": "stream",
     "text": [
      "None\n"
     ]
    }
   ],
   "source": [
    "pattern = \"\\d{3}\\-\\d{3}\\-\\d{4}\"\n",
    "print(re.match(pattern,data))"
   ]
  },
  {
   "cell_type": "code",
   "execution_count": 31,
   "id": "001f6195",
   "metadata": {},
   "outputs": [
    {
     "data": {
      "text/plain": [
       "<re.Match object; span=(12, 24), match='615-555-7164'>"
      ]
     },
     "execution_count": 31,
     "metadata": {},
     "output_type": "execute_result"
    }
   ],
   "source": [
    "re.search(pattern,data)"
   ]
  },
  {
   "cell_type": "code",
   "execution_count": 34,
   "id": "81458f41",
   "metadata": {},
   "outputs": [
    {
     "data": {
      "text/plain": [
       "'615-555-7164'"
      ]
     },
     "execution_count": 34,
     "metadata": {},
     "output_type": "execute_result"
    }
   ],
   "source": [
    "re.search(pattern,data)[0]"
   ]
  },
  {
   "cell_type": "code",
   "execution_count": null,
   "id": "1f46a3b3",
   "metadata": {},
   "outputs": [],
   "source": []
  },
  {
   "cell_type": "code",
   "execution_count": 35,
   "id": "d82a1c42",
   "metadata": {
    "scrolled": true
   },
   "outputs": [
    {
     "data": {
      "text/plain": [
       "['615-555-7164',\n",
       " '800-555-5669',\n",
       " '560-555-5153',\n",
       " '900-555-9340',\n",
       " '714-555-7405',\n",
       " '800-555-6771',\n",
       " '783-555-4799',\n",
       " '516-555-4615',\n",
       " '127-555-1867',\n",
       " '608-555-4938',\n",
       " '568-555-6051',\n",
       " '292-555-1875',\n",
       " '900-555-3205',\n",
       " '614-555-1166',\n",
       " '530-555-2676',\n",
       " '470-555-2750',\n",
       " '800-555-6089',\n",
       " '880-555-8319',\n",
       " '777-555-8378',\n",
       " '998-555-7385',\n",
       " '800-555-7100',\n",
       " '903-555-8277',\n",
       " '196-555-5674',\n",
       " '900-555-5118',\n",
       " '905-555-1630',\n",
       " '203-555-3475',\n",
       " '884-555-8444',\n",
       " '904-555-8559',\n",
       " '889-555-7393',\n",
       " '195-555-2405',\n",
       " '321-555-9053',\n",
       " '133-555-1711',\n",
       " '900-555-5428',\n",
       " '760-555-7147',\n",
       " '391-555-6621',\n",
       " '932-555-7724',\n",
       " '609-555-7908',\n",
       " '800-555-8810',\n",
       " '149-555-7657',\n",
       " '130-555-9709',\n",
       " '143-555-9295',\n",
       " '903-555-9878',\n",
       " '574-555-3194',\n",
       " '496-555-7533',\n",
       " '210-555-3757',\n",
       " '900-555-9598',\n",
       " '866-555-9844',\n",
       " '669-555-7159',\n",
       " '152-555-7417',\n",
       " '893-555-9832',\n",
       " '217-555-7123',\n",
       " '786-555-6544',\n",
       " '780-555-2574',\n",
       " '926-555-8735',\n",
       " '895-555-3539',\n",
       " '874-555-3949',\n",
       " '800-555-2420',\n",
       " '936-555-6340',\n",
       " '372-555-9809',\n",
       " '890-555-5618',\n",
       " '670-555-3005',\n",
       " '509-555-5997',\n",
       " '721-555-5632',\n",
       " '900-555-3567',\n",
       " '147-555-6830',\n",
       " '582-555-3426',\n",
       " '400-555-1706',\n",
       " '525-555-1793',\n",
       " '317-555-6700',\n",
       " '974-555-8301',\n",
       " '800-555-3216',\n",
       " '746-555-4094',\n",
       " '922-555-1773',\n",
       " '711-555-4427',\n",
       " '355-555-1872',\n",
       " '852-555-6521',\n",
       " '691-555-5773',\n",
       " '332-555-5441',\n",
       " '900-555-7755',\n",
       " '379-555-3685',\n",
       " '127-555-9682',\n",
       " '789-555-7032',\n",
       " '783-555-5135',\n",
       " '315-555-6507',\n",
       " '481-555-5835',\n",
       " '365-555-8287',\n",
       " '911-555-7535',\n",
       " '681-555-2460',\n",
       " '274-555-9800',\n",
       " '800-555-1372',\n",
       " '300-555-7821',\n",
       " '133-555-3889',\n",
       " '705-555-6863',\n",
       " '215-555-9449',\n",
       " '988-555-6112',\n",
       " '623-555-3006',\n",
       " '192-555-4977',\n",
       " '178-555-4899',\n",
       " '952-555-3089',\n",
       " '900-555-6426']"
      ]
     },
     "execution_count": 35,
     "metadata": {},
     "output_type": "execute_result"
    }
   ],
   "source": [
    "re.findall(pattern,data)"
   ]
  },
  {
   "cell_type": "code",
   "execution_count": null,
   "id": "8b12d22b",
   "metadata": {},
   "outputs": [],
   "source": []
  },
  {
   "cell_type": "code",
   "execution_count": 36,
   "id": "4d75d438",
   "metadata": {},
   "outputs": [
    {
     "data": {
      "text/plain": [
       "<callable_iterator at 0x1763e30db20>"
      ]
     },
     "execution_count": 36,
     "metadata": {},
     "output_type": "execute_result"
    }
   ],
   "source": [
    "re.finditer(pattern,data)"
   ]
  },
  {
   "cell_type": "code",
   "execution_count": 41,
   "id": "16ca8457",
   "metadata": {
    "scrolled": true
   },
   "outputs": [
    {
     "name": "stdout",
     "output_type": "stream",
     "text": [
      "0 <re.Match object; span=(12, 24), match='615-555-7164'>\n",
      "1 <re.Match object; span=(102, 114), match='800-555-5669'>\n",
      "2 <re.Match object; span=(191, 203), match='560-555-5153'>\n",
      "3 <re.Match object; span=(281, 293), match='900-555-9340'>\n",
      "4 <re.Match object; span=(378, 390), match='714-555-7405'>\n",
      "5 <re.Match object; span=(467, 479), match='800-555-6771'>\n",
      "6 <re.Match object; span=(557, 569), match='783-555-4799'>\n",
      "7 <re.Match object; span=(647, 659), match='516-555-4615'>\n",
      "8 <re.Match object; span=(740, 752), match='127-555-1867'>\n",
      "9 <re.Match object; span=(831, 843), match='608-555-4938'>\n",
      "10 <re.Match object; span=(917, 929), match='568-555-6051'>\n"
     ]
    }
   ],
   "source": [
    "for i,n in enumerate(re.finditer(pattern,data)):\n",
    "    print(i,n)\n",
    "    if  i == 10:\n",
    "        break"
   ]
  },
  {
   "cell_type": "code",
   "execution_count": null,
   "id": "f2e5b214",
   "metadata": {},
   "outputs": [],
   "source": []
  },
  {
   "cell_type": "code",
   "execution_count": 44,
   "id": "42e9129a",
   "metadata": {
    "scrolled": true
   },
   "outputs": [
    {
     "name": "stdout",
     "output_type": "stream",
     "text": [
      "615-555-7164\n",
      "800-555-5669\n",
      "560-555-5153\n",
      "900-555-9340\n",
      "714-555-7405\n",
      "800-555-6771\n",
      "783-555-4799\n",
      "516-555-4615\n",
      "127-555-1867\n",
      "608-555-4938\n",
      "568-555-6051\n",
      "292-555-1875\n",
      "900-555-3205\n",
      "614-555-1166\n",
      "530-555-2676\n",
      "470-555-2750\n",
      "800-555-6089\n",
      "880-555-8319\n",
      "777-555-8378\n",
      "998-555-7385\n",
      "800-555-7100\n",
      "903-555-8277\n",
      "196-555-5674\n",
      "900-555-5118\n",
      "905-555-1630\n",
      "203-555-3475\n",
      "884-555-8444\n",
      "904-555-8559\n",
      "889-555-7393\n",
      "195-555-2405\n",
      "321-555-9053\n",
      "133-555-1711\n",
      "900-555-5428\n",
      "760-555-7147\n",
      "391-555-6621\n",
      "932-555-7724\n",
      "609-555-7908\n",
      "800-555-8810\n",
      "149-555-7657\n",
      "130-555-9709\n",
      "143-555-9295\n",
      "903-555-9878\n",
      "574-555-3194\n",
      "496-555-7533\n",
      "210-555-3757\n",
      "900-555-9598\n",
      "866-555-9844\n",
      "669-555-7159\n",
      "152-555-7417\n",
      "893-555-9832\n",
      "217-555-7123\n",
      "786-555-6544\n",
      "780-555-2574\n",
      "926-555-8735\n",
      "895-555-3539\n",
      "874-555-3949\n",
      "800-555-2420\n",
      "936-555-6340\n",
      "372-555-9809\n",
      "890-555-5618\n",
      "670-555-3005\n",
      "509-555-5997\n",
      "721-555-5632\n",
      "900-555-3567\n",
      "147-555-6830\n",
      "582-555-3426\n",
      "400-555-1706\n",
      "525-555-1793\n",
      "317-555-6700\n",
      "974-555-8301\n",
      "800-555-3216\n",
      "746-555-4094\n",
      "922-555-1773\n",
      "711-555-4427\n",
      "355-555-1872\n",
      "852-555-6521\n",
      "691-555-5773\n",
      "332-555-5441\n",
      "900-555-7755\n",
      "379-555-3685\n",
      "127-555-9682\n",
      "789-555-7032\n",
      "783-555-5135\n",
      "315-555-6507\n",
      "481-555-5835\n",
      "365-555-8287\n",
      "911-555-7535\n",
      "681-555-2460\n",
      "274-555-9800\n",
      "800-555-1372\n",
      "300-555-7821\n",
      "133-555-3889\n",
      "705-555-6863\n",
      "215-555-9449\n",
      "988-555-6112\n",
      "623-555-3006\n",
      "192-555-4977\n",
      "178-555-4899\n",
      "952-555-3089\n",
      "900-555-6426\n"
     ]
    }
   ],
   "source": [
    "for i in re.finditer(pattern,data):\n",
    "    print(i[0])"
   ]
  },
  {
   "cell_type": "code",
   "execution_count": null,
   "id": "1162a745",
   "metadata": {},
   "outputs": [],
   "source": []
  },
  {
   "cell_type": "code",
   "execution_count": null,
   "id": "4d4ce18f",
   "metadata": {},
   "outputs": [],
   "source": []
  },
  {
   "cell_type": "code",
   "execution_count": 48,
   "id": "257ecbac",
   "metadata": {},
   "outputs": [
    {
     "name": "stdout",
     "output_type": "stream",
     "text": [
      "12 24       615-555-7164\n",
      "102 114       800-555-5669\n",
      "191 203       560-555-5153\n",
      "281 293       900-555-9340\n",
      "378 390       714-555-7405\n",
      "467 479       800-555-6771\n",
      "557 569       783-555-4799\n",
      "647 659       516-555-4615\n",
      "740 752       127-555-1867\n",
      "831 843       608-555-4938\n",
      "917 929       568-555-6051\n"
     ]
    }
   ],
   "source": [
    "for i,n in enumerate(re.finditer(pattern,data)):\n",
    "    \n",
    "    \n",
    "    print(n.start(),n.end(),\"     \" ,n.group())\n",
    "    \n",
    "    \n",
    "    if  i == 10:\n",
    "        break"
   ]
  },
  {
   "cell_type": "code",
   "execution_count": null,
   "id": "56a2a665",
   "metadata": {},
   "outputs": [],
   "source": []
  },
  {
   "cell_type": "code",
   "execution_count": 49,
   "id": "5340ec7c",
   "metadata": {},
   "outputs": [],
   "source": [
    "# email : coreyjefferson@bogusemail.com\n",
    "\n",
    "patternemail = \"\\w+@\\w+\\.\\w{2,3}\""
   ]
  },
  {
   "cell_type": "code",
   "execution_count": 50,
   "id": "83996a07",
   "metadata": {},
   "outputs": [
    {
     "name": "stdout",
     "output_type": "stream",
     "text": [
      "60 85       davemartin@bogusemail.com\n",
      "147 175       charlesharris@bogusemail.com\n",
      "235 263       laurawilliams@bogusemail.com\n",
      "325 354       coreyjefferson@bogusemail.com\n",
      "425 453       jenniferwhite@bogusemail.com\n",
      "517 540       tomdavis@bogusemail.com\n",
      "601 629       neilpatterson@bogusemail.com\n",
      "695 724       laurajefferson@bogusemail.com\n",
      "787 814       mariajohnson@bogusemail.com\n",
      "873 901       michaelarnold@bogusemail.com\n",
      "964 991       michaelsmith@bogusemail.com\n"
     ]
    }
   ],
   "source": [
    "for i,n in enumerate(re.finditer(patternemail,data)):\n",
    "    \n",
    "    \n",
    "    print(n.start(),n.end(),\"     \" ,n.group())\n",
    "    \n",
    "    \n",
    "    if  i == 10:\n",
    "        break"
   ]
  },
  {
   "cell_type": "code",
   "execution_count": null,
   "id": "a1f1abb6",
   "metadata": {},
   "outputs": [],
   "source": []
  },
  {
   "cell_type": "code",
   "execution_count": null,
   "id": "4508d112",
   "metadata": {},
   "outputs": [],
   "source": []
  },
  {
   "cell_type": "code",
   "execution_count": null,
   "id": "f198a3a8",
   "metadata": {},
   "outputs": [],
   "source": []
  },
  {
   "cell_type": "code",
   "execution_count": null,
   "id": "3ccbe55b",
   "metadata": {},
   "outputs": [],
   "source": []
  },
  {
   "cell_type": "code",
   "execution_count": 51,
   "id": "01740a35",
   "metadata": {},
   "outputs": [],
   "source": [
    "name_pattern = \"[A-Z][a-z]*\\s[A-Z][a-z]*\""
   ]
  },
  {
   "cell_type": "code",
   "execution_count": 52,
   "id": "40d6ee09",
   "metadata": {},
   "outputs": [
    {
     "name": "stdout",
     "output_type": "stream",
     "text": [
      "0 11       Dave Martin\n",
      "29 36       Main St\n",
      "39 52       Springfield R\n",
      "87 101       Charles Harris\n",
      "119 126       High St\n",
      "129 139       Atlantis V\n",
      "177 190       Eric Williams\n",
      "217 227       Faketown A\n",
      "265 280       Corey Jefferson\n",
      "298 304       Elm St\n",
      "307 317       Epicburg N\n"
     ]
    }
   ],
   "source": [
    "for i,n in enumerate(re.finditer(name_pattern,data)):   # some strange \n",
    "    \n",
    "    \n",
    "    print(n.start(),n.end(),\"     \" ,n.group())\n",
    "    \n",
    "    \n",
    "    if  i == 10:\n",
    "        break"
   ]
  },
  {
   "cell_type": "code",
   "execution_count": null,
   "id": "2b38f6f2",
   "metadata": {},
   "outputs": [],
   "source": []
  },
  {
   "cell_type": "code",
   "execution_count": null,
   "id": "30d789cf",
   "metadata": {},
   "outputs": [],
   "source": []
  },
  {
   "cell_type": "code",
   "execution_count": 53,
   "id": "a04d16a7",
   "metadata": {},
   "outputs": [],
   "source": [
    "name_pattern = \"[A-Z][a-z]*\\s[A-Z][a-z]{2,}\""
   ]
  },
  {
   "cell_type": "code",
   "execution_count": 54,
   "id": "a60e8e51",
   "metadata": {},
   "outputs": [
    {
     "name": "stdout",
     "output_type": "stream",
     "text": [
      "0 11       Dave Martin\n",
      "87 101       Charles Harris\n",
      "177 190       Eric Williams\n",
      "265 280       Corey Jefferson\n",
      "356 371       Jennifer Martin\n",
      "455 466       Erick Davis\n",
      "542 556       Neil Patterson\n",
      "631 646       Laura Jefferson\n",
      "726 739       Maria Johnson\n",
      "816 830       Michael Arnold\n",
      "903 916       Michael Smith\n"
     ]
    }
   ],
   "source": [
    "for i,n in enumerate(re.finditer(name_pattern,data)):   # some strange \n",
    "    \n",
    "    \n",
    "    print(n.start(),n.end(),\"     \" ,n.group())\n",
    "    \n",
    "    \n",
    "    if  i == 10:\n",
    "        break"
   ]
  },
  {
   "cell_type": "code",
   "execution_count": null,
   "id": "ae1174a6",
   "metadata": {},
   "outputs": [],
   "source": []
  },
  {
   "cell_type": "code",
   "execution_count": null,
   "id": "e573989d",
   "metadata": {},
   "outputs": [],
   "source": []
  },
  {
   "cell_type": "code",
   "execution_count": 58,
   "id": "2b62b1b9",
   "metadata": {},
   "outputs": [
    {
     "data": {
      "text/plain": [
       "'aaa'"
      ]
     },
     "execution_count": 58,
     "metadata": {},
     "output_type": "execute_result"
    }
   ],
   "source": [
    "re.search(\"a+\",\"aaaAAA\")[0]"
   ]
  },
  {
   "cell_type": "code",
   "execution_count": 63,
   "id": "35122438",
   "metadata": {},
   "outputs": [
    {
     "data": {
      "text/plain": [
       "'aaaAAA'"
      ]
     },
     "execution_count": 63,
     "metadata": {},
     "output_type": "execute_result"
    }
   ],
   "source": [
    "re.search(\"a+\",\"aaaAAA\",re.IGNORECASE)[0]"
   ]
  },
  {
   "cell_type": "code",
   "execution_count": 64,
   "id": "bfbb01e7",
   "metadata": {},
   "outputs": [
    {
     "data": {
      "text/plain": [
       "'aaaA'"
      ]
     },
     "execution_count": 64,
     "metadata": {},
     "output_type": "execute_result"
    }
   ],
   "source": [
    "re.search(\"a+\",\"aaaAbAA\",re.IGNORECASE)[0]"
   ]
  },
  {
   "cell_type": "code",
   "execution_count": 67,
   "id": "abaea9ab",
   "metadata": {},
   "outputs": [
    {
     "data": {
      "text/plain": [
       "'aaaA'"
      ]
     },
     "execution_count": 67,
     "metadata": {},
     "output_type": "execute_result"
    }
   ],
   "source": [
    "re.search(\"a+\",\"aaaAbAA\",re.I)[0]"
   ]
  },
  {
   "cell_type": "code",
   "execution_count": null,
   "id": "53a3665f",
   "metadata": {},
   "outputs": [],
   "source": []
  },
  {
   "cell_type": "code",
   "execution_count": null,
   "id": "2e4a0cde",
   "metadata": {},
   "outputs": [],
   "source": []
  },
  {
   "cell_type": "code",
   "execution_count": 69,
   "id": "10659917",
   "metadata": {},
   "outputs": [
    {
     "data": {
      "text/plain": [
       "'aa123aA'"
      ]
     },
     "execution_count": 69,
     "metadata": {},
     "output_type": "execute_result"
    }
   ],
   "source": [
    "re.search(\"a+\\d*a+\",\"aa123aAbAA\",re.I)[0]"
   ]
  },
  {
   "cell_type": "code",
   "execution_count": null,
   "id": "9770ee3f",
   "metadata": {},
   "outputs": [],
   "source": []
  },
  {
   "cell_type": "code",
   "execution_count": null,
   "id": "7914d469",
   "metadata": {},
   "outputs": [],
   "source": []
  },
  {
   "cell_type": "code",
   "execution_count": null,
   "id": "f5d61a60",
   "metadata": {},
   "outputs": [],
   "source": []
  },
  {
   "cell_type": "code",
   "execution_count": 85,
   "id": "c492e6ee",
   "metadata": {},
   "outputs": [],
   "source": [
    "target_Str = \"Priya is an instructor at scaler and her salary is 100000\""
   ]
  },
  {
   "cell_type": "code",
   "execution_count": 88,
   "id": "1400061b",
   "metadata": {},
   "outputs": [],
   "source": [
    "pattern = \"(^[A-Z]\\w{2,}).+(\\d{6,}$)\""
   ]
  },
  {
   "cell_type": "code",
   "execution_count": 89,
   "id": "95eaa3c0",
   "metadata": {},
   "outputs": [
    {
     "data": {
      "text/plain": [
       "'Priya is an instructor at scaler and her salary is 100000'"
      ]
     },
     "execution_count": 89,
     "metadata": {},
     "output_type": "execute_result"
    }
   ],
   "source": [
    "re.search(pattern,target_Str)[0]"
   ]
  },
  {
   "cell_type": "code",
   "execution_count": 90,
   "id": "8ab6d1ca",
   "metadata": {},
   "outputs": [],
   "source": [
    "result = re.search(pattern,target_Str)"
   ]
  },
  {
   "cell_type": "code",
   "execution_count": 91,
   "id": "b70b1c5c",
   "metadata": {},
   "outputs": [
    {
     "data": {
      "text/plain": [
       "(0, 57, 'Priya is an instructor at scaler and her salary is 100000')"
      ]
     },
     "execution_count": 91,
     "metadata": {},
     "output_type": "execute_result"
    }
   ],
   "source": [
    "result.start(),result.end(),result.group()"
   ]
  },
  {
   "cell_type": "code",
   "execution_count": 92,
   "id": "b895d590",
   "metadata": {},
   "outputs": [
    {
     "data": {
      "text/plain": [
       "'Priya'"
      ]
     },
     "execution_count": 92,
     "metadata": {},
     "output_type": "execute_result"
    }
   ],
   "source": [
    "result.group(1)"
   ]
  },
  {
   "cell_type": "code",
   "execution_count": 93,
   "id": "a32dd5c4",
   "metadata": {},
   "outputs": [
    {
     "data": {
      "text/plain": [
       "'100000'"
      ]
     },
     "execution_count": 93,
     "metadata": {},
     "output_type": "execute_result"
    }
   ],
   "source": [
    "result.group(2)"
   ]
  },
  {
   "cell_type": "code",
   "execution_count": 95,
   "id": "0eea8f6c",
   "metadata": {},
   "outputs": [],
   "source": [
    "# result.group(3)   #error   # no group 3 "
   ]
  },
  {
   "cell_type": "code",
   "execution_count": null,
   "id": "351665b1",
   "metadata": {},
   "outputs": [],
   "source": []
  },
  {
   "cell_type": "markdown",
   "id": "6ae7dec4",
   "metadata": {},
   "source": [
    "\n",
    "```\n",
    ".       - Any Character Except New Line\n",
    "\\d      - Digit (0-9)\n",
    "\\D      - Not a Digit (0-9)\n",
    "\\w      - Word Character (a-z, A-Z, 0-9, _)\n",
    "\\W      - Not a Word Character\n",
    "\\s      - Whitespace (space, tab, newline)\n",
    "\\S      - Not Whitespace (space, tab, newline)\n",
    "\n",
    "\\b      - Word Boundary\n",
    "\\B      - Not a Word Boundary\n",
    "^       - Beginning of a String\n",
    "$       - End of a String\n",
    "\n",
    "[]      - Matches Characters in brackets\n",
    "[^ ]    - Matches Characters NOT in brackets\n",
    "|       - Either Or\n",
    "( )     - Group\n",
    "```\n",
    "\n",
    "\n",
    "Documentation: https://docs.python.org/3/howto/regex.html"
   ]
  },
  {
   "cell_type": "code",
   "execution_count": null,
   "id": "eb28485a",
   "metadata": {},
   "outputs": [],
   "source": []
  },
  {
   "cell_type": "markdown",
   "id": "078e6b27",
   "metadata": {},
   "source": [
    "\n",
    "\n",
    "### Email Validation RegEX\n",
    "\n",
    "\n",
    "`^\\w+([\\.-]?\\w+)*@\\w+([\\.-]?\\w+)*(\\.\\w{2,3})+$`\n",
    "\n",
    "\n",
    "1. ^ means start and $ means end, \n",
    "2. `\\w+` means alphanumeric, one or more times\n",
    "3. Then the group `([\\.-]?\\w+)*`\n",
    "4. Within the group, we have `[\\.-]?` which means either dot or dash, zero or one time\n",
    "6.  `(\\.\\w{2,3})+` - matches . followed by 2 or 3 letter word i.e. com, in etc\n",
    "\n",
    "\n"
   ]
  },
  {
   "cell_type": "code",
   "execution_count": null,
   "id": "a531605e",
   "metadata": {},
   "outputs": [],
   "source": []
  },
  {
   "cell_type": "code",
   "execution_count": null,
   "id": "a1c7352a",
   "metadata": {},
   "outputs": [],
   "source": []
  },
  {
   "cell_type": "code",
   "execution_count": null,
   "id": "b4aeeec5",
   "metadata": {},
   "outputs": [],
   "source": []
  },
  {
   "cell_type": "code",
   "execution_count": null,
   "id": "d359a479",
   "metadata": {},
   "outputs": [],
   "source": []
  },
  {
   "cell_type": "code",
   "execution_count": null,
   "id": "c2fbded5",
   "metadata": {},
   "outputs": [],
   "source": []
  },
  {
   "cell_type": "code",
   "execution_count": null,
   "id": "69d4acb0",
   "metadata": {},
   "outputs": [],
   "source": []
  },
  {
   "cell_type": "code",
   "execution_count": null,
   "id": "653865d4",
   "metadata": {},
   "outputs": [],
   "source": []
  },
  {
   "cell_type": "code",
   "execution_count": null,
   "id": "04fe8ea3",
   "metadata": {},
   "outputs": [],
   "source": []
  },
  {
   "cell_type": "code",
   "execution_count": null,
   "id": "14a2af1c",
   "metadata": {},
   "outputs": [],
   "source": []
  },
  {
   "cell_type": "code",
   "execution_count": null,
   "id": "f8db92dd",
   "metadata": {},
   "outputs": [],
   "source": []
  },
  {
   "cell_type": "code",
   "execution_count": null,
   "id": "fac7d221",
   "metadata": {},
   "outputs": [],
   "source": []
  },
  {
   "cell_type": "code",
   "execution_count": null,
   "id": "fe2044eb",
   "metadata": {},
   "outputs": [],
   "source": []
  },
  {
   "cell_type": "code",
   "execution_count": null,
   "id": "49f09efa",
   "metadata": {},
   "outputs": [],
   "source": []
  },
  {
   "cell_type": "code",
   "execution_count": null,
   "id": "96b98c9e",
   "metadata": {},
   "outputs": [],
   "source": []
  },
  {
   "cell_type": "code",
   "execution_count": 96,
   "id": "c7577811",
   "metadata": {},
   "outputs": [
    {
     "name": "stderr",
     "output_type": "stream",
     "text": [
      "Downloading...\n",
      "From: https://drive.google.com/uc?id=1etozIXX1Wly8bIFgs4bsJbREcW4jpeG0\n",
      "To: C:\\Users\\sunny\\DSML Advance\\invoice.pdf\n",
      "\n",
      "  0%|          | 0.00/43.6k [00:00<?, ?B/s]\n",
      "100%|##########| 43.6k/43.6k [00:00<00:00, 3.97MB/s]\n"
     ]
    }
   ],
   "source": [
    "!gdown 1etozIXX1Wly8bIFgs4bsJbREcW4jpeG0"
   ]
  },
  {
   "cell_type": "code",
   "execution_count": 97,
   "id": "7a991fa1",
   "metadata": {},
   "outputs": [
    {
     "name": "stdout",
     "output_type": "stream",
     "text": [
      "Collecting pyPDF4\n",
      "  Downloading PyPDF4-1.27.0.tar.gz (63 kB)\n",
      "Building wheels for collected packages: pyPDF4\n",
      "  Building wheel for pyPDF4 (setup.py): started\n",
      "  Building wheel for pyPDF4 (setup.py): finished with status 'done'\n",
      "  Created wheel for pyPDF4: filename=PyPDF4-1.27.0-py3-none-any.whl size=61248 sha256=bbbdcf2d020a1a7e5c116761f87812aa6ec92307d3f93bd7d2db20233d0cecae\n",
      "  Stored in directory: c:\\users\\sunny\\appdata\\local\\pip\\cache\\wheels\\cd\\0e\\4a\\e6f842a6035ccffff0dab29c39dd06c3427560a82783355a83\n",
      "Successfully built pyPDF4\n",
      "Installing collected packages: pyPDF4\n",
      "Successfully installed pyPDF4-1.27.0\n"
     ]
    }
   ],
   "source": [
    "!pip3 install pyPDF4"
   ]
  },
  {
   "cell_type": "code",
   "execution_count": null,
   "id": "103385fc",
   "metadata": {},
   "outputs": [],
   "source": []
  },
  {
   "cell_type": "code",
   "execution_count": 98,
   "id": "dd06c577",
   "metadata": {},
   "outputs": [],
   "source": [
    "import PyPDF4"
   ]
  },
  {
   "cell_type": "code",
   "execution_count": 99,
   "id": "021f7d85",
   "metadata": {},
   "outputs": [
    {
     "name": "stdout",
     "output_type": "stream",
     "text": [
      "Invoice\n",
      "Payment is due within 30 days from date of invoice. Late payment is subject to fees of 5% per month.\n",
      "Thanks for choosing \n",
      "DEMO - Sliced Invoices\n",
      " | \n",
      "admin@slicedinvoices.com\n",
      "Page 1/1\n",
      "From:\n",
      "DEMO - Sliced Invoices\n",
      "Suite 5A-1204\n",
      "123 Somewhere Street\n",
      "Your City AZ 12345\n",
      "admin@slicedinvoices.com\n",
      "Invoice Number\n",
      "INV-3337\n",
      "Order Number\n",
      "12345\n",
      "Invoice Date\n",
      "January 25, 2016\n",
      "Due Date\n",
      "January 31, 2016\n",
      "Total Due\n",
      "$93.50\n",
      "To:\n",
      "Test Business\n",
      "123 Somewhere St\n",
      "Melbourne, VIC 3000\n",
      "test@test.com\n",
      "Hrs/Qty\n",
      "Service\n",
      "Rate/Price\n",
      "Adjust\n",
      "Sub Total\n",
      "1.00\n",
      "Web Design\n",
      "This is a sample description...\n",
      "$85.00\n",
      "0.00%\n",
      "$85.00\n",
      "Sub Total\n",
      "$85.00\n",
      "Tax\n",
      "$8.50\n",
      "Total\n",
      "$93.50\n",
      "ANZ Bank\n",
      "ACC # 1234 1234\n",
      "BSB # 4321 432\n",
      "Paid\n",
      "\n"
     ]
    }
   ],
   "source": [
    "with open(\"invoice.pdf\", mode = \"rb\") as f:\n",
    "    reader = PyPDF4.PdfFileReader(f)\n",
    "    page = reader.getPage(0)\n",
    "    txt = page.extractText()\n",
    "    print(txt)"
   ]
  },
  {
   "cell_type": "code",
   "execution_count": 100,
   "id": "a12ee999",
   "metadata": {},
   "outputs": [],
   "source": [
    "M = re.search(\"INV\\-\\d{4}\",txt)"
   ]
  },
  {
   "cell_type": "code",
   "execution_count": 102,
   "id": "a46cb53d",
   "metadata": {},
   "outputs": [
    {
     "data": {
      "text/plain": [
       "'INV-3337'"
      ]
     },
     "execution_count": 102,
     "metadata": {},
     "output_type": "execute_result"
    }
   ],
   "source": [
    "M[0]"
   ]
  },
  {
   "cell_type": "code",
   "execution_count": null,
   "id": "0f022929",
   "metadata": {},
   "outputs": [],
   "source": []
  },
  {
   "cell_type": "code",
   "execution_count": 125,
   "id": "94d4a9de",
   "metadata": {},
   "outputs": [],
   "source": [
    "amounts = re.findall(\"\\$\\d*\\.\\d*\",txt)"
   ]
  },
  {
   "cell_type": "code",
   "execution_count": 126,
   "id": "30bd2769",
   "metadata": {},
   "outputs": [
    {
     "data": {
      "text/plain": [
       "['$93.50', '$85.00', '$85.00', '$85.00', '$8.50', '$93.50']"
      ]
     },
     "execution_count": 126,
     "metadata": {},
     "output_type": "execute_result"
    }
   ],
   "source": [
    "amounts"
   ]
  },
  {
   "cell_type": "code",
   "execution_count": null,
   "id": "862186ef",
   "metadata": {},
   "outputs": [],
   "source": []
  },
  {
   "cell_type": "code",
   "execution_count": null,
   "id": "c82c3cd5",
   "metadata": {},
   "outputs": [],
   "source": []
  },
  {
   "cell_type": "code",
   "execution_count": null,
   "id": "d2233c70",
   "metadata": {},
   "outputs": [],
   "source": []
  },
  {
   "cell_type": "code",
   "execution_count": 136,
   "id": "258cd6bd",
   "metadata": {},
   "outputs": [
    {
     "data": {
      "text/plain": [
       "['Total Due\\n$93.50']"
      ]
     },
     "execution_count": 136,
     "metadata": {},
     "output_type": "execute_result"
    }
   ],
   "source": [
    "total_dues = re.findall(\"Total Due\\s\\$\\d*\\.\\d*\",txt)\n",
    "total_dues"
   ]
  },
  {
   "cell_type": "code",
   "execution_count": null,
   "id": "723b31e4",
   "metadata": {},
   "outputs": [],
   "source": []
  },
  {
   "cell_type": "code",
   "execution_count": null,
   "id": "d3b140d3",
   "metadata": {},
   "outputs": [],
   "source": []
  },
  {
   "cell_type": "code",
   "execution_count": null,
   "id": "d3183ac9",
   "metadata": {},
   "outputs": [],
   "source": []
  },
  {
   "cell_type": "code",
   "execution_count": null,
   "id": "71bf3284",
   "metadata": {},
   "outputs": [],
   "source": []
  },
  {
   "cell_type": "markdown",
   "id": "2940de55",
   "metadata": {},
   "source": [
    "## Apply RegEx on pandas dataframe\n",
    "\n",
    "Till now we have seen how to apply regex to extract info on text file.\n",
    "\n",
    "Now we are going to see how to use it on pandas df\n",
    "\n",
    "For that ,lets first create a dataframe, which contains 3 columns, “Name” ,“Email” and \"Birthday\". \n",
    "\n"
   ]
  },
  {
   "cell_type": "code",
   "execution_count": 164,
   "id": "282494c9",
   "metadata": {},
   "outputs": [],
   "source": [
    "import pandas as pd\n",
    "df = pd.DataFrame({'Name': ['Amy', 'Ben', 'Christine', 'David'],\n",
    "                    'Email': ['amy.l@hotmail.com',\n",
    "                              'benmartni@gmail.fr',\n",
    "                              'c.mousse@example.com',\n",
    "                              'd_zhang@fp.fr'],\n",
    "                   'Birthday':['12/02/1992',\n",
    "                               '01/12/1980',\n",
    "                               '12/05/1839',\n",
    "                               '05/11/1990']},\n",
    "                              columns=['Name', 'Email','Birthday'])"
   ]
  },
  {
   "cell_type": "code",
   "execution_count": 165,
   "id": "eff85cad",
   "metadata": {},
   "outputs": [
    {
     "data": {
      "text/html": [
       "<div>\n",
       "<style scoped>\n",
       "    .dataframe tbody tr th:only-of-type {\n",
       "        vertical-align: middle;\n",
       "    }\n",
       "\n",
       "    .dataframe tbody tr th {\n",
       "        vertical-align: top;\n",
       "    }\n",
       "\n",
       "    .dataframe thead th {\n",
       "        text-align: right;\n",
       "    }\n",
       "</style>\n",
       "<table border=\"1\" class=\"dataframe\">\n",
       "  <thead>\n",
       "    <tr style=\"text-align: right;\">\n",
       "      <th></th>\n",
       "      <th>Name</th>\n",
       "      <th>Email</th>\n",
       "      <th>Birthday</th>\n",
       "    </tr>\n",
       "  </thead>\n",
       "  <tbody>\n",
       "    <tr>\n",
       "      <th>0</th>\n",
       "      <td>Amy</td>\n",
       "      <td>amy.l@hotmail.com</td>\n",
       "      <td>12/02/1992</td>\n",
       "    </tr>\n",
       "    <tr>\n",
       "      <th>1</th>\n",
       "      <td>Ben</td>\n",
       "      <td>benmartni@gmail.fr</td>\n",
       "      <td>01/12/1980</td>\n",
       "    </tr>\n",
       "    <tr>\n",
       "      <th>2</th>\n",
       "      <td>Christine</td>\n",
       "      <td>c.mousse@example.com</td>\n",
       "      <td>12/05/1839</td>\n",
       "    </tr>\n",
       "    <tr>\n",
       "      <th>3</th>\n",
       "      <td>David</td>\n",
       "      <td>d_zhang@fp.fr</td>\n",
       "      <td>05/11/1990</td>\n",
       "    </tr>\n",
       "  </tbody>\n",
       "</table>\n",
       "</div>"
      ],
      "text/plain": [
       "        Name                 Email    Birthday\n",
       "0        Amy     amy.l@hotmail.com  12/02/1992\n",
       "1        Ben    benmartni@gmail.fr  01/12/1980\n",
       "2  Christine  c.mousse@example.com  12/05/1839\n",
       "3      David         d_zhang@fp.fr  05/11/1990"
      ]
     },
     "execution_count": 165,
     "metadata": {},
     "output_type": "execute_result"
    }
   ],
   "source": [
    "df"
   ]
  },
  {
   "cell_type": "markdown",
   "id": "bcbbe1e1",
   "metadata": {},
   "source": [
    "### Lets use RegEx to \"replace\" character in dataframe - `sub()`\n",
    "\n",
    "We will also another handy function `re` library called `sub()` to substitute\n",
    "\n",
    "As you can see e-mail addresses contain “@” to specify the second-level or string2.\n",
    "\n",
    "#### Lets say we want to replace it to “[at]” in the dataframe. "
   ]
  },
  {
   "cell_type": "code",
   "execution_count": 166,
   "id": "bd4b5dd6",
   "metadata": {},
   "outputs": [],
   "source": [
    "import re\n"
   ]
  },
  {
   "cell_type": "code",
   "execution_count": 167,
   "id": "7f9683ab",
   "metadata": {},
   "outputs": [
    {
     "data": {
      "text/plain": [
       "0       amy.l@hotmail.com\n",
       "1      benmartni@gmail.fr\n",
       "2    c.mousse@example.com\n",
       "3           d_zhang@fp.fr\n",
       "Name: Email, dtype: object"
      ]
     },
     "execution_count": 167,
     "metadata": {},
     "output_type": "execute_result"
    }
   ],
   "source": [
    "df[\"Email\"]"
   ]
  },
  {
   "cell_type": "code",
   "execution_count": 168,
   "id": "1a38a85e",
   "metadata": {},
   "outputs": [
    {
     "data": {
      "text/plain": [
       "0       amy.l[at]hotmail.com\n",
       "1      benmartni[at]gmail.fr\n",
       "2    c.mousse[at]example.com\n",
       "3           d_zhang[at]fp.fr\n",
       "Name: Email, dtype: object"
      ]
     },
     "execution_count": 168,
     "metadata": {},
     "output_type": "execute_result"
    }
   ],
   "source": [
    "df[\"Email\"].apply(lambda x : re.sub(r\"@\",\"[at]\",x))"
   ]
  },
  {
   "cell_type": "markdown",
   "id": "09be7397",
   "metadata": {},
   "source": [
    "### Lets use RegEx to modify values in some other columns\n",
    "\n",
    "Currently we have birthday represented in the format DD/MM/YYYY\n",
    "\n",
    "#### What if you want to change Birthday in YYYY-MM-DD format ?\n",
    "\n",
    "- We can firstly use re.match() and Match.groups() to separate it into multiple groups, then put them in order.\n",
    "\n"
   ]
  },
  {
   "cell_type": "code",
   "execution_count": 169,
   "id": "dd67b40e",
   "metadata": {},
   "outputs": [
    {
     "data": {
      "text/plain": [
       "0    12/02/1992\n",
       "1    01/12/1980\n",
       "2    12/05/1839\n",
       "3    05/11/1990\n",
       "Name: Birthday, dtype: object"
      ]
     },
     "execution_count": 169,
     "metadata": {},
     "output_type": "execute_result"
    }
   ],
   "source": [
    "df[\"Birthday\"]"
   ]
  },
  {
   "cell_type": "code",
   "execution_count": null,
   "id": "5f64ec6b",
   "metadata": {},
   "outputs": [],
   "source": []
  },
  {
   "cell_type": "code",
   "execution_count": null,
   "id": "9a118cd6",
   "metadata": {},
   "outputs": [],
   "source": []
  },
  {
   "cell_type": "code",
   "execution_count": 170,
   "id": "8f0e841a",
   "metadata": {},
   "outputs": [
    {
     "data": {
      "text/html": [
       "<div>\n",
       "<style scoped>\n",
       "    .dataframe tbody tr th:only-of-type {\n",
       "        vertical-align: middle;\n",
       "    }\n",
       "\n",
       "    .dataframe tbody tr th {\n",
       "        vertical-align: top;\n",
       "    }\n",
       "\n",
       "    .dataframe thead th {\n",
       "        text-align: right;\n",
       "    }\n",
       "</style>\n",
       "<table border=\"1\" class=\"dataframe\">\n",
       "  <thead>\n",
       "    <tr style=\"text-align: right;\">\n",
       "      <th></th>\n",
       "      <th>Name</th>\n",
       "      <th>Email</th>\n",
       "      <th>Birthday</th>\n",
       "    </tr>\n",
       "  </thead>\n",
       "  <tbody>\n",
       "    <tr>\n",
       "      <th>0</th>\n",
       "      <td>Amy</td>\n",
       "      <td>amy.l@hotmail.com</td>\n",
       "      <td>12/02/1992</td>\n",
       "    </tr>\n",
       "    <tr>\n",
       "      <th>1</th>\n",
       "      <td>Ben</td>\n",
       "      <td>benmartni@gmail.fr</td>\n",
       "      <td>01/12/1980</td>\n",
       "    </tr>\n",
       "    <tr>\n",
       "      <th>2</th>\n",
       "      <td>Christine</td>\n",
       "      <td>c.mousse@example.com</td>\n",
       "      <td>12/05/1839</td>\n",
       "    </tr>\n",
       "    <tr>\n",
       "      <th>3</th>\n",
       "      <td>David</td>\n",
       "      <td>d_zhang@fp.fr</td>\n",
       "      <td>05/11/1990</td>\n",
       "    </tr>\n",
       "  </tbody>\n",
       "</table>\n",
       "</div>"
      ],
      "text/plain": [
       "        Name                 Email    Birthday\n",
       "0        Amy     amy.l@hotmail.com  12/02/1992\n",
       "1        Ben    benmartni@gmail.fr  01/12/1980\n",
       "2  Christine  c.mousse@example.com  12/05/1839\n",
       "3      David         d_zhang@fp.fr  05/11/1990"
      ]
     },
     "execution_count": 170,
     "metadata": {},
     "output_type": "execute_result"
    }
   ],
   "source": [
    "df"
   ]
  },
  {
   "cell_type": "code",
   "execution_count": 171,
   "id": "e87163ec",
   "metadata": {},
   "outputs": [
    {
     "data": {
      "text/plain": [
       "('1992', '02', '12')"
      ]
     },
     "execution_count": 171,
     "metadata": {},
     "output_type": "execute_result"
    }
   ],
   "source": [
    "m = re.match(r'(\\d{2})\\/(\\d{2})\\/(\\d{4})', \"12/02/1992\")\n",
    "m.groups()[2], m.groups()[1], m.groups()[0]"
   ]
  },
  {
   "cell_type": "code",
   "execution_count": 172,
   "id": "6e67a483",
   "metadata": {},
   "outputs": [
    {
     "data": {
      "text/plain": [
       "'1992-02-12'"
      ]
     },
     "execution_count": 172,
     "metadata": {},
     "output_type": "execute_result"
    }
   ],
   "source": [
    "'-'.join([m.groups()[2], m.groups()[1], m.groups()[0]])"
   ]
  },
  {
   "cell_type": "code",
   "execution_count": 173,
   "id": "9b51e24b",
   "metadata": {},
   "outputs": [],
   "source": [
    "def asd(date):\n",
    "    m = re.match(r'(\\d{2})\\/(\\d{2})\\/(\\d{4})', date)\n",
    "    return '-'.join([m.groups()[2], m.groups()[1], m.groups()[0]])"
   ]
  },
  {
   "cell_type": "code",
   "execution_count": 174,
   "id": "469c86a7",
   "metadata": {},
   "outputs": [
    {
     "data": {
      "text/html": [
       "<div>\n",
       "<style scoped>\n",
       "    .dataframe tbody tr th:only-of-type {\n",
       "        vertical-align: middle;\n",
       "    }\n",
       "\n",
       "    .dataframe tbody tr th {\n",
       "        vertical-align: top;\n",
       "    }\n",
       "\n",
       "    .dataframe thead th {\n",
       "        text-align: right;\n",
       "    }\n",
       "</style>\n",
       "<table border=\"1\" class=\"dataframe\">\n",
       "  <thead>\n",
       "    <tr style=\"text-align: right;\">\n",
       "      <th></th>\n",
       "      <th>Name</th>\n",
       "      <th>Email</th>\n",
       "      <th>Birthday</th>\n",
       "    </tr>\n",
       "  </thead>\n",
       "  <tbody>\n",
       "    <tr>\n",
       "      <th>0</th>\n",
       "      <td>Amy</td>\n",
       "      <td>amy.l@hotmail.com</td>\n",
       "      <td>1992-02-12</td>\n",
       "    </tr>\n",
       "    <tr>\n",
       "      <th>1</th>\n",
       "      <td>Ben</td>\n",
       "      <td>benmartni@gmail.fr</td>\n",
       "      <td>1980-12-01</td>\n",
       "    </tr>\n",
       "    <tr>\n",
       "      <th>2</th>\n",
       "      <td>Christine</td>\n",
       "      <td>c.mousse@example.com</td>\n",
       "      <td>1839-05-12</td>\n",
       "    </tr>\n",
       "    <tr>\n",
       "      <th>3</th>\n",
       "      <td>David</td>\n",
       "      <td>d_zhang@fp.fr</td>\n",
       "      <td>1990-11-05</td>\n",
       "    </tr>\n",
       "  </tbody>\n",
       "</table>\n",
       "</div>"
      ],
      "text/plain": [
       "        Name                 Email    Birthday\n",
       "0        Amy     amy.l@hotmail.com  1992-02-12\n",
       "1        Ben    benmartni@gmail.fr  1980-12-01\n",
       "2  Christine  c.mousse@example.com  1839-05-12\n",
       "3      David         d_zhang@fp.fr  1990-11-05"
      ]
     },
     "execution_count": 174,
     "metadata": {},
     "output_type": "execute_result"
    }
   ],
   "source": [
    "df['Birthday']=df['Birthday'].apply(lambda x:asd(x))\n",
    "df"
   ]
  },
  {
   "cell_type": "code",
   "execution_count": null,
   "id": "352f7549",
   "metadata": {},
   "outputs": [],
   "source": []
  },
  {
   "cell_type": "code",
   "execution_count": null,
   "id": "237e4a8f",
   "metadata": {},
   "outputs": [],
   "source": []
  },
  {
   "cell_type": "code",
   "execution_count": null,
   "id": "0d74689c",
   "metadata": {},
   "outputs": [],
   "source": []
  },
  {
   "cell_type": "markdown",
   "id": "83ccfb62",
   "metadata": {},
   "source": [
    "## Strong Password Detector \n",
    "\n",
    "#### Write a RegEx function to check the password given to the function is strong\n",
    "\n",
    "A strong password is defined as follows:\n",
    "\n",
    "- At least eight characters long\n",
    "- Contains one uppercase character\n",
    "- Contains one lowercase character\n",
    "- Has at least one digit\n",
    "- Has at least one special character\n",
    "\n",
    "#### Solution:\n",
    "\n",
    "At first glance, this problem looks a lot harder than the previous one.\n",
    "\n",
    "In actuality, it’s just as simple."
   ]
  },
  {
   "cell_type": "code",
   "execution_count": 175,
   "id": "2e5f75ba",
   "metadata": {},
   "outputs": [],
   "source": [
    "#Here is what the skeleton of the solution looks like:\n",
    "\n",
    "def validate_password(password):\n",
    "    \"\"\" check for \n",
    "    - at least eight characters long\n",
    "    - contains uppercase character \n",
    "    - contains lowercase character\n",
    "    - has at least one digit\n",
    "        - has at least one special character\n",
    "    Args:\n",
    "        password (str): password as string\n",
    "    Returns:\n",
    "        (bool): True if password is strong, else False\n",
    "    \"\"\""
   ]
  },
  {
   "cell_type": "code",
   "execution_count": null,
   "id": "00bbf491",
   "metadata": {},
   "outputs": [],
   "source": []
  },
  {
   "cell_type": "code",
   "execution_count": 176,
   "id": "b40d7bd9",
   "metadata": {},
   "outputs": [
    {
     "name": "stdout",
     "output_type": "stream",
     "text": [
      "Error: Password must have at least 8 characters\n",
      "False\n",
      "Error: Password must have at least 1 lowercase character\n",
      "False\n",
      "Error: Password must have at least 1 uppercase character\n",
      "False\n",
      "Error: Password must have at least 1 digit\n",
      "False\n",
      "Error: Password must have at least 1 special character\n",
      "False\n",
      "True\n"
     ]
    }
   ],
   "source": [
    "def validate_password(password):\n",
    "    # REGEX PATTERN THAT CHECKS PASSWORD HAS AT LEAST 8 CHARACTERS\n",
    "    at_least_8 = r\".{8,}\"\n",
    "    # REGEX PATTERN THAT CHECKS PASSWORD HAS 1 LOWERCASE\n",
    "    one_lowercase = r\"[a-z]\"\n",
    "    # REGEX PATTERN THAT CHECKS PASSWORD HAS 1 UPPERCASE\n",
    "    one_uppercase = r\"[A-Z]\"\n",
    "    # REGEX PATTERN THAT CHECKS PASSWORD HAS 1 DIGIT\n",
    "    one_digit = r\"\\d\"\n",
    "    # REGEX PATTERN THAT CHECKS PASSWORD HAS 1 SPECIAL CHARACTER\n",
    "    special_characters = r\"[!\\”#$%&'()*+,-./:;<=>?@[\\]^_`{|}~]\"\n",
    " \n",
    "    if re.search(at_least_8, password) == None:\n",
    "        print('Error: Password must have at least 8 characters')\n",
    "        return False\n",
    "    elif re.search(one_lowercase, password) == None:\n",
    "        print('Error: Password must have at least 1 lowercase character')\n",
    "        return False\n",
    "    elif re.search(one_uppercase, password) == None:\n",
    "        print('Error: Password must have at least 1 uppercase character')\n",
    "        return False\n",
    "    elif re.search(one_digit, password) == None:\n",
    "        print('Error: Password must have at least 1 digit')\n",
    "        return False\n",
    "    elif re.search(special_characters, password) == None:\n",
    "        print('Error: Password must have at least 1 special character')\n",
    "        return False\n",
    " \n",
    "    return True\n",
    " \n",
    "if __name__ == '__main__':\n",
    "    print(validate_password('pass'))\n",
    "    print(validate_password('PASSWORD'))\n",
    "    print(validate_password('password'))\n",
    "    print(validate_password('Password'))\n",
    "    print(validate_password('Password1234'))\n",
    "    print(validate_password('Password-1234'))"
   ]
  },
  {
   "cell_type": "code",
   "execution_count": null,
   "id": "9489c522",
   "metadata": {},
   "outputs": [],
   "source": []
  },
  {
   "cell_type": "code",
   "execution_count": null,
   "id": "671e4797",
   "metadata": {},
   "outputs": [],
   "source": []
  },
  {
   "cell_type": "code",
   "execution_count": null,
   "id": "11bcded4",
   "metadata": {},
   "outputs": [],
   "source": []
  },
  {
   "cell_type": "code",
   "execution_count": null,
   "id": "f78ccb3b",
   "metadata": {},
   "outputs": [],
   "source": []
  },
  {
   "cell_type": "code",
   "execution_count": null,
   "id": "22b2c653",
   "metadata": {},
   "outputs": [],
   "source": []
  },
  {
   "cell_type": "markdown",
   "id": "46614eb1",
   "metadata": {},
   "source": [
    "Assignmments\n"
   ]
  },
  {
   "cell_type": "code",
   "execution_count": null,
   "id": "4e8a7b61",
   "metadata": {},
   "outputs": [],
   "source": []
  },
  {
   "cell_type": "code",
   "execution_count": 177,
   "id": "00863f9a",
   "metadata": {},
   "outputs": [
    {
     "name": "stdout",
     "output_type": "stream",
     "text": [
      "['book', 'book', 'book']\n"
     ]
    }
   ],
   "source": [
    "\n",
    "text = '''The intellectual content in a physical book need not be a composition,\n",
    "nor even be called a book. Books can consist only of drawings, engravings or photographs,\n",
    "crossword puzzles or cut-out dolls. In a physical book, \n",
    "the pages can be left blank or can feature an abstract set of lines to support entries. '''\n",
    "\n",
    "\n",
    "print(re.findall('b..k', text))"
   ]
  },
  {
   "cell_type": "code",
   "execution_count": null,
   "id": "8c0f6a95",
   "metadata": {},
   "outputs": [],
   "source": []
  },
  {
   "cell_type": "code",
   "execution_count": 179,
   "id": "1e7a85ee",
   "metadata": {},
   "outputs": [
    {
     "data": {
      "text/plain": [
       "['peter', 'piper', 'picked a peck of pickled pepper']"
      ]
     },
     "execution_count": 179,
     "metadata": {},
     "output_type": "execute_result"
    }
   ],
   "source": [
    "sentence = 'peter piper picked a peck of pickled peppers'\n",
    "result = re.findall('p.*?e.*?r', sentence)\n",
    "result"
   ]
  },
  {
   "cell_type": "code",
   "execution_count": null,
   "id": "62e997e6",
   "metadata": {},
   "outputs": [],
   "source": []
  },
  {
   "cell_type": "code",
   "execution_count": 180,
   "id": "72393251",
   "metadata": {},
   "outputs": [
    {
     "name": "stdout",
     "output_type": "stream",
     "text": [
      "None , ['Christmas Quote ']\n"
     ]
    }
   ],
   "source": [
    "text = ''' \n",
    "\"One cannot have enough socks with him\", said Dora. \n",
    "\"Another has come and gone and I didn't get a single pair. \n",
    "People will keep on insisting on giving me books.\" \n",
    "Christmas Quote \n",
    "''' \n",
    "regex = 'Christ.*' \n",
    "print(re.match(regex, text),\",\",re.findall(regex, text)) "
   ]
  },
  {
   "cell_type": "code",
   "execution_count": null,
   "id": "5d0df39e",
   "metadata": {},
   "outputs": [],
   "source": []
  },
  {
   "cell_type": "code",
   "execution_count": null,
   "id": "6da5b893",
   "metadata": {},
   "outputs": [],
   "source": []
  },
  {
   "cell_type": "code",
   "execution_count": null,
   "id": "f49e40fd",
   "metadata": {},
   "outputs": [],
   "source": []
  },
  {
   "cell_type": "code",
   "execution_count": null,
   "id": "11a88e65",
   "metadata": {},
   "outputs": [],
   "source": []
  },
  {
   "cell_type": "code",
   "execution_count": null,
   "id": "016f0667",
   "metadata": {},
   "outputs": [],
   "source": []
  },
  {
   "cell_type": "code",
   "execution_count": null,
   "id": "8272dacc",
   "metadata": {},
   "outputs": [],
   "source": []
  },
  {
   "cell_type": "code",
   "execution_count": null,
   "id": "68725511",
   "metadata": {},
   "outputs": [],
   "source": []
  },
  {
   "cell_type": "code",
   "execution_count": null,
   "id": "da8843ed",
   "metadata": {},
   "outputs": [],
   "source": []
  },
  {
   "cell_type": "code",
   "execution_count": null,
   "id": "36eea0a7",
   "metadata": {},
   "outputs": [],
   "source": []
  },
  {
   "cell_type": "code",
   "execution_count": null,
   "id": "7418dbec",
   "metadata": {},
   "outputs": [],
   "source": []
  },
  {
   "cell_type": "code",
   "execution_count": null,
   "id": "23e9e75c",
   "metadata": {},
   "outputs": [],
   "source": []
  },
  {
   "cell_type": "code",
   "execution_count": null,
   "id": "bf237993",
   "metadata": {},
   "outputs": [],
   "source": []
  }
 ],
 "metadata": {
  "kernelspec": {
   "display_name": "Python 3 (ipykernel)",
   "language": "python",
   "name": "python3"
  },
  "language_info": {
   "codemirror_mode": {
    "name": "ipython",
    "version": 3
   },
   "file_extension": ".py",
   "mimetype": "text/x-python",
   "name": "python",
   "nbconvert_exporter": "python",
   "pygments_lexer": "ipython3",
   "version": "3.9.7"
  }
 },
 "nbformat": 4,
 "nbformat_minor": 5
}
